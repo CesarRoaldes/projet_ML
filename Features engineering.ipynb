{
 "cells": [
  {
   "cell_type": "markdown",
   "metadata": {},
   "source": [
    "# 0 - TODO\n",
    "- regularization sur nos données (selection des tournois qui ont un impact sur le temps joué)\n",
    "- dédoubler les lignes directement depuis le dataframe player / opponent\n",
    "- % win player vs % win opponent\n",
    "- continuer à faire des variables dynamiques\n",
    "- variables dynamiques ne prennent pas en compte le résultat du match considéré\n",
    "- arbres de décision (random forest etc...)\n",
    "- dictionnaire des colonnes\n",
    "- Prédire les matches qui durent plus de 3h\n",
    "- !!!!! __Séparer bo3 et bo5__"
   ]
  },
  {
   "cell_type": "markdown",
   "metadata": {},
   "source": [
    "https://github.com/JeffSackmann/tennis_atp/issues/86  \n",
    "these column names all pertain to the winning player ( prefix 'w_').  \n",
    "\n",
    "winner_ht ... height (metres)  \n",
    "w_svpt ... number of own serve points contested  \n",
    "w_1stIn ... number of own first serves in  \n",
    "w_1stWon ... number of own first serve points won  \n",
    "w_2ndWon ... number of own second serve points won  \n",
    "w_SvGms ... number of own service games played  \n",
    "w_bpSaved ... number of break points against own serve saved  \n",
    "w_bpFaced ... number of break points against own serve faced  "
   ]
  },
  {
   "cell_type": "markdown",
   "metadata": {},
   "source": [
    "https://github.com/JeffSackmann/tennis_atp/issues/112  \n",
    "R = Right hand  \n",
    "L = Left hand  \n",
    "U = Unknown hand  "
   ]
  },
  {
   "cell_type": "markdown",
   "metadata": {},
   "source": [
    "https://github.com/JeffSackmann/tennis_atp/issues/49  \n",
    "'G', 'M', 'A', 'D':  \n",
    "G - Grand Slam  \n",
    "M – Masters  \n",
    "A – ATP (500 & 250)  \n",
    "D – Davis Cup  \n",
    "O – Olympics  "
   ]
  },
  {
   "cell_type": "code",
   "execution_count": 58,
   "metadata": {},
   "outputs": [],
   "source": [
    "import string\n",
    "import re\n",
    "import pandas as pd\n",
    "import matplotlib.pyplot as plt\n",
    "import seaborn as sns\n",
    "import numpy as np"
   ]
  },
  {
   "cell_type": "code",
   "execution_count": 59,
   "metadata": {},
   "outputs": [],
   "source": [
    "import warnings\n",
    "warnings.simplefilter(action='ignore', category=FutureWarning)"
   ]
  },
  {
   "cell_type": "code",
   "execution_count": 60,
   "metadata": {},
   "outputs": [],
   "source": [
    "pd.set_option('display.max_columns', 500)\n",
    "sns.set_style(\"ticks\")"
   ]
  },
  {
   "cell_type": "code",
   "execution_count": 83,
   "metadata": {},
   "outputs": [],
   "source": [
    "def perc_print(a, b):\n",
    "    return round((a-b)/a*100)"
   ]
  },
  {
   "cell_type": "markdown",
   "metadata": {},
   "source": [
    "# I - Importation et nettoyage des données"
   ]
  },
  {
   "cell_type": "code",
   "execution_count": 62,
   "metadata": {},
   "outputs": [],
   "source": [
    "PATH = '/home/cesar/Desktop/data/'"
   ]
  },
  {
   "cell_type": "raw",
   "metadata": {},
   "source": [
    "PATH = '/home/steve/Documents/ENSAE/Projet_ML_Tennis/Data/tennis_atp/'"
   ]
  },
  {
   "cell_type": "code",
   "execution_count": 63,
   "metadata": {},
   "outputs": [
    {
     "name": "stdout",
     "output_type": "stream",
     "text": [
      "La base contient 64694 observations et 49 attributs.\n"
     ]
    }
   ],
   "source": [
    "data = pd.read_csv(PATH+'atp_matches_2010.csv')\n",
    "for annee in range(2000, 2020):\n",
    "    data = pd.concat([data, pd.read_csv(PATH+'atp_matches_'+str(annee)+'.csv')], axis=0, sort=False)\n",
    "\n",
    "print('La base contient {} observations et {} attributs.'.format(data.shape[0], data.shape[1]))"
   ]
  },
  {
   "cell_type": "markdown",
   "metadata": {},
   "source": [
    "Les index sont mis à jour."
   ]
  },
  {
   "cell_type": "code",
   "execution_count": 64,
   "metadata": {},
   "outputs": [],
   "source": [
    "data.reset_index(inplace=True, drop=True)"
   ]
  },
  {
   "cell_type": "markdown",
   "metadata": {},
   "source": [
    "Aperçu de la base de donnée."
   ]
  },
  {
   "cell_type": "code",
   "execution_count": 65,
   "metadata": {},
   "outputs": [
    {
     "data": {
      "text/html": [
       "<div>\n",
       "<style scoped>\n",
       "    .dataframe tbody tr th:only-of-type {\n",
       "        vertical-align: middle;\n",
       "    }\n",
       "\n",
       "    .dataframe tbody tr th {\n",
       "        vertical-align: top;\n",
       "    }\n",
       "\n",
       "    .dataframe thead th {\n",
       "        text-align: right;\n",
       "    }\n",
       "</style>\n",
       "<table border=\"1\" class=\"dataframe\">\n",
       "  <thead>\n",
       "    <tr style=\"text-align: right;\">\n",
       "      <th></th>\n",
       "      <th>tourney_id</th>\n",
       "      <th>tourney_name</th>\n",
       "      <th>surface</th>\n",
       "      <th>draw_size</th>\n",
       "      <th>tourney_level</th>\n",
       "      <th>tourney_date</th>\n",
       "      <th>match_num</th>\n",
       "      <th>winner_id</th>\n",
       "      <th>winner_seed</th>\n",
       "      <th>winner_entry</th>\n",
       "      <th>winner_name</th>\n",
       "      <th>winner_hand</th>\n",
       "      <th>winner_ht</th>\n",
       "      <th>winner_ioc</th>\n",
       "      <th>winner_age</th>\n",
       "      <th>loser_id</th>\n",
       "      <th>loser_seed</th>\n",
       "      <th>loser_entry</th>\n",
       "      <th>loser_name</th>\n",
       "      <th>loser_hand</th>\n",
       "      <th>loser_ht</th>\n",
       "      <th>loser_ioc</th>\n",
       "      <th>loser_age</th>\n",
       "      <th>score</th>\n",
       "      <th>best_of</th>\n",
       "      <th>round</th>\n",
       "      <th>minutes</th>\n",
       "      <th>w_ace</th>\n",
       "      <th>w_df</th>\n",
       "      <th>w_svpt</th>\n",
       "      <th>w_1stIn</th>\n",
       "      <th>w_1stWon</th>\n",
       "      <th>w_2ndWon</th>\n",
       "      <th>w_SvGms</th>\n",
       "      <th>w_bpSaved</th>\n",
       "      <th>w_bpFaced</th>\n",
       "      <th>l_ace</th>\n",
       "      <th>l_df</th>\n",
       "      <th>l_svpt</th>\n",
       "      <th>l_1stIn</th>\n",
       "      <th>l_1stWon</th>\n",
       "      <th>l_2ndWon</th>\n",
       "      <th>l_SvGms</th>\n",
       "      <th>l_bpSaved</th>\n",
       "      <th>l_bpFaced</th>\n",
       "      <th>winner_rank</th>\n",
       "      <th>winner_rank_points</th>\n",
       "      <th>loser_rank</th>\n",
       "      <th>loser_rank_points</th>\n",
       "    </tr>\n",
       "  </thead>\n",
       "  <tbody>\n",
       "    <tr>\n",
       "      <th>0</th>\n",
       "      <td>2010-339</td>\n",
       "      <td>Brisbane</td>\n",
       "      <td>Hard</td>\n",
       "      <td>32</td>\n",
       "      <td>A</td>\n",
       "      <td>20100103</td>\n",
       "      <td>1</td>\n",
       "      <td>104053</td>\n",
       "      <td>1</td>\n",
       "      <td>NaN</td>\n",
       "      <td>Andy Roddick</td>\n",
       "      <td>R</td>\n",
       "      <td>188.0</td>\n",
       "      <td>USA</td>\n",
       "      <td>27.348392</td>\n",
       "      <td>103429</td>\n",
       "      <td>NaN</td>\n",
       "      <td>NaN</td>\n",
       "      <td>Peter Luczak</td>\n",
       "      <td>R</td>\n",
       "      <td>183.0</td>\n",
       "      <td>AUS</td>\n",
       "      <td>30.346338</td>\n",
       "      <td>7-6(5) 6-2</td>\n",
       "      <td>3</td>\n",
       "      <td>R32</td>\n",
       "      <td>84.0</td>\n",
       "      <td>15.0</td>\n",
       "      <td>0.0</td>\n",
       "      <td>63.0</td>\n",
       "      <td>42.0</td>\n",
       "      <td>36.0</td>\n",
       "      <td>14.0</td>\n",
       "      <td>10.0</td>\n",
       "      <td>3.0</td>\n",
       "      <td>3.0</td>\n",
       "      <td>4.0</td>\n",
       "      <td>2.0</td>\n",
       "      <td>56.0</td>\n",
       "      <td>34.0</td>\n",
       "      <td>29.0</td>\n",
       "      <td>11.0</td>\n",
       "      <td>10.0</td>\n",
       "      <td>3.0</td>\n",
       "      <td>5.0</td>\n",
       "      <td>7.0</td>\n",
       "      <td>4410.0</td>\n",
       "      <td>77.0</td>\n",
       "      <td>598.0</td>\n",
       "    </tr>\n",
       "    <tr>\n",
       "      <th>1</th>\n",
       "      <td>2010-339</td>\n",
       "      <td>Brisbane</td>\n",
       "      <td>Hard</td>\n",
       "      <td>32</td>\n",
       "      <td>A</td>\n",
       "      <td>20100103</td>\n",
       "      <td>2</td>\n",
       "      <td>104958</td>\n",
       "      <td>NaN</td>\n",
       "      <td>WC</td>\n",
       "      <td>Carsten Ball</td>\n",
       "      <td>L</td>\n",
       "      <td>198.0</td>\n",
       "      <td>AUS</td>\n",
       "      <td>22.543463</td>\n",
       "      <td>104999</td>\n",
       "      <td>NaN</td>\n",
       "      <td>NaN</td>\n",
       "      <td>Mischa Zverev</td>\n",
       "      <td>L</td>\n",
       "      <td>190.0</td>\n",
       "      <td>GER</td>\n",
       "      <td>22.370979</td>\n",
       "      <td>7-5 6-1</td>\n",
       "      <td>3</td>\n",
       "      <td>R32</td>\n",
       "      <td>70.0</td>\n",
       "      <td>10.0</td>\n",
       "      <td>3.0</td>\n",
       "      <td>57.0</td>\n",
       "      <td>30.0</td>\n",
       "      <td>23.0</td>\n",
       "      <td>19.0</td>\n",
       "      <td>10.0</td>\n",
       "      <td>0.0</td>\n",
       "      <td>0.0</td>\n",
       "      <td>2.0</td>\n",
       "      <td>2.0</td>\n",
       "      <td>66.0</td>\n",
       "      <td>34.0</td>\n",
       "      <td>22.0</td>\n",
       "      <td>14.0</td>\n",
       "      <td>9.0</td>\n",
       "      <td>7.0</td>\n",
       "      <td>10.0</td>\n",
       "      <td>134.0</td>\n",
       "      <td>400.0</td>\n",
       "      <td>78.0</td>\n",
       "      <td>590.0</td>\n",
       "    </tr>\n",
       "    <tr>\n",
       "      <th>2</th>\n",
       "      <td>2010-339</td>\n",
       "      <td>Brisbane</td>\n",
       "      <td>Hard</td>\n",
       "      <td>32</td>\n",
       "      <td>A</td>\n",
       "      <td>20100103</td>\n",
       "      <td>3</td>\n",
       "      <td>104755</td>\n",
       "      <td>NaN</td>\n",
       "      <td>NaN</td>\n",
       "      <td>Richard Gasquet</td>\n",
       "      <td>R</td>\n",
       "      <td>185.0</td>\n",
       "      <td>FRA</td>\n",
       "      <td>23.548255</td>\n",
       "      <td>103813</td>\n",
       "      <td>NaN</td>\n",
       "      <td>NaN</td>\n",
       "      <td>Jarkko Nieminen</td>\n",
       "      <td>L</td>\n",
       "      <td>185.0</td>\n",
       "      <td>FIN</td>\n",
       "      <td>28.451745</td>\n",
       "      <td>6-3 4-6 6-4</td>\n",
       "      <td>3</td>\n",
       "      <td>R32</td>\n",
       "      <td>121.0</td>\n",
       "      <td>5.0</td>\n",
       "      <td>4.0</td>\n",
       "      <td>97.0</td>\n",
       "      <td>51.0</td>\n",
       "      <td>33.0</td>\n",
       "      <td>27.0</td>\n",
       "      <td>15.0</td>\n",
       "      <td>5.0</td>\n",
       "      <td>8.0</td>\n",
       "      <td>4.0</td>\n",
       "      <td>0.0</td>\n",
       "      <td>85.0</td>\n",
       "      <td>58.0</td>\n",
       "      <td>38.0</td>\n",
       "      <td>14.0</td>\n",
       "      <td>14.0</td>\n",
       "      <td>7.0</td>\n",
       "      <td>11.0</td>\n",
       "      <td>52.0</td>\n",
       "      <td>850.0</td>\n",
       "      <td>88.0</td>\n",
       "      <td>568.0</td>\n",
       "    </tr>\n",
       "  </tbody>\n",
       "</table>\n",
       "</div>"
      ],
      "text/plain": [
       "  tourney_id tourney_name surface  draw_size tourney_level  tourney_date  \\\n",
       "0   2010-339     Brisbane    Hard         32             A      20100103   \n",
       "1   2010-339     Brisbane    Hard         32             A      20100103   \n",
       "2   2010-339     Brisbane    Hard         32             A      20100103   \n",
       "\n",
       "   match_num  winner_id winner_seed winner_entry      winner_name winner_hand  \\\n",
       "0          1     104053           1          NaN     Andy Roddick           R   \n",
       "1          2     104958         NaN           WC     Carsten Ball           L   \n",
       "2          3     104755         NaN          NaN  Richard Gasquet           R   \n",
       "\n",
       "   winner_ht winner_ioc  winner_age  loser_id loser_seed loser_entry  \\\n",
       "0      188.0        USA   27.348392    103429        NaN         NaN   \n",
       "1      198.0        AUS   22.543463    104999        NaN         NaN   \n",
       "2      185.0        FRA   23.548255    103813        NaN         NaN   \n",
       "\n",
       "        loser_name loser_hand  loser_ht loser_ioc  loser_age        score  \\\n",
       "0     Peter Luczak          R     183.0       AUS  30.346338   7-6(5) 6-2   \n",
       "1    Mischa Zverev          L     190.0       GER  22.370979      7-5 6-1   \n",
       "2  Jarkko Nieminen          L     185.0       FIN  28.451745  6-3 4-6 6-4   \n",
       "\n",
       "   best_of round  minutes  w_ace  w_df  w_svpt  w_1stIn  w_1stWon  w_2ndWon  \\\n",
       "0        3   R32     84.0   15.0   0.0    63.0     42.0      36.0      14.0   \n",
       "1        3   R32     70.0   10.0   3.0    57.0     30.0      23.0      19.0   \n",
       "2        3   R32    121.0    5.0   4.0    97.0     51.0      33.0      27.0   \n",
       "\n",
       "   w_SvGms  w_bpSaved  w_bpFaced  l_ace  l_df  l_svpt  l_1stIn  l_1stWon  \\\n",
       "0     10.0        3.0        3.0    4.0   2.0    56.0     34.0      29.0   \n",
       "1     10.0        0.0        0.0    2.0   2.0    66.0     34.0      22.0   \n",
       "2     15.0        5.0        8.0    4.0   0.0    85.0     58.0      38.0   \n",
       "\n",
       "   l_2ndWon  l_SvGms  l_bpSaved  l_bpFaced  winner_rank  winner_rank_points  \\\n",
       "0      11.0     10.0        3.0        5.0          7.0              4410.0   \n",
       "1      14.0      9.0        7.0       10.0        134.0               400.0   \n",
       "2      14.0     14.0        7.0       11.0         52.0               850.0   \n",
       "\n",
       "   loser_rank  loser_rank_points  \n",
       "0        77.0              598.0  \n",
       "1        78.0              590.0  \n",
       "2        88.0              568.0  "
      ]
     },
     "execution_count": 65,
     "metadata": {},
     "output_type": "execute_result"
    }
   ],
   "source": [
    "data.head(3)"
   ]
  },
  {
   "cell_type": "markdown",
   "metadata": {},
   "source": [
    "Les modifications suivantes sont apportées :\n",
    "- Transformation des dates au format `datetime`\n",
    "- Création de la variable `year`\n",
    "- Suppression des match de la Davis Cup\n",
    "- Suppression des lignes ne contenant pas de durée du match _'minutes'_\n",
    "- Suppression des doublons"
   ]
  },
  {
   "cell_type": "code",
   "execution_count": 66,
   "metadata": {},
   "outputs": [
    {
     "name": "stdout",
     "output_type": "stream",
     "text": [
      "11093 observations supprimées (17.1%).\n"
     ]
    }
   ],
   "source": [
    "nb_obs = data.shape[0]\n",
    "data['tourney_date'] = pd.to_datetime(data['tourney_date'], yearfirst=True, format='%Y%m%d')\n",
    "data['year'] = data['tourney_date'].apply(lambda x: x.year)\n",
    "data = data[~data['tourney_name'].str.startswith('Davis Cup')].copy()\n",
    "data.dropna(subset=['minutes'], inplace=True)\n",
    "data.drop_duplicates(inplace=True)\n",
    "print('{} observations supprimées ({}%).'.format(nb_obs - data.shape[0], perc_print(nb_obs, data.shape[0])))"
   ]
  },
  {
   "cell_type": "markdown",
   "metadata": {},
   "source": [
    "Suppession des observations dont le score contient des caractères ASCII"
   ]
  },
  {
   "cell_type": "code",
   "execution_count": 67,
   "metadata": {},
   "outputs": [],
   "source": [
    "def contains_ascii_letter(txt):\n",
    "    gate = False\n",
    "    for i in range(len(txt)):\n",
    "        if txt[i] in string.ascii_letters:\n",
    "            gate = True\n",
    "            break\n",
    "    return gate"
   ]
  },
  {
   "cell_type": "code",
   "execution_count": 68,
   "metadata": {},
   "outputs": [
    {
     "name": "stdout",
     "output_type": "stream",
     "text": [
      "1678 observations supprimées (3.1%).\n"
     ]
    }
   ],
   "source": [
    "nb_obs = data.shape[0]\n",
    "get_ascii_letter = np.zeros(data.shape[0], dtype=bool)\n",
    "get_ascii_letter = data['score'].apply(contains_ascii_letter)\n",
    "data = data[~get_ascii_letter].copy()\n",
    "print('{} observations supprimées ({}%).'.format(nb_obs - data.shape[0], perc_print(nb_obs, data.shape[0])))"
   ]
  },
  {
   "cell_type": "markdown",
   "metadata": {},
   "source": [
    "Correction de certaines valeurs aberrantes (suite à des vérifications effectuées en lignes)"
   ]
  },
  {
   "cell_type": "code",
   "execution_count": 69,
   "metadata": {},
   "outputs": [],
   "source": [
    "data.loc[data[(data['tourney_id']=='2017-0308')&(data['match_num']==297)].index[0], 'minutes'] = 98\n",
    "data.loc[data[(data['tourney_id']=='2016-M001')&(data['match_num']==294)].index[0], 'minutes'] = 90"
   ]
  },
  {
   "cell_type": "markdown",
   "metadata": {},
   "source": [
    "__COMMENTAIRE__"
   ]
  },
  {
   "cell_type": "code",
   "execution_count": 70,
   "metadata": {},
   "outputs": [],
   "source": [
    "data_winner = data.copy()\n",
    "data_loser = data.copy()\n",
    "data_winner.rename({'winner_name':'player_name'}, inplace=True)\n",
    "data_loser.rename({'loser_name':'player_name'}, inplace=True)\n",
    "data_winner['win_lose'] = ['w' for i in range(len(data_winner))]\n",
    "data_loser['win_lose'] = ['l' for i in range(len(data_loser))]\n",
    "data_winner = data_winner.rename(columns=lambda x: re.sub('winner','player',x))\n",
    "data_winner = data_winner.rename(columns=lambda x: re.sub('^w_','player_',x))\n",
    "data_winner = data_winner.rename(columns=lambda x: re.sub('loser','opponent',x))\n",
    "data_winner = data_winner.rename(columns=lambda x: re.sub('^l_','opponent_',x))\n",
    "data_loser = data_loser.rename(columns=lambda x: re.sub('loser','player',x))\n",
    "data_loser = data_loser.rename(columns=lambda x: re.sub('^l_','player_',x))\n",
    "data_loser = data_loser.rename(columns=lambda x: re.sub('winner','opponent',x))\n",
    "data_loser = data_loser.rename(columns=lambda x: re.sub('^w_','opponent_',x))\n",
    "data = pd.concat([data_winner, data_loser], axis=0, sort=False)\n",
    "data.reset_index(inplace=True, drop=True)"
   ]
  },
  {
   "cell_type": "markdown",
   "metadata": {},
   "source": [
    "# II - Un premier modèle de base"
   ]
  },
  {
   "cell_type": "markdown",
   "metadata": {},
   "source": [
    "Nous commençons par construire un modèle qui nous servira de baseline pour juger de la qualité des modèles qui le suivront. La mesure de qualité du modèle choisi sera la Mean Squared Error (MSE).  \n",
    "  \n",
    "La plupart de nos variables sont des statitstiques concernant directement le match et ne sont donc pas utilisable lors d'une prédiction. Ces variables demanderont d'être aggrégés par la suite afin d'être utilisable pour caractériser un joueur.  \n",
    "  \n",
    "Ce modèle de base s'appuiera sur une régression linéaire, ce qui demande au préalable de transformer les variables catégorielles en dummies."
   ]
  },
  {
   "cell_type": "markdown",
   "metadata": {},
   "source": [
    "### 2.1 Mise en forme des données"
   ]
  },
  {
   "cell_type": "code",
   "execution_count": 72,
   "metadata": {},
   "outputs": [
    {
     "data": {
      "text/plain": [
       "((103846, 12), (103846,))"
      ]
     },
     "execution_count": 72,
     "metadata": {},
     "output_type": "execute_result"
    }
   ],
   "source": [
    "X = data[['tourney_name', 'surface', 'tourney_level', 'player_hand', 'player_age', 'player_rank',\n",
    "          'opponent_hand', 'opponent_age', 'opponent_rank', 'best_of', 'round', 'year']].copy()\n",
    "y = data['minutes']\n",
    "\n",
    "X.shape, y.shape"
   ]
  },
  {
   "cell_type": "markdown",
   "metadata": {},
   "source": [
    "On commence par retirer les lignes contenant des valeurs manquantes (non prises en charge par les algorithmes de régressions linéaires)"
   ]
  },
  {
   "cell_type": "code",
   "execution_count": 73,
   "metadata": {},
   "outputs": [
    {
     "name": "stdout",
     "output_type": "stream",
     "text": [
      "tourney_name 0\n",
      "surface 0\n",
      "tourney_level 0\n",
      "player_hand 0\n",
      "player_age 0\n",
      "player_rank 150\n",
      "opponent_hand 0\n",
      "opponent_age 0\n",
      "opponent_rank 150\n",
      "best_of 0\n",
      "round 0\n",
      "year 0\n"
     ]
    }
   ],
   "source": [
    "for col in X.columns:\n",
    "    print(col, X[col].isna().sum())"
   ]
  },
  {
   "cell_type": "code",
   "execution_count": 74,
   "metadata": {},
   "outputs": [
    {
     "data": {
      "text/plain": [
       "((103546, 12), (103546,))"
      ]
     },
     "execution_count": 74,
     "metadata": {},
     "output_type": "execute_result"
    }
   ],
   "source": [
    "X.dropna(axis=0, how='any', inplace=True)\n",
    "y = y[X.index]\n",
    "\n",
    "X.shape, y.shape"
   ]
  },
  {
   "cell_type": "markdown",
   "metadata": {},
   "source": [
    "### One Hot Encoding des variables catégorielles"
   ]
  },
  {
   "cell_type": "markdown",
   "metadata": {},
   "source": [
    "Nous observons le nombre de modalitées prises par les variables catégorielles traités"
   ]
  },
  {
   "cell_type": "code",
   "execution_count": 75,
   "metadata": {},
   "outputs": [],
   "source": [
    "X_qual = ['tourney_name', 'surface', 'tourney_level', 'round', 'player_hand', 'opponent_hand']"
   ]
  },
  {
   "cell_type": "code",
   "execution_count": 46,
   "metadata": {},
   "outputs": [
    {
     "name": "stdout",
     "output_type": "stream",
     "text": [
      "tourney_name : 126\n",
      "surface : 4\n",
      "tourney_level : 4\n",
      "round : 10\n",
      "player_hand : 3\n",
      "opponent_hand : 3\n"
     ]
    }
   ],
   "source": [
    "for variable in X_qual:\n",
    "    print(variable, ':', pd.get_dummies(X[variable]).shape[1])"
   ]
  },
  {
   "cell_type": "markdown",
   "metadata": {},
   "source": [
    "La variable `tourney_name` prend 133 modalités. La matrice étant trop sparse nous l'ignorons pour le moment.  \n",
    "Les autres variables qualitatives seront retraitées de manière à ce que chaque modalité soit encodée par une dummy, en prenant garde au problème de multicolinéarité en utilisant l'option `drop_first=True` de la fonction `get_dummies`."
   ]
  },
  {
   "cell_type": "code",
   "execution_count": 47,
   "metadata": {},
   "outputs": [],
   "source": [
    "X_qual.remove('tourney_name')\n",
    "X.drop(columns='tourney_name', inplace=True)"
   ]
  },
  {
   "cell_type": "code",
   "execution_count": 48,
   "metadata": {},
   "outputs": [],
   "source": [
    "for variable in X_qual:\n",
    "    var_enc = pd.get_dummies(X[variable], prefix=variable, drop_first=True)\n",
    "    X.drop(variable, axis=1, inplace=True)\n",
    "    for col_enc in var_enc.columns:\n",
    "        X[col_enc] = var_enc[col_enc]"
   ]
  },
  {
   "cell_type": "markdown",
   "metadata": {},
   "source": [
    "### 2.2 Régression linéaire de `sklearn`"
   ]
  },
  {
   "cell_type": "code",
   "execution_count": 49,
   "metadata": {},
   "outputs": [],
   "source": [
    "from sklearn.linear_model import LinearRegression\n",
    "from sklearn.metrics import mean_squared_error"
   ]
  },
  {
   "cell_type": "markdown",
   "metadata": {},
   "source": [
    "Nous utilisons finalement la fonction `LinearRegression` en notant que l'intercept est mise par défaut par la fonction (et la gestion de la multicolinéarité est égaelement gérée par défaut par la fonction) "
   ]
  },
  {
   "cell_type": "code",
   "execution_count": 83,
   "metadata": {},
   "outputs": [
    {
     "name": "stdout",
     "output_type": "stream",
     "text": [
      "MSE : 1103.0369376440242 \n",
      "Rsquared : 0.28124886302008856\n"
     ]
    }
   ],
   "source": [
    "reg = LinearRegression().fit(X.values, y.values)\n",
    "\n",
    "y_pred = reg.predict(X.values)\n",
    "print('MSE :', mean_squared_error(y.values, y_pred),\n",
    "      '\\nRsquared :', reg.score(X.values, y.values))"
   ]
  },
  {
   "cell_type": "code",
   "execution_count": 84,
   "metadata": {},
   "outputs": [
    {
     "data": {
      "image/png": "[encoded data removed]",
      "text/plain": [
       "<Figure size 720x720 with 1 Axes>"
      ]
     },
     "metadata": {},
     "output_type": "display_data"
    }
   ],
   "source": [
    "plt.figure(figsize=(10,10))\n",
    "plt.scatter(y.values, y_pred)\n",
    "plt.plot([0,700], [0,700], color='red')\n",
    "plt.axis('equal')\n",
    "plt.xlim((0,700))\n",
    "plt.ylim((0,700))\n",
    "plt.show()"
   ]
  },
  {
   "cell_type": "markdown",
   "metadata": {},
   "source": [
    "### 2.3 Régression linéaire de `statsmodels`"
   ]
  },
  {
   "cell_type": "markdown",
   "metadata": {},
   "source": [
    "A l'aide de `statsmodels` qui nous donne le Adj. R-squared qui nous sera utile suite à l'ajout de la variable `tourney_name`. Il faut cependant cette fois-ci introduire une constante dans notre modèle avec la fonction `add_constant` car la fonction `ols` n'en utilise pas par défaut."
   ]
  },
  {
   "cell_type": "code",
   "execution_count": 51,
   "metadata": {},
   "outputs": [],
   "source": [
    "from statsmodels.formula.api import ols\n",
    "from statsmodels.tools.tools import add_constant\n",
    "modele = ols('minutes ~ const + C(tourney_name) + C(surface) + C(tourney_level) + C(player_hand)+ player_age + player_rank\\\n",
    "          + C(opponent_hand) + opponent_age + opponent_rank + best_of + C(round) + year', data=add_constant(data))\n",
    "resultat = modele.fit()"
   ]
  },
  {
   "cell_type": "code",
   "execution_count": 52,
   "metadata": {},
   "outputs": [
    {
     "name": "stdout",
     "output_type": "stream",
     "text": [
      "MSE : 1099.4010939969057 \n",
      "Rsquared : 0.2846419557216756 \n",
      "Adjusted Rsquared : 0.283624937669983\n"
     ]
    }
   ],
   "source": [
    "print('MSE :', resultat.mse_resid,\n",
    "      '\\nRsquared :', resultat.rsquared,\n",
    "      '\\nAdjusted Rsquared :', resultat.rsquared_adj)"
   ]
  },
  {
   "cell_type": "code",
   "execution_count": 59,
   "metadata": {},
   "outputs": [
    {
     "data": {
      "text/plain": [
       "best_of\n",
       "3     96.590159\n",
       "5    148.603344\n",
       "Name: minutes, dtype: float64"
      ]
     },
     "execution_count": 59,
     "metadata": {},
     "output_type": "execute_result"
    }
   ],
   "source": [
    "data.groupby('best_of')['minutes'].mean()"
   ]
  },
  {
   "cell_type": "markdown",
   "metadata": {},
   "source": [
    "# III - Création de variables relatives à la rencontre"
   ]
  },
  {
   "cell_type": "markdown",
   "metadata": {},
   "source": [
    "Les attributs présents dans notre base sont les suivantes."
   ]
  },
  {
   "cell_type": "code",
   "execution_count": 71,
   "metadata": {},
   "outputs": [
    {
     "name": "stdout",
     "output_type": "stream",
     "text": [
      "Features de base :\n",
      "['tourney_id' 'tourney_name' 'surface' 'draw_size' 'tourney_level'\n",
      " 'tourney_date' 'match_num' 'player_id' 'player_seed' 'player_entry'\n",
      " 'player_name' 'player_hand' 'player_ht' 'player_ioc' 'player_age'\n",
      " 'opponent_id' 'opponent_seed' 'opponent_entry' 'opponent_name'\n",
      " 'opponent_hand' 'opponent_ht' 'opponent_ioc' 'opponent_age' 'score'\n",
      " 'best_of' 'round' 'minutes' 'player_ace' 'player_df' 'player_svpt'\n",
      " 'player_1stIn' 'player_1stWon' 'player_2ndWon' 'player_SvGms'\n",
      " 'player_bpSaved' 'player_bpFaced' 'opponent_ace' 'opponent_df'\n",
      " 'opponent_svpt' 'opponent_1stIn' 'opponent_1stWon' 'opponent_2ndWon'\n",
      " 'opponent_SvGms' 'opponent_bpSaved' 'opponent_bpFaced' 'player_rank'\n",
      " 'player_rank_points' 'opponent_rank' 'opponent_rank_points' 'year'\n",
      " 'win_lose']\n"
     ]
    }
   ],
   "source": [
    "print('Features de base :')\n",
    "print(data.columns.values)"
   ]
  },
  {
   "cell_type": "markdown",
   "metadata": {},
   "source": [
    "A partir de ces données initiales, nous allons créer de nouvelles features dans le but de maximiser le signal inclu dans nos attributs. "
   ]
  },
  {
   "cell_type": "markdown",
   "metadata": {},
   "source": [
    "### 3.1 Ecart de classement entre les deux joueurs"
   ]
  },
  {
   "cell_type": "code",
   "execution_count": 72,
   "metadata": {},
   "outputs": [
    {
     "data": {
      "text/plain": [
       "0    70.0\n",
       "1    56.0\n",
       "2    36.0\n",
       "Name: diff_ranking, dtype: float64"
      ]
     },
     "execution_count": 72,
     "metadata": {},
     "output_type": "execute_result"
    }
   ],
   "source": [
    "data['diff_ranking'] = data.apply(lambda x: abs(x.player_rank - x.opponent_rank), axis=1)\n",
    "data['diff_ranking'].head(3)"
   ]
  },
  {
   "cell_type": "markdown",
   "metadata": {},
   "source": [
    "### 3.2 Classement moyen des deux joueurs du match"
   ]
  },
  {
   "cell_type": "code",
   "execution_count": 73,
   "metadata": {},
   "outputs": [
    {
     "data": {
      "text/plain": [
       "0     42.0\n",
       "1    106.0\n",
       "2     70.0\n",
       "Name: avg_ranking, dtype: float64"
      ]
     },
     "execution_count": 73,
     "metadata": {},
     "output_type": "execute_result"
    }
   ],
   "source": [
    "data['avg_ranking'] = data.apply(lambda x: (x.player_rank + x.opponent_rank)/2, axis=1)\n",
    "data['avg_ranking'].head(3)"
   ]
  },
  {
   "cell_type": "markdown",
   "metadata": {},
   "source": [
    "### 3.3 Les joueurs jouent de la même main"
   ]
  },
  {
   "cell_type": "code",
   "execution_count": 74,
   "metadata": {},
   "outputs": [
    {
     "data": {
      "text/plain": [
       "0    0\n",
       "1    0\n",
       "2    1\n",
       "Name: same_hand, dtype: int64"
      ]
     },
     "execution_count": 74,
     "metadata": {},
     "output_type": "execute_result"
    }
   ],
   "source": [
    "data['same_hand'] = data.apply(lambda x: 1 if x['player_hand']!=x['opponent_hand'] else 0, axis=1)\n",
    "data['same_hand'].head(3)"
   ]
  },
  {
   "cell_type": "markdown",
   "metadata": {},
   "source": [
    "# IV - Création de variables caractéristiques du joueur "
   ]
  },
  {
   "cell_type": "markdown",
   "metadata": {},
   "source": [
    "Dans cette partie nous devons isoler les matchs joués par chacun des joueurs présents dans notre base pour créer des features différentes en fonction du joueur"
   ]
  },
  {
   "cell_type": "code",
   "execution_count": 75,
   "metadata": {},
   "outputs": [
    {
     "name": "stdout",
     "output_type": "stream",
     "text": [
      "Nombre de joueur différents dans notre base : 1355\n"
     ]
    }
   ],
   "source": [
    "nb_joueur = data['player_name'].unique().shape[0]\n",
    "print('Nombre de joueur différents dans notre base :', nb_joueur)"
   ]
  },
  {
   "cell_type": "markdown",
   "metadata": {},
   "source": [
    "### 4.1 Temps de match moyen d'un joueur"
   ]
  },
  {
   "cell_type": "code",
   "execution_count": 76,
   "metadata": {},
   "outputs": [
    {
     "data": {
      "text/html": [
       "<div>\n",
       "<style scoped>\n",
       "    .dataframe tbody tr th:only-of-type {\n",
       "        vertical-align: middle;\n",
       "    }\n",
       "\n",
       "    .dataframe tbody tr th {\n",
       "        vertical-align: top;\n",
       "    }\n",
       "\n",
       "    .dataframe thead th {\n",
       "        text-align: right;\n",
       "    }\n",
       "</style>\n",
       "<table border=\"1\" class=\"dataframe\">\n",
       "  <thead>\n",
       "    <tr style=\"text-align: right;\">\n",
       "      <th></th>\n",
       "      <th>player_name</th>\n",
       "      <th>player_mean_time</th>\n",
       "    </tr>\n",
       "  </thead>\n",
       "  <tbody>\n",
       "    <tr>\n",
       "      <th>0</th>\n",
       "      <td>Andy Roddick</td>\n",
       "      <td>99.921333</td>\n",
       "    </tr>\n",
       "    <tr>\n",
       "      <th>1</th>\n",
       "      <td>Carsten Ball</td>\n",
       "      <td>111.421053</td>\n",
       "    </tr>\n",
       "    <tr>\n",
       "      <th>2</th>\n",
       "      <td>Richard Gasquet</td>\n",
       "      <td>104.326425</td>\n",
       "    </tr>\n",
       "  </tbody>\n",
       "</table>\n",
       "</div>"
      ],
      "text/plain": [
       "       player_name  player_mean_time\n",
       "0     Andy Roddick         99.921333\n",
       "1     Carsten Ball        111.421053\n",
       "2  Richard Gasquet        104.326425"
      ]
     },
     "execution_count": 76,
     "metadata": {},
     "output_type": "execute_result"
    }
   ],
   "source": [
    "mean_time = data.groupby(['player_name'])['minutes'].mean()\n",
    "data['player_mean_time'] = np.zeros(data.shape[0])\n",
    "data['player_mean_time'] = data.apply(lambda x: mean_time[x['player_name']], axis=1)\n",
    "data[['player_name', 'player_mean_time']].head(3)"
   ]
  },
  {
   "cell_type": "markdown",
   "metadata": {},
   "source": [
    "### 4.2 Temps moyen des 10 derniers matchs d'un joueur"
   ]
  },
  {
   "cell_type": "markdown",
   "metadata": {},
   "source": [
    "__!! A MODIFIER !!__"
   ]
  },
  {
   "cell_type": "markdown",
   "metadata": {},
   "source": [
    "Nous calculons la moyenne mobile des temps de matchs sur les 10 derniers matchs joué par un joueur à l'aide de la fonction `rolling` de `pandas`."
   ]
  },
  {
   "cell_type": "code",
   "execution_count": 89,
   "metadata": {},
   "outputs": [],
   "source": [
    "data['player_mean_10time'] = np.zeros(data.shape[0])\n",
    "data = data.sort_values(['player_name', 'tourney_date', 'match_num']).copy()\n",
    "data['player_mean_10time'] = data.sort_values(['player_name',\n",
    "                                               'tourney_date',\n",
    "                                               'match_num']\n",
    "                                             ).groupby('player_name')['minutes'].rolling(window=5,min_periods=1).mean().values"
   ]
  },
  {
   "cell_type": "code",
   "execution_count": 90,
   "metadata": {},
   "outputs": [
    {
     "data": {
      "text/html": [
       "<div>\n",
       "<style scoped>\n",
       "    .dataframe tbody tr th:only-of-type {\n",
       "        vertical-align: middle;\n",
       "    }\n",
       "\n",
       "    .dataframe tbody tr th {\n",
       "        vertical-align: top;\n",
       "    }\n",
       "\n",
       "    .dataframe thead th {\n",
       "        text-align: right;\n",
       "    }\n",
       "</style>\n",
       "<table border=\"1\" class=\"dataframe\">\n",
       "  <thead>\n",
       "    <tr style=\"text-align: right;\">\n",
       "      <th></th>\n",
       "      <th>player_name</th>\n",
       "      <th>minutes</th>\n",
       "      <th>player_mean_10time</th>\n",
       "    </tr>\n",
       "  </thead>\n",
       "  <tbody>\n",
       "    <tr>\n",
       "      <th>3154</th>\n",
       "      <td>Roger Federer</td>\n",
       "      <td>45.0</td>\n",
       "      <td>45.000000</td>\n",
       "    </tr>\n",
       "    <tr>\n",
       "      <th>55092</th>\n",
       "      <td>Roger Federer</td>\n",
       "      <td>84.0</td>\n",
       "      <td>64.500000</td>\n",
       "    </tr>\n",
       "    <tr>\n",
       "      <th>54518</th>\n",
       "      <td>Roger Federer</td>\n",
       "      <td>68.0</td>\n",
       "      <td>65.666667</td>\n",
       "    </tr>\n",
       "    <tr>\n",
       "      <th>5121</th>\n",
       "      <td>Roger Federer</td>\n",
       "      <td>125.0</td>\n",
       "      <td>80.500000</td>\n",
       "    </tr>\n",
       "    <tr>\n",
       "      <th>5157</th>\n",
       "      <td>Roger Federer</td>\n",
       "      <td>106.0</td>\n",
       "      <td>85.600000</td>\n",
       "    </tr>\n",
       "  </tbody>\n",
       "</table>\n",
       "</div>"
      ],
      "text/plain": [
       "         player_name  minutes  player_mean_10time\n",
       "3154   Roger Federer     45.0           45.000000\n",
       "55092  Roger Federer     84.0           64.500000\n",
       "54518  Roger Federer     68.0           65.666667\n",
       "5121   Roger Federer    125.0           80.500000\n",
       "5157   Roger Federer    106.0           85.600000"
      ]
     },
     "execution_count": 90,
     "metadata": {},
     "output_type": "execute_result"
    }
   ],
   "source": [
    "data[data['player_name']=='Roger Federer'][['player_name', 'minutes', 'player_mean_10time']].head(5)"
   ]
  },
  {
   "cell_type": "markdown",
   "metadata": {},
   "source": [
    "### 4.3 Nombre de sets moyen joué par un joueur"
   ]
  },
  {
   "cell_type": "markdown",
   "metadata": {},
   "source": [
    "Nous commencons par extraire le nombre de set joué dans chaque match"
   ]
  },
  {
   "cell_type": "code",
   "execution_count": 80,
   "metadata": {},
   "outputs": [],
   "source": [
    "data['nb_games'] = data.apply(lambda x: x['score'].split(' '), axis=1)\n",
    "data['nb_games'] = data.apply(lambda x: [string.split('-') for string in x['nb_games']], axis=1)\n",
    "data['nb_games'] = data.apply(lambda x: [[int(elt[0]) for elt in liste if len(elt)>0] for liste in x['nb_games']], axis=1)\n",
    "data['nb_games'] = data.apply(lambda x: [sum(liste) for liste in x['nb_games']], axis=1)\n",
    "data['nb_games'] = data.apply(lambda x: sum(x['nb_games']), axis=1)"
   ]
  },
  {
   "cell_type": "code",
   "execution_count": 81,
   "metadata": {},
   "outputs": [
    {
     "data": {
      "text/plain": [
       "array([14, 15, 13, 28, 19, 21, 24, 17, 41, 18, 34, 37, 16, 27, 36, 23, 32,\n",
       "       22, 20, 25, 26, 30, 31, 49, 35, 29, 33, 53, 50, 47, 46, 40, 38, 39,\n",
       "       52, 43, 48, 55, 51, 45, 42, 44, 56, 59, 12, 54, 60, 57, 66, 61, 58,\n",
       "       64, 10, 65, 62, 63, 11])"
      ]
     },
     "execution_count": 81,
     "metadata": {},
     "output_type": "execute_result"
    }
   ],
   "source": [
    "data['nb_games'].unique()"
   ]
  },
  {
   "cell_type": "markdown",
   "metadata": {},
   "source": [
    "Un match de tennis fait au minimum 12 jeux, l'analyse du nombre de set joué dans nos donnée nous indique que certaines rencontrent finissent après 10 et 11 jeux. Nous supprimons ces matchs car ils ne respectent pas ce seuil (l'abandon n'est pas notifié dans la base)."
   ]
  },
  {
   "cell_type": "code",
   "execution_count": 82,
   "metadata": {},
   "outputs": [
    {
     "name": "stdout",
     "output_type": "stream",
     "text": [
      "6 observations supprimées (0.0%).\n"
     ]
    }
   ],
   "source": [
    "nb_obs = data.shape[0]\n",
    "data = data[data['nb_games']>=12].copy()\n",
    "print('{} observations supprimées ({}%).'.format(nb_obs - data.shape[0], perc_print(nb_obs, data.shape[0])))"
   ]
  },
  {
   "cell_type": "markdown",
   "metadata": {},
   "source": [
    "Une fois le nombre de jeux d'une rencontre disponible dans notre base, nous déterminons le nombre de sets joué en moyenne pour chaque joueur."
   ]
  },
  {
   "cell_type": "code",
   "execution_count": 85,
   "metadata": {},
   "outputs": [],
   "source": [
    "data['player_mean_games'] = np.zeros(data.shape[0])\n",
    "for player in data['player_name'].unique():\n",
    "    player_mean_games = data[data['player_name']==player]['nb_games'].mean()\n",
    "    data['player_mean_games'].loc[data[data['player_name']==player].index] = player_mean_games.copy()"
   ]
  },
  {
   "cell_type": "code",
   "execution_count": 86,
   "metadata": {},
   "outputs": [
    {
     "data": {
      "text/plain": [
       "count    103840.000000\n",
       "mean         25.407261\n",
       "std           1.354051\n",
       "min          12.000000\n",
       "25%          24.783002\n",
       "50%          25.444251\n",
       "75%          25.977811\n",
       "max          53.000000\n",
       "Name: player_mean_games, dtype: float64"
      ]
     },
     "execution_count": 86,
     "metadata": {},
     "output_type": "execute_result"
    }
   ],
   "source": [
    "data['player_mean_games'].describe()"
   ]
  },
  {
   "cell_type": "markdown",
   "metadata": {},
   "source": [
    "### 4.4 Nombre de sets moyen d'un joueur sur ses 10 derniers matchs"
   ]
  },
  {
   "cell_type": "code",
   "execution_count": 91,
   "metadata": {},
   "outputs": [],
   "source": [
    "data['player_mean_10games'] = np.zeros(data.shape[0])\n",
    "data = data.sort_values(['player_name', 'tourney_date', 'match_num']).copy()\n",
    "data['player_mean_10games'] = data.sort_values(['player_name',\n",
    "                                                'tourney_date',\n",
    "                                                'match_num']).groupby('player_name')['nb_games'].rolling(window=5, min_periods=1).mean().values"
   ]
  },
  {
   "cell_type": "code",
   "execution_count": 92,
   "metadata": {},
   "outputs": [
    {
     "data": {
      "text/html": [
       "<div>\n",
       "<style scoped>\n",
       "    .dataframe tbody tr th:only-of-type {\n",
       "        vertical-align: middle;\n",
       "    }\n",
       "\n",
       "    .dataframe tbody tr th {\n",
       "        vertical-align: top;\n",
       "    }\n",
       "\n",
       "    .dataframe thead th {\n",
       "        text-align: right;\n",
       "    }\n",
       "</style>\n",
       "<table border=\"1\" class=\"dataframe\">\n",
       "  <thead>\n",
       "    <tr style=\"text-align: right;\">\n",
       "      <th></th>\n",
       "      <th>player_name</th>\n",
       "      <th>nb_games</th>\n",
       "      <th>player_mean_10games</th>\n",
       "    </tr>\n",
       "  </thead>\n",
       "  <tbody>\n",
       "    <tr>\n",
       "      <th>3154</th>\n",
       "      <td>Roger Federer</td>\n",
       "      <td>17</td>\n",
       "      <td>17.00</td>\n",
       "    </tr>\n",
       "    <tr>\n",
       "      <th>55092</th>\n",
       "      <td>Roger Federer</td>\n",
       "      <td>23</td>\n",
       "      <td>20.00</td>\n",
       "    </tr>\n",
       "    <tr>\n",
       "      <th>54518</th>\n",
       "      <td>Roger Federer</td>\n",
       "      <td>20</td>\n",
       "      <td>20.00</td>\n",
       "    </tr>\n",
       "    <tr>\n",
       "      <th>5121</th>\n",
       "      <td>Roger Federer</td>\n",
       "      <td>33</td>\n",
       "      <td>23.25</td>\n",
       "    </tr>\n",
       "    <tr>\n",
       "      <th>5157</th>\n",
       "      <td>Roger Federer</td>\n",
       "      <td>30</td>\n",
       "      <td>24.60</td>\n",
       "    </tr>\n",
       "  </tbody>\n",
       "</table>\n",
       "</div>"
      ],
      "text/plain": [
       "         player_name  nb_games  player_mean_10games\n",
       "3154   Roger Federer        17                17.00\n",
       "55092  Roger Federer        23                20.00\n",
       "54518  Roger Federer        20                20.00\n",
       "5121   Roger Federer        33                23.25\n",
       "5157   Roger Federer        30                24.60"
      ]
     },
     "execution_count": 92,
     "metadata": {},
     "output_type": "execute_result"
    }
   ],
   "source": [
    "data[data['player_name']=='Roger Federer'][['player_name', 'nb_games', 'player_mean_10games']].head(5)"
   ]
  },
  {
   "cell_type": "code",
   "execution_count": null,
   "metadata": {},
   "outputs": [],
   "source": []
  },
  {
   "cell_type": "code",
   "execution_count": null,
   "metadata": {},
   "outputs": [],
   "source": []
  },
  {
   "cell_type": "code",
   "execution_count": null,
   "metadata": {},
   "outputs": [],
   "source": []
  },
  {
   "cell_type": "code",
   "execution_count": null,
   "metadata": {},
   "outputs": [],
   "source": []
  },
  {
   "cell_type": "code",
   "execution_count": null,
   "metadata": {},
   "outputs": [],
   "source": []
  },
  {
   "cell_type": "code",
   "execution_count": null,
   "metadata": {},
   "outputs": [],
   "source": []
  },
  {
   "cell_type": "code",
   "execution_count": null,
   "metadata": {},
   "outputs": [],
   "source": []
  },
  {
   "cell_type": "code",
   "execution_count": null,
   "metadata": {},
   "outputs": [],
   "source": []
  },
  {
   "cell_type": "code",
   "execution_count": null,
   "metadata": {},
   "outputs": [],
   "source": []
  },
  {
   "cell_type": "code",
   "execution_count": null,
   "metadata": {},
   "outputs": [],
   "source": []
  },
  {
   "cell_type": "code",
   "execution_count": null,
   "metadata": {},
   "outputs": [],
   "source": []
  },
  {
   "cell_type": "code",
   "execution_count": null,
   "metadata": {},
   "outputs": [],
   "source": []
  },
  {
   "cell_type": "code",
   "execution_count": null,
   "metadata": {},
   "outputs": [],
   "source": []
  },
  {
   "cell_type": "code",
   "execution_count": null,
   "metadata": {},
   "outputs": [],
   "source": []
  },
  {
   "cell_type": "code",
   "execution_count": null,
   "metadata": {},
   "outputs": [],
   "source": []
  },
  {
   "cell_type": "markdown",
   "metadata": {},
   "source": [
    "# BROUILLON"
   ]
  },
  {
   "cell_type": "code",
   "execution_count": null,
   "metadata": {},
   "outputs": [],
   "source": [
    "data['shifted_time'] = data.sort_values(['player_name',\n",
    "                                               'tourney_date',\n",
    "                                               'match_num']\n",
    "                                             ).groupby('player_name')['minutes'].shift(1).values"
   ]
  },
  {
   "cell_type": "code",
   "execution_count": 69,
   "metadata": {},
   "outputs": [],
   "source": [
    "modele = ols('minutes ~ const + C(tourney_name) + C(surface) + C(tourney_level) +  player_age \\\n",
    "          + opponent_age + best_of + C(round) + year+  diff_ranking + avg_ranking + mean_time' , data=add_constant(data))\n",
    "resultat = modele.fit()"
   ]
  },
  {
   "cell_type": "code",
   "execution_count": 70,
   "metadata": {},
   "outputs": [
    {
     "name": "stdout",
     "output_type": "stream",
     "text": [
      "MSE : 1068.1618880951862 \n",
      "Rsquared : 0.3049485091334083 \n",
      "Adjusted Rsquared : 0.30398055510313027\n"
     ]
    }
   ],
   "source": [
    "print('MSE :', resultat.mse_resid,\n",
    "      '\\nRsquared :', resultat.rsquared,\n",
    "      '\\nAdjusted Rsquared :', resultat.rsquared_adj)"
   ]
  },
  {
   "cell_type": "code",
   "execution_count": 82,
   "metadata": {},
   "outputs": [],
   "source": [
    "y_pred = resultat.fittedvalues"
   ]
  },
  {
   "cell_type": "code",
   "execution_count": 80,
   "metadata": {},
   "outputs": [
    {
     "data": {
      "image/png": "[encoded data removed]",
      "text/plain": [
       "<Figure size 720x720 with 1 Axes>"
      ]
     },
     "metadata": {},
     "output_type": "display_data"
    }
   ],
   "source": [
    "plt.figure(figsize=(10,10))\n",
    "plt.scatter(y.values, y_pred)\n",
    "plt.plot([0,700], [0,700], color='red')\n",
    "plt.axis('equal')\n",
    "plt.xlim((0,700))\n",
    "plt.ylim((0,700))\n",
    "plt.show()"
   ]
  },
  {
   "cell_type": "code",
   "execution_count": null,
   "metadata": {},
   "outputs": [],
   "source": []
  }
 ],
 "metadata": {
  "kernelspec": {
   "display_name": "Python 3",
   "language": "python",
   "name": "python3"
  },
  "language_info": {
   "codemirror_mode": {
    "name": "ipython",
    "version": 3
   },
   "file_extension": ".py",
   "mimetype": "text/x-python",
   "name": "python",
   "nbconvert_exporter": "python",
   "pygments_lexer": "ipython3",
   "version": "3.7.6"
  }
 },
 "nbformat": 4,
 "nbformat_minor": 4
}
