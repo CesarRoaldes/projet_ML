{
 "cells": [
  {
   "cell_type": "code",
   "execution_count": 1,
   "metadata": {},
   "outputs": [],
   "source": [
    "import os\n",
    "import string\n",
    "import re\n",
    "import pandas as pd\n",
    "import matplotlib.pyplot as plt\n",
    "import seaborn as sns\n",
    "import numpy as np\n",
    "PATH = os.path.abspath('')"
   ]
  },
  {
   "cell_type": "code",
   "execution_count": 2,
   "metadata": {},
   "outputs": [],
   "source": [
    "import warnings\n",
    "warnings.simplefilter(action='ignore', category=FutureWarning)"
   ]
  },
  {
   "cell_type": "code",
   "execution_count": 3,
   "metadata": {},
   "outputs": [],
   "source": [
    "pd.set_option('display.max_columns', 500)\n",
    "sns.set_style(\"ticks\")"
   ]
  },
  {
   "cell_type": "code",
   "execution_count": 4,
   "metadata": {},
   "outputs": [],
   "source": [
    "def perc_print(a, b):\n",
    "    return round((a-b)/a*100)"
   ]
  },
  {
   "cell_type": "markdown",
   "metadata": {},
   "source": [
    "## Importation des données"
   ]
  },
  {
   "cell_type": "code",
   "execution_count": 5,
   "metadata": {},
   "outputs": [],
   "source": [
    "data = pd.read_csv(PATH+'/data/Données_nettoyées.csv', index_col=0, low_memory=False)"
   ]
  },
  {
   "cell_type": "markdown",
   "metadata": {},
   "source": [
    "Aperçu de la base de donnée."
   ]
  },
  {
   "cell_type": "code",
   "execution_count": 6,
   "metadata": {},
   "outputs": [
    {
     "data": {
      "text/html": [
       "<div>\n",
       "<style scoped>\n",
       "    .dataframe tbody tr th:only-of-type {\n",
       "        vertical-align: middle;\n",
       "    }\n",
       "\n",
       "    .dataframe tbody tr th {\n",
       "        vertical-align: top;\n",
       "    }\n",
       "\n",
       "    .dataframe thead th {\n",
       "        text-align: right;\n",
       "    }\n",
       "</style>\n",
       "<table border=\"1\" class=\"dataframe\">\n",
       "  <thead>\n",
       "    <tr style=\"text-align: right;\">\n",
       "      <th></th>\n",
       "      <th>tourney_id</th>\n",
       "      <th>tourney_name</th>\n",
       "      <th>surface</th>\n",
       "      <th>draw_size</th>\n",
       "      <th>tourney_level</th>\n",
       "      <th>tourney_date</th>\n",
       "      <th>match_num</th>\n",
       "      <th>winner_id</th>\n",
       "      <th>winner_seed</th>\n",
       "      <th>winner_entry</th>\n",
       "      <th>winner_name</th>\n",
       "      <th>winner_hand</th>\n",
       "      <th>winner_ht</th>\n",
       "      <th>winner_ioc</th>\n",
       "      <th>winner_age</th>\n",
       "      <th>loser_id</th>\n",
       "      <th>loser_seed</th>\n",
       "      <th>loser_entry</th>\n",
       "      <th>loser_name</th>\n",
       "      <th>loser_hand</th>\n",
       "      <th>loser_ht</th>\n",
       "      <th>loser_ioc</th>\n",
       "      <th>loser_age</th>\n",
       "      <th>score</th>\n",
       "      <th>best_of</th>\n",
       "      <th>round</th>\n",
       "      <th>minutes</th>\n",
       "      <th>w_ace</th>\n",
       "      <th>w_df</th>\n",
       "      <th>w_svpt</th>\n",
       "      <th>w_1stIn</th>\n",
       "      <th>w_1stWon</th>\n",
       "      <th>w_2ndWon</th>\n",
       "      <th>w_SvGms</th>\n",
       "      <th>w_bpSaved</th>\n",
       "      <th>w_bpFaced</th>\n",
       "      <th>l_ace</th>\n",
       "      <th>l_df</th>\n",
       "      <th>l_svpt</th>\n",
       "      <th>l_1stIn</th>\n",
       "      <th>l_1stWon</th>\n",
       "      <th>l_2ndWon</th>\n",
       "      <th>l_SvGms</th>\n",
       "      <th>l_bpSaved</th>\n",
       "      <th>l_bpFaced</th>\n",
       "      <th>winner_rank</th>\n",
       "      <th>winner_rank_points</th>\n",
       "      <th>loser_rank</th>\n",
       "      <th>loser_rank_points</th>\n",
       "      <th>year</th>\n",
       "    </tr>\n",
       "  </thead>\n",
       "  <tbody>\n",
       "    <tr>\n",
       "      <th>0</th>\n",
       "      <td>2000-301</td>\n",
       "      <td>Auckland</td>\n",
       "      <td>Hard</td>\n",
       "      <td>32</td>\n",
       "      <td>A</td>\n",
       "      <td>2000-01-10</td>\n",
       "      <td>1</td>\n",
       "      <td>103163</td>\n",
       "      <td>1.0</td>\n",
       "      <td>NaN</td>\n",
       "      <td>Tommy Haas</td>\n",
       "      <td>R</td>\n",
       "      <td>188.0</td>\n",
       "      <td>GER</td>\n",
       "      <td>21.771389</td>\n",
       "      <td>101543</td>\n",
       "      <td>NaN</td>\n",
       "      <td>NaN</td>\n",
       "      <td>Jeff Tarango</td>\n",
       "      <td>L</td>\n",
       "      <td>180.0</td>\n",
       "      <td>USA</td>\n",
       "      <td>31.137577</td>\n",
       "      <td>7-5 4-6 7-5</td>\n",
       "      <td>3</td>\n",
       "      <td>R32</td>\n",
       "      <td>108.0</td>\n",
       "      <td>18.0</td>\n",
       "      <td>4.0</td>\n",
       "      <td>96.0</td>\n",
       "      <td>49.0</td>\n",
       "      <td>39.0</td>\n",
       "      <td>28.0</td>\n",
       "      <td>17.0</td>\n",
       "      <td>3.0</td>\n",
       "      <td>5.0</td>\n",
       "      <td>7.0</td>\n",
       "      <td>8.0</td>\n",
       "      <td>106.0</td>\n",
       "      <td>55.0</td>\n",
       "      <td>39.0</td>\n",
       "      <td>29.0</td>\n",
       "      <td>17.0</td>\n",
       "      <td>4.0</td>\n",
       "      <td>7.0</td>\n",
       "      <td>11.0</td>\n",
       "      <td>1612.0</td>\n",
       "      <td>63.0</td>\n",
       "      <td>595.0</td>\n",
       "      <td>2000</td>\n",
       "    </tr>\n",
       "    <tr>\n",
       "      <th>1</th>\n",
       "      <td>2000-301</td>\n",
       "      <td>Auckland</td>\n",
       "      <td>Hard</td>\n",
       "      <td>32</td>\n",
       "      <td>A</td>\n",
       "      <td>2000-01-10</td>\n",
       "      <td>2</td>\n",
       "      <td>102607</td>\n",
       "      <td>NaN</td>\n",
       "      <td>Q</td>\n",
       "      <td>Juan Balcells</td>\n",
       "      <td>R</td>\n",
       "      <td>190.0</td>\n",
       "      <td>ESP</td>\n",
       "      <td>24.558522</td>\n",
       "      <td>102644</td>\n",
       "      <td>NaN</td>\n",
       "      <td>NaN</td>\n",
       "      <td>Franco Squillari</td>\n",
       "      <td>L</td>\n",
       "      <td>183.0</td>\n",
       "      <td>ARG</td>\n",
       "      <td>24.386037</td>\n",
       "      <td>7-5 7-5</td>\n",
       "      <td>3</td>\n",
       "      <td>R32</td>\n",
       "      <td>85.0</td>\n",
       "      <td>5.0</td>\n",
       "      <td>3.0</td>\n",
       "      <td>76.0</td>\n",
       "      <td>52.0</td>\n",
       "      <td>39.0</td>\n",
       "      <td>13.0</td>\n",
       "      <td>12.0</td>\n",
       "      <td>5.0</td>\n",
       "      <td>6.0</td>\n",
       "      <td>5.0</td>\n",
       "      <td>10.0</td>\n",
       "      <td>74.0</td>\n",
       "      <td>32.0</td>\n",
       "      <td>25.0</td>\n",
       "      <td>18.0</td>\n",
       "      <td>12.0</td>\n",
       "      <td>3.0</td>\n",
       "      <td>6.0</td>\n",
       "      <td>211.0</td>\n",
       "      <td>157.0</td>\n",
       "      <td>49.0</td>\n",
       "      <td>723.0</td>\n",
       "      <td>2000</td>\n",
       "    </tr>\n",
       "    <tr>\n",
       "      <th>2</th>\n",
       "      <td>2000-301</td>\n",
       "      <td>Auckland</td>\n",
       "      <td>Hard</td>\n",
       "      <td>32</td>\n",
       "      <td>A</td>\n",
       "      <td>2000-01-10</td>\n",
       "      <td>3</td>\n",
       "      <td>103252</td>\n",
       "      <td>NaN</td>\n",
       "      <td>NaN</td>\n",
       "      <td>Alberto Martin</td>\n",
       "      <td>R</td>\n",
       "      <td>175.0</td>\n",
       "      <td>ESP</td>\n",
       "      <td>21.390828</td>\n",
       "      <td>102238</td>\n",
       "      <td>NaN</td>\n",
       "      <td>NaN</td>\n",
       "      <td>Alberto Berasategui</td>\n",
       "      <td>R</td>\n",
       "      <td>173.0</td>\n",
       "      <td>ESP</td>\n",
       "      <td>26.535250</td>\n",
       "      <td>6-3 6-1</td>\n",
       "      <td>3</td>\n",
       "      <td>R32</td>\n",
       "      <td>56.0</td>\n",
       "      <td>0.0</td>\n",
       "      <td>0.0</td>\n",
       "      <td>55.0</td>\n",
       "      <td>35.0</td>\n",
       "      <td>25.0</td>\n",
       "      <td>12.0</td>\n",
       "      <td>8.0</td>\n",
       "      <td>1.0</td>\n",
       "      <td>1.0</td>\n",
       "      <td>0.0</td>\n",
       "      <td>6.0</td>\n",
       "      <td>56.0</td>\n",
       "      <td>33.0</td>\n",
       "      <td>20.0</td>\n",
       "      <td>7.0</td>\n",
       "      <td>8.0</td>\n",
       "      <td>7.0</td>\n",
       "      <td>11.0</td>\n",
       "      <td>48.0</td>\n",
       "      <td>726.0</td>\n",
       "      <td>59.0</td>\n",
       "      <td>649.0</td>\n",
       "      <td>2000</td>\n",
       "    </tr>\n",
       "  </tbody>\n",
       "</table>\n",
       "</div>"
      ],
      "text/plain": [
       "  tourney_id tourney_name surface  draw_size tourney_level tourney_date  \\\n",
       "0   2000-301     Auckland    Hard         32             A   2000-01-10   \n",
       "1   2000-301     Auckland    Hard         32             A   2000-01-10   \n",
       "2   2000-301     Auckland    Hard         32             A   2000-01-10   \n",
       "\n",
       "   match_num  winner_id winner_seed winner_entry     winner_name winner_hand  \\\n",
       "0          1     103163         1.0          NaN      Tommy Haas           R   \n",
       "1          2     102607         NaN            Q   Juan Balcells           R   \n",
       "2          3     103252         NaN          NaN  Alberto Martin           R   \n",
       "\n",
       "   winner_ht winner_ioc  winner_age  loser_id loser_seed loser_entry  \\\n",
       "0      188.0        GER   21.771389    101543        NaN         NaN   \n",
       "1      190.0        ESP   24.558522    102644        NaN         NaN   \n",
       "2      175.0        ESP   21.390828    102238        NaN         NaN   \n",
       "\n",
       "            loser_name loser_hand  loser_ht loser_ioc  loser_age        score  \\\n",
       "0         Jeff Tarango          L     180.0       USA  31.137577  7-5 4-6 7-5   \n",
       "1     Franco Squillari          L     183.0       ARG  24.386037      7-5 7-5   \n",
       "2  Alberto Berasategui          R     173.0       ESP  26.535250      6-3 6-1   \n",
       "\n",
       "   best_of round  minutes  w_ace  w_df  w_svpt  w_1stIn  w_1stWon  w_2ndWon  \\\n",
       "0        3   R32    108.0   18.0   4.0    96.0     49.0      39.0      28.0   \n",
       "1        3   R32     85.0    5.0   3.0    76.0     52.0      39.0      13.0   \n",
       "2        3   R32     56.0    0.0   0.0    55.0     35.0      25.0      12.0   \n",
       "\n",
       "   w_SvGms  w_bpSaved  w_bpFaced  l_ace  l_df  l_svpt  l_1stIn  l_1stWon  \\\n",
       "0     17.0        3.0        5.0    7.0   8.0   106.0     55.0      39.0   \n",
       "1     12.0        5.0        6.0    5.0  10.0    74.0     32.0      25.0   \n",
       "2      8.0        1.0        1.0    0.0   6.0    56.0     33.0      20.0   \n",
       "\n",
       "   l_2ndWon  l_SvGms  l_bpSaved  l_bpFaced  winner_rank  winner_rank_points  \\\n",
       "0      29.0     17.0        4.0        7.0         11.0              1612.0   \n",
       "1      18.0     12.0        3.0        6.0        211.0               157.0   \n",
       "2       7.0      8.0        7.0       11.0         48.0               726.0   \n",
       "\n",
       "   loser_rank  loser_rank_points  year  \n",
       "0        63.0              595.0  2000  \n",
       "1        49.0              723.0  2000  \n",
       "2        59.0              649.0  2000  "
      ]
     },
     "execution_count": 6,
     "metadata": {},
     "output_type": "execute_result"
    }
   ],
   "source": [
    "data.head(3)"
   ]
  },
  {
   "cell_type": "markdown",
   "metadata": {},
   "source": [
    "Afin de créer des variables propres à chaque joueurs, nous retravaillons nos colonnes _winner_name_ et _loser_name_ en dédoublant chaque ligne pour obtenir une ligne par joueur du match renommée _player_name_ et son adversaire dans la colonne _opponent_name_"
   ]
  },
  {
   "cell_type": "code",
   "execution_count": 8,
   "metadata": {},
   "outputs": [],
   "source": [
    "data_winner = data.copy()\n",
    "data_loser = data.copy()\n",
    "data_winner.rename({'winner_name':'player_name'}, inplace=True)\n",
    "data_loser.rename({'loser_name':'player_name'}, inplace=True)\n",
    "data_winner['win_lose'] = ['w' for i in range(len(data_winner))]\n",
    "data_loser['win_lose'] = ['l' for i in range(len(data_loser))]\n",
    "data_winner = data_winner.rename(columns=lambda x: re.sub('winner','player',x))\n",
    "data_winner = data_winner.rename(columns=lambda x: re.sub('^w_','player_',x))\n",
    "data_winner = data_winner.rename(columns=lambda x: re.sub('loser','opponent',x))\n",
    "data_winner = data_winner.rename(columns=lambda x: re.sub('^l_','opponent_',x))\n",
    "data_loser = data_loser.rename(columns=lambda x: re.sub('loser','player',x))\n",
    "data_loser = data_loser.rename(columns=lambda x: re.sub('^l_','player_',x))\n",
    "data_loser = data_loser.rename(columns=lambda x: re.sub('winner','opponent',x))\n",
    "data_loser = data_loser.rename(columns=lambda x: re.sub('^w_','opponent_',x))\n",
    "data = pd.concat([data_winner, data_loser], axis=0, sort=False)\n",
    "data.reset_index(inplace=True)"
   ]
  },
  {
   "cell_type": "code",
   "execution_count": 9,
   "metadata": {},
   "outputs": [
    {
     "data": {
      "text/plain": [
       "(103844, 52)"
      ]
     },
     "execution_count": 9,
     "metadata": {},
     "output_type": "execute_result"
    }
   ],
   "source": [
    "data.shape"
   ]
  },
  {
   "cell_type": "markdown",
   "metadata": {},
   "source": [
    "## Création de variables relatives à la rencontre"
   ]
  },
  {
   "cell_type": "markdown",
   "metadata": {},
   "source": [
    "Les attributs présents dans notre base sont les suivantes."
   ]
  },
  {
   "cell_type": "code",
   "execution_count": 10,
   "metadata": {},
   "outputs": [
    {
     "name": "stdout",
     "output_type": "stream",
     "text": [
      "Features de base :\n",
      "['index' 'tourney_id' 'tourney_name' 'surface' 'draw_size' 'tourney_level'\n",
      " 'tourney_date' 'match_num' 'player_id' 'player_seed' 'player_entry'\n",
      " 'player_name' 'player_hand' 'player_ht' 'player_ioc' 'player_age'\n",
      " 'opponent_id' 'opponent_seed' 'opponent_entry' 'opponent_name'\n",
      " 'opponent_hand' 'opponent_ht' 'opponent_ioc' 'opponent_age' 'score'\n",
      " 'best_of' 'round' 'minutes' 'player_ace' 'player_df' 'player_svpt'\n",
      " 'player_1stIn' 'player_1stWon' 'player_2ndWon' 'player_SvGms'\n",
      " 'player_bpSaved' 'player_bpFaced' 'opponent_ace' 'opponent_df'\n",
      " 'opponent_svpt' 'opponent_1stIn' 'opponent_1stWon' 'opponent_2ndWon'\n",
      " 'opponent_SvGms' 'opponent_bpSaved' 'opponent_bpFaced' 'player_rank'\n",
      " 'player_rank_points' 'opponent_rank' 'opponent_rank_points' 'year'\n",
      " 'win_lose']\n"
     ]
    }
   ],
   "source": [
    "print('Features de base :')\n",
    "print(data.columns.values)"
   ]
  },
  {
   "cell_type": "markdown",
   "metadata": {},
   "source": [
    "A partir de ces données initiales, nous allons créer de nouvelles features dans le but de maximiser le signal inclu dans nos attributs. "
   ]
  },
  {
   "cell_type": "markdown",
   "metadata": {},
   "source": [
    "### 3.1 Ecart de classement entre les deux joueurs"
   ]
  },
  {
   "cell_type": "code",
   "execution_count": 11,
   "metadata": {},
   "outputs": [
    {
     "data": {
      "text/plain": [
       "0     52.0\n",
       "1    162.0\n",
       "2     11.0\n",
       "Name: diff_ranking, dtype: float64"
      ]
     },
     "execution_count": 11,
     "metadata": {},
     "output_type": "execute_result"
    }
   ],
   "source": [
    "data['diff_ranking'] = data.apply(lambda x: abs(x.player_rank - x.opponent_rank), axis=1)\n",
    "data['diff_ranking'].head(3)"
   ]
  },
  {
   "cell_type": "markdown",
   "metadata": {},
   "source": [
    "### 3.2 Classement moyen des deux joueurs du match"
   ]
  },
  {
   "cell_type": "code",
   "execution_count": 12,
   "metadata": {},
   "outputs": [
    {
     "data": {
      "text/plain": [
       "0     37.0\n",
       "1    130.0\n",
       "2     53.5\n",
       "Name: avg_ranking, dtype: float64"
      ]
     },
     "execution_count": 12,
     "metadata": {},
     "output_type": "execute_result"
    }
   ],
   "source": [
    "data['avg_ranking'] = data.apply(lambda x: (x.player_rank + x.opponent_rank)/2, axis=1)\n",
    "data['avg_ranking'].head(3)"
   ]
  },
  {
   "cell_type": "markdown",
   "metadata": {},
   "source": [
    "### 3.3 Les joueurs jouent de la même main"
   ]
  },
  {
   "cell_type": "code",
   "execution_count": 13,
   "metadata": {},
   "outputs": [
    {
     "data": {
      "text/plain": [
       "0    1\n",
       "1    1\n",
       "2    0\n",
       "Name: same_hand, dtype: int64"
      ]
     },
     "execution_count": 13,
     "metadata": {},
     "output_type": "execute_result"
    }
   ],
   "source": [
    "data['same_hand'] = data.apply(lambda x: 1 if x['player_hand']!=x['opponent_hand'] else 0, axis=1)\n",
    "data['same_hand'].head(3)"
   ]
  },
  {
   "cell_type": "markdown",
   "metadata": {},
   "source": [
    "##  Création des variables caractéristiques du joueur "
   ]
  },
  {
   "cell_type": "markdown",
   "metadata": {},
   "source": [
    "Suite au dédoublement de nos lignes, nous allons créer des features différentes en fonction de chaque joueur."
   ]
  },
  {
   "cell_type": "code",
   "execution_count": 14,
   "metadata": {},
   "outputs": [
    {
     "name": "stdout",
     "output_type": "stream",
     "text": [
      "Nombre de joueur différents dans notre base : 1355\n"
     ]
    }
   ],
   "source": [
    "nb_joueur = data['player_name'].unique().shape[0]\n",
    "print('Nombre de joueur différents dans notre base :', nb_joueur)"
   ]
  },
  {
   "cell_type": "markdown",
   "metadata": {},
   "source": [
    "Nous distinguons à partir d'ici les observations relatives à des Best_of 3 / Best_of 5 (matchs en 2 ou 3 sets gagnants). "
   ]
  },
  {
   "cell_type": "code",
   "execution_count": 15,
   "metadata": {},
   "outputs": [
    {
     "data": {
      "text/plain": [
       "True"
      ]
     },
     "execution_count": 15,
     "metadata": {},
     "output_type": "execute_result"
    }
   ],
   "source": [
    "data_bo5 = data[data['best_of']==5].copy()\n",
    "data_bo3 = data[data['best_of']==3].copy()\n",
    "\n",
    "data_bo5.shape[0] + data_bo3.shape[0] == data.shape[0]"
   ]
  },
  {
   "cell_type": "markdown",
   "metadata": {},
   "source": [
    "### Temps de match moyen d'un joueur"
   ]
  },
  {
   "cell_type": "code",
   "execution_count": 16,
   "metadata": {},
   "outputs": [
    {
     "data": {
      "text/html": [
       "<div>\n",
       "<style scoped>\n",
       "    .dataframe tbody tr th:only-of-type {\n",
       "        vertical-align: middle;\n",
       "    }\n",
       "\n",
       "    .dataframe tbody tr th {\n",
       "        vertical-align: top;\n",
       "    }\n",
       "\n",
       "    .dataframe thead th {\n",
       "        text-align: right;\n",
       "    }\n",
       "</style>\n",
       "<table border=\"1\" class=\"dataframe\">\n",
       "  <thead>\n",
       "    <tr style=\"text-align: right;\">\n",
       "      <th></th>\n",
       "      <th>player_name</th>\n",
       "      <th>player_mean_time</th>\n",
       "    </tr>\n",
       "  </thead>\n",
       "  <tbody>\n",
       "    <tr>\n",
       "      <th>0</th>\n",
       "      <td>Tommy Haas</td>\n",
       "      <td>94.272549</td>\n",
       "    </tr>\n",
       "    <tr>\n",
       "      <th>1</th>\n",
       "      <td>Juan Balcells</td>\n",
       "      <td>86.941176</td>\n",
       "    </tr>\n",
       "    <tr>\n",
       "      <th>2</th>\n",
       "      <td>Alberto Martin</td>\n",
       "      <td>94.424332</td>\n",
       "    </tr>\n",
       "  </tbody>\n",
       "</table>\n",
       "</div>"
      ],
      "text/plain": [
       "      player_name  player_mean_time\n",
       "0      Tommy Haas         94.272549\n",
       "1   Juan Balcells         86.941176\n",
       "2  Alberto Martin         94.424332"
      ]
     },
     "execution_count": 16,
     "metadata": {},
     "output_type": "execute_result"
    }
   ],
   "source": [
    "mean_time = data_bo3.groupby(['player_name'])['minutes'].mean()\n",
    "data_bo3['player_mean_time'] = np.zeros(data_bo3.shape[0])\n",
    "data_bo3['player_mean_time'] = data_bo3.apply(lambda x: mean_time[x['player_name']], axis=1)\n",
    "data_bo3[['player_name', 'player_mean_time']].head(3)"
   ]
  },
  {
   "cell_type": "code",
   "execution_count": 17,
   "metadata": {},
   "outputs": [
    {
     "data": {
      "text/html": [
       "<div>\n",
       "<style scoped>\n",
       "    .dataframe tbody tr th:only-of-type {\n",
       "        vertical-align: middle;\n",
       "    }\n",
       "\n",
       "    .dataframe tbody tr th {\n",
       "        vertical-align: top;\n",
       "    }\n",
       "\n",
       "    .dataframe thead th {\n",
       "        text-align: right;\n",
       "    }\n",
       "</style>\n",
       "<table border=\"1\" class=\"dataframe\">\n",
       "  <thead>\n",
       "    <tr style=\"text-align: right;\">\n",
       "      <th></th>\n",
       "      <th>player_name</th>\n",
       "      <th>player_mean_time</th>\n",
       "    </tr>\n",
       "  </thead>\n",
       "  <tbody>\n",
       "    <tr>\n",
       "      <th>255</th>\n",
       "      <td>Magnus Gustafsson</td>\n",
       "      <td>128.555556</td>\n",
       "    </tr>\n",
       "    <tr>\n",
       "      <th>329</th>\n",
       "      <td>Franco Squillari</td>\n",
       "      <td>142.777778</td>\n",
       "    </tr>\n",
       "    <tr>\n",
       "      <th>420</th>\n",
       "      <td>Thomas Enqvist</td>\n",
       "      <td>133.865385</td>\n",
       "    </tr>\n",
       "  </tbody>\n",
       "</table>\n",
       "</div>"
      ],
      "text/plain": [
       "           player_name  player_mean_time\n",
       "255  Magnus Gustafsson        128.555556\n",
       "329   Franco Squillari        142.777778\n",
       "420     Thomas Enqvist        133.865385"
      ]
     },
     "execution_count": 17,
     "metadata": {},
     "output_type": "execute_result"
    }
   ],
   "source": [
    "mean_time = data_bo5.groupby(['player_name'])['minutes'].mean()\n",
    "data_bo5['player_mean_time'] = np.zeros(data_bo5.shape[0])\n",
    "data_bo5['player_mean_time'] = data_bo5.apply(lambda x: mean_time[x['player_name']], axis=1)\n",
    "data_bo5[['player_name', 'player_mean_time']].head(3)"
   ]
  },
  {
   "cell_type": "markdown",
   "metadata": {},
   "source": [
    "### Temps moyen des 10 derniers matchs d'un joueur"
   ]
  },
  {
   "cell_type": "markdown",
   "metadata": {},
   "source": [
    "On crée une moyenne mobile du temps moyen des 10 derniers matchs d'un joueur."
   ]
  },
  {
   "cell_type": "markdown",
   "metadata": {},
   "source": [
    "Cette opération étant amenée à être répétée, dans le but de rendre le code moins redondant nous créons une fonction qui nous permet de faire des variables représentant la dynamique d'un joueur.  "
   ]
  },
  {
   "cell_type": "code",
   "execution_count": 18,
   "metadata": {},
   "outputs": [],
   "source": [
    "def dynamic_features(df, target_feature, new_feature_name, list_sort_features, window_size=10):\n",
    "    # player\n",
    "    player_new_feature_name = 'player_' + new_feature_name\n",
    "    df[player_new_feature_name] = np.zeros(df.shape[0])\n",
    "    df = df.sort_values(['player_name']+list_sort_features).copy()\n",
    "    df[player_new_feature_name] = df.sort_values(['player_name']+list_sort_features).groupby('player_name')[target_feature].rolling(window=window_size,min_periods=1).mean().values\n",
    "    df[player_new_feature_name+'_shifted'] = df.sort_values(['player_name']+list_sort_features).groupby('player_name')[player_new_feature_name].shift(1).values\n",
    "    df.sort_values(['player_name']+list_sort_features, inplace=True)\n",
    "    print(df[df['player_name']=='Roger Federer'][['player_name', target_feature, player_new_feature_name, player_new_feature_name+'_shifted']].head(5))\n",
    "    print('\\n')\n",
    "    # opponent\n",
    "    opponent_new_feature_name = 'opponent_' + new_feature_name\n",
    "    df[opponent_new_feature_name] = np.zeros(df.shape[0])\n",
    "    df = df.sort_values(['opponent_name']+list_sort_features).copy()\n",
    "    df[opponent_new_feature_name] = df.sort_values(list_sort_features).groupby('opponent_name')[target_feature].rolling(window=window_size,min_periods=1).mean().values\n",
    "    df[opponent_new_feature_name+'_shifted'] = df.sort_values(['opponent_name']+list_sort_features).groupby('opponent_name')[opponent_new_feature_name].shift(1).values\n",
    "    df.sort_values(['opponent_name']+list_sort_features, inplace=True)\n",
    "    print(df[df['opponent_name']=='Roger Federer'][['opponent_name', target_feature, opponent_new_feature_name, opponent_new_feature_name+'_shifted']].head(5))\n",
    "    return df.copy()"
   ]
  },
  {
   "cell_type": "markdown",
   "metadata": {},
   "source": [
    "Nous appliquons cette fonction."
   ]
  },
  {
   "cell_type": "code",
   "execution_count": 19,
   "metadata": {},
   "outputs": [
    {
     "name": "stdout",
     "output_type": "stream",
     "text": [
      "         player_name  minutes  player_mean_10time  player_mean_10time_shifted\n",
      "562    Roger Federer     45.0           45.000000                         NaN\n",
      "52499  Roger Federer     84.0           64.500000                   45.000000\n",
      "51925  Roger Federer     68.0           65.666667                   64.500000\n",
      "1931   Roger Federer     72.0           67.250000                   65.666667\n",
      "1945   Roger Federer     63.0           66.400000                   67.250000\n",
      "\n",
      "\n",
      "       opponent_name  minutes  opponent_mean_10time  \\\n",
      "52484  Roger Federer     45.0             45.000000   \n",
      "577    Roger Federer     84.0             64.500000   \n",
      "3      Roger Federer     68.0             65.666667   \n",
      "53853  Roger Federer     72.0             67.250000   \n",
      "53867  Roger Federer     63.0             66.400000   \n",
      "\n",
      "       opponent_mean_10time_shifted  \n",
      "52484                           NaN  \n",
      "577                       45.000000  \n",
      "3                         64.500000  \n",
      "53853                     65.666667  \n",
      "53867                     67.250000  \n"
     ]
    }
   ],
   "source": [
    "data_bo3 = dynamic_features(df=data_bo3, target_feature='minutes', new_feature_name='mean_10time', list_sort_features=['tourney_date', 'match_num'], window_size=10)"
   ]
  },
  {
   "cell_type": "code",
   "execution_count": 20,
   "metadata": {},
   "outputs": [
    {
     "name": "stdout",
     "output_type": "stream",
     "text": [
      "         player_name  minutes  player_mean_10time  player_mean_10time_shifted\n",
      "2529   Roger Federer    125.0          125.000000                         NaN\n",
      "2565   Roger Federer    106.0          115.500000                  125.000000\n",
      "54506  Roger Federer    101.0          110.666667                  115.500000\n",
      "2097   Roger Federer    147.0          119.750000                  110.666667\n",
      "2133   Roger Federer    132.0          122.200000                  119.750000\n",
      "\n",
      "\n",
      "       opponent_name  minutes  opponent_mean_10time  \\\n",
      "54451  Roger Federer    125.0            125.000000   \n",
      "54487  Roger Federer    106.0            115.500000   \n",
      "2584   Roger Federer    101.0            110.666667   \n",
      "54019  Roger Federer    147.0            119.750000   \n",
      "54055  Roger Federer    132.0            122.200000   \n",
      "\n",
      "       opponent_mean_10time_shifted  \n",
      "54451                           NaN  \n",
      "54487                    125.000000  \n",
      "2584                     115.500000  \n",
      "54019                    110.666667  \n",
      "54055                    119.750000  \n"
     ]
    }
   ],
   "source": [
    "data_bo5 = dynamic_features(df=data_bo5, target_feature='minutes', new_feature_name='mean_10time', list_sort_features=['tourney_date', 'match_num'], window_size=10)"
   ]
  },
  {
   "cell_type": "markdown",
   "metadata": {},
   "source": [
    "### Nombre de jeux moyen joué par un joueur"
   ]
  },
  {
   "cell_type": "markdown",
   "metadata": {},
   "source": [
    "Nous commencons par extraire le nombre de jeux joués dans chaque match."
   ]
  },
  {
   "cell_type": "code",
   "execution_count": 21,
   "metadata": {},
   "outputs": [],
   "source": [
    "data_bo3['nb_games'] = data_bo3.apply(lambda x: x['score'].split(' '), axis=1)\n",
    "data_bo3['nb_games'] = data_bo3.apply(lambda x: [string.split('-') for string in x['nb_games']], axis=1)\n",
    "data_bo3['nb_games'] = data_bo3.apply(lambda x: [[int(elt[0]) for elt in liste if len(elt)>0] for liste in x['nb_games']], axis=1)\n",
    "data_bo3['nb_games'] = data_bo3.apply(lambda x: [sum(liste) for liste in x['nb_games']], axis=1)\n",
    "data_bo3['nb_games'] = data_bo3.apply(lambda x: sum(x['nb_games']), axis=1)"
   ]
  },
  {
   "cell_type": "code",
   "execution_count": 22,
   "metadata": {},
   "outputs": [],
   "source": [
    "data_bo5['nb_games'] = data_bo5.apply(lambda x: x['score'].split(' '), axis=1)\n",
    "data_bo5['nb_games'] = data_bo5.apply(lambda x: [string.split('-') for string in x['nb_games']], axis=1)\n",
    "data_bo5['nb_games'] = data_bo5.apply(lambda x: [[int(elt[0]) for elt in liste if len(elt)>0] for liste in x['nb_games']], axis=1)\n",
    "data_bo5['nb_games'] = data_bo5.apply(lambda x: [sum(liste) for liste in x['nb_games']], axis=1)\n",
    "data_bo5['nb_games'] = data_bo5.apply(lambda x: sum(x['nb_games']), axis=1)"
   ]
  },
  {
   "cell_type": "code",
   "execution_count": 23,
   "metadata": {},
   "outputs": [
    {
     "data": {
      "text/plain": [
       "array([14, 15, 13, 28, 19, 21, 24, 17, 18, 34, 16, 27, 32, 22, 20, 25, 23,\n",
       "       26, 30, 31, 36, 35, 33, 29, 39, 38, 12, 37, 10, 11])"
      ]
     },
     "execution_count": 23,
     "metadata": {},
     "output_type": "execute_result"
    }
   ],
   "source": [
    "data_bo3['nb_games'].unique()"
   ]
  },
  {
   "cell_type": "code",
   "execution_count": 24,
   "metadata": {},
   "outputs": [
    {
     "data": {
      "text/plain": [
       "array([41, 28, 37, 36, 23, 32, 22, 26, 49, 29, 25, 53, 21, 50, 24, 30, 47,\n",
       "       35, 46, 40, 27, 38, 31, 52, 43, 39, 48, 55, 51, 34, 33, 45, 42, 44,\n",
       "       56, 59, 20, 54, 60, 19, 57, 66, 61, 58, 64, 65, 62, 15, 63])"
      ]
     },
     "execution_count": 24,
     "metadata": {},
     "output_type": "execute_result"
    }
   ],
   "source": [
    "data_bo5['nb_games'].unique()"
   ]
  },
  {
   "cell_type": "markdown",
   "metadata": {},
   "source": [
    "Un match de tennis fait au minimum 12 jeux, l'analyse du nombre de set joué dans nos donnée nous indique que certaines rencontrent finissent après 10 et 11 jeux. Nous supprimons ces matchs car ils ne respectent pas ce seuil (l'abandon n'est pas notifié dans la base)."
   ]
  },
  {
   "cell_type": "code",
   "execution_count": 25,
   "metadata": {},
   "outputs": [
    {
     "name": "stdout",
     "output_type": "stream",
     "text": [
      "6 observations supprimées (0%).\n"
     ]
    }
   ],
   "source": [
    "nb_obs = data_bo3.shape[0]\n",
    "data_bo3 = data_bo3[data_bo3['nb_games']>=12].copy()\n",
    "print('{} observations supprimées ({}%).'.format(nb_obs - data_bo3.shape[0], perc_print(nb_obs, data_bo3.shape[0])))"
   ]
  },
  {
   "cell_type": "code",
   "execution_count": 26,
   "metadata": {},
   "outputs": [
    {
     "name": "stdout",
     "output_type": "stream",
     "text": [
      "2 observations supprimées (0%).\n"
     ]
    }
   ],
   "source": [
    "nb_obs = data_bo5.shape[0]\n",
    "data_bo5 = data_bo5[data_bo5['nb_games']>=18].copy()\n",
    "print('{} observations supprimées ({}%).'.format(nb_obs - data_bo5.shape[0], perc_print(nb_obs, data_bo5.shape[0])))"
   ]
  },
  {
   "cell_type": "markdown",
   "metadata": {},
   "source": [
    "A partir du nombre de jeux joués dans un match, nous déterminons le nombre de sets joué en moyenne pour chaque joueur ainsi que son advsersaire."
   ]
  },
  {
   "cell_type": "code",
   "execution_count": 27,
   "metadata": {},
   "outputs": [
    {
     "name": "stderr",
     "output_type": "stream",
     "text": [
      "/home/steve/anaconda3/envs/projetML/lib/python3.7/site-packages/pandas/core/indexing.py:205: SettingWithCopyWarning: \n",
      "A value is trying to be set on a copy of a slice from a DataFrame\n",
      "\n",
      "See the caveats in the documentation: http://pandas.pydata.org/pandas-docs/stable/user_guide/indexing.html#returning-a-view-versus-a-copy\n",
      "  self._setitem_with_indexer(indexer, value)\n"
     ]
    }
   ],
   "source": [
    "data_bo3['player_mean_games'] = np.zeros(data_bo3.shape[0])\n",
    "for player in data_bo3['player_name'].unique():\n",
    "    player_mean_games = data_bo3[data_bo3['player_name']==player]['nb_games'].mean()\n",
    "    data_bo3['player_mean_games'].loc[data_bo3[data_bo3['player_name']==player].index] = player_mean_games.copy()"
   ]
  },
  {
   "cell_type": "code",
   "execution_count": 28,
   "metadata": {},
   "outputs": [],
   "source": [
    "data_bo5['player_mean_games'] = np.zeros(data_bo5.shape[0])\n",
    "for player in data_bo5['player_name'].unique():\n",
    "    player_mean_games = data_bo5[data_bo5['player_name']==player]['nb_games'].mean()\n",
    "    data_bo5['player_mean_games'].loc[data_bo5[data_bo5['player_name']==player].index] = player_mean_games.copy()"
   ]
  },
  {
   "cell_type": "code",
   "execution_count": 29,
   "metadata": {},
   "outputs": [
    {
     "data": {
      "text/plain": [
       "count    84700.000000\n",
       "mean        23.022597\n",
       "std          1.081867\n",
       "min         12.000000\n",
       "25%         22.536082\n",
       "50%         22.992000\n",
       "75%         23.537634\n",
       "max         38.000000\n",
       "Name: player_mean_games, dtype: float64"
      ]
     },
     "execution_count": 29,
     "metadata": {},
     "output_type": "execute_result"
    }
   ],
   "source": [
    "data_bo3['player_mean_games'].describe()"
   ]
  },
  {
   "cell_type": "code",
   "execution_count": 30,
   "metadata": {},
   "outputs": [
    {
     "data": {
      "text/plain": [
       "count    19136.000000\n",
       "mean        35.959971\n",
       "std          2.157068\n",
       "min         21.000000\n",
       "25%         34.716216\n",
       "50%         36.053691\n",
       "75%         37.240000\n",
       "max         56.000000\n",
       "Name: player_mean_games, dtype: float64"
      ]
     },
     "execution_count": 30,
     "metadata": {},
     "output_type": "execute_result"
    }
   ],
   "source": [
    "data_bo5['player_mean_games'].describe()"
   ]
  },
  {
   "cell_type": "markdown",
   "metadata": {},
   "source": [
    "### Nombre de moyen de jeux d'un joueur sur ses 10 derniers matchs"
   ]
  },
  {
   "cell_type": "markdown",
   "metadata": {},
   "source": [
    "On crée des moyennes mobiles du nombre de jeux joués par un joueur lors de ses 10 derniers matchs."
   ]
  },
  {
   "cell_type": "code",
   "execution_count": 31,
   "metadata": {},
   "outputs": [
    {
     "name": "stdout",
     "output_type": "stream",
     "text": [
      "         player_name  nb_games  player_mean_10games  \\\n",
      "562    Roger Federer        17                 17.0   \n",
      "52499  Roger Federer        23                 20.0   \n",
      "51925  Roger Federer        20                 20.0   \n",
      "1931   Roger Federer        20                 20.0   \n",
      "1945   Roger Federer        17                 19.4   \n",
      "\n",
      "       player_mean_10games_shifted  \n",
      "562                            NaN  \n",
      "52499                         17.0  \n",
      "51925                         20.0  \n",
      "1931                          20.0  \n",
      "1945                          20.0  \n",
      "\n",
      "\n",
      "       opponent_name  nb_games  opponent_mean_10games  \\\n",
      "52484  Roger Federer        17                   17.0   \n",
      "577    Roger Federer        23                   20.0   \n",
      "3      Roger Federer        20                   20.0   \n",
      "53853  Roger Federer        20                   20.0   \n",
      "53867  Roger Federer        17                   19.4   \n",
      "\n",
      "       opponent_mean_10games_shifted  \n",
      "52484                            NaN  \n",
      "577                             17.0  \n",
      "3                               20.0  \n",
      "53853                           20.0  \n",
      "53867                           20.0  \n"
     ]
    }
   ],
   "source": [
    "data_bo3 = dynamic_features(df=data_bo3, target_feature='nb_games', new_feature_name='mean_10games', list_sort_features=['tourney_date', 'match_num'], window_size=10)"
   ]
  },
  {
   "cell_type": "code",
   "execution_count": 32,
   "metadata": {},
   "outputs": [
    {
     "name": "stdout",
     "output_type": "stream",
     "text": [
      "         player_name  nb_games  player_mean_10games  \\\n",
      "2529   Roger Federer        33            33.000000   \n",
      "2565   Roger Federer        30            31.500000   \n",
      "54506  Roger Federer        26            29.666667   \n",
      "2097   Roger Federer        38            31.750000   \n",
      "2133   Roger Federer        31            31.600000   \n",
      "\n",
      "       player_mean_10games_shifted  \n",
      "2529                           NaN  \n",
      "2565                     33.000000  \n",
      "54506                    31.500000  \n",
      "2097                     29.666667  \n",
      "2133                     31.750000  \n",
      "\n",
      "\n",
      "       opponent_name  nb_games  opponent_mean_10games  \\\n",
      "54451  Roger Federer        33              33.000000   \n",
      "54487  Roger Federer        30              31.500000   \n",
      "2584   Roger Federer        26              29.666667   \n",
      "54019  Roger Federer        38              31.750000   \n",
      "54055  Roger Federer        31              31.600000   \n",
      "\n",
      "       opponent_mean_10games_shifted  \n",
      "54451                            NaN  \n",
      "54487                      33.000000  \n",
      "2584                       31.500000  \n",
      "54019                      29.666667  \n",
      "54055                      31.750000  \n"
     ]
    }
   ],
   "source": [
    "data_bo5 = dynamic_features(df=data_bo5, target_feature='nb_games', new_feature_name='mean_10games', list_sort_features=['tourney_date', 'match_num'], window_size=10)"
   ]
  },
  {
   "cell_type": "markdown",
   "metadata": {},
   "source": [
    "### Suppression des lignes contenant les NA crée par shift"
   ]
  },
  {
   "cell_type": "code",
   "execution_count": 33,
   "metadata": {},
   "outputs": [
    {
     "name": "stdout",
     "output_type": "stream",
     "text": [
      "2478 observations supprimées (3%).\n"
     ]
    }
   ],
   "source": [
    "nb_obs = data_bo3.shape[0]\n",
    "data_bo3.dropna(subset=['player_mean_10games_shifted',\n",
    "                    'opponent_mean_10games_shifted',\n",
    "                    'player_mean_10time_shifted', \n",
    "                    'opponent_mean_10time_shifted'],\n",
    "           axis=0,\n",
    "           inplace=True)\n",
    "print('{} observations supprimées ({}%).'.format(nb_obs - data_bo3.shape[0], perc_print(nb_obs, data_bo3.shape[0])))"
   ]
  },
  {
   "cell_type": "code",
   "execution_count": 34,
   "metadata": {},
   "outputs": [
    {
     "name": "stdout",
     "output_type": "stream",
     "text": [
      "1386 observations supprimées (7%).\n"
     ]
    }
   ],
   "source": [
    "nb_obs = data_bo5.shape[0]\n",
    "data_bo5.dropna(subset=['player_mean_10games_shifted',\n",
    "                    'opponent_mean_10games_shifted',\n",
    "                    'player_mean_10time_shifted', \n",
    "                    'opponent_mean_10time_shifted'],\n",
    "           axis=0,\n",
    "           inplace=True)\n",
    "print('{} observations supprimées ({}%).'.format(nb_obs - data_bo5.shape[0], perc_print(nb_obs, data_bo5.shape[0])))"
   ]
  },
  {
   "cell_type": "markdown",
   "metadata": {},
   "source": [
    "On remarque que le nombre d'observations supprimées n'est pas égale au double du nombre de joueurs uniques présent dans nos données. Après vérification, ce résultat est dû aux matchs dans lesquels les deux joueurs apparaissent pour la première fois dans notre base de donnée (et donc leur _shiffted_value_ est égale à NaN pour les deux sur la même ligne)."
   ]
  },
  {
   "cell_type": "markdown",
   "metadata": {},
   "source": [
    "### 4.6 Features de différences"
   ]
  },
  {
   "cell_type": "markdown",
   "metadata": {},
   "source": [
    "On recrée ici les variables _diff_ranking_ et _avg_ranking_ que nous avons étudié dans l'analyse descriptive des données."
   ]
  },
  {
   "cell_type": "code",
   "execution_count": 35,
   "metadata": {},
   "outputs": [],
   "source": [
    "data_bo3['diff_mean_10time_shifted'] = data_bo3.apply(lambda x: abs(x['player_mean_10time_shifted']-x['opponent_mean_10time_shifted']), axis=1)"
   ]
  },
  {
   "cell_type": "code",
   "execution_count": 36,
   "metadata": {},
   "outputs": [],
   "source": [
    "data_bo5['diff_mean_10time_shifted'] = data_bo5.apply(lambda x: abs(x['player_mean_10time_shifted']-x['opponent_mean_10time_shifted']), axis=1)"
   ]
  },
  {
   "cell_type": "code",
   "execution_count": 37,
   "metadata": {},
   "outputs": [],
   "source": [
    "data_bo3['diff_mean_10games_shifted'] = data_bo3.apply(lambda x: abs(x['player_mean_10games_shifted']-x['opponent_mean_10games_shifted']), axis=1)"
   ]
  },
  {
   "cell_type": "code",
   "execution_count": 38,
   "metadata": {},
   "outputs": [],
   "source": [
    "data_bo5['diff_mean_10games_shifted'] = data_bo5.apply(lambda x: abs(x['player_mean_10games_shifted']-x['opponent_mean_10games_shifted']), axis=1)"
   ]
  },
  {
   "cell_type": "code",
   "execution_count": 39,
   "metadata": {},
   "outputs": [],
   "source": [
    "data_bo5_2 = data_bo5.copy()\n",
    "data_bo3_2 = data_bo3.copy()"
   ]
  },
  {
   "cell_type": "code",
   "execution_count": 40,
   "metadata": {},
   "outputs": [
    {
     "data": {
      "text/plain": [
       "(17750, 68)"
      ]
     },
     "execution_count": 40,
     "metadata": {},
     "output_type": "execute_result"
    }
   ],
   "source": [
    "data_bo5_2.shape"
   ]
  },
  {
   "cell_type": "code",
   "execution_count": 41,
   "metadata": {},
   "outputs": [
    {
     "data": {
      "text/plain": [
       "(82222, 68)"
      ]
     },
     "execution_count": 41,
     "metadata": {},
     "output_type": "execute_result"
    }
   ],
   "source": [
    "data_bo3_2.shape"
   ]
  },
  {
   "cell_type": "markdown",
   "metadata": {},
   "source": [
    "#### Création d'une clef synthétique pour pouvoir droper les duplicates (ne plus avoir les matchs en double)"
   ]
  },
  {
   "cell_type": "markdown",
   "metadata": {},
   "source": [
    "Afin de ne plus avoir qu'une ligne par match on crée un identifiant unique à l'aide du l'id du tournoi et du numéro de match. Ainsi nous pouvons effectuer un drop duplicates sur cette colonne pour inverser le dédoublement de ligne fait au préalable."
   ]
  },
  {
   "cell_type": "code",
   "execution_count": 42,
   "metadata": {},
   "outputs": [
    {
     "name": "stdout",
     "output_type": "stream",
     "text": [
      "Dédoublement réussi (avant 82222 - après 41111)\n"
     ]
    }
   ],
   "source": [
    "data_bo3['synth_key'] = data_bo3.apply(lambda x: x['tourney_id']+'-'+str(x['match_num']), axis=1)\n",
    "data_bo3[['tourney_id', 'match_num', 'synth_key']].head(1)\n",
    "len_before = len(data_bo3)\n",
    "data_bo3 = data_bo3.copy()\n",
    "data_bo3.drop_duplicates('synth_key', keep='first', inplace=True)\n",
    "len_after = len(data_bo3)\n",
    "if len_before == 2 * len_after:\n",
    "    print('Dédoublement réussi (avant {} - après {})'.format(len_before, len_after))\n",
    "else:\n",
    "    print('Erreur lors du dédoublement des observations (avant {} - après {})'.format(len_before, len_after))"
   ]
  },
  {
   "cell_type": "code",
   "execution_count": 43,
   "metadata": {},
   "outputs": [
    {
     "name": "stdout",
     "output_type": "stream",
     "text": [
      "Dédoublement réussi (avant 17750 - après 8875)\n"
     ]
    }
   ],
   "source": [
    "data_bo5['synth_key'] = data_bo5.apply(lambda x: x['tourney_id']+'-'+str(x['match_num']), axis=1)\n",
    "data_bo5[['tourney_id', 'match_num', 'synth_key']].head(1)\n",
    "len_before = len(data_bo5)\n",
    "data_bo5 = data_bo5.copy()\n",
    "data_bo5.drop_duplicates('synth_key', keep='first', inplace=True)\n",
    "len_after = len(data_bo5)\n",
    "if len_before == 2 * len_after:\n",
    "    print('Dédoublement réussi (avant {} - après {})'.format(len_before, len_after))\n",
    "else:\n",
    "    print('Erreur lors du dédoublement des observations (avant {} - après {})'.format(len_before, len_after))"
   ]
  },
  {
   "cell_type": "code",
   "execution_count": 44,
   "metadata": {},
   "outputs": [
    {
     "data": {
      "text/plain": [
       "17818"
      ]
     },
     "execution_count": 44,
     "metadata": {},
     "output_type": "execute_result"
    }
   ],
   "source": [
    "8909*2"
   ]
  },
  {
   "cell_type": "code",
   "execution_count": null,
   "metadata": {},
   "outputs": [],
   "source": [
    "data"
   ]
  }
 ],
 "metadata": {
  "kernelspec": {
   "display_name": "Python 3",
   "language": "python",
   "name": "python3"
  },
  "language_info": {
   "codemirror_mode": {
    "name": "ipython",
    "version": 3
   },
   "file_extension": ".py",
   "mimetype": "text/x-python",
   "name": "python",
   "nbconvert_exporter": "python",
   "pygments_lexer": "ipython3",
   "version": "3.7.6"
  }
 },
 "nbformat": 4,
 "nbformat_minor": 4
}
