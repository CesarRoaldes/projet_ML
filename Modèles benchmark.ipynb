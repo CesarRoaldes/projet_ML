{
 "cells": [
  {
   "cell_type": "markdown",
   "metadata": {},
   "source": [
    "# EXPLIQUER CE QUE L'ON CHERCHE A PREDIRE, INTERET DE LA PROBLEMATIQUE, ETC"
   ]
  },
  {
   "cell_type": "markdown",
   "metadata": {},
   "source": [
    "Faire avec et sans le match de 11h pour voir la différence de résultat"
   ]
  },
  {
   "cell_type": "code",
   "execution_count": 1,
   "metadata": {},
   "outputs": [],
   "source": [
    "import string\n",
    "import re\n",
    "import pandas as pd\n",
    "import matplotlib.pyplot as plt\n",
    "import seaborn as sns\n",
    "import numpy as np"
   ]
  },
  {
   "cell_type": "code",
   "execution_count": 2,
   "metadata": {},
   "outputs": [],
   "source": [
    "import warnings\n",
    "warnings.simplefilter(action='ignore', category=FutureWarning)"
   ]
  },
  {
   "cell_type": "code",
   "execution_count": 3,
   "metadata": {},
   "outputs": [],
   "source": [
    "pd.set_option('display.max_columns', 500)"
   ]
  },
  {
   "cell_type": "code",
   "execution_count": 4,
   "metadata": {},
   "outputs": [],
   "source": [
    "def perc_print(a, b):\n",
    "    return round((a-b)/a*100)"
   ]
  },
  {
   "cell_type": "raw",
   "metadata": {},
   "source": [
    "PATH = '/home/steve/Documents/ENSAE/Projet_ML_Tennis/Data/tennis_atp/'"
   ]
  },
  {
   "cell_type": "code",
   "execution_count": 6,
   "metadata": {},
   "outputs": [],
   "source": [
    "PATH = '/home/cesar/Desktop/data/'"
   ]
  },
  {
   "cell_type": "markdown",
   "metadata": {},
   "source": [
    "## Retraitement des données -> Sauvegarder notre base une fois cette opération faite dans Features engineering"
   ]
  },
  {
   "cell_type": "code",
   "execution_count": 9,
   "metadata": {},
   "outputs": [
    {
     "name": "stdout",
     "output_type": "stream",
     "text": [
      "La base contient 64694 observations et 49 attributs.\n",
      "11093 observations supprimées (17%).\n",
      "1678 observations supprimées (3%).\n"
     ]
    }
   ],
   "source": [
    "data = pd.read_csv(PATH+'atp_matches_2010.csv')\n",
    "for annee in range(2000, 2020):\n",
    "    data = pd.concat([data, pd.read_csv(PATH+'atp_matches_'+str(annee)+'.csv')], axis=0, sort=False)\n",
    "\n",
    "print('La base contient {} observations et {} attributs.'.format(data.shape[0], data.shape[1]))\n",
    "data.reset_index(inplace=True, drop=True)\n",
    "nb_obs = data.shape[0]\n",
    "data['tourney_date'] = pd.to_datetime(data['tourney_date'], yearfirst=True, format='%Y%m%d')\n",
    "data['year'] = data['tourney_date'].apply(lambda x: x.year)\n",
    "data = data[~data['tourney_name'].str.startswith('Davis Cup')].copy()\n",
    "data.dropna(subset=['minutes'], inplace=True)\n",
    "data.drop_duplicates(inplace=True)\n",
    "print('{} observations supprimées ({}%).'.format(nb_obs - data.shape[0], perc_print(nb_obs, data.shape[0])))\n",
    "def contains_ascii_letter(txt):\n",
    "    gate = False\n",
    "    for i in range(len(txt)):\n",
    "        if txt[i] in string.ascii_letters:\n",
    "            gate = True\n",
    "            break\n",
    "    return gate\n",
    "nb_obs = data.shape[0]\n",
    "get_ascii_letter = np.zeros(data.shape[0], dtype=bool)\n",
    "get_ascii_letter = data['score'].apply(contains_ascii_letter)\n",
    "data = data[~get_ascii_letter].copy()\n",
    "print('{} observations supprimées ({}%).'.format(nb_obs - data.shape[0], perc_print(nb_obs, data.shape[0])))\n",
    "data.loc[data[(data['tourney_id']=='2017-0308')&(data['match_num']==297)].index[0], 'minutes'] = 98\n",
    "data.loc[data[(data['tourney_id']=='2016-M001')&(data['match_num']==294)].index[0], 'minutes'] = 90\n",
    "data.reset_index(inplace=True, drop=True)"
   ]
  },
  {
   "cell_type": "markdown",
   "metadata": {},
   "source": [
    "REMARQUE : On ne se base pas sur la table avec player / opponnent"
   ]
  },
  {
   "cell_type": "markdown",
   "metadata": {},
   "source": [
    "# Modèles de base"
   ]
  },
  {
   "cell_type": "markdown",
   "metadata": {},
   "source": [
    "Nous allons présenter dans ce notebook une première série de modèles basés sur l'exploitation des attributs contenus dans notre base de données afin d'analyser les résultats obtenus par ce biais avant de complexifier le modèle en procédant à une phase de création de features.  \n",
    "Ces résultats serviront de baseline par la suite afin de juger de la qualité des modèles qui le suivront. La mesure de qualité du modèle choisi sera la Mean Squared Error (MSE).  \n",
    "\n",
    "La plupart de nos variables sont des statistiques concernant directement le match et ne sont donc pas utilisables dans le cadre d'une prédiction. Ces variables devront être aggrégés avant d'être utilisable pour caractériser un joueur. \n",
    "  \n",
    "Les différentes opérations effectuées sont :\n",
    "- Création d'une base d'apprentissage et de validation\n",
    "- Séparation des attributs et du phénomène à expliquer\n",
    "- Traitement des variables catégorielles\n",
    "- Régression linéaire\n",
    "- Régression Lasso\n",
    "- Régression polynomiale (déjà une création de features... à voir)\n",
    "- Arbre de décisions\n",
    "- Random Forest\n",
    "- Adaboost"
   ]
  },
  {
   "cell_type": "markdown",
   "metadata": {},
   "source": [
    "## Création d'une base d'appprentissage et de validation"
   ]
  },
  {
   "cell_type": "code",
   "execution_count": 8,
   "metadata": {},
   "outputs": [],
   "source": [
    "from sklearn.model_selection import train_test_split"
   ]
  },
  {
   "cell_type": "code",
   "execution_count": null,
   "metadata": {},
   "outputs": [],
   "source": [
    "X_train, X_test, y_train, y_test = train_test_split(X, y, test_size=0.33, random_state=42)"
   ]
  }
 ],
 "metadata": {
  "kernelspec": {
   "display_name": "Python 3",
   "language": "python",
   "name": "python3"
  },
  "language_info": {
   "codemirror_mode": {
    "name": "ipython",
    "version": 3
   },
   "file_extension": ".py",
   "mimetype": "text/x-python",
   "name": "python",
   "nbconvert_exporter": "python",
   "pygments_lexer": "ipython3",
   "version": "3.7.6"
  }
 },
 "nbformat": 4,
 "nbformat_minor": 4
}
