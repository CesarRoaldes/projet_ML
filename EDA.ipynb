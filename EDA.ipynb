{
 "cells": [
  {
   "cell_type": "markdown",
   "metadata": {},
   "source": [
    "# Description du jeu de données"
   ]
  },
  {
   "cell_type": "markdown",
   "metadata": {},
   "source": [
    "Pour notre projet nous avons décidé de choisir la question suivante : <br> <br>\n",
    "<center><font color='red'>Peut-on prédire la durée d'un match de tennis à partir des données historiques des matchs ATP ?</font></center>\n",
    "<br>\n",
    "Nous avons voulu rompre avec le problème classique de prédire le vainqueur d'un match de tennis et pour nous intéresser à la problématique de la durée des matchs de tennis. Nous avons pensé qu'il pourrait être intéressant pour les sociétés organisatrices de tournois de pouvoir prédire la durée des matchs afin de mieux les agencer et éviter les reports. "
   ]
  },
  {
   "cell_type": "markdown",
   "metadata": {},
   "source": [
    "Le jeu de données que nous avons utilisé la base de données disponible sur git hub à l'adresse suivante : https://github.com/JeffSackmann/tennis_atp"
   ]
  },
  {
   "cell_type": "markdown",
   "metadata": {},
   "source": [
    "Le jeu de données contient les informations de tous les matchs ATP depuis 1968 à aujourd'hui. Pour des questions de fiabilité nous utiliseront les historiques des matchs entre 2000 et 2019. "
   ]
  },
  {
   "cell_type": "markdown",
   "metadata": {},
   "source": [
    "Chaque ligne du jeu de données représente une confrontation entre deux joueurs. Nous avons des informations sur le tournoi dans lequel se jour le match (surface, round(8ème, quart-de-finale,...), la surface du terrain, la durée du match ainsi que des information sur les joueurs. Nous expliciterons chaque variable et leurs modalités au fur et à mesure que nous les analyseront.  "
   ]
  },
  {
   "cell_type": "code",
   "execution_count": 91,
   "metadata": {},
   "outputs": [
    {
     "data": {
      "text/plain": [
       "'/home/steve/Documents/ENSAE/Projet_ML_Tennis/projet_ML'"
      ]
     },
     "execution_count": 91,
     "metadata": {},
     "output_type": "execute_result"
    }
   ],
   "source": [
    "import string\n",
    "import re\n",
    "import pandas as pd\n",
    "import matplotlib.pyplot as plt\n",
    "import seaborn as sns\n",
    "import numpy as np\n",
    "import os \n",
    "os.path.abspath('')"
   ]
  },
  {
   "cell_type": "code",
   "execution_count": 92,
   "metadata": {},
   "outputs": [],
   "source": [
    "sns.set()"
   ]
  },
  {
   "cell_type": "code",
   "execution_count": 93,
   "metadata": {},
   "outputs": [],
   "source": [
    "import warnings\n",
    "warnings.simplefilter(action='ignore', category=FutureWarning)"
   ]
  },
  {
   "cell_type": "code",
   "execution_count": 94,
   "metadata": {},
   "outputs": [],
   "source": [
    "pd.set_option('display.max_columns', 500)\n",
    "sns.set_style(\"ticks\")"
   ]
  },
  {
   "cell_type": "markdown",
   "metadata": {},
   "source": [
    "## Importation et nettoyage des données"
   ]
  },
  {
   "cell_type": "raw",
   "metadata": {},
   "source": [
    "PATH = '/home/cesar/Desktop/data/'"
   ]
  },
  {
   "cell_type": "code",
   "execution_count": 95,
   "metadata": {},
   "outputs": [],
   "source": [
    "PATH = '/home/steve/Documents/ENSAE/Projet_ML_Tennis/Data/tennis_atp/'"
   ]
  },
  {
   "cell_type": "code",
   "execution_count": 96,
   "metadata": {},
   "outputs": [],
   "source": [
    "data = pd.read_csv(PATH+'atp_matches_2010.csv')\n",
    "for annee in range(2000, 2020):\n",
    "    data = pd.concat([data, pd.read_csv(PATH+'atp_matches_'+str(annee)+'.csv')], axis=0, sort=False)"
   ]
  },
  {
   "cell_type": "markdown",
   "metadata": {},
   "source": [
    "Nous avons concaténé plusieurs fichier csv (1 par an). Il est donc nécessaire de reset l'index de la dataframe afin que chaque ligne est un identifiant unique"
   ]
  },
  {
   "cell_type": "code",
   "execution_count": 97,
   "metadata": {},
   "outputs": [],
   "source": [
    "data.reset_index(inplace=True, drop=True)"
   ]
  },
  {
   "cell_type": "code",
   "execution_count": 98,
   "metadata": {},
   "outputs": [
    {
     "data": {
      "text/html": [
       "<div>\n",
       "<style scoped>\n",
       "    .dataframe tbody tr th:only-of-type {\n",
       "        vertical-align: middle;\n",
       "    }\n",
       "\n",
       "    .dataframe tbody tr th {\n",
       "        vertical-align: top;\n",
       "    }\n",
       "\n",
       "    .dataframe thead th {\n",
       "        text-align: right;\n",
       "    }\n",
       "</style>\n",
       "<table border=\"1\" class=\"dataframe\">\n",
       "  <thead>\n",
       "    <tr style=\"text-align: right;\">\n",
       "      <th></th>\n",
       "      <th>tourney_id</th>\n",
       "      <th>tourney_name</th>\n",
       "      <th>surface</th>\n",
       "      <th>draw_size</th>\n",
       "      <th>tourney_level</th>\n",
       "      <th>tourney_date</th>\n",
       "      <th>match_num</th>\n",
       "      <th>winner_id</th>\n",
       "      <th>winner_seed</th>\n",
       "      <th>winner_entry</th>\n",
       "      <th>winner_name</th>\n",
       "      <th>winner_hand</th>\n",
       "      <th>winner_ht</th>\n",
       "      <th>winner_ioc</th>\n",
       "      <th>winner_age</th>\n",
       "      <th>loser_id</th>\n",
       "      <th>loser_seed</th>\n",
       "      <th>loser_entry</th>\n",
       "      <th>loser_name</th>\n",
       "      <th>loser_hand</th>\n",
       "      <th>loser_ht</th>\n",
       "      <th>loser_ioc</th>\n",
       "      <th>loser_age</th>\n",
       "      <th>score</th>\n",
       "      <th>best_of</th>\n",
       "      <th>round</th>\n",
       "      <th>minutes</th>\n",
       "      <th>w_ace</th>\n",
       "      <th>w_df</th>\n",
       "      <th>w_svpt</th>\n",
       "      <th>w_1stIn</th>\n",
       "      <th>w_1stWon</th>\n",
       "      <th>w_2ndWon</th>\n",
       "      <th>w_SvGms</th>\n",
       "      <th>w_bpSaved</th>\n",
       "      <th>w_bpFaced</th>\n",
       "      <th>l_ace</th>\n",
       "      <th>l_df</th>\n",
       "      <th>l_svpt</th>\n",
       "      <th>l_1stIn</th>\n",
       "      <th>l_1stWon</th>\n",
       "      <th>l_2ndWon</th>\n",
       "      <th>l_SvGms</th>\n",
       "      <th>l_bpSaved</th>\n",
       "      <th>l_bpFaced</th>\n",
       "      <th>winner_rank</th>\n",
       "      <th>winner_rank_points</th>\n",
       "      <th>loser_rank</th>\n",
       "      <th>loser_rank_points</th>\n",
       "    </tr>\n",
       "  </thead>\n",
       "  <tbody>\n",
       "    <tr>\n",
       "      <th>0</th>\n",
       "      <td>2010-339</td>\n",
       "      <td>Brisbane</td>\n",
       "      <td>Hard</td>\n",
       "      <td>32</td>\n",
       "      <td>A</td>\n",
       "      <td>20100103</td>\n",
       "      <td>1</td>\n",
       "      <td>104053</td>\n",
       "      <td>1</td>\n",
       "      <td>NaN</td>\n",
       "      <td>Andy Roddick</td>\n",
       "      <td>R</td>\n",
       "      <td>188.0</td>\n",
       "      <td>USA</td>\n",
       "      <td>27.348392</td>\n",
       "      <td>103429</td>\n",
       "      <td>NaN</td>\n",
       "      <td>NaN</td>\n",
       "      <td>Peter Luczak</td>\n",
       "      <td>R</td>\n",
       "      <td>183.0</td>\n",
       "      <td>AUS</td>\n",
       "      <td>30.346338</td>\n",
       "      <td>7-6(5) 6-2</td>\n",
       "      <td>3</td>\n",
       "      <td>R32</td>\n",
       "      <td>84.0</td>\n",
       "      <td>15.0</td>\n",
       "      <td>0.0</td>\n",
       "      <td>63.0</td>\n",
       "      <td>42.0</td>\n",
       "      <td>36.0</td>\n",
       "      <td>14.0</td>\n",
       "      <td>10.0</td>\n",
       "      <td>3.0</td>\n",
       "      <td>3.0</td>\n",
       "      <td>4.0</td>\n",
       "      <td>2.0</td>\n",
       "      <td>56.0</td>\n",
       "      <td>34.0</td>\n",
       "      <td>29.0</td>\n",
       "      <td>11.0</td>\n",
       "      <td>10.0</td>\n",
       "      <td>3.0</td>\n",
       "      <td>5.0</td>\n",
       "      <td>7.0</td>\n",
       "      <td>4410.0</td>\n",
       "      <td>77.0</td>\n",
       "      <td>598.0</td>\n",
       "    </tr>\n",
       "    <tr>\n",
       "      <th>1</th>\n",
       "      <td>2010-339</td>\n",
       "      <td>Brisbane</td>\n",
       "      <td>Hard</td>\n",
       "      <td>32</td>\n",
       "      <td>A</td>\n",
       "      <td>20100103</td>\n",
       "      <td>2</td>\n",
       "      <td>104958</td>\n",
       "      <td>NaN</td>\n",
       "      <td>WC</td>\n",
       "      <td>Carsten Ball</td>\n",
       "      <td>L</td>\n",
       "      <td>198.0</td>\n",
       "      <td>AUS</td>\n",
       "      <td>22.543463</td>\n",
       "      <td>104999</td>\n",
       "      <td>NaN</td>\n",
       "      <td>NaN</td>\n",
       "      <td>Mischa Zverev</td>\n",
       "      <td>L</td>\n",
       "      <td>190.0</td>\n",
       "      <td>GER</td>\n",
       "      <td>22.370979</td>\n",
       "      <td>7-5 6-1</td>\n",
       "      <td>3</td>\n",
       "      <td>R32</td>\n",
       "      <td>70.0</td>\n",
       "      <td>10.0</td>\n",
       "      <td>3.0</td>\n",
       "      <td>57.0</td>\n",
       "      <td>30.0</td>\n",
       "      <td>23.0</td>\n",
       "      <td>19.0</td>\n",
       "      <td>10.0</td>\n",
       "      <td>0.0</td>\n",
       "      <td>0.0</td>\n",
       "      <td>2.0</td>\n",
       "      <td>2.0</td>\n",
       "      <td>66.0</td>\n",
       "      <td>34.0</td>\n",
       "      <td>22.0</td>\n",
       "      <td>14.0</td>\n",
       "      <td>9.0</td>\n",
       "      <td>7.0</td>\n",
       "      <td>10.0</td>\n",
       "      <td>134.0</td>\n",
       "      <td>400.0</td>\n",
       "      <td>78.0</td>\n",
       "      <td>590.0</td>\n",
       "    </tr>\n",
       "    <tr>\n",
       "      <th>2</th>\n",
       "      <td>2010-339</td>\n",
       "      <td>Brisbane</td>\n",
       "      <td>Hard</td>\n",
       "      <td>32</td>\n",
       "      <td>A</td>\n",
       "      <td>20100103</td>\n",
       "      <td>3</td>\n",
       "      <td>104755</td>\n",
       "      <td>NaN</td>\n",
       "      <td>NaN</td>\n",
       "      <td>Richard Gasquet</td>\n",
       "      <td>R</td>\n",
       "      <td>185.0</td>\n",
       "      <td>FRA</td>\n",
       "      <td>23.548255</td>\n",
       "      <td>103813</td>\n",
       "      <td>NaN</td>\n",
       "      <td>NaN</td>\n",
       "      <td>Jarkko Nieminen</td>\n",
       "      <td>L</td>\n",
       "      <td>185.0</td>\n",
       "      <td>FIN</td>\n",
       "      <td>28.451745</td>\n",
       "      <td>6-3 4-6 6-4</td>\n",
       "      <td>3</td>\n",
       "      <td>R32</td>\n",
       "      <td>121.0</td>\n",
       "      <td>5.0</td>\n",
       "      <td>4.0</td>\n",
       "      <td>97.0</td>\n",
       "      <td>51.0</td>\n",
       "      <td>33.0</td>\n",
       "      <td>27.0</td>\n",
       "      <td>15.0</td>\n",
       "      <td>5.0</td>\n",
       "      <td>8.0</td>\n",
       "      <td>4.0</td>\n",
       "      <td>0.0</td>\n",
       "      <td>85.0</td>\n",
       "      <td>58.0</td>\n",
       "      <td>38.0</td>\n",
       "      <td>14.0</td>\n",
       "      <td>14.0</td>\n",
       "      <td>7.0</td>\n",
       "      <td>11.0</td>\n",
       "      <td>52.0</td>\n",
       "      <td>850.0</td>\n",
       "      <td>88.0</td>\n",
       "      <td>568.0</td>\n",
       "    </tr>\n",
       "    <tr>\n",
       "      <th>3</th>\n",
       "      <td>2010-339</td>\n",
       "      <td>Brisbane</td>\n",
       "      <td>Hard</td>\n",
       "      <td>32</td>\n",
       "      <td>A</td>\n",
       "      <td>20100103</td>\n",
       "      <td>4</td>\n",
       "      <td>105051</td>\n",
       "      <td>NaN</td>\n",
       "      <td>Q</td>\n",
       "      <td>Matthew Ebden</td>\n",
       "      <td>R</td>\n",
       "      <td>188.0</td>\n",
       "      <td>AUS</td>\n",
       "      <td>22.108145</td>\n",
       "      <td>103781</td>\n",
       "      <td>6</td>\n",
       "      <td>NaN</td>\n",
       "      <td>Jurgen Melzer</td>\n",
       "      <td>L</td>\n",
       "      <td>183.0</td>\n",
       "      <td>AUT</td>\n",
       "      <td>28.621492</td>\n",
       "      <td>7-5 6-1</td>\n",
       "      <td>3</td>\n",
       "      <td>R32</td>\n",
       "      <td>64.0</td>\n",
       "      <td>12.0</td>\n",
       "      <td>1.0</td>\n",
       "      <td>50.0</td>\n",
       "      <td>35.0</td>\n",
       "      <td>30.0</td>\n",
       "      <td>12.0</td>\n",
       "      <td>10.0</td>\n",
       "      <td>3.0</td>\n",
       "      <td>3.0</td>\n",
       "      <td>2.0</td>\n",
       "      <td>1.0</td>\n",
       "      <td>53.0</td>\n",
       "      <td>29.0</td>\n",
       "      <td>16.0</td>\n",
       "      <td>15.0</td>\n",
       "      <td>9.0</td>\n",
       "      <td>2.0</td>\n",
       "      <td>5.0</td>\n",
       "      <td>285.0</td>\n",
       "      <td>151.0</td>\n",
       "      <td>28.0</td>\n",
       "      <td>1260.0</td>\n",
       "    </tr>\n",
       "    <tr>\n",
       "      <th>4</th>\n",
       "      <td>2010-339</td>\n",
       "      <td>Brisbane</td>\n",
       "      <td>Hard</td>\n",
       "      <td>32</td>\n",
       "      <td>A</td>\n",
       "      <td>20100103</td>\n",
       "      <td>5</td>\n",
       "      <td>104607</td>\n",
       "      <td>4</td>\n",
       "      <td>NaN</td>\n",
       "      <td>Tomas Berdych</td>\n",
       "      <td>R</td>\n",
       "      <td>196.0</td>\n",
       "      <td>CZE</td>\n",
       "      <td>24.298426</td>\n",
       "      <td>105194</td>\n",
       "      <td>NaN</td>\n",
       "      <td>Q</td>\n",
       "      <td>Nick Lindahl</td>\n",
       "      <td>R</td>\n",
       "      <td>183.0</td>\n",
       "      <td>AUS</td>\n",
       "      <td>21.429158</td>\n",
       "      <td>6-2 6-4</td>\n",
       "      <td>3</td>\n",
       "      <td>R32</td>\n",
       "      <td>69.0</td>\n",
       "      <td>3.0</td>\n",
       "      <td>1.0</td>\n",
       "      <td>46.0</td>\n",
       "      <td>27.0</td>\n",
       "      <td>24.0</td>\n",
       "      <td>14.0</td>\n",
       "      <td>9.0</td>\n",
       "      <td>1.0</td>\n",
       "      <td>1.0</td>\n",
       "      <td>6.0</td>\n",
       "      <td>1.0</td>\n",
       "      <td>69.0</td>\n",
       "      <td>41.0</td>\n",
       "      <td>26.0</td>\n",
       "      <td>14.0</td>\n",
       "      <td>9.0</td>\n",
       "      <td>6.0</td>\n",
       "      <td>9.0</td>\n",
       "      <td>20.0</td>\n",
       "      <td>1655.0</td>\n",
       "      <td>251.0</td>\n",
       "      <td>179.0</td>\n",
       "    </tr>\n",
       "  </tbody>\n",
       "</table>\n",
       "</div>"
      ],
      "text/plain": [
       "  tourney_id tourney_name surface  draw_size tourney_level  tourney_date  \\\n",
       "0   2010-339     Brisbane    Hard         32             A      20100103   \n",
       "1   2010-339     Brisbane    Hard         32             A      20100103   \n",
       "2   2010-339     Brisbane    Hard         32             A      20100103   \n",
       "3   2010-339     Brisbane    Hard         32             A      20100103   \n",
       "4   2010-339     Brisbane    Hard         32             A      20100103   \n",
       "\n",
       "   match_num  winner_id winner_seed winner_entry      winner_name winner_hand  \\\n",
       "0          1     104053           1          NaN     Andy Roddick           R   \n",
       "1          2     104958         NaN           WC     Carsten Ball           L   \n",
       "2          3     104755         NaN          NaN  Richard Gasquet           R   \n",
       "3          4     105051         NaN            Q    Matthew Ebden           R   \n",
       "4          5     104607           4          NaN    Tomas Berdych           R   \n",
       "\n",
       "   winner_ht winner_ioc  winner_age  loser_id loser_seed loser_entry  \\\n",
       "0      188.0        USA   27.348392    103429        NaN         NaN   \n",
       "1      198.0        AUS   22.543463    104999        NaN         NaN   \n",
       "2      185.0        FRA   23.548255    103813        NaN         NaN   \n",
       "3      188.0        AUS   22.108145    103781          6         NaN   \n",
       "4      196.0        CZE   24.298426    105194        NaN           Q   \n",
       "\n",
       "        loser_name loser_hand  loser_ht loser_ioc  loser_age        score  \\\n",
       "0     Peter Luczak          R     183.0       AUS  30.346338   7-6(5) 6-2   \n",
       "1    Mischa Zverev          L     190.0       GER  22.370979      7-5 6-1   \n",
       "2  Jarkko Nieminen          L     185.0       FIN  28.451745  6-3 4-6 6-4   \n",
       "3    Jurgen Melzer          L     183.0       AUT  28.621492      7-5 6-1   \n",
       "4     Nick Lindahl          R     183.0       AUS  21.429158      6-2 6-4   \n",
       "\n",
       "   best_of round  minutes  w_ace  w_df  w_svpt  w_1stIn  w_1stWon  w_2ndWon  \\\n",
       "0        3   R32     84.0   15.0   0.0    63.0     42.0      36.0      14.0   \n",
       "1        3   R32     70.0   10.0   3.0    57.0     30.0      23.0      19.0   \n",
       "2        3   R32    121.0    5.0   4.0    97.0     51.0      33.0      27.0   \n",
       "3        3   R32     64.0   12.0   1.0    50.0     35.0      30.0      12.0   \n",
       "4        3   R32     69.0    3.0   1.0    46.0     27.0      24.0      14.0   \n",
       "\n",
       "   w_SvGms  w_bpSaved  w_bpFaced  l_ace  l_df  l_svpt  l_1stIn  l_1stWon  \\\n",
       "0     10.0        3.0        3.0    4.0   2.0    56.0     34.0      29.0   \n",
       "1     10.0        0.0        0.0    2.0   2.0    66.0     34.0      22.0   \n",
       "2     15.0        5.0        8.0    4.0   0.0    85.0     58.0      38.0   \n",
       "3     10.0        3.0        3.0    2.0   1.0    53.0     29.0      16.0   \n",
       "4      9.0        1.0        1.0    6.0   1.0    69.0     41.0      26.0   \n",
       "\n",
       "   l_2ndWon  l_SvGms  l_bpSaved  l_bpFaced  winner_rank  winner_rank_points  \\\n",
       "0      11.0     10.0        3.0        5.0          7.0              4410.0   \n",
       "1      14.0      9.0        7.0       10.0        134.0               400.0   \n",
       "2      14.0     14.0        7.0       11.0         52.0               850.0   \n",
       "3      15.0      9.0        2.0        5.0        285.0               151.0   \n",
       "4      14.0      9.0        6.0        9.0         20.0              1655.0   \n",
       "\n",
       "   loser_rank  loser_rank_points  \n",
       "0        77.0              598.0  \n",
       "1        78.0              590.0  \n",
       "2        88.0              568.0  \n",
       "3        28.0             1260.0  \n",
       "4       251.0              179.0  "
      ]
     },
     "execution_count": 98,
     "metadata": {},
     "output_type": "execute_result"
    }
   ],
   "source": [
    "data.head()"
   ]
  },
  {
   "cell_type": "markdown",
   "metadata": {},
   "source": [
    "Les valeurs manquantes sont indiquées en NaN. On peut alors directement utiliser la méthode .info() de pandas afin d'identifier quelles colonnes en contiennent."
   ]
  },
  {
   "cell_type": "code",
   "execution_count": 99,
   "metadata": {},
   "outputs": [
    {
     "data": {
      "text/plain": [
       "(64694, 49)"
      ]
     },
     "execution_count": 99,
     "metadata": {},
     "output_type": "execute_result"
    }
   ],
   "source": [
    "data.shape"
   ]
  },
  {
   "cell_type": "code",
   "execution_count": 100,
   "metadata": {},
   "outputs": [
    {
     "name": "stdout",
     "output_type": "stream",
     "text": [
      "<class 'pandas.core.frame.DataFrame'>\n",
      "RangeIndex: 64694 entries, 0 to 64693\n",
      "Data columns (total 49 columns):\n",
      "tourney_id            64694 non-null object\n",
      "tourney_name          64694 non-null object\n",
      "surface               64576 non-null object\n",
      "draw_size             64694 non-null int64\n",
      "tourney_level         64694 non-null object\n",
      "tourney_date          64694 non-null int64\n",
      "match_num             64694 non-null int64\n",
      "winner_id             64694 non-null int64\n",
      "winner_seed           26869 non-null object\n",
      "winner_entry          7670 non-null object\n",
      "winner_name           64694 non-null object\n",
      "winner_hand           64676 non-null object\n",
      "winner_ht             59256 non-null float64\n",
      "winner_ioc            64694 non-null object\n",
      "winner_age            64679 non-null float64\n",
      "loser_id              64694 non-null int64\n",
      "loser_seed            14651 non-null object\n",
      "loser_entry           12722 non-null object\n",
      "loser_name            64694 non-null object\n",
      "loser_hand            64648 non-null object\n",
      "loser_ht              56293 non-null float64\n",
      "loser_ioc             64694 non-null object\n",
      "loser_age             64663 non-null float64\n",
      "score                 64693 non-null object\n",
      "best_of               64694 non-null int64\n",
      "round                 64694 non-null object\n",
      "minutes               57077 non-null float64\n",
      "w_ace                 58416 non-null float64\n",
      "w_df                  58416 non-null float64\n",
      "w_svpt                58416 non-null float64\n",
      "w_1stIn               58416 non-null float64\n",
      "w_1stWon              58416 non-null float64\n",
      "w_2ndWon              58416 non-null float64\n",
      "w_SvGms               58416 non-null float64\n",
      "w_bpSaved             58416 non-null float64\n",
      "w_bpFaced             58416 non-null float64\n",
      "l_ace                 58416 non-null float64\n",
      "l_df                  58416 non-null float64\n",
      "l_svpt                58416 non-null float64\n",
      "l_1stIn               58416 non-null float64\n",
      "l_1stWon              58416 non-null float64\n",
      "l_2ndWon              58416 non-null float64\n",
      "l_SvGms               58416 non-null float64\n",
      "l_bpSaved             58416 non-null float64\n",
      "l_bpFaced             58416 non-null float64\n",
      "winner_rank           64170 non-null float64\n",
      "winner_rank_points    64170 non-null float64\n",
      "loser_rank            63348 non-null float64\n",
      "loser_rank_points     63348 non-null float64\n",
      "dtypes: float64(27), int64(6), object(16)\n",
      "memory usage: 24.2+ MB\n"
     ]
    }
   ],
   "source": [
    "data.info()"
   ]
  },
  {
   "cell_type": "markdown",
   "metadata": {},
   "source": [
    "Les colonnes winner_entry, loser_entry, winner_seed, loser_seed contiennent plus de 78% de valeurs manquantes. Les variables winner_entry et loser_entry indiquent comment le joueur s'est qualifié pour le tournoi (qualificatin, invitation, qualifié d'office) et winner_seed, loser_seed indique le numéro du joueur pour le tournois. Du fait du grand nombre de valeurs manquantes et leur faible intérêt vis avis de notre objectif nous pouvons les enlever.  "
   ]
  },
  {
   "cell_type": "code",
   "execution_count": 101,
   "metadata": {},
   "outputs": [
    {
     "data": {
      "text/plain": [
       "(64694, 49)"
      ]
     },
     "execution_count": 101,
     "metadata": {},
     "output_type": "execute_result"
    }
   ],
   "source": [
    "data.shape"
   ]
  },
  {
   "cell_type": "markdown",
   "metadata": {},
   "source": [
    "Les valeurs manquantes les plus importantes sont celles sur la colonnes de la durée du match (minutes) car c'est notre varible à prédire. Il manque 10% des lignes sur cettes colonnes nous allons les supprimer."
   ]
  },
  {
   "cell_type": "markdown",
   "metadata": {},
   "source": [
    "Il manque également des données pour les données propres au match : <br>\n",
    "- w/l_svpt ... nombre de services contestés\n",
    "- w/l_1stIn ... nombre de premiers services in (service sans faute)\n",
    "- w/l_1stWon ... nombre de premier services gagnés (servi par le joueur)\n",
    "- w/l_2ndWon ... nombre de deuxièmes services gagnés (servi par le joueur)\n",
    "- w/l_SvGms ... nombre de jeux servi par le joueur\n",
    "- w/l_bpSaved ... nombre de balles de break sauvés\n",
    "- w/l_bpFaced ... nombre de balles de break rencontrés"
   ]
  },
  {
   "cell_type": "code",
   "execution_count": 102,
   "metadata": {},
   "outputs": [],
   "source": [
    "data['tourney_date'] = pd.to_datetime(data['tourney_date'], yearfirst=True, format='%Y%m%d')\n",
    "data['year'] = data['tourney_date'].apply(lambda x: x.year)\n",
    "data = data[~data['tourney_name'].str.startswith('Davis Cup')].copy()\n",
    "data.dropna(subset=['minutes'], inplace=True)\n",
    "data.drop_duplicates(inplace=True)"
   ]
  },
  {
   "cell_type": "code",
   "execution_count": 103,
   "metadata": {},
   "outputs": [],
   "source": [
    "def contains_ascii_letter(txt):\n",
    "    gate = False\n",
    "    for i in range(len(txt)):\n",
    "        if txt[i] in string.ascii_letters:\n",
    "            gate = True\n",
    "            break\n",
    "    return gate"
   ]
  },
  {
   "cell_type": "code",
   "execution_count": 104,
   "metadata": {},
   "outputs": [],
   "source": [
    "get_ascii_letter = np.zeros(data.shape[0], dtype=bool)\n",
    "get_ascii_letter = data['score'].apply(contains_ascii_letter)\n",
    "\n",
    "data = data[~get_ascii_letter].copy()"
   ]
  },
  {
   "cell_type": "code",
   "execution_count": 105,
   "metadata": {},
   "outputs": [
    {
     "data": {
      "text/plain": [
       "(51923, 50)"
      ]
     },
     "execution_count": 105,
     "metadata": {},
     "output_type": "execute_result"
    }
   ],
   "source": [
    "data.shape"
   ]
  },
  {
   "cell_type": "markdown",
   "metadata": {},
   "source": [
    "### Valeurs extrêmes"
   ]
  },
  {
   "cell_type": "markdown",
   "metadata": {},
   "source": [
    "### Corrections\n",
    "En étudiant les valeurs extrêmes de notre jeu de données nous avons constaté la présence de quelques erreurs concernant la durée de certains matchs. Nous avons constaté que trois matchs étaient anormalement longs. Sur les trois, deux étaient en effet des erreurs de saisies cependant, le troisième correspond au match de Wimbledon (2010) entre Josh Ishner et Nicolas Mahut qui a duré 11h05 s'étalant sur trois jours. On notera que John Ishner est un habitué des longs matchs avec 3 apparitions dans le top 10 des plus longs matchs de l'histoire du tennis."
   ]
  },
  {
   "cell_type": "code",
   "execution_count": 106,
   "metadata": {},
   "outputs": [
    {
     "data": {
      "text/html": [
       "<div>\n",
       "<style scoped>\n",
       "    .dataframe tbody tr th:only-of-type {\n",
       "        vertical-align: middle;\n",
       "    }\n",
       "\n",
       "    .dataframe tbody tr th {\n",
       "        vertical-align: top;\n",
       "    }\n",
       "\n",
       "    .dataframe thead th {\n",
       "        text-align: right;\n",
       "    }\n",
       "</style>\n",
       "<table border=\"1\" class=\"dataframe\">\n",
       "  <thead>\n",
       "    <tr style=\"text-align: right;\">\n",
       "      <th></th>\n",
       "      <th>tourney_id</th>\n",
       "      <th>tourney_name</th>\n",
       "      <th>surface</th>\n",
       "      <th>draw_size</th>\n",
       "      <th>tourney_level</th>\n",
       "      <th>tourney_date</th>\n",
       "      <th>match_num</th>\n",
       "      <th>winner_id</th>\n",
       "      <th>winner_seed</th>\n",
       "      <th>winner_entry</th>\n",
       "      <th>winner_name</th>\n",
       "      <th>winner_hand</th>\n",
       "      <th>winner_ht</th>\n",
       "      <th>winner_ioc</th>\n",
       "      <th>winner_age</th>\n",
       "      <th>loser_id</th>\n",
       "      <th>loser_seed</th>\n",
       "      <th>loser_entry</th>\n",
       "      <th>loser_name</th>\n",
       "      <th>loser_hand</th>\n",
       "      <th>loser_ht</th>\n",
       "      <th>loser_ioc</th>\n",
       "      <th>loser_age</th>\n",
       "      <th>score</th>\n",
       "      <th>best_of</th>\n",
       "      <th>round</th>\n",
       "      <th>minutes</th>\n",
       "      <th>w_ace</th>\n",
       "      <th>w_df</th>\n",
       "      <th>w_svpt</th>\n",
       "      <th>w_1stIn</th>\n",
       "      <th>w_1stWon</th>\n",
       "      <th>w_2ndWon</th>\n",
       "      <th>w_SvGms</th>\n",
       "      <th>w_bpSaved</th>\n",
       "      <th>w_bpFaced</th>\n",
       "      <th>l_ace</th>\n",
       "      <th>l_df</th>\n",
       "      <th>l_svpt</th>\n",
       "      <th>l_1stIn</th>\n",
       "      <th>l_1stWon</th>\n",
       "      <th>l_2ndWon</th>\n",
       "      <th>l_SvGms</th>\n",
       "      <th>l_bpSaved</th>\n",
       "      <th>l_bpFaced</th>\n",
       "      <th>winner_rank</th>\n",
       "      <th>winner_rank_points</th>\n",
       "      <th>loser_rank</th>\n",
       "      <th>loser_rank_points</th>\n",
       "      <th>year</th>\n",
       "    </tr>\n",
       "  </thead>\n",
       "  <tbody>\n",
       "    <tr>\n",
       "      <th>57395</th>\n",
       "      <td>2017-0308</td>\n",
       "      <td>Munich</td>\n",
       "      <td>Clay</td>\n",
       "      <td>32</td>\n",
       "      <td>A</td>\n",
       "      <td>2017-05-01</td>\n",
       "      <td>297</td>\n",
       "      <td>111202</td>\n",
       "      <td>NaN</td>\n",
       "      <td>NaN</td>\n",
       "      <td>Hyeon Chung</td>\n",
       "      <td>R</td>\n",
       "      <td>NaN</td>\n",
       "      <td>KOR</td>\n",
       "      <td>20.950034</td>\n",
       "      <td>105373</td>\n",
       "      <td>NaN</td>\n",
       "      <td>NaN</td>\n",
       "      <td>Martin Klizan</td>\n",
       "      <td>L</td>\n",
       "      <td>190.0</td>\n",
       "      <td>SVK</td>\n",
       "      <td>27.805613</td>\n",
       "      <td>6-4 3-6 6-2</td>\n",
       "      <td>3</td>\n",
       "      <td>QF</td>\n",
       "      <td>987.0</td>\n",
       "      <td>4.0</td>\n",
       "      <td>2.0</td>\n",
       "      <td>81.0</td>\n",
       "      <td>47.0</td>\n",
       "      <td>36.0</td>\n",
       "      <td>15.0</td>\n",
       "      <td>13.0</td>\n",
       "      <td>4.0</td>\n",
       "      <td>6.0</td>\n",
       "      <td>8.0</td>\n",
       "      <td>4.0</td>\n",
       "      <td>95.0</td>\n",
       "      <td>49.0</td>\n",
       "      <td>28.0</td>\n",
       "      <td>27.0</td>\n",
       "      <td>14.0</td>\n",
       "      <td>8.0</td>\n",
       "      <td>12.0</td>\n",
       "      <td>78.0</td>\n",
       "      <td>659.0</td>\n",
       "      <td>53.0</td>\n",
       "      <td>880.0</td>\n",
       "      <td>2017</td>\n",
       "    </tr>\n",
       "  </tbody>\n",
       "</table>\n",
       "</div>"
      ],
      "text/plain": [
       "      tourney_id tourney_name surface  draw_size tourney_level tourney_date  \\\n",
       "57395  2017-0308       Munich    Clay         32             A   2017-05-01   \n",
       "\n",
       "       match_num  winner_id winner_seed winner_entry  winner_name winner_hand  \\\n",
       "57395        297     111202         NaN          NaN  Hyeon Chung           R   \n",
       "\n",
       "       winner_ht winner_ioc  winner_age  loser_id loser_seed loser_entry  \\\n",
       "57395        NaN        KOR   20.950034    105373        NaN         NaN   \n",
       "\n",
       "          loser_name loser_hand  loser_ht loser_ioc  loser_age        score  \\\n",
       "57395  Martin Klizan          L     190.0       SVK  27.805613  6-4 3-6 6-2   \n",
       "\n",
       "       best_of round  minutes  w_ace  w_df  w_svpt  w_1stIn  w_1stWon  \\\n",
       "57395        3    QF    987.0    4.0   2.0    81.0     47.0      36.0   \n",
       "\n",
       "       w_2ndWon  w_SvGms  w_bpSaved  w_bpFaced  l_ace  l_df  l_svpt  l_1stIn  \\\n",
       "57395      15.0     13.0        4.0        6.0    8.0   4.0    95.0     49.0   \n",
       "\n",
       "       l_1stWon  l_2ndWon  l_SvGms  l_bpSaved  l_bpFaced  winner_rank  \\\n",
       "57395      28.0      27.0     14.0        8.0       12.0         78.0   \n",
       "\n",
       "       winner_rank_points  loser_rank  loser_rank_points  year  \n",
       "57395               659.0        53.0              880.0  2017  "
      ]
     },
     "execution_count": 106,
     "metadata": {},
     "output_type": "execute_result"
    }
   ],
   "source": [
    "data[(data['tourney_id']=='2017-0308')&(data['match_num']==297)]"
   ]
  },
  {
   "cell_type": "code",
   "execution_count": 107,
   "metadata": {},
   "outputs": [
    {
     "data": {
      "text/html": [
       "<div>\n",
       "<style scoped>\n",
       "    .dataframe tbody tr th:only-of-type {\n",
       "        vertical-align: middle;\n",
       "    }\n",
       "\n",
       "    .dataframe tbody tr th {\n",
       "        vertical-align: top;\n",
       "    }\n",
       "\n",
       "    .dataframe thead th {\n",
       "        text-align: right;\n",
       "    }\n",
       "</style>\n",
       "<table border=\"1\" class=\"dataframe\">\n",
       "  <thead>\n",
       "    <tr style=\"text-align: right;\">\n",
       "      <th></th>\n",
       "      <th>tourney_id</th>\n",
       "      <th>tourney_name</th>\n",
       "      <th>surface</th>\n",
       "      <th>draw_size</th>\n",
       "      <th>tourney_level</th>\n",
       "      <th>tourney_date</th>\n",
       "      <th>match_num</th>\n",
       "      <th>winner_id</th>\n",
       "      <th>winner_seed</th>\n",
       "      <th>winner_entry</th>\n",
       "      <th>winner_name</th>\n",
       "      <th>winner_hand</th>\n",
       "      <th>winner_ht</th>\n",
       "      <th>winner_ioc</th>\n",
       "      <th>winner_age</th>\n",
       "      <th>loser_id</th>\n",
       "      <th>loser_seed</th>\n",
       "      <th>loser_entry</th>\n",
       "      <th>loser_name</th>\n",
       "      <th>loser_hand</th>\n",
       "      <th>loser_ht</th>\n",
       "      <th>loser_ioc</th>\n",
       "      <th>loser_age</th>\n",
       "      <th>score</th>\n",
       "      <th>best_of</th>\n",
       "      <th>round</th>\n",
       "      <th>minutes</th>\n",
       "      <th>w_ace</th>\n",
       "      <th>w_df</th>\n",
       "      <th>w_svpt</th>\n",
       "      <th>w_1stIn</th>\n",
       "      <th>w_1stWon</th>\n",
       "      <th>w_2ndWon</th>\n",
       "      <th>w_SvGms</th>\n",
       "      <th>w_bpSaved</th>\n",
       "      <th>w_bpFaced</th>\n",
       "      <th>l_ace</th>\n",
       "      <th>l_df</th>\n",
       "      <th>l_svpt</th>\n",
       "      <th>l_1stIn</th>\n",
       "      <th>l_1stWon</th>\n",
       "      <th>l_2ndWon</th>\n",
       "      <th>l_SvGms</th>\n",
       "      <th>l_bpSaved</th>\n",
       "      <th>l_bpFaced</th>\n",
       "      <th>winner_rank</th>\n",
       "      <th>winner_rank_points</th>\n",
       "      <th>loser_rank</th>\n",
       "      <th>loser_rank_points</th>\n",
       "      <th>year</th>\n",
       "    </tr>\n",
       "  </thead>\n",
       "  <tbody>\n",
       "    <tr>\n",
       "      <th>53329</th>\n",
       "      <td>2016-M001</td>\n",
       "      <td>Sydney</td>\n",
       "      <td>Hard</td>\n",
       "      <td>32</td>\n",
       "      <td>A</td>\n",
       "      <td>2016-01-11</td>\n",
       "      <td>294</td>\n",
       "      <td>104180</td>\n",
       "      <td>NaN</td>\n",
       "      <td>NaN</td>\n",
       "      <td>Gilles Muller</td>\n",
       "      <td>L</td>\n",
       "      <td>193.0</td>\n",
       "      <td>LUX</td>\n",
       "      <td>32.676249</td>\n",
       "      <td>104871</td>\n",
       "      <td>6</td>\n",
       "      <td>NaN</td>\n",
       "      <td>Jeremy Chardy</td>\n",
       "      <td>R</td>\n",
       "      <td>188.0</td>\n",
       "      <td>FRA</td>\n",
       "      <td>28.911704</td>\n",
       "      <td>7-6(5) 6-3</td>\n",
       "      <td>3</td>\n",
       "      <td>QF</td>\n",
       "      <td>1146.0</td>\n",
       "      <td>14.0</td>\n",
       "      <td>5.0</td>\n",
       "      <td>59.0</td>\n",
       "      <td>35.0</td>\n",
       "      <td>32.0</td>\n",
       "      <td>13.0</td>\n",
       "      <td>10.0</td>\n",
       "      <td>0.0</td>\n",
       "      <td>0.0</td>\n",
       "      <td>2.0</td>\n",
       "      <td>5.0</td>\n",
       "      <td>69.0</td>\n",
       "      <td>44.0</td>\n",
       "      <td>34.0</td>\n",
       "      <td>10.0</td>\n",
       "      <td>11.0</td>\n",
       "      <td>1.0</td>\n",
       "      <td>3.0</td>\n",
       "      <td>38.0</td>\n",
       "      <td>1105.0</td>\n",
       "      <td>31.0</td>\n",
       "      <td>1255.0</td>\n",
       "      <td>2016</td>\n",
       "    </tr>\n",
       "  </tbody>\n",
       "</table>\n",
       "</div>"
      ],
      "text/plain": [
       "      tourney_id tourney_name surface  draw_size tourney_level tourney_date  \\\n",
       "53329  2016-M001       Sydney    Hard         32             A   2016-01-11   \n",
       "\n",
       "       match_num  winner_id winner_seed winner_entry    winner_name  \\\n",
       "53329        294     104180         NaN          NaN  Gilles Muller   \n",
       "\n",
       "      winner_hand  winner_ht winner_ioc  winner_age  loser_id loser_seed  \\\n",
       "53329           L      193.0        LUX   32.676249    104871          6   \n",
       "\n",
       "      loser_entry     loser_name loser_hand  loser_ht loser_ioc  loser_age  \\\n",
       "53329         NaN  Jeremy Chardy          R     188.0       FRA  28.911704   \n",
       "\n",
       "            score  best_of round  minutes  w_ace  w_df  w_svpt  w_1stIn  \\\n",
       "53329  7-6(5) 6-3        3    QF   1146.0   14.0   5.0    59.0     35.0   \n",
       "\n",
       "       w_1stWon  w_2ndWon  w_SvGms  w_bpSaved  w_bpFaced  l_ace  l_df  l_svpt  \\\n",
       "53329      32.0      13.0     10.0        0.0        0.0    2.0   5.0    69.0   \n",
       "\n",
       "       l_1stIn  l_1stWon  l_2ndWon  l_SvGms  l_bpSaved  l_bpFaced  \\\n",
       "53329     44.0      34.0      10.0     11.0        1.0        3.0   \n",
       "\n",
       "       winner_rank  winner_rank_points  loser_rank  loser_rank_points  year  \n",
       "53329         38.0              1105.0        31.0             1255.0  2016  "
      ]
     },
     "execution_count": 107,
     "metadata": {},
     "output_type": "execute_result"
    }
   ],
   "source": [
    "data[(data['tourney_id']=='2016-M001')&(data['match_num']==294)]"
   ]
  },
  {
   "cell_type": "code",
   "execution_count": 108,
   "metadata": {},
   "outputs": [],
   "source": [
    "data.loc[data[(data['tourney_id']=='2017-0308')&(data['match_num']==297)].index[0], 'minutes'] = 98\n",
    "data.loc[data[(data['tourney_id']=='2016-M001')&(data['match_num']==294)].index[0], 'minutes'] = 90"
   ]
  },
  {
   "cell_type": "code",
   "execution_count": 109,
   "metadata": {},
   "outputs": [],
   "source": [
    "idx = data[data['minutes']==data['minutes'].max()].index[0]\n",
    "data.drop(idx, axis=0, inplace=True)\n",
    "data.reset_index(inplace=True, drop=True)"
   ]
  },
  {
   "cell_type": "code",
   "execution_count": 110,
   "metadata": {},
   "outputs": [],
   "source": [
    "data.to_csv(os.path.abspath('')+'/data/Données_nettoyées.csv')"
   ]
  },
  {
   "cell_type": "code",
   "execution_count": 111,
   "metadata": {},
   "outputs": [],
   "source": [
    "data.drop(['winner_entry', 'loser_entry', 'winner_seed', 'loser_seed'], axis=1, inplace=True)"
   ]
  },
  {
   "cell_type": "code",
   "execution_count": 89,
   "metadata": {
    "scrolled": true
   },
   "outputs": [
    {
     "data": {
      "text/plain": [
       "(array([4.000e+00, 2.200e+01, 1.880e+02, 5.620e+02, 1.060e+03, 1.162e+03,\n",
       "        1.156e+03, 9.750e+02, 8.980e+02, 8.840e+02, 6.580e+02, 6.640e+02,\n",
       "        4.830e+02, 4.410e+02, 3.040e+02, 2.520e+02, 1.250e+02, 9.000e+01,\n",
       "        4.800e+01, 3.700e+01, 2.200e+01, 1.100e+01, 0.000e+00, 2.000e+00,\n",
       "        1.000e+00, 0.000e+00, 0.000e+00, 0.000e+00, 2.000e+00, 0.000e+00,\n",
       "        0.000e+00, 0.000e+00, 0.000e+00, 0.000e+00, 0.000e+00, 0.000e+00,\n",
       "        0.000e+00, 0.000e+00, 0.000e+00, 0.000e+00, 0.000e+00, 0.000e+00,\n",
       "        0.000e+00, 0.000e+00, 0.000e+00, 0.000e+00, 0.000e+00, 0.000e+00,\n",
       "        0.000e+00, 2.000e+00]),\n",
       " array([ 43.  ,  55.44,  67.88,  80.32,  92.76, 105.2 , 117.64, 130.08,\n",
       "        142.52, 154.96, 167.4 , 179.84, 192.28, 204.72, 217.16, 229.6 ,\n",
       "        242.04, 254.48, 266.92, 279.36, 291.8 , 304.24, 316.68, 329.12,\n",
       "        341.56, 354.  , 366.44, 378.88, 391.32, 403.76, 416.2 , 428.64,\n",
       "        441.08, 453.52, 465.96, 478.4 , 490.84, 503.28, 515.72, 528.16,\n",
       "        540.6 , 553.04, 565.48, 577.92, 590.36, 602.8 , 615.24, 627.68,\n",
       "        640.12, 652.56, 665.  ]),\n",
       " <a list of 50 Patch objects>)"
      ]
     },
     "execution_count": 89,
     "metadata": {},
     "output_type": "execute_result"
    },
    {
     "data": {
      "image/png": "[encoded data removed]",
      "text/plain": [
       "<Figure size 1440x360 with 2 Axes>"
      ]
     },
     "metadata": {},
     "output_type": "display_data"
    }
   ],
   "source": [
    "fig, ax = plt.subplots(1,2, figsize=(20,5))\n",
    "ax[0].hist(data[data['best_of']==3]['minutes'], bins=50)\n",
    "ax[1].hist(data[data['best_of']==5]['minutes'], bins=50)"
   ]
  },
  {
   "cell_type": "markdown",
   "metadata": {},
   "source": [
    "## Etudes marcoscopique de ce qui influe sur la durée d'un match de tennis"
   ]
  },
  {
   "cell_type": "markdown",
   "metadata": {},
   "source": [
    "Tout d'abord nous pouvons nous demander quels sont les facteurs qui influent le plus sur la durée d'un match de tennis. <br>\n",
    "Nous allons explorer premièrement l'influence de nos variables expliquatives sur la variables à prédire minutes. Le but est de voir si nous pouvons observer de manière \"macroscopique\" ce qui fait qu'un match est court ou long. <br>\n",
    "\n",
    "    1) Le nombre de sets nécessaires pour gagner le match (best of 3 / best of 5) ce qui revient au même que de séparer les matchs en \"matchs de grand chelem\"/\"autres matchs\"\n",
    "    2) La surface sur laquelle ce joue le match (clay / hard / grass / carpet) \n",
    "    3) Le type de tournois (Grand Slam / Master / Other / Challenger / Satellite) \n",
    "    4) Le niveau du tournois du match (32eme / 16eme / 8eme ...) \n",
    "    5) La différence de ranking entre les deux joueurs \n",
    "    6) Le ranking moyen des deux joueurs (est ce que les joueurs de meilleur niveau on tendance à jouer plus rapidement ou non ?)"
   ]
  },
  {
   "cell_type": "markdown",
   "metadata": {},
   "source": [
    "### Etudes des corrélations de pearson entre les variables quantitatives"
   ]
  },
  {
   "cell_type": "code",
   "execution_count": 60,
   "metadata": {},
   "outputs": [
    {
     "data": {
      "text/plain": [
       "<matplotlib.axes._subplots.AxesSubplot at 0x7f42c039c450>"
      ]
     },
     "execution_count": 60,
     "metadata": {},
     "output_type": "execute_result"
    },
    {
     "data": {
      "image/png": "[encoded data removed]",
      "text/plain": [
       "<Figure size 720x720 with 2 Axes>"
      ]
     },
     "metadata": {},
     "output_type": "display_data"
    }
   ],
   "source": [
    "fig, ax = plt.subplots(figsize=(10,10)) \n",
    "sns.heatmap(data.corr(), cmap='Blues', linewidths=.5)"
   ]
  },
  {
   "cell_type": "markdown",
   "metadata": {},
   "source": [
    "Depuis la matrice de corrélation on peut observer que :<br>\n",
    "- la durée d'un match (\"minutes\") est fortement corrélée avec les données internes du match. En effet plus un match dure plus le nombre de points joués dans le match est élevé. Cette information n'est pas utile pour notre problématique mais elle explique les fortes corrélations qui apparaissent sur la heatmap.br>\n",
    "- on remarque également que \"minutes\" est corrélée avec la variable \"best_of\". La variable best_of indique si un match se joue en 2 ou 3 sets gagnants (best_of 3, best_of 5). C'est bien la sépration entre matchs de grand chelem et les autres qui apparait."
   ]
  },
  {
   "cell_type": "markdown",
   "metadata": {},
   "source": [
    "### Analyse de l'effet de la règle 2 ou 3 sets gagnants sur la durée des matchs"
   ]
  },
  {
   "cell_type": "code",
   "execution_count": 22,
   "metadata": {},
   "outputs": [
    {
     "data": {
      "text/plain": [
       "best_of\n",
       "3     96.673721\n",
       "5    148.814782\n",
       "Name: minutes, dtype: float64"
      ]
     },
     "execution_count": 22,
     "metadata": {},
     "output_type": "execute_result"
    }
   ],
   "source": [
    "data.groupby(['best_of'])['minutes'].mean()"
   ]
  },
  {
   "cell_type": "markdown",
   "metadata": {},
   "source": [
    "On voit en effet que la durée moyenne des matchs qui se joue en 2 sets gagnants est très largement inférieure à la durée des matchs en 5 sets. "
   ]
  },
  {
   "cell_type": "code",
   "execution_count": 23,
   "metadata": {},
   "outputs": [],
   "source": [
    "avg_best_of_3_all = data.groupby(['best_of'])['minutes'].mean()[3]"
   ]
  },
  {
   "cell_type": "code",
   "execution_count": 24,
   "metadata": {},
   "outputs": [],
   "source": [
    "avg_best_of_5_all = data.groupby(['best_of'])['minutes'].mean()[5]"
   ]
  },
  {
   "cell_type": "markdown",
   "metadata": {},
   "source": [
    "### La surface du terrain"
   ]
  },
  {
   "cell_type": "code",
   "execution_count": 63,
   "metadata": {},
   "outputs": [
    {
     "data": {
      "text/plain": [
       "<matplotlib.axes._subplots.AxesSubplot at 0x7f42bbffde90>"
      ]
     },
     "execution_count": 63,
     "metadata": {},
     "output_type": "execute_result"
    },
    {
     "data": {
      "image/png": "[encoded data removed]",
      "text/plain": [
       "<Figure size 720x360 with 1 Axes>"
      ]
     },
     "metadata": {},
     "output_type": "display_data"
    }
   ],
   "source": [
    "fig, ax = plt.subplots(1, 1)\n",
    "ax.get_xaxis().set_visible(False)\n",
    "data.groupby(['surface'])['minutes'].mean().plot(kind='bar',figsize=(10,5), table=True, grid=True)"
   ]
  },
  {
   "cell_type": "markdown",
   "metadata": {},
   "source": [
    "Ici on voit que les matchs sur gazon (Grass) on tendance à être plus long que sur les autres surfaces. Cependant ce résultat est contre intuitif. En effet, il est connu que la surface où la balle va la plus vite et offrant le moins de rebond est le gazon. Il est serait donc normal que les matchs les plus rapides aient lieu sur cette surface.<br><br>\n",
    "Nous allons affiner l'analyse en séparant les matchs best_of_3 des matchs best_of_5."
   ]
  },
  {
   "cell_type": "code",
   "execution_count": 26,
   "metadata": {},
   "outputs": [
    {
     "data": {
      "text/html": [
       "<div>\n",
       "<style scoped>\n",
       "    .dataframe tbody tr th:only-of-type {\n",
       "        vertical-align: middle;\n",
       "    }\n",
       "\n",
       "    .dataframe tbody tr th {\n",
       "        vertical-align: top;\n",
       "    }\n",
       "\n",
       "    .dataframe thead th {\n",
       "        text-align: right;\n",
       "    }\n",
       "</style>\n",
       "<table border=\"1\" class=\"dataframe\">\n",
       "  <thead>\n",
       "    <tr style=\"text-align: right;\">\n",
       "      <th>surface</th>\n",
       "      <th>Carpet</th>\n",
       "      <th>Clay</th>\n",
       "      <th>Grass</th>\n",
       "      <th>Hard</th>\n",
       "    </tr>\n",
       "    <tr>\n",
       "      <th>best_of</th>\n",
       "      <th></th>\n",
       "      <th></th>\n",
       "      <th></th>\n",
       "      <th></th>\n",
       "    </tr>\n",
       "  </thead>\n",
       "  <tbody>\n",
       "    <tr>\n",
       "      <th>3</th>\n",
       "      <td>1364</td>\n",
       "      <td>15306</td>\n",
       "      <td>3521</td>\n",
       "      <td>24271</td>\n",
       "    </tr>\n",
       "    <tr>\n",
       "      <th>5</th>\n",
       "      <td>14</td>\n",
       "      <td>2603</td>\n",
       "      <td>2445</td>\n",
       "      <td>4991</td>\n",
       "    </tr>\n",
       "  </tbody>\n",
       "</table>\n",
       "</div>"
      ],
      "text/plain": [
       "surface  Carpet   Clay  Grass   Hard\n",
       "best_of                             \n",
       "3          1364  15306   3521  24271\n",
       "5            14   2603   2445   4991"
      ]
     },
     "execution_count": 26,
     "metadata": {},
     "output_type": "execute_result"
    }
   ],
   "source": [
    "data.groupby(['best_of', 'surface'])['match_num'].count().unstack()"
   ]
  },
  {
   "cell_type": "markdown",
   "metadata": {},
   "source": [
    "On s'aperçoit que le ratio de match best_of_3/best_of_5 est proche de 1 pour le gazon tandis que sur les autres surfaces il y beaucoup plus de matchs en 3 sets gagnants qu'en 5. Ceci explique que la moyenne globale de la durée des matchs sur gazons soit plus élevées que sur les autres matières. <br>\n",
    "Afin de ne pas biaiser la suite de notre analyse, nous veillerons à toujours séparer ces deux catégories. "
   ]
  },
  {
   "cell_type": "code",
   "execution_count": 27,
   "metadata": {},
   "outputs": [
    {
     "data": {
      "text/plain": [
       "best_of  surface\n",
       "3        Carpet      93.687683\n",
       "         Clay        99.372991\n",
       "         Grass       90.720534\n",
       "         Hard        96.002925\n",
       "5        Carpet     158.428571\n",
       "         Clay       151.767192\n",
       "         Grass      143.057669\n",
       "         Hard       150.068323\n",
       "Name: minutes, dtype: float64"
      ]
     },
     "execution_count": 27,
     "metadata": {},
     "output_type": "execute_result"
    }
   ],
   "source": [
    "data.groupby(['best_of', 'surface'])['minutes'].mean()"
   ]
  },
  {
   "cell_type": "code",
   "execution_count": 64,
   "metadata": {},
   "outputs": [
    {
     "data": {
      "text/plain": [
       "<matplotlib.axes._subplots.AxesSubplot at 0x7f42c024ead0>"
      ]
     },
     "execution_count": 64,
     "metadata": {},
     "output_type": "execute_result"
    },
    {
     "data": {
      "image/png": "[encoded data removed]",
      "text/plain": [
       "<Figure size 720x360 with 1 Axes>"
      ]
     },
     "metadata": {},
     "output_type": "display_data"
    }
   ],
   "source": [
    "fig, ax = plt.subplots(1, 1)\n",
    "ax.get_xaxis().set_visible(False)\n",
    "data.groupby(['best_of', 'surface'])['minutes'].mean().unstack().plot(kind='bar', figsize=(10,5),\n",
    "                                                                      table=np.round(data.groupby(['best_of', 'surface'])['minutes'].mean().unstack().transpose(), 2)\n",
    "                                                                      , grid=True, ax=ax\n",
    "                                                                       , title='Durée moyenne des matchs par surface')"
   ]
  },
  {
   "cell_type": "markdown",
   "metadata": {},
   "source": [
    "On voit ici qu'en effet la surface al plus rapide est le gazon et la plus lente est la terre battue ou la moquette. "
   ]
  },
  {
   "cell_type": "code",
   "execution_count": 65,
   "metadata": {},
   "outputs": [
    {
     "data": {
      "text/plain": [
       "<matplotlib.axes._subplots.AxesSubplot at 0x7f42c029d550>"
      ]
     },
     "execution_count": 65,
     "metadata": {},
     "output_type": "execute_result"
    },
    {
     "data": {
      "image/png": "[encoded data removed]",
      "text/plain": [
       "<Figure size 720x360 with 1 Axes>"
      ]
     },
     "metadata": {},
     "output_type": "display_data"
    }
   ],
   "source": [
    "data.boxplot(column=['minutes'], by=['best_of', 'surface'], figsize=(10,5))"
   ]
  },
  {
   "cell_type": "code",
   "execution_count": 66,
   "metadata": {},
   "outputs": [
    {
     "data": {
      "text/plain": [
       "<matplotlib.axes._subplots.AxesSubplot at 0x7f42bbf59c90>"
      ]
     },
     "execution_count": 66,
     "metadata": {},
     "output_type": "execute_result"
    },
    {
     "data": {
      "image/png": "[encoded data removed]",
      "text/plain": [
       "<Figure size 720x360 with 1 Axes>"
      ]
     },
     "metadata": {},
     "output_type": "display_data"
    }
   ],
   "source": [
    "fig, ax = plt.subplots(1, 1)\n",
    "ax.get_xaxis().set_visible(False)\n",
    "data.groupby(['best_of', 'surface'])['minutes'].std().unstack().plot(kind='bar', figsize=(10,5),\n",
    "                                                                      table=np.round(data.groupby(['best_of', 'surface'])['minutes'].std().unstack().transpose(), 2)\n",
    "                                                                      , grid=True, ax=ax\n",
    "                                                                       , title='Ecart type de la durée des matchs par surface')"
   ]
  },
  {
   "cell_type": "markdown",
   "metadata": {},
   "source": [
    "L'études des écarts type nous indique que la durée des matchs varie de manière homogène sur toutes les surfaces. <br>\n",
    "L'objectif est donc de pouvoir expliquer cette variation par d'autres facteurs."
   ]
  },
  {
   "cell_type": "markdown",
   "metadata": {},
   "source": [
    "### Le type de tournois "
   ]
  },
  {
   "cell_type": "markdown",
   "metadata": {},
   "source": [
    "La variable \"tourney_level\" informe sur le type de tournoi dans lequel est joué le match. Elle comporte les modalités suivantes :\n",
    "<br>\n",
    "- G – Grand Slam (Grand Chelem)\n",
    "- M – Masters\n",
    "- A – ATP (500 & 250)\n",
    "- F – Tour final (ATP finals)"
   ]
  },
  {
   "cell_type": "code",
   "execution_count": 31,
   "metadata": {},
   "outputs": [
    {
     "data": {
      "text/plain": [
       "best_of  tourney_level\n",
       "3        A                32959\n",
       "         F                  289\n",
       "         M                11214\n",
       "5        A                   44\n",
       "         F                    7\n",
       "         G                 9960\n",
       "         M                   42\n",
       "Name: match_num, dtype: int64"
      ]
     },
     "execution_count": 31,
     "metadata": {},
     "output_type": "execute_result"
    }
   ],
   "source": [
    "data.groupby(['best_of', 'tourney_level'])['match_num'].count()"
   ]
  },
  {
   "cell_type": "markdown",
   "metadata": {},
   "source": [
    "La catégorie F est très fortement sous représenté. En effet il sagit uniquement du tournois de fin de saison ATP finals.<br>\n",
    "On voit également que couper le jeu de données en 2 selon la règle de 2 ou 3 sets gagnants revient pratiquement à répartir les matchs entre grand chelem et les autres tournois."
   ]
  },
  {
   "cell_type": "code",
   "execution_count": 32,
   "metadata": {},
   "outputs": [
    {
     "data": {
      "text/html": [
       "<div>\n",
       "<style scoped>\n",
       "    .dataframe tbody tr th:only-of-type {\n",
       "        vertical-align: middle;\n",
       "    }\n",
       "\n",
       "    .dataframe tbody tr th {\n",
       "        vertical-align: top;\n",
       "    }\n",
       "\n",
       "    .dataframe thead th {\n",
       "        text-align: right;\n",
       "    }\n",
       "</style>\n",
       "<table border=\"1\" class=\"dataframe\">\n",
       "  <thead>\n",
       "    <tr style=\"text-align: right;\">\n",
       "      <th>tourney_level</th>\n",
       "      <th>A</th>\n",
       "      <th>F</th>\n",
       "      <th>G</th>\n",
       "      <th>M</th>\n",
       "    </tr>\n",
       "    <tr>\n",
       "      <th>best_of</th>\n",
       "      <th></th>\n",
       "      <th></th>\n",
       "      <th></th>\n",
       "      <th></th>\n",
       "    </tr>\n",
       "  </thead>\n",
       "  <tbody>\n",
       "    <tr>\n",
       "      <th>3</th>\n",
       "      <td>95.779787</td>\n",
       "      <td>104.003460</td>\n",
       "      <td>NaN</td>\n",
       "      <td>99.112181</td>\n",
       "    </tr>\n",
       "    <tr>\n",
       "      <th>5</th>\n",
       "      <td>160.522727</td>\n",
       "      <td>148.142857</td>\n",
       "      <td>148.714257</td>\n",
       "      <td>160.500000</td>\n",
       "    </tr>\n",
       "  </tbody>\n",
       "</table>\n",
       "</div>"
      ],
      "text/plain": [
       "tourney_level           A           F           G           M\n",
       "best_of                                                      \n",
       "3               95.779787  104.003460         NaN   99.112181\n",
       "5              160.522727  148.142857  148.714257  160.500000"
      ]
     },
     "execution_count": 32,
     "metadata": {},
     "output_type": "execute_result"
    }
   ],
   "source": [
    "data.groupby(['best_of', 'tourney_level'])['minutes'].mean().unstack()"
   ]
  },
  {
   "cell_type": "code",
   "execution_count": 33,
   "metadata": {},
   "outputs": [
    {
     "data": {
      "text/html": [
       "<div>\n",
       "<style scoped>\n",
       "    .dataframe tbody tr th:only-of-type {\n",
       "        vertical-align: middle;\n",
       "    }\n",
       "\n",
       "    .dataframe tbody tr th {\n",
       "        vertical-align: top;\n",
       "    }\n",
       "\n",
       "    .dataframe thead th {\n",
       "        text-align: right;\n",
       "    }\n",
       "</style>\n",
       "<table border=\"1\" class=\"dataframe\">\n",
       "  <thead>\n",
       "    <tr style=\"text-align: right;\">\n",
       "      <th>tourney_level</th>\n",
       "      <th>A</th>\n",
       "      <th>F</th>\n",
       "      <th>G</th>\n",
       "      <th>M</th>\n",
       "    </tr>\n",
       "    <tr>\n",
       "      <th>best_of</th>\n",
       "      <th></th>\n",
       "      <th></th>\n",
       "      <th></th>\n",
       "      <th></th>\n",
       "    </tr>\n",
       "  </thead>\n",
       "  <tbody>\n",
       "    <tr>\n",
       "      <th>3</th>\n",
       "      <td>90.0</td>\n",
       "      <td>98.0</td>\n",
       "      <td>NaN</td>\n",
       "      <td>93.0</td>\n",
       "    </tr>\n",
       "    <tr>\n",
       "      <th>5</th>\n",
       "      <td>148.0</td>\n",
       "      <td>115.0</td>\n",
       "      <td>141.0</td>\n",
       "      <td>140.5</td>\n",
       "    </tr>\n",
       "  </tbody>\n",
       "</table>\n",
       "</div>"
      ],
      "text/plain": [
       "tourney_level      A      F      G      M\n",
       "best_of                                  \n",
       "3               90.0   98.0    NaN   93.0\n",
       "5              148.0  115.0  141.0  140.5"
      ]
     },
     "execution_count": 33,
     "metadata": {},
     "output_type": "execute_result"
    }
   ],
   "source": [
    "data.groupby(['best_of', 'tourney_level'])['minutes'].median().unstack()"
   ]
  },
  {
   "cell_type": "code",
   "execution_count": 34,
   "metadata": {},
   "outputs": [
    {
     "data": {
      "text/html": [
       "<div>\n",
       "<style scoped>\n",
       "    .dataframe tbody tr th:only-of-type {\n",
       "        vertical-align: middle;\n",
       "    }\n",
       "\n",
       "    .dataframe tbody tr th {\n",
       "        vertical-align: top;\n",
       "    }\n",
       "\n",
       "    .dataframe thead th {\n",
       "        text-align: right;\n",
       "    }\n",
       "</style>\n",
       "<table border=\"1\" class=\"dataframe\">\n",
       "  <thead>\n",
       "    <tr style=\"text-align: right;\">\n",
       "      <th></th>\n",
       "      <th></th>\n",
       "      <th>count</th>\n",
       "      <th>mean</th>\n",
       "      <th>std</th>\n",
       "      <th>min</th>\n",
       "      <th>25%</th>\n",
       "      <th>50%</th>\n",
       "      <th>75%</th>\n",
       "      <th>max</th>\n",
       "    </tr>\n",
       "    <tr>\n",
       "      <th>best_of</th>\n",
       "      <th>tourney_level</th>\n",
       "      <th></th>\n",
       "      <th></th>\n",
       "      <th></th>\n",
       "      <th></th>\n",
       "      <th></th>\n",
       "      <th></th>\n",
       "      <th></th>\n",
       "      <th></th>\n",
       "    </tr>\n",
       "  </thead>\n",
       "  <tbody>\n",
       "    <tr>\n",
       "      <th rowspan=\"3\" valign=\"top\">3</th>\n",
       "      <th>A</th>\n",
       "      <td>32959.0</td>\n",
       "      <td>95.779787</td>\n",
       "      <td>29.824865</td>\n",
       "      <td>25.0</td>\n",
       "      <td>72.00</td>\n",
       "      <td>90.0</td>\n",
       "      <td>116.0</td>\n",
       "      <td>289.0</td>\n",
       "    </tr>\n",
       "    <tr>\n",
       "      <th>F</th>\n",
       "      <td>289.0</td>\n",
       "      <td>104.003460</td>\n",
       "      <td>32.292661</td>\n",
       "      <td>50.0</td>\n",
       "      <td>78.00</td>\n",
       "      <td>98.0</td>\n",
       "      <td>126.0</td>\n",
       "      <td>218.0</td>\n",
       "    </tr>\n",
       "    <tr>\n",
       "      <th>M</th>\n",
       "      <td>11214.0</td>\n",
       "      <td>99.112181</td>\n",
       "      <td>30.653832</td>\n",
       "      <td>28.0</td>\n",
       "      <td>75.00</td>\n",
       "      <td>93.0</td>\n",
       "      <td>120.0</td>\n",
       "      <td>244.0</td>\n",
       "    </tr>\n",
       "    <tr>\n",
       "      <th rowspan=\"4\" valign=\"top\">5</th>\n",
       "      <th>A</th>\n",
       "      <td>44.0</td>\n",
       "      <td>160.522727</td>\n",
       "      <td>48.522107</td>\n",
       "      <td>93.0</td>\n",
       "      <td>123.50</td>\n",
       "      <td>148.0</td>\n",
       "      <td>185.5</td>\n",
       "      <td>300.0</td>\n",
       "    </tr>\n",
       "    <tr>\n",
       "      <th>F</th>\n",
       "      <td>7.0</td>\n",
       "      <td>148.142857</td>\n",
       "      <td>72.792922</td>\n",
       "      <td>96.0</td>\n",
       "      <td>98.00</td>\n",
       "      <td>115.0</td>\n",
       "      <td>178.5</td>\n",
       "      <td>273.0</td>\n",
       "    </tr>\n",
       "    <tr>\n",
       "      <th>G</th>\n",
       "      <td>9960.0</td>\n",
       "      <td>148.714257</td>\n",
       "      <td>46.378831</td>\n",
       "      <td>43.0</td>\n",
       "      <td>113.00</td>\n",
       "      <td>141.0</td>\n",
       "      <td>179.0</td>\n",
       "      <td>665.0</td>\n",
       "    </tr>\n",
       "    <tr>\n",
       "      <th>M</th>\n",
       "      <td>42.0</td>\n",
       "      <td>160.500000</td>\n",
       "      <td>54.591275</td>\n",
       "      <td>93.0</td>\n",
       "      <td>120.25</td>\n",
       "      <td>140.5</td>\n",
       "      <td>188.0</td>\n",
       "      <td>314.0</td>\n",
       "    </tr>\n",
       "  </tbody>\n",
       "</table>\n",
       "</div>"
      ],
      "text/plain": [
       "                         count        mean        std   min     25%    50%  \\\n",
       "best_of tourney_level                                                        \n",
       "3       A              32959.0   95.779787  29.824865  25.0   72.00   90.0   \n",
       "        F                289.0  104.003460  32.292661  50.0   78.00   98.0   \n",
       "        M              11214.0   99.112181  30.653832  28.0   75.00   93.0   \n",
       "5       A                 44.0  160.522727  48.522107  93.0  123.50  148.0   \n",
       "        F                  7.0  148.142857  72.792922  96.0   98.00  115.0   \n",
       "        G               9960.0  148.714257  46.378831  43.0  113.00  141.0   \n",
       "        M                 42.0  160.500000  54.591275  93.0  120.25  140.5   \n",
       "\n",
       "                         75%    max  \n",
       "best_of tourney_level                \n",
       "3       A              116.0  289.0  \n",
       "        F              126.0  218.0  \n",
       "        M              120.0  244.0  \n",
       "5       A              185.5  300.0  \n",
       "        F              178.5  273.0  \n",
       "        G              179.0  665.0  \n",
       "        M              188.0  314.0  "
      ]
     },
     "execution_count": 34,
     "metadata": {},
     "output_type": "execute_result"
    }
   ],
   "source": [
    "data.groupby(['best_of', 'tourney_level'])['minutes'].describe()"
   ]
  },
  {
   "cell_type": "code",
   "execution_count": 67,
   "metadata": {},
   "outputs": [
    {
     "data": {
      "text/plain": [
       "<matplotlib.axes._subplots.AxesSubplot at 0x7f42bbe8bd50>"
      ]
     },
     "execution_count": 67,
     "metadata": {},
     "output_type": "execute_result"
    },
    {
     "data": {
      "image/png": "[encoded data removed]",
      "text/plain": [
       "<Figure size 720x360 with 1 Axes>"
      ]
     },
     "metadata": {},
     "output_type": "display_data"
    }
   ],
   "source": [
    "fig, ax = plt.subplots(1, 1)\n",
    "ax.get_xaxis().set_visible(False)\n",
    "data.groupby(['best_of', 'tourney_level'])['minutes'].mean().unstack().plot(kind='bar', figsize=(10,5),\n",
    "                                                                      table=np.round(data.groupby(['best_of', 'tourney_level'])['minutes'].mean().unstack().transpose(), 2)\n",
    "                                                                      , grid=True, ax=ax)"
   ]
  },
  {
   "cell_type": "markdown",
   "metadata": {},
   "source": [
    "### Le round"
   ]
  },
  {
   "cell_type": "markdown",
   "metadata": {},
   "source": [
    "La variable \"round\" indique à quel stade du tournois se situe le match. Elle comporte les modalités suivantes : <br>\n",
    "- R128 (128ème de finale), R64, R32, R16, R8\n",
    "- QF (quart de finale), SF (demi finale), F (finale)\n",
    "- RR (phase de poule), BR (petite finale), ER (Elimination round, tour particulier d'élimination après les qualifications)"
   ]
  },
  {
   "cell_type": "code",
   "execution_count": 36,
   "metadata": {},
   "outputs": [
    {
     "data": {
      "text/html": [
       "<div>\n",
       "<style scoped>\n",
       "    .dataframe tbody tr th:only-of-type {\n",
       "        vertical-align: middle;\n",
       "    }\n",
       "\n",
       "    .dataframe tbody tr th {\n",
       "        vertical-align: top;\n",
       "    }\n",
       "\n",
       "    .dataframe thead th {\n",
       "        text-align: right;\n",
       "    }\n",
       "</style>\n",
       "<table border=\"1\" class=\"dataframe\">\n",
       "  <thead>\n",
       "    <tr style=\"text-align: right;\">\n",
       "      <th>round</th>\n",
       "      <th>BR</th>\n",
       "      <th>ER</th>\n",
       "      <th>F</th>\n",
       "      <th>QF</th>\n",
       "      <th>R128</th>\n",
       "      <th>R16</th>\n",
       "      <th>R32</th>\n",
       "      <th>R64</th>\n",
       "      <th>RR</th>\n",
       "      <th>SF</th>\n",
       "    </tr>\n",
       "    <tr>\n",
       "      <th>best_of</th>\n",
       "      <th></th>\n",
       "      <th></th>\n",
       "      <th></th>\n",
       "      <th></th>\n",
       "      <th></th>\n",
       "      <th></th>\n",
       "      <th></th>\n",
       "      <th></th>\n",
       "      <th></th>\n",
       "      <th></th>\n",
       "    </tr>\n",
       "  </thead>\n",
       "  <tbody>\n",
       "    <tr>\n",
       "      <th>3</th>\n",
       "      <td>138.0</td>\n",
       "      <td>85.96875</td>\n",
       "      <td>105.160988</td>\n",
       "      <td>98.843621</td>\n",
       "      <td>98.002555</td>\n",
       "      <td>97.179407</td>\n",
       "      <td>94.873088</td>\n",
       "      <td>95.414547</td>\n",
       "      <td>99.254669</td>\n",
       "      <td>101.779723</td>\n",
       "    </tr>\n",
       "    <tr>\n",
       "      <th>5</th>\n",
       "      <td>NaN</td>\n",
       "      <td>NaN</td>\n",
       "      <td>166.891429</td>\n",
       "      <td>159.850318</td>\n",
       "      <td>145.512171</td>\n",
       "      <td>156.536392</td>\n",
       "      <td>150.822115</td>\n",
       "      <td>148.685908</td>\n",
       "      <td>NaN</td>\n",
       "      <td>166.706250</td>\n",
       "    </tr>\n",
       "  </tbody>\n",
       "</table>\n",
       "</div>"
      ],
      "text/plain": [
       "round       BR        ER           F          QF        R128         R16  \\\n",
       "best_of                                                                    \n",
       "3        138.0  85.96875  105.160988   98.843621   98.002555   97.179407   \n",
       "5          NaN       NaN  166.891429  159.850318  145.512171  156.536392   \n",
       "\n",
       "round           R32         R64         RR          SF  \n",
       "best_of                                                 \n",
       "3         94.873088   95.414547  99.254669  101.779723  \n",
       "5        150.822115  148.685908        NaN  166.706250  "
      ]
     },
     "execution_count": 36,
     "metadata": {},
     "output_type": "execute_result"
    }
   ],
   "source": [
    "data.groupby(['best_of', 'round'])['minutes'].mean().unstack()"
   ]
  },
  {
   "cell_type": "code",
   "execution_count": 37,
   "metadata": {},
   "outputs": [],
   "source": [
    "gb_round = data.groupby(['best_of', 'round'])['minutes'].mean()"
   ]
  },
  {
   "cell_type": "code",
   "execution_count": 68,
   "metadata": {},
   "outputs": [
    {
     "data": {
      "text/plain": [
       "<matplotlib.axes._subplots.AxesSubplot at 0x7f42bbe28850>"
      ]
     },
     "execution_count": 68,
     "metadata": {},
     "output_type": "execute_result"
    },
    {
     "data": {
      "image/png": "[encoded data removed]",
      "text/plain": [
       "<Figure size 1080x360 with 1 Axes>"
      ]
     },
     "metadata": {},
     "output_type": "display_data"
    }
   ],
   "source": [
    "fig, ax = plt.subplots(1, 1)\n",
    "ax.get_xaxis().set_visible(False)\n",
    "data.groupby(['best_of', 'round'])['minutes'].mean().unstack().plot(kind='bar', figsize=(15,5),\n",
    "                                                                      table=np.round(data.groupby(['best_of', 'round'])['minutes'].mean().unstack().transpose(), 2)\n",
    "                                                                      ,grid=True\n",
    "                                                                      ,ax=ax\n",
    "                                                                       ,title='Durée moyenne des matchs par rounds' )"
   ]
  },
  {
   "cell_type": "code",
   "execution_count": 78,
   "metadata": {},
   "outputs": [
    {
     "data": {
      "text/plain": [
       "<matplotlib.axes._subplots.AxesSubplot at 0x7f42bb877590>"
      ]
     },
     "execution_count": 78,
     "metadata": {},
     "output_type": "execute_result"
    },
    {
     "data": {
      "image/png": "[encoded data removed]",
      "text/plain": [
       "<Figure size 1080x360 with 1 Axes>"
      ]
     },
     "metadata": {},
     "output_type": "display_data"
    }
   ],
   "source": [
    "fig, ax = plt.subplots(1, 1)\n",
    "ax.get_xaxis().set_visible(False)\n",
    "data.groupby(['best_of', 'round'])['minutes'].mean().unstack()[['F', 'SF', 'QF', 'R16', 'R32', 'R64', 'R128']].plot(kind='bar', figsize=(15,5),\n",
    "                                                                      table=np.round(data.groupby(['best_of', 'round'])['minutes'].mean().unstack()[['F', 'SF', 'QF', 'R16', 'R32', 'R64', 'R128']].transpose(), 2)\n",
    "                                                                      , grid=True\n",
    "                                                                      , ax=ax\n",
    "                                                                      , title='Durée moyenne des matchs par rounds')"
   ]
  },
  {
   "cell_type": "markdown",
   "metadata": {},
   "source": [
    "En organisant les rounds 'classiques' par ordre d'importance dans un tournoi on s'aperçoit que les matchs des phases finales sont en moyenne plus longs que les autres.<br>\n",
    "<font color='red'>On peut alors se demander s'il a lien entre le niveau des matchs et leur durée.</font>"
   ]
  },
  {
   "cell_type": "markdown",
   "metadata": {},
   "source": [
    "### Analyse de l'évolution de la durée des matchs en fonction du classement des joueurs"
   ]
  },
  {
   "cell_type": "markdown",
   "metadata": {},
   "source": [
    "Dans cette partie nous allons étudier si il existe un lien entre le niveau d'un match et sa durée. Nous regarderons premièrement si l'homogénéité du classement des adversaires d'un match de tennis à une influence sur sa durée. Deuxièmement nous regarderons si la durée des matchs varie en fonction du classement moyen des deux joueurs. L'idée est de voir si les matchs de plus haut niveau durent plus ou moins longtemps que les autres."
   ]
  },
  {
   "cell_type": "markdown",
   "metadata": {},
   "source": [
    "### La différence de classement entre les deux joueurs"
   ]
  },
  {
   "cell_type": "markdown",
   "metadata": {},
   "source": [
    "On va créer une variable \"diff_ranking\" qui sera la différence de classement entre les deux joueurs d'un match. Une forte valeur de \"diff_ranking\" indique un niveau hétérogène dans le match tandis qu'une faible valeur indique un niveau homogène."
   ]
  },
  {
   "cell_type": "code",
   "execution_count": 40,
   "metadata": {},
   "outputs": [],
   "source": [
    "data['diff_ranking'] = data.apply(lambda x: abs(x.winner_rank - x.loser_rank), axis=1)"
   ]
  },
  {
   "cell_type": "code",
   "execution_count": 41,
   "metadata": {},
   "outputs": [
    {
     "data": {
      "text/plain": [
       "count    54358.000000\n",
       "mean        71.653850\n",
       "std        111.445747\n",
       "min          1.000000\n",
       "25%         19.000000\n",
       "50%         41.000000\n",
       "75%         79.000000\n",
       "max       2125.000000\n",
       "Name: diff_ranking, dtype: float64"
      ]
     },
     "execution_count": 41,
     "metadata": {},
     "output_type": "execute_result"
    }
   ],
   "source": [
    "data['diff_ranking'].describe()"
   ]
  },
  {
   "cell_type": "code",
   "execution_count": 42,
   "metadata": {},
   "outputs": [],
   "source": [
    "data['diff_ranking_categories'] = pd.cut(data['diff_ranking'], [0,20,50,70,200,450,1000,3000])"
   ]
  },
  {
   "cell_type": "markdown",
   "metadata": {},
   "source": [
    "On utilise la méthode .cut de pandas afin de faire de regrouper les différences de classement en catégories pour mieux pouvoir visualiser l'évolution de la durée des matchs."
   ]
  },
  {
   "cell_type": "code",
   "execution_count": 43,
   "metadata": {},
   "outputs": [
    {
     "data": {
      "text/html": [
       "<div>\n",
       "<style scoped>\n",
       "    .dataframe tbody tr th:only-of-type {\n",
       "        vertical-align: middle;\n",
       "    }\n",
       "\n",
       "    .dataframe tbody tr th {\n",
       "        vertical-align: top;\n",
       "    }\n",
       "\n",
       "    .dataframe thead th {\n",
       "        text-align: right;\n",
       "    }\n",
       "</style>\n",
       "<table border=\"1\" class=\"dataframe\">\n",
       "  <thead>\n",
       "    <tr style=\"text-align: right;\">\n",
       "      <th>diff_ranking_categories</th>\n",
       "      <th>(0, 20]</th>\n",
       "      <th>(20, 50]</th>\n",
       "      <th>(50, 70]</th>\n",
       "      <th>(70, 200]</th>\n",
       "      <th>(200, 450]</th>\n",
       "      <th>(450, 1000]</th>\n",
       "      <th>(1000, 3000]</th>\n",
       "    </tr>\n",
       "    <tr>\n",
       "      <th>best_of</th>\n",
       "      <th></th>\n",
       "      <th></th>\n",
       "      <th></th>\n",
       "      <th></th>\n",
       "      <th></th>\n",
       "      <th></th>\n",
       "      <th></th>\n",
       "    </tr>\n",
       "  </thead>\n",
       "  <tbody>\n",
       "    <tr>\n",
       "      <th>3</th>\n",
       "      <td>98.819484</td>\n",
       "      <td>97.368107</td>\n",
       "      <td>95.799371</td>\n",
       "      <td>95.308019</td>\n",
       "      <td>92.834978</td>\n",
       "      <td>87.966077</td>\n",
       "      <td>75.686275</td>\n",
       "    </tr>\n",
       "    <tr>\n",
       "      <th>5</th>\n",
       "      <td>157.459829</td>\n",
       "      <td>151.364298</td>\n",
       "      <td>146.115632</td>\n",
       "      <td>143.070662</td>\n",
       "      <td>134.738386</td>\n",
       "      <td>138.117647</td>\n",
       "      <td>134.071429</td>\n",
       "    </tr>\n",
       "  </tbody>\n",
       "</table>\n",
       "</div>"
      ],
      "text/plain": [
       "diff_ranking_categories     (0, 20]    (20, 50]    (50, 70]   (70, 200]  \\\n",
       "best_of                                                                   \n",
       "3                         98.819484   97.368107   95.799371   95.308019   \n",
       "5                        157.459829  151.364298  146.115632  143.070662   \n",
       "\n",
       "diff_ranking_categories  (200, 450]  (450, 1000]  (1000, 3000]  \n",
       "best_of                                                         \n",
       "3                         92.834978    87.966077     75.686275  \n",
       "5                        134.738386   138.117647    134.071429  "
      ]
     },
     "execution_count": 43,
     "metadata": {},
     "output_type": "execute_result"
    }
   ],
   "source": [
    "data.groupby(['best_of', 'diff_ranking_categories'])['minutes'].mean().unstack()"
   ]
  },
  {
   "cell_type": "code",
   "execution_count": 69,
   "metadata": {},
   "outputs": [
    {
     "data": {
      "text/plain": [
       "<matplotlib.axes._subplots.AxesSubplot at 0x7f42bbd2e910>"
      ]
     },
     "execution_count": 69,
     "metadata": {},
     "output_type": "execute_result"
    },
    {
     "data": {
      "image/png": "[encoded data removed]",
      "text/plain": [
       "<Figure size 1080x360 with 1 Axes>"
      ]
     },
     "metadata": {},
     "output_type": "display_data"
    }
   ],
   "source": [
    "fig, ax = plt.subplots(1, 1)\n",
    "ax.get_xaxis().set_visible(False)\n",
    "data.groupby(['best_of', 'diff_ranking_categories'])['minutes'].mean().unstack().plot(kind='bar', figsize=(15,5),\n",
    "                                                                      table=np.round(data.groupby(['best_of', 'diff_ranking_categories'])['minutes'].mean().unstack().transpose(), 2)\n",
    "                                                                      , grid=True, ax=ax\n",
    "                                                                       , title='Durée moyenne des matchs par différence de classement')"
   ]
  },
  {
   "cell_type": "code",
   "execution_count": 90,
   "metadata": {},
   "outputs": [
    {
     "data": {
      "text/plain": [
       "Text(0.5, 1.0, 'Minutes par catégories (bo5)')"
      ]
     },
     "execution_count": 90,
     "metadata": {},
     "output_type": "execute_result"
    },
    {
     "data": {
      "image/png": "[encoded data removed]",
      "text/plain": [
       "<Figure size 1440x360 with 2 Axes>"
      ]
     },
     "metadata": {},
     "output_type": "display_data"
    }
   ],
   "source": [
    "fig, axes = plt.subplots(1, 2, figsize=(20,5))\n",
    "sns.boxplot(x=\"diff_ranking_categories\", y=\"minutes\", data=data[data['best_of']==3], ax=axes[0]).set_title('Minutes par catégories (bo3)')\n",
    "sns.boxplot(x=\"diff_ranking_categories\", y=\"minutes\", data=data[data['best_of']==5], ax=axes[1]).set_title('Minutes par catégories (bo5)')"
   ]
  },
  {
   "cell_type": "markdown",
   "metadata": {},
   "source": [
    "On peut voir que en moyenne les matchs avec un niveau homogène sont plus long que ceux avec un niveau hétérogène(bar plot). Cependant, seul un faible nombre de matchs permet de \"tirer\" les moyennes vers le haut."
   ]
  },
  {
   "cell_type": "code",
   "execution_count": 46,
   "metadata": {},
   "outputs": [
    {
     "data": {
      "text/html": [
       "<div>\n",
       "<style scoped>\n",
       "    .dataframe tbody tr th:only-of-type {\n",
       "        vertical-align: middle;\n",
       "    }\n",
       "\n",
       "    .dataframe tbody tr th {\n",
       "        vertical-align: top;\n",
       "    }\n",
       "\n",
       "    .dataframe thead th {\n",
       "        text-align: right;\n",
       "    }\n",
       "</style>\n",
       "<table border=\"1\" class=\"dataframe\">\n",
       "  <thead>\n",
       "    <tr style=\"text-align: right;\">\n",
       "      <th></th>\n",
       "      <th>minutes</th>\n",
       "      <th>diff_ranking</th>\n",
       "    </tr>\n",
       "  </thead>\n",
       "  <tbody>\n",
       "    <tr>\n",
       "      <th>minutes</th>\n",
       "      <td>1.00000</td>\n",
       "      <td>-0.06384</td>\n",
       "    </tr>\n",
       "    <tr>\n",
       "      <th>diff_ranking</th>\n",
       "      <td>-0.06384</td>\n",
       "      <td>1.00000</td>\n",
       "    </tr>\n",
       "  </tbody>\n",
       "</table>\n",
       "</div>"
      ],
      "text/plain": [
       "              minutes  diff_ranking\n",
       "minutes       1.00000      -0.06384\n",
       "diff_ranking -0.06384       1.00000"
      ]
     },
     "execution_count": 46,
     "metadata": {},
     "output_type": "execute_result"
    }
   ],
   "source": [
    "data[['minutes', 'diff_ranking']].corr()"
   ]
  },
  {
   "cell_type": "markdown",
   "metadata": {},
   "source": [
    "La faible corrélation entre la variable minutes et diff_ranking confirme ce que nous avons observé sur les graphiques."
   ]
  },
  {
   "cell_type": "markdown",
   "metadata": {},
   "source": [
    "### Le classement moyen entre les deux joueurs"
   ]
  },
  {
   "cell_type": "markdown",
   "metadata": {},
   "source": [
    "A l'instar de ce que nous avons fait précédemment nous allons créer une variable \"avg_ranking\" qui sera la moyenne du classement entre les deux joueurs. Une forte valeur de \"avg_ranking\" indique un niveau moyen faible tandis qu'une faible valeur indique un niveau élevé.<br>\n",
    "<br>\n",
    "(le numéro est classé 1 le 2ème 2 et ainsi de suite)"
   ]
  },
  {
   "cell_type": "code",
   "execution_count": 47,
   "metadata": {},
   "outputs": [],
   "source": [
    "data['avg_ranking'] = data.apply(lambda x: (x.winner_rank + x.loser_rank)/2, axis=1)"
   ]
  },
  {
   "cell_type": "code",
   "execution_count": 48,
   "metadata": {},
   "outputs": [
    {
     "data": {
      "text/plain": [
       "count    54358.000000\n",
       "mean        75.231925\n",
       "std         71.599931\n",
       "min          1.500000\n",
       "25%         35.500000\n",
       "50%         58.000000\n",
       "75%         90.000000\n",
       "max       1484.000000\n",
       "Name: avg_ranking, dtype: float64"
      ]
     },
     "execution_count": 48,
     "metadata": {},
     "output_type": "execute_result"
    }
   ],
   "source": [
    "data['avg_ranking'].describe()"
   ]
  },
  {
   "cell_type": "code",
   "execution_count": 49,
   "metadata": {},
   "outputs": [],
   "source": [
    "data['avg_ranking_categories'] = pd.cut(data['avg_ranking'], [0,35,60,90,125,240,500,1500])"
   ]
  },
  {
   "cell_type": "code",
   "execution_count": 50,
   "metadata": {},
   "outputs": [
    {
     "data": {
      "text/html": [
       "<div>\n",
       "<style scoped>\n",
       "    .dataframe tbody tr th:only-of-type {\n",
       "        vertical-align: middle;\n",
       "    }\n",
       "\n",
       "    .dataframe tbody tr th {\n",
       "        vertical-align: top;\n",
       "    }\n",
       "\n",
       "    .dataframe thead th {\n",
       "        text-align: right;\n",
       "    }\n",
       "</style>\n",
       "<table border=\"1\" class=\"dataframe\">\n",
       "  <thead>\n",
       "    <tr style=\"text-align: right;\">\n",
       "      <th>avg_ranking_categories</th>\n",
       "      <th>(0, 35]</th>\n",
       "      <th>(35, 60]</th>\n",
       "      <th>(60, 90]</th>\n",
       "      <th>(90, 125]</th>\n",
       "      <th>(125, 240]</th>\n",
       "      <th>(240, 500]</th>\n",
       "      <th>(500, 1500]</th>\n",
       "    </tr>\n",
       "    <tr>\n",
       "      <th>best_of</th>\n",
       "      <th></th>\n",
       "      <th></th>\n",
       "      <th></th>\n",
       "      <th></th>\n",
       "      <th></th>\n",
       "      <th></th>\n",
       "      <th></th>\n",
       "    </tr>\n",
       "  </thead>\n",
       "  <tbody>\n",
       "    <tr>\n",
       "      <th>3</th>\n",
       "      <td>99.794594</td>\n",
       "      <td>97.032786</td>\n",
       "      <td>95.746018</td>\n",
       "      <td>95.346388</td>\n",
       "      <td>94.488605</td>\n",
       "      <td>91.639434</td>\n",
       "      <td>83.668161</td>\n",
       "    </tr>\n",
       "    <tr>\n",
       "      <th>5</th>\n",
       "      <td>155.778074</td>\n",
       "      <td>146.278750</td>\n",
       "      <td>147.317411</td>\n",
       "      <td>145.449556</td>\n",
       "      <td>147.140330</td>\n",
       "      <td>136.904762</td>\n",
       "      <td>146.916667</td>\n",
       "    </tr>\n",
       "  </tbody>\n",
       "</table>\n",
       "</div>"
      ],
      "text/plain": [
       "avg_ranking_categories     (0, 35]    (35, 60]    (60, 90]   (90, 125]  \\\n",
       "best_of                                                                  \n",
       "3                        99.794594   97.032786   95.746018   95.346388   \n",
       "5                       155.778074  146.278750  147.317411  145.449556   \n",
       "\n",
       "avg_ranking_categories  (125, 240]  (240, 500]  (500, 1500]  \n",
       "best_of                                                      \n",
       "3                        94.488605   91.639434    83.668161  \n",
       "5                       147.140330  136.904762   146.916667  "
      ]
     },
     "execution_count": 50,
     "metadata": {},
     "output_type": "execute_result"
    }
   ],
   "source": [
    "data.groupby(['best_of', 'avg_ranking_categories'])['minutes'].mean().unstack()"
   ]
  },
  {
   "cell_type": "code",
   "execution_count": 51,
   "metadata": {},
   "outputs": [
    {
     "data": {
      "text/html": [
       "<div>\n",
       "<style scoped>\n",
       "    .dataframe tbody tr th:only-of-type {\n",
       "        vertical-align: middle;\n",
       "    }\n",
       "\n",
       "    .dataframe tbody tr th {\n",
       "        vertical-align: top;\n",
       "    }\n",
       "\n",
       "    .dataframe thead th {\n",
       "        text-align: right;\n",
       "    }\n",
       "</style>\n",
       "<table border=\"1\" class=\"dataframe\">\n",
       "  <thead>\n",
       "    <tr style=\"text-align: right;\">\n",
       "      <th></th>\n",
       "      <th>minutes</th>\n",
       "      <th>avg_ranking</th>\n",
       "    </tr>\n",
       "  </thead>\n",
       "  <tbody>\n",
       "    <tr>\n",
       "      <th>minutes</th>\n",
       "      <td>1.0000</td>\n",
       "      <td>-0.0797</td>\n",
       "    </tr>\n",
       "    <tr>\n",
       "      <th>avg_ranking</th>\n",
       "      <td>-0.0797</td>\n",
       "      <td>1.0000</td>\n",
       "    </tr>\n",
       "  </tbody>\n",
       "</table>\n",
       "</div>"
      ],
      "text/plain": [
       "             minutes  avg_ranking\n",
       "minutes       1.0000      -0.0797\n",
       "avg_ranking  -0.0797       1.0000"
      ]
     },
     "execution_count": 51,
     "metadata": {},
     "output_type": "execute_result"
    }
   ],
   "source": [
    "data[['minutes', 'avg_ranking']].corr()"
   ]
  },
  {
   "cell_type": "code",
   "execution_count": 71,
   "metadata": {},
   "outputs": [
    {
     "data": {
      "text/plain": [
       "<matplotlib.axes._subplots.AxesSubplot at 0x7f42bbb08250>"
      ]
     },
     "execution_count": 71,
     "metadata": {},
     "output_type": "execute_result"
    },
    {
     "data": {
      "image/png": "[encoded data removed]",
      "text/plain": [
       "<Figure size 1080x360 with 1 Axes>"
      ]
     },
     "metadata": {},
     "output_type": "display_data"
    }
   ],
   "source": [
    "fig, ax = plt.subplots(1, 1)\n",
    "ax.get_xaxis().set_visible(False)\n",
    "data.groupby(['best_of', 'avg_ranking_categories'])['minutes'].mean().unstack().plot(kind='bar', figsize=(15,5),\n",
    "                                                                      table=np.round(data.groupby(['best_of', 'avg_ranking_categories'])['minutes'].mean().unstack().transpose(), 2)\n",
    "                                                                      ,grid=True\n",
    "                                                                      ,ax=ax\n",
    "                                                                      , title='Durée moyenne des matchs par classement moyen')"
   ]
  },
  {
   "cell_type": "markdown",
   "metadata": {},
   "source": [
    "### Analyse du top 1000 des matchs les plus rapides"
   ]
  },
  {
   "cell_type": "code",
   "execution_count": 53,
   "metadata": {},
   "outputs": [],
   "source": [
    "top_1000_rapides_b03 = data[data['best_of']==3].nsmallest(1000, 'minutes')\n",
    "top_1000_rapides_b05 = data[data['best_of']==5].nsmallest(1000, 'minutes')"
   ]
  },
  {
   "cell_type": "markdown",
   "metadata": {},
   "source": [
    "###  Analyse du top 1000 des matchs les plus lents"
   ]
  },
  {
   "cell_type": "code",
   "execution_count": 54,
   "metadata": {},
   "outputs": [],
   "source": [
    "top_1000_lents_b03 = data[data['best_of']==3].nlargest(1000, 'minutes')\n",
    "top_1000_lents_b05 = data[data['best_of']==5].nlargest(1000, 'minutes')"
   ]
  },
  {
   "cell_type": "markdown",
   "metadata": {},
   "source": [
    "Comparer les moyenne des ranks dans les différents matchs. On voit que dans les matchs les plus rapides le niveau est un peu moins bon que dans les matchs les plus lents. <br>\n",
    "De manière général les longs matchs sont des matchs de haut niveai"
   ]
  },
  {
   "cell_type": "code",
   "execution_count": 55,
   "metadata": {},
   "outputs": [],
   "source": [
    "diff_between_lent_rapide_b03 =[top_1000_lents_b03['minutes'].mean()-top_1000_rapides_b03['minutes'].mean(),\n",
    "top_1000_lents_b03['winner_rank'].mean()-top_1000_rapides_b03['winner_rank'].mean(),\n",
    "top_1000_lents_b03['loser_rank'].mean()-top_1000_rapides_b03['loser_rank'].mean(),\n",
    "top_1000_lents_b03['diff_ranking'].mean()-top_1000_rapides_b03['diff_ranking'].mean(),\n",
    "top_1000_lents_b03['avg_ranking'].mean()-top_1000_rapides_b03['avg_ranking'].mean()]"
   ]
  },
  {
   "cell_type": "code",
   "execution_count": 77,
   "metadata": {},
   "outputs": [
    {
     "data": {
      "image/png": "[encoded data removed]",
      "text/plain": [
       "<Figure size 720x360 with 1 Axes>"
      ]
     },
     "metadata": {},
     "output_type": "display_data"
    }
   ],
   "source": [
    "plt.figure(figsize=(10,5))\n",
    "plt.tight_layout(pad=2)\n",
    "plt.bar(['minutes', 'winner_rank',  'loser_rank', 'diff_ranking', 'avg_ranking'],diff_between_lent_rapide_b03)\n",
    "plt.title('Différence entre les moyennes des 1000 matchs lents et les 1000 matchs les plus rapides (Best of 3)')\n",
    "sns.despine()\n",
    "plt.show()"
   ]
  },
  {
   "cell_type": "code",
   "execution_count": 57,
   "metadata": {},
   "outputs": [],
   "source": [
    "diff_between_lent_rapide_b05 =[top_1000_lents_b05['minutes'].mean()-top_1000_rapides_b05['minutes'].mean(),\n",
    "top_1000_lents_b05['winner_rank'].mean()-top_1000_rapides_b05['winner_rank'].mean(),\n",
    "top_1000_lents_b05['loser_rank'].mean()-top_1000_rapides_b05['loser_rank'].mean(),\n",
    "top_1000_lents_b05['diff_ranking'].mean()-top_1000_rapides_b05['diff_ranking'].mean(),\n",
    "top_1000_lents_b05['avg_ranking'].mean()-top_1000_rapides_b05['avg_ranking'].mean()]"
   ]
  },
  {
   "cell_type": "code",
   "execution_count": 76,
   "metadata": {},
   "outputs": [
    {
     "data": {
      "image/png": "[encoded data removed]",
      "text/plain": [
       "<Figure size 720x360 with 1 Axes>"
      ]
     },
     "metadata": {},
     "output_type": "display_data"
    }
   ],
   "source": [
    "plt.figure(figsize=(10,5))\n",
    "plt.tight_layout(pad=2)\n",
    "plt.bar(['minutes', 'winner_rank',  'loser_rank', 'diff_ranking', 'avg_ranking'],diff_between_lent_rapide_b05)\n",
    "sns.despine()\n",
    "plt.title('Différence entre les moyennes des 1000 matchs lents et les 1000 matchs les plus rapides (Best of 5)')\n",
    "plt.show()"
   ]
  },
  {
   "cell_type": "markdown",
   "metadata": {},
   "source": [
    "On constate via différence entre le top 1000 des matchs les plus lents et des matchs les plus rapides que les matchs qui dure plus longtemps (lents) on tendance à avoir un niveau plus homogène. <br>\n",
    "La bar rouge de la colonne diff_ranking nous indique que plus un matchs est \"lents\" plus la différence de ranking est faible avec (-70 classements de différence en moins entre les deux joueurs pour les best of 3 et -35 pour les best of 5).<br>\n",
    "La même analyse sur la colonne avg ranking nous indique que le niveau moyen est légérement meilleurs dans les matchs les plus longs."
   ]
  },
  {
   "cell_type": "code",
   "execution_count": 59,
   "metadata": {},
   "outputs": [
    {
     "ename": "AttributeError",
     "evalue": "Cannot access callable attribute 'sort_values' of 'SeriesGroupBy' objects, try using the 'apply' method",
     "output_type": "error",
     "traceback": [
      "\u001b[0;31m---------------------------------------------------------------------------\u001b[0m",
      "\u001b[0;31mAttributeError\u001b[0m                            Traceback (most recent call last)",
      "\u001b[0;32m<ipython-input-59-49ebf2ed43ae>\u001b[0m in \u001b[0;36m<module>\u001b[0;34m\u001b[0m\n\u001b[0;32m----> 1\u001b[0;31m \u001b[0mdata\u001b[0m\u001b[0;34m.\u001b[0m\u001b[0mgroupby\u001b[0m\u001b[0;34m(\u001b[0m\u001b[0;34m'surface'\u001b[0m\u001b[0;34m)\u001b[0m\u001b[0;34m[\u001b[0m\u001b[0;34m'minutes'\u001b[0m\u001b[0;34m]\u001b[0m\u001b[0;34m.\u001b[0m\u001b[0msort_values\u001b[0m\u001b[0;34m(\u001b[0m\u001b[0;34m'tourney_date'\u001b[0m\u001b[0;34m)\u001b[0m\u001b[0;34m\u001b[0m\u001b[0;34m\u001b[0m\u001b[0m\n\u001b[0m",
      "\u001b[0;32m~/anaconda3/envs/projetML/lib/python3.7/site-packages/pandas/core/groupby/groupby.py\u001b[0m in \u001b[0;36m__getattr__\u001b[0;34m(self, attr)\u001b[0m\n\u001b[1;32m    561\u001b[0m             \u001b[0;32mreturn\u001b[0m \u001b[0mself\u001b[0m\u001b[0;34m[\u001b[0m\u001b[0mattr\u001b[0m\u001b[0;34m]\u001b[0m\u001b[0;34m\u001b[0m\u001b[0;34m\u001b[0m\u001b[0m\n\u001b[1;32m    562\u001b[0m         \u001b[0;32mif\u001b[0m \u001b[0mhasattr\u001b[0m\u001b[0;34m(\u001b[0m\u001b[0mself\u001b[0m\u001b[0;34m.\u001b[0m\u001b[0mobj\u001b[0m\u001b[0;34m,\u001b[0m \u001b[0mattr\u001b[0m\u001b[0;34m)\u001b[0m\u001b[0;34m:\u001b[0m\u001b[0;34m\u001b[0m\u001b[0;34m\u001b[0m\u001b[0m\n\u001b[0;32m--> 563\u001b[0;31m             \u001b[0;32mreturn\u001b[0m \u001b[0mself\u001b[0m\u001b[0;34m.\u001b[0m\u001b[0m_make_wrapper\u001b[0m\u001b[0;34m(\u001b[0m\u001b[0mattr\u001b[0m\u001b[0;34m)\u001b[0m\u001b[0;34m\u001b[0m\u001b[0;34m\u001b[0m\u001b[0m\n\u001b[0m\u001b[1;32m    564\u001b[0m \u001b[0;34m\u001b[0m\u001b[0m\n\u001b[1;32m    565\u001b[0m         raise AttributeError(\n",
      "\u001b[0;32m~/anaconda3/envs/projetML/lib/python3.7/site-packages/pandas/core/groupby/groupby.py\u001b[0m in \u001b[0;36m_make_wrapper\u001b[0;34m(self, name)\u001b[0m\n\u001b[1;32m    602\u001b[0m                 \u001b[0;34m\"using the 'apply' method\"\u001b[0m\u001b[0;34m.\u001b[0m\u001b[0mformat\u001b[0m\u001b[0;34m(\u001b[0m\u001b[0mkind\u001b[0m\u001b[0;34m,\u001b[0m \u001b[0mname\u001b[0m\u001b[0;34m,\u001b[0m \u001b[0mtype\u001b[0m\u001b[0;34m(\u001b[0m\u001b[0mself\u001b[0m\u001b[0;34m)\u001b[0m\u001b[0;34m.\u001b[0m\u001b[0m__name__\u001b[0m\u001b[0;34m)\u001b[0m\u001b[0;34m\u001b[0m\u001b[0;34m\u001b[0m\u001b[0m\n\u001b[1;32m    603\u001b[0m             )\n\u001b[0;32m--> 604\u001b[0;31m             \u001b[0;32mraise\u001b[0m \u001b[0mAttributeError\u001b[0m\u001b[0;34m(\u001b[0m\u001b[0mmsg\u001b[0m\u001b[0;34m)\u001b[0m\u001b[0;34m\u001b[0m\u001b[0;34m\u001b[0m\u001b[0m\n\u001b[0m\u001b[1;32m    605\u001b[0m \u001b[0;34m\u001b[0m\u001b[0m\n\u001b[1;32m    606\u001b[0m         \u001b[0mself\u001b[0m\u001b[0;34m.\u001b[0m\u001b[0m_set_group_selection\u001b[0m\u001b[0;34m(\u001b[0m\u001b[0;34m)\u001b[0m\u001b[0;34m\u001b[0m\u001b[0;34m\u001b[0m\u001b[0m\n",
      "\u001b[0;31mAttributeError\u001b[0m: Cannot access callable attribute 'sort_values' of 'SeriesGroupBy' objects, try using the 'apply' method"
     ]
    }
   ],
   "source": [
    "data.groupby('surface')['minutes'].sort_values('tourney_date')"
   ]
  },
  {
   "cell_type": "code",
   "execution_count": null,
   "metadata": {},
   "outputs": [],
   "source": [
    "df = pd.DataFrame()"
   ]
  },
  {
   "cell_type": "code",
   "execution_count": null,
   "metadata": {},
   "outputs": [],
   "source": [
    "df['int'] = [i for i in range(50)]"
   ]
  },
  {
   "cell_type": "code",
   "execution_count": null,
   "metadata": {},
   "outputs": [],
   "source": [
    "df"
   ]
  },
  {
   "cell_type": "code",
   "execution_count": null,
   "metadata": {},
   "outputs": [],
   "source": [
    "df['roll']=df.rolling(3, win_type='triang').mean()"
   ]
  },
  {
   "cell_type": "code",
   "execution_count": null,
   "metadata": {},
   "outputs": [],
   "source": [
    "df = pd.Series(data=np.arange(10), \n",
    "               index=pd.date_range('2000', periods=10))"
   ]
  },
  {
   "cell_type": "code",
   "execution_count": null,
   "metadata": {},
   "outputs": [],
   "source": [
    "df.head()"
   ]
  },
  {
   "cell_type": "code",
   "execution_count": null,
   "metadata": {},
   "outputs": [],
   "source": [
    "df['roll']=df.rolling(2, closed='left').mean()"
   ]
  },
  {
   "cell_type": "code",
   "execution_count": null,
   "metadata": {},
   "outputs": [],
   "source": [
    "df"
   ]
  },
  {
   "cell_type": "code",
   "execution_count": null,
   "metadata": {},
   "outputs": [],
   "source": [
    "def rolling_avg(seq, period):\n",
    "    res = []\n",
    "    for i in period:\n",
    "        "
   ]
  },
  {
   "cell_type": "code",
   "execution_count": null,
   "metadata": {},
   "outputs": [],
   "source": []
  }
 ],
 "metadata": {
  "kernelspec": {
   "display_name": "Python 3",
   "language": "python",
   "name": "python3"
  },
  "language_info": {
   "codemirror_mode": {
    "name": "ipython",
    "version": 3
   },
   "file_extension": ".py",
   "mimetype": "text/x-python",
   "name": "python",
   "nbconvert_exporter": "python",
   "pygments_lexer": "ipython3",
   "version": "3.7.6"
  }
 },
 "nbformat": 4,
 "nbformat_minor": 4
}
