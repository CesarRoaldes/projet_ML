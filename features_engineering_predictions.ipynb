{
 "cells": [
  {
   "cell_type": "code",
   "execution_count": 1,
   "metadata": {},
   "outputs": [],
   "source": [
    "import os\n",
    "import string\n",
    "import re\n",
    "import pandas as pd\n",
    "import matplotlib.pyplot as plt\n",
    "import seaborn as sns\n",
    "import numpy as np\n",
    "PATH = os.path.abspath('')"
   ]
  },
  {
   "cell_type": "code",
   "execution_count": 2,
   "metadata": {},
   "outputs": [],
   "source": [
    "import warnings\n",
    "warnings.simplefilter(action='ignore', category=FutureWarning)"
   ]
  },
  {
   "cell_type": "code",
   "execution_count": 3,
   "metadata": {},
   "outputs": [],
   "source": [
    "pd.set_option('display.max_columns', 500)\n",
    "sns.set_style(\"ticks\")"
   ]
  },
  {
   "cell_type": "code",
   "execution_count": 4,
   "metadata": {},
   "outputs": [],
   "source": [
    "def perc_print(a, b):\n",
    "    return round((a-b)/a*100)"
   ]
  },
  {
   "cell_type": "markdown",
   "metadata": {},
   "source": [
    "## Importation des données"
   ]
  },
  {
   "cell_type": "code",
   "execution_count": 5,
   "metadata": {},
   "outputs": [],
   "source": [
    "data = pd.read_csv(PATH+'/data/Données_nettoyées.csv', index_col=0, low_memory=False)"
   ]
  },
  {
   "cell_type": "markdown",
   "metadata": {},
   "source": [
    "Aperçu de la base de donnée."
   ]
  },
  {
   "cell_type": "code",
   "execution_count": 6,
   "metadata": {},
   "outputs": [
    {
     "data": {
      "text/html": [
       "<div>\n",
       "<style scoped>\n",
       "    .dataframe tbody tr th:only-of-type {\n",
       "        vertical-align: middle;\n",
       "    }\n",
       "\n",
       "    .dataframe tbody tr th {\n",
       "        vertical-align: top;\n",
       "    }\n",
       "\n",
       "    .dataframe thead th {\n",
       "        text-align: right;\n",
       "    }\n",
       "</style>\n",
       "<table border=\"1\" class=\"dataframe\">\n",
       "  <thead>\n",
       "    <tr style=\"text-align: right;\">\n",
       "      <th></th>\n",
       "      <th>tourney_id</th>\n",
       "      <th>tourney_name</th>\n",
       "      <th>surface</th>\n",
       "      <th>draw_size</th>\n",
       "      <th>tourney_level</th>\n",
       "      <th>tourney_date</th>\n",
       "      <th>match_num</th>\n",
       "      <th>winner_id</th>\n",
       "      <th>winner_name</th>\n",
       "      <th>winner_hand</th>\n",
       "      <th>winner_ht</th>\n",
       "      <th>winner_ioc</th>\n",
       "      <th>winner_age</th>\n",
       "      <th>loser_id</th>\n",
       "      <th>loser_name</th>\n",
       "      <th>loser_hand</th>\n",
       "      <th>loser_ht</th>\n",
       "      <th>loser_ioc</th>\n",
       "      <th>loser_age</th>\n",
       "      <th>score</th>\n",
       "      <th>best_of</th>\n",
       "      <th>round</th>\n",
       "      <th>minutes</th>\n",
       "      <th>w_ace</th>\n",
       "      <th>w_df</th>\n",
       "      <th>w_svpt</th>\n",
       "      <th>w_1stIn</th>\n",
       "      <th>w_1stWon</th>\n",
       "      <th>w_2ndWon</th>\n",
       "      <th>w_SvGms</th>\n",
       "      <th>w_bpSaved</th>\n",
       "      <th>w_bpFaced</th>\n",
       "      <th>l_ace</th>\n",
       "      <th>l_df</th>\n",
       "      <th>l_svpt</th>\n",
       "      <th>l_1stIn</th>\n",
       "      <th>l_1stWon</th>\n",
       "      <th>l_2ndWon</th>\n",
       "      <th>l_SvGms</th>\n",
       "      <th>l_bpSaved</th>\n",
       "      <th>l_bpFaced</th>\n",
       "      <th>winner_rank</th>\n",
       "      <th>winner_rank_points</th>\n",
       "      <th>loser_rank</th>\n",
       "      <th>loser_rank_points</th>\n",
       "      <th>year</th>\n",
       "    </tr>\n",
       "  </thead>\n",
       "  <tbody>\n",
       "    <tr>\n",
       "      <th>0</th>\n",
       "      <td>2010-339</td>\n",
       "      <td>Brisbane</td>\n",
       "      <td>Hard</td>\n",
       "      <td>32</td>\n",
       "      <td>A</td>\n",
       "      <td>2010-01-03</td>\n",
       "      <td>1</td>\n",
       "      <td>104053</td>\n",
       "      <td>Andy Roddick</td>\n",
       "      <td>R</td>\n",
       "      <td>188.0</td>\n",
       "      <td>USA</td>\n",
       "      <td>27.348392</td>\n",
       "      <td>103429</td>\n",
       "      <td>Peter Luczak</td>\n",
       "      <td>R</td>\n",
       "      <td>183.0</td>\n",
       "      <td>AUS</td>\n",
       "      <td>30.346338</td>\n",
       "      <td>7-6(5) 6-2</td>\n",
       "      <td>3</td>\n",
       "      <td>R32</td>\n",
       "      <td>84.0</td>\n",
       "      <td>15.0</td>\n",
       "      <td>0.0</td>\n",
       "      <td>63.0</td>\n",
       "      <td>42.0</td>\n",
       "      <td>36.0</td>\n",
       "      <td>14.0</td>\n",
       "      <td>10.0</td>\n",
       "      <td>3.0</td>\n",
       "      <td>3.0</td>\n",
       "      <td>4.0</td>\n",
       "      <td>2.0</td>\n",
       "      <td>56.0</td>\n",
       "      <td>34.0</td>\n",
       "      <td>29.0</td>\n",
       "      <td>11.0</td>\n",
       "      <td>10.0</td>\n",
       "      <td>3.0</td>\n",
       "      <td>5.0</td>\n",
       "      <td>7.0</td>\n",
       "      <td>4410.0</td>\n",
       "      <td>77.0</td>\n",
       "      <td>598.0</td>\n",
       "      <td>2010</td>\n",
       "    </tr>\n",
       "    <tr>\n",
       "      <th>1</th>\n",
       "      <td>2010-339</td>\n",
       "      <td>Brisbane</td>\n",
       "      <td>Hard</td>\n",
       "      <td>32</td>\n",
       "      <td>A</td>\n",
       "      <td>2010-01-03</td>\n",
       "      <td>2</td>\n",
       "      <td>104958</td>\n",
       "      <td>Carsten Ball</td>\n",
       "      <td>L</td>\n",
       "      <td>198.0</td>\n",
       "      <td>AUS</td>\n",
       "      <td>22.543463</td>\n",
       "      <td>104999</td>\n",
       "      <td>Mischa Zverev</td>\n",
       "      <td>L</td>\n",
       "      <td>190.0</td>\n",
       "      <td>GER</td>\n",
       "      <td>22.370979</td>\n",
       "      <td>7-5 6-1</td>\n",
       "      <td>3</td>\n",
       "      <td>R32</td>\n",
       "      <td>70.0</td>\n",
       "      <td>10.0</td>\n",
       "      <td>3.0</td>\n",
       "      <td>57.0</td>\n",
       "      <td>30.0</td>\n",
       "      <td>23.0</td>\n",
       "      <td>19.0</td>\n",
       "      <td>10.0</td>\n",
       "      <td>0.0</td>\n",
       "      <td>0.0</td>\n",
       "      <td>2.0</td>\n",
       "      <td>2.0</td>\n",
       "      <td>66.0</td>\n",
       "      <td>34.0</td>\n",
       "      <td>22.0</td>\n",
       "      <td>14.0</td>\n",
       "      <td>9.0</td>\n",
       "      <td>7.0</td>\n",
       "      <td>10.0</td>\n",
       "      <td>134.0</td>\n",
       "      <td>400.0</td>\n",
       "      <td>78.0</td>\n",
       "      <td>590.0</td>\n",
       "      <td>2010</td>\n",
       "    </tr>\n",
       "    <tr>\n",
       "      <th>2</th>\n",
       "      <td>2010-339</td>\n",
       "      <td>Brisbane</td>\n",
       "      <td>Hard</td>\n",
       "      <td>32</td>\n",
       "      <td>A</td>\n",
       "      <td>2010-01-03</td>\n",
       "      <td>3</td>\n",
       "      <td>104755</td>\n",
       "      <td>Richard Gasquet</td>\n",
       "      <td>R</td>\n",
       "      <td>185.0</td>\n",
       "      <td>FRA</td>\n",
       "      <td>23.548255</td>\n",
       "      <td>103813</td>\n",
       "      <td>Jarkko Nieminen</td>\n",
       "      <td>L</td>\n",
       "      <td>185.0</td>\n",
       "      <td>FIN</td>\n",
       "      <td>28.451745</td>\n",
       "      <td>6-3 4-6 6-4</td>\n",
       "      <td>3</td>\n",
       "      <td>R32</td>\n",
       "      <td>121.0</td>\n",
       "      <td>5.0</td>\n",
       "      <td>4.0</td>\n",
       "      <td>97.0</td>\n",
       "      <td>51.0</td>\n",
       "      <td>33.0</td>\n",
       "      <td>27.0</td>\n",
       "      <td>15.0</td>\n",
       "      <td>5.0</td>\n",
       "      <td>8.0</td>\n",
       "      <td>4.0</td>\n",
       "      <td>0.0</td>\n",
       "      <td>85.0</td>\n",
       "      <td>58.0</td>\n",
       "      <td>38.0</td>\n",
       "      <td>14.0</td>\n",
       "      <td>14.0</td>\n",
       "      <td>7.0</td>\n",
       "      <td>11.0</td>\n",
       "      <td>52.0</td>\n",
       "      <td>850.0</td>\n",
       "      <td>88.0</td>\n",
       "      <td>568.0</td>\n",
       "      <td>2010</td>\n",
       "    </tr>\n",
       "  </tbody>\n",
       "</table>\n",
       "</div>"
      ],
      "text/plain": [
       "  tourney_id tourney_name surface  draw_size tourney_level tourney_date  \\\n",
       "0   2010-339     Brisbane    Hard         32             A   2010-01-03   \n",
       "1   2010-339     Brisbane    Hard         32             A   2010-01-03   \n",
       "2   2010-339     Brisbane    Hard         32             A   2010-01-03   \n",
       "\n",
       "   match_num  winner_id      winner_name winner_hand  winner_ht winner_ioc  \\\n",
       "0          1     104053     Andy Roddick           R      188.0        USA   \n",
       "1          2     104958     Carsten Ball           L      198.0        AUS   \n",
       "2          3     104755  Richard Gasquet           R      185.0        FRA   \n",
       "\n",
       "   winner_age  loser_id       loser_name loser_hand  loser_ht loser_ioc  \\\n",
       "0   27.348392    103429     Peter Luczak          R     183.0       AUS   \n",
       "1   22.543463    104999    Mischa Zverev          L     190.0       GER   \n",
       "2   23.548255    103813  Jarkko Nieminen          L     185.0       FIN   \n",
       "\n",
       "   loser_age        score  best_of round  minutes  w_ace  w_df  w_svpt  \\\n",
       "0  30.346338   7-6(5) 6-2        3   R32     84.0   15.0   0.0    63.0   \n",
       "1  22.370979      7-5 6-1        3   R32     70.0   10.0   3.0    57.0   \n",
       "2  28.451745  6-3 4-6 6-4        3   R32    121.0    5.0   4.0    97.0   \n",
       "\n",
       "   w_1stIn  w_1stWon  w_2ndWon  w_SvGms  w_bpSaved  w_bpFaced  l_ace  l_df  \\\n",
       "0     42.0      36.0      14.0     10.0        3.0        3.0    4.0   2.0   \n",
       "1     30.0      23.0      19.0     10.0        0.0        0.0    2.0   2.0   \n",
       "2     51.0      33.0      27.0     15.0        5.0        8.0    4.0   0.0   \n",
       "\n",
       "   l_svpt  l_1stIn  l_1stWon  l_2ndWon  l_SvGms  l_bpSaved  l_bpFaced  \\\n",
       "0    56.0     34.0      29.0      11.0     10.0        3.0        5.0   \n",
       "1    66.0     34.0      22.0      14.0      9.0        7.0       10.0   \n",
       "2    85.0     58.0      38.0      14.0     14.0        7.0       11.0   \n",
       "\n",
       "   winner_rank  winner_rank_points  loser_rank  loser_rank_points  year  \n",
       "0          7.0              4410.0        77.0              598.0  2010  \n",
       "1        134.0               400.0        78.0              590.0  2010  \n",
       "2         52.0               850.0        88.0              568.0  2010  "
      ]
     },
     "execution_count": 6,
     "metadata": {},
     "output_type": "execute_result"
    }
   ],
   "source": [
    "data.head(3)"
   ]
  },
  {
   "cell_type": "markdown",
   "metadata": {},
   "source": [
    "Afin de créer des variables propres à chaque joueurs, nous retravaillons nos colonnes _winner_name_ et _loser_name_ en dédoublant chaque ligne pour obtenir une ligne par joueur du match renommée _player_name_ et son adversaire dans la colonne _opponent_name_"
   ]
  },
  {
   "cell_type": "code",
   "execution_count": 7,
   "metadata": {},
   "outputs": [],
   "source": [
    "data_winner = data.copy()\n",
    "data_loser = data.copy()\n",
    "data_winner.rename({'winner_name':'player_name'}, inplace=True)\n",
    "data_loser.rename({'loser_name':'player_name'}, inplace=True)\n",
    "data_winner['win_lose'] = ['w' for i in range(len(data_winner))]\n",
    "data_loser['win_lose'] = ['l' for i in range(len(data_loser))]\n",
    "data_winner = data_winner.rename(columns=lambda x: re.sub('winner','player',x))\n",
    "data_winner = data_winner.rename(columns=lambda x: re.sub('^w_','player_',x))\n",
    "data_winner = data_winner.rename(columns=lambda x: re.sub('loser','opponent',x))\n",
    "data_winner = data_winner.rename(columns=lambda x: re.sub('^l_','opponent_',x))\n",
    "data_loser = data_loser.rename(columns=lambda x: re.sub('loser','player',x))\n",
    "data_loser = data_loser.rename(columns=lambda x: re.sub('^l_','player_',x))\n",
    "data_loser = data_loser.rename(columns=lambda x: re.sub('winner','opponent',x))\n",
    "data_loser = data_loser.rename(columns=lambda x: re.sub('^w_','opponent_',x))\n",
    "data = pd.concat([data_winner, data_loser], axis=0, sort=False)\n",
    "data.reset_index(inplace=True)"
   ]
  },
  {
   "cell_type": "code",
   "execution_count": 8,
   "metadata": {},
   "outputs": [
    {
     "data": {
      "text/plain": [
       "(109030, 48)"
      ]
     },
     "execution_count": 8,
     "metadata": {},
     "output_type": "execute_result"
    }
   ],
   "source": [
    "data.shape"
   ]
  },
  {
   "cell_type": "markdown",
   "metadata": {},
   "source": [
    "## Création de variables relatives à la rencontre"
   ]
  },
  {
   "cell_type": "markdown",
   "metadata": {},
   "source": [
    "Les attributs présents dans notre base sont les suivantes."
   ]
  },
  {
   "cell_type": "code",
   "execution_count": 9,
   "metadata": {},
   "outputs": [
    {
     "name": "stdout",
     "output_type": "stream",
     "text": [
      "Features de base :\n",
      "['index' 'tourney_id' 'tourney_name' 'surface' 'draw_size' 'tourney_level'\n",
      " 'tourney_date' 'match_num' 'player_id' 'player_name' 'player_hand'\n",
      " 'player_ht' 'player_ioc' 'player_age' 'opponent_id' 'opponent_name'\n",
      " 'opponent_hand' 'opponent_ht' 'opponent_ioc' 'opponent_age' 'score'\n",
      " 'best_of' 'round' 'minutes' 'player_ace' 'player_df' 'player_svpt'\n",
      " 'player_1stIn' 'player_1stWon' 'player_2ndWon' 'player_SvGms'\n",
      " 'player_bpSaved' 'player_bpFaced' 'opponent_ace' 'opponent_df'\n",
      " 'opponent_svpt' 'opponent_1stIn' 'opponent_1stWon' 'opponent_2ndWon'\n",
      " 'opponent_SvGms' 'opponent_bpSaved' 'opponent_bpFaced' 'player_rank'\n",
      " 'player_rank_points' 'opponent_rank' 'opponent_rank_points' 'year'\n",
      " 'win_lose']\n"
     ]
    }
   ],
   "source": [
    "print('Features de base :')\n",
    "print(data.columns.values)"
   ]
  },
  {
   "cell_type": "markdown",
   "metadata": {},
   "source": [
    "A partir de ces données initiales, nous allons créer de nouvelles features dans le but de maximiser le signal inclu dans nos attributs. "
   ]
  },
  {
   "cell_type": "markdown",
   "metadata": {},
   "source": [
    "### 3.1 Ecart de classement entre les deux joueurs"
   ]
  },
  {
   "cell_type": "code",
   "execution_count": 10,
   "metadata": {},
   "outputs": [
    {
     "data": {
      "text/plain": [
       "0    70.0\n",
       "1    56.0\n",
       "2    36.0\n",
       "Name: diff_ranking, dtype: float64"
      ]
     },
     "execution_count": 10,
     "metadata": {},
     "output_type": "execute_result"
    }
   ],
   "source": [
    "data['diff_ranking'] = data.apply(lambda x: abs(x.player_rank - x.opponent_rank), axis=1)\n",
    "data['diff_ranking'].head(3)"
   ]
  },
  {
   "cell_type": "markdown",
   "metadata": {},
   "source": [
    "### 3.2 Classement moyen des deux joueurs du match"
   ]
  },
  {
   "cell_type": "code",
   "execution_count": 11,
   "metadata": {},
   "outputs": [
    {
     "data": {
      "text/plain": [
       "0     42.0\n",
       "1    106.0\n",
       "2     70.0\n",
       "Name: avg_ranking, dtype: float64"
      ]
     },
     "execution_count": 11,
     "metadata": {},
     "output_type": "execute_result"
    }
   ],
   "source": [
    "data['avg_ranking'] = data.apply(lambda x: (x.player_rank + x.opponent_rank)/2, axis=1)\n",
    "data['avg_ranking'].head(3)"
   ]
  },
  {
   "cell_type": "markdown",
   "metadata": {},
   "source": [
    "### 3.3 Les joueurs jouent de la même main"
   ]
  },
  {
   "cell_type": "code",
   "execution_count": 12,
   "metadata": {},
   "outputs": [
    {
     "data": {
      "text/plain": [
       "0    0\n",
       "1    0\n",
       "2    1\n",
       "Name: same_hand, dtype: int64"
      ]
     },
     "execution_count": 12,
     "metadata": {},
     "output_type": "execute_result"
    }
   ],
   "source": [
    "data['same_hand'] = data.apply(lambda x: 1 if x['player_hand']!=x['opponent_hand'] else 0, axis=1)\n",
    "data['same_hand'].head(3)"
   ]
  },
  {
   "cell_type": "markdown",
   "metadata": {},
   "source": [
    "##  Création des variables caractéristiques du joueur "
   ]
  },
  {
   "cell_type": "markdown",
   "metadata": {},
   "source": [
    "Suite au dédoublement de nos lignes, nous allons créer des features différentes en fonction de chaque joueur."
   ]
  },
  {
   "cell_type": "code",
   "execution_count": 13,
   "metadata": {},
   "outputs": [
    {
     "name": "stdout",
     "output_type": "stream",
     "text": [
      "Nombre de joueur différents dans notre base : 1355\n"
     ]
    }
   ],
   "source": [
    "nb_joueur = data['player_name'].unique().shape[0]\n",
    "print('Nombre de joueur différents dans notre base :', nb_joueur)"
   ]
  },
  {
   "cell_type": "markdown",
   "metadata": {},
   "source": [
    "Nous distinguons à partir d'ici les observations relatives à des Best_of 3 / Best_of 5 (matchs en 2 ou 3 sets gagnants). "
   ]
  },
  {
   "cell_type": "code",
   "execution_count": 14,
   "metadata": {},
   "outputs": [
    {
     "data": {
      "text/plain": [
       "True"
      ]
     },
     "execution_count": 14,
     "metadata": {},
     "output_type": "execute_result"
    }
   ],
   "source": [
    "data_bo5 = data[data['best_of']==5].copy()\n",
    "data_bo3 = data[data['best_of']==3].copy()\n",
    "\n",
    "data_bo5.shape[0] + data_bo3.shape[0] == data.shape[0]"
   ]
  },
  {
   "cell_type": "markdown",
   "metadata": {},
   "source": [
    "### Temps de match moyen d'un joueur"
   ]
  },
  {
   "cell_type": "code",
   "execution_count": 15,
   "metadata": {},
   "outputs": [
    {
     "data": {
      "text/html": [
       "<div>\n",
       "<style scoped>\n",
       "    .dataframe tbody tr th:only-of-type {\n",
       "        vertical-align: middle;\n",
       "    }\n",
       "\n",
       "    .dataframe tbody tr th {\n",
       "        vertical-align: top;\n",
       "    }\n",
       "\n",
       "    .dataframe thead th {\n",
       "        text-align: right;\n",
       "    }\n",
       "</style>\n",
       "<table border=\"1\" class=\"dataframe\">\n",
       "  <thead>\n",
       "    <tr style=\"text-align: right;\">\n",
       "      <th></th>\n",
       "      <th>player_name</th>\n",
       "      <th>player_mean_time</th>\n",
       "    </tr>\n",
       "  </thead>\n",
       "  <tbody>\n",
       "    <tr>\n",
       "      <th>0</th>\n",
       "      <td>Andy Roddick</td>\n",
       "      <td>90.712480</td>\n",
       "    </tr>\n",
       "    <tr>\n",
       "      <th>1</th>\n",
       "      <td>Carsten Ball</td>\n",
       "      <td>84.166667</td>\n",
       "    </tr>\n",
       "    <tr>\n",
       "      <th>2</th>\n",
       "      <td>Richard Gasquet</td>\n",
       "      <td>95.957164</td>\n",
       "    </tr>\n",
       "  </tbody>\n",
       "</table>\n",
       "</div>"
      ],
      "text/plain": [
       "       player_name  player_mean_time\n",
       "0     Andy Roddick         90.712480\n",
       "1     Carsten Ball         84.166667\n",
       "2  Richard Gasquet         95.957164"
      ]
     },
     "execution_count": 15,
     "metadata": {},
     "output_type": "execute_result"
    }
   ],
   "source": [
    "mean_time = data_bo3.groupby(['player_name'])['minutes'].mean()\n",
    "data_bo3['player_mean_time'] = np.zeros(data_bo3.shape[0])\n",
    "data_bo3['player_mean_time'] = data_bo3.apply(lambda x: mean_time[x['player_name']], axis=1)\n",
    "data_bo3[['player_name', 'player_mean_time']].head(3)"
   ]
  },
  {
   "cell_type": "code",
   "execution_count": 16,
   "metadata": {},
   "outputs": [
    {
     "data": {
      "text/html": [
       "<div>\n",
       "<style scoped>\n",
       "    .dataframe tbody tr th:only-of-type {\n",
       "        vertical-align: middle;\n",
       "    }\n",
       "\n",
       "    .dataframe tbody tr th {\n",
       "        vertical-align: top;\n",
       "    }\n",
       "\n",
       "    .dataframe thead th {\n",
       "        text-align: right;\n",
       "    }\n",
       "</style>\n",
       "<table border=\"1\" class=\"dataframe\">\n",
       "  <thead>\n",
       "    <tr style=\"text-align: right;\">\n",
       "      <th></th>\n",
       "      <th>opponent_name</th>\n",
       "      <th>opponent_mean_time</th>\n",
       "    </tr>\n",
       "  </thead>\n",
       "  <tbody>\n",
       "    <tr>\n",
       "      <th>0</th>\n",
       "      <td>Peter Luczak</td>\n",
       "      <td>99.491803</td>\n",
       "    </tr>\n",
       "    <tr>\n",
       "      <th>1</th>\n",
       "      <td>Mischa Zverev</td>\n",
       "      <td>92.526316</td>\n",
       "    </tr>\n",
       "    <tr>\n",
       "      <th>2</th>\n",
       "      <td>Jarkko Nieminen</td>\n",
       "      <td>92.392447</td>\n",
       "    </tr>\n",
       "  </tbody>\n",
       "</table>\n",
       "</div>"
      ],
      "text/plain": [
       "     opponent_name  opponent_mean_time\n",
       "0     Peter Luczak           99.491803\n",
       "1    Mischa Zverev           92.526316\n",
       "2  Jarkko Nieminen           92.392447"
      ]
     },
     "execution_count": 16,
     "metadata": {},
     "output_type": "execute_result"
    }
   ],
   "source": [
    "opp_mean_time = data_bo3.groupby(['opponent_name'])['minutes'].mean()\n",
    "data_bo3['opponent_mean_time'] = np.zeros(data_bo3.shape[0])\n",
    "data_bo3['opponent_mean_time'] = data_bo3.apply(lambda x: opp_mean_time[x['opponent_name']], axis=1)\n",
    "data_bo3[['opponent_name', 'opponent_mean_time']].head(3)"
   ]
  },
  {
   "cell_type": "code",
   "execution_count": 17,
   "metadata": {},
   "outputs": [
    {
     "data": {
      "text/html": [
       "<div>\n",
       "<style scoped>\n",
       "    .dataframe tbody tr th:only-of-type {\n",
       "        vertical-align: middle;\n",
       "    }\n",
       "\n",
       "    .dataframe tbody tr th {\n",
       "        vertical-align: top;\n",
       "    }\n",
       "\n",
       "    .dataframe thead th {\n",
       "        text-align: right;\n",
       "    }\n",
       "</style>\n",
       "<table border=\"1\" class=\"dataframe\">\n",
       "  <thead>\n",
       "    <tr style=\"text-align: right;\">\n",
       "      <th></th>\n",
       "      <th>player_name</th>\n",
       "      <th>player_mean_time</th>\n",
       "    </tr>\n",
       "  </thead>\n",
       "  <tbody>\n",
       "    <tr>\n",
       "      <th>143</th>\n",
       "      <td>Roger Federer</td>\n",
       "      <td>130.856818</td>\n",
       "    </tr>\n",
       "    <tr>\n",
       "      <th>144</th>\n",
       "      <td>Victor Hanescu</td>\n",
       "      <td>143.520548</td>\n",
       "    </tr>\n",
       "    <tr>\n",
       "      <th>145</th>\n",
       "      <td>Stephane Robert</td>\n",
       "      <td>132.026316</td>\n",
       "    </tr>\n",
       "  </tbody>\n",
       "</table>\n",
       "</div>"
      ],
      "text/plain": [
       "         player_name  player_mean_time\n",
       "143    Roger Federer        130.856818\n",
       "144   Victor Hanescu        143.520548\n",
       "145  Stephane Robert        132.026316"
      ]
     },
     "execution_count": 17,
     "metadata": {},
     "output_type": "execute_result"
    }
   ],
   "source": [
    "mean_time = data_bo5.groupby(['player_name'])['minutes'].mean()\n",
    "data_bo5['player_mean_time'] = np.zeros(data_bo5.shape[0])\n",
    "data_bo5['player_mean_time'] = data_bo5.apply(lambda x: mean_time[x['player_name']], axis=1)\n",
    "data_bo5[['player_name', 'player_mean_time']].head(3)"
   ]
  },
  {
   "cell_type": "code",
   "execution_count": 18,
   "metadata": {},
   "outputs": [
    {
     "data": {
      "text/html": [
       "<div>\n",
       "<style scoped>\n",
       "    .dataframe tbody tr th:only-of-type {\n",
       "        vertical-align: middle;\n",
       "    }\n",
       "\n",
       "    .dataframe tbody tr th {\n",
       "        vertical-align: top;\n",
       "    }\n",
       "\n",
       "    .dataframe thead th {\n",
       "        text-align: right;\n",
       "    }\n",
       "</style>\n",
       "<table border=\"1\" class=\"dataframe\">\n",
       "  <thead>\n",
       "    <tr style=\"text-align: right;\">\n",
       "      <th></th>\n",
       "      <th>opponent_name</th>\n",
       "      <th>opponent_mean_time</th>\n",
       "    </tr>\n",
       "  </thead>\n",
       "  <tbody>\n",
       "    <tr>\n",
       "      <th>143</th>\n",
       "      <td>Igor Andreev</td>\n",
       "      <td>149.647887</td>\n",
       "    </tr>\n",
       "    <tr>\n",
       "      <th>144</th>\n",
       "      <td>Juan Ignacio Chela</td>\n",
       "      <td>152.255319</td>\n",
       "    </tr>\n",
       "    <tr>\n",
       "      <th>145</th>\n",
       "      <td>Potito Starace</td>\n",
       "      <td>141.659091</td>\n",
       "    </tr>\n",
       "  </tbody>\n",
       "</table>\n",
       "</div>"
      ],
      "text/plain": [
       "          opponent_name  opponent_mean_time\n",
       "143        Igor Andreev          149.647887\n",
       "144  Juan Ignacio Chela          152.255319\n",
       "145      Potito Starace          141.659091"
      ]
     },
     "execution_count": 18,
     "metadata": {},
     "output_type": "execute_result"
    }
   ],
   "source": [
    "opp_mean_time = data_bo5.groupby(['opponent_name'])['minutes'].mean()\n",
    "data_bo5['opponent_mean_time'] = np.zeros(data_bo5.shape[0])\n",
    "data_bo5['opponent_mean_time'] = data_bo5.apply(lambda x: opp_mean_time[x['opponent_name']], axis=1)\n",
    "data_bo5[['opponent_name', 'opponent_mean_time']].head(3)"
   ]
  },
  {
   "cell_type": "markdown",
   "metadata": {},
   "source": [
    "### Temps moyen des 10 derniers matchs d'un joueur"
   ]
  },
  {
   "cell_type": "markdown",
   "metadata": {},
   "source": [
    "On crée une moyenne mobile du temps moyen des 10 derniers matchs d'un joueur."
   ]
  },
  {
   "cell_type": "markdown",
   "metadata": {},
   "source": [
    "Cette opération étant amenée à être répétée, dans le but de rendre le code moins redondant nous créons une fonction qui nous permet de faire des variables représentant la dynamique d'un joueur.  "
   ]
  },
  {
   "cell_type": "code",
   "execution_count": 19,
   "metadata": {},
   "outputs": [],
   "source": [
    "def dynamic_features(df, target_feature, new_feature_name, list_sort_features, window_size=10):\n",
    "    # player\n",
    "    player_new_feature_name = 'player_' + new_feature_name\n",
    "    df[player_new_feature_name] = np.zeros(df.shape[0])\n",
    "    df = df.sort_values(['player_name']+list_sort_features).copy()\n",
    "    df[player_new_feature_name] = df.sort_values(['player_name']+list_sort_features).groupby('player_name')[target_feature].rolling(window=window_size,min_periods=1).mean().values\n",
    "    df[player_new_feature_name+'_shifted'] = df.sort_values(['player_name']+list_sort_features).groupby('player_name')[player_new_feature_name].shift(1).values\n",
    "    df.sort_values(['player_name']+list_sort_features, inplace=True)\n",
    "    print(df[df['player_name']=='Roger Federer'][['player_name', target_feature, player_new_feature_name, player_new_feature_name+'_shifted']].head(5))\n",
    "    print('\\n')\n",
    "    # opponent\n",
    "    opponent_new_feature_name = 'opponent_' + new_feature_name\n",
    "    df[opponent_new_feature_name] = np.zeros(df.shape[0])\n",
    "    df = df.sort_values(['opponent_name']+list_sort_features).copy()\n",
    "    df[opponent_new_feature_name] = df.sort_values(list_sort_features).groupby('opponent_name')[target_feature].rolling(window=window_size,min_periods=1).mean().values\n",
    "    df[opponent_new_feature_name+'_shifted'] = df.sort_values(['opponent_name']+list_sort_features).groupby('opponent_name')[opponent_new_feature_name].shift(1).values\n",
    "    df.sort_values(['opponent_name']+list_sort_features, inplace=True)\n",
    "    print(df[df['opponent_name']=='Roger Federer'][['opponent_name', target_feature, opponent_new_feature_name, opponent_new_feature_name+'_shifted']].head(5))\n",
    "    return df.copy()"
   ]
  },
  {
   "cell_type": "markdown",
   "metadata": {},
   "source": [
    "Nous appliquons cette fonction."
   ]
  },
  {
   "cell_type": "code",
   "execution_count": 20,
   "metadata": {},
   "outputs": [
    {
     "name": "stdout",
     "output_type": "stream",
     "text": [
      "         player_name  minutes  player_mean_10time  player_mean_10time_shifted\n",
      "3154   Roger Federer     45.0           45.000000                         NaN\n",
      "57684  Roger Federer     84.0           64.500000                   45.000000\n",
      "57110  Roger Federer     68.0           65.666667                   64.500000\n",
      "4523   Roger Federer     72.0           67.250000                   65.666667\n",
      "4537   Roger Federer     63.0           66.400000                   67.250000\n",
      "\n",
      "\n",
      "       opponent_name  minutes  opponent_mean_10time  \\\n",
      "57669  Roger Federer     45.0             45.000000   \n",
      "3169   Roger Federer     84.0             64.500000   \n",
      "2595   Roger Federer     68.0             65.666667   \n",
      "59038  Roger Federer     72.0             67.250000   \n",
      "59052  Roger Federer     63.0             66.400000   \n",
      "\n",
      "       opponent_mean_10time_shifted  \n",
      "57669                           NaN  \n",
      "3169                      45.000000  \n",
      "2595                      64.500000  \n",
      "59038                     65.666667  \n",
      "59052                     67.250000  \n"
     ]
    }
   ],
   "source": [
    "data_bo3 = dynamic_features(df=data_bo3, target_feature='minutes', new_feature_name='mean_10time', list_sort_features=['tourney_date', 'match_num'], window_size=10)"
   ]
  },
  {
   "cell_type": "code",
   "execution_count": 21,
   "metadata": {},
   "outputs": [
    {
     "name": "stdout",
     "output_type": "stream",
     "text": [
      "         player_name  minutes  player_mean_10time  player_mean_10time_shifted\n",
      "5121   Roger Federer    125.0          125.000000                         NaN\n",
      "5157   Roger Federer    106.0          115.500000                  125.000000\n",
      "59691  Roger Federer    101.0          110.666667                  115.500000\n",
      "4689   Roger Federer    147.0          119.750000                  110.666667\n",
      "4725   Roger Federer    132.0          122.200000                  119.750000\n",
      "\n",
      "\n",
      "       opponent_name  minutes  opponent_mean_10time  \\\n",
      "59636  Roger Federer    125.0            125.000000   \n",
      "59672  Roger Federer    106.0            115.500000   \n",
      "5176   Roger Federer    101.0            110.666667   \n",
      "59204  Roger Federer    147.0            119.750000   \n",
      "59240  Roger Federer    132.0            122.200000   \n",
      "\n",
      "       opponent_mean_10time_shifted  \n",
      "59636                           NaN  \n",
      "59672                    125.000000  \n",
      "5176                     115.500000  \n",
      "59204                    110.666667  \n",
      "59240                    119.750000  \n"
     ]
    }
   ],
   "source": [
    "data_bo5 = dynamic_features(df=data_bo5, target_feature='minutes', new_feature_name='mean_10time', list_sort_features=['tourney_date', 'match_num'], window_size=10)"
   ]
  },
  {
   "cell_type": "markdown",
   "metadata": {},
   "source": [
    "### Nombre de jeux moyen joué par un joueur"
   ]
  },
  {
   "cell_type": "markdown",
   "metadata": {},
   "source": [
    "Nous commencons par extraire le nombre de jeux joués dans chaque match."
   ]
  },
  {
   "cell_type": "code",
   "execution_count": 22,
   "metadata": {},
   "outputs": [],
   "source": [
    "data_bo3['nb_games'] = data_bo3.apply(lambda x: x['score'].split(' '), axis=1)\n",
    "data_bo3['nb_games'] = data_bo3.apply(lambda x: [string.split('-') for string in x['nb_games']], axis=1)\n",
    "data_bo3['nb_games'] = data_bo3.apply(lambda x: [[int(elt[0]) for elt in liste if len(elt)>0] for liste in x['nb_games']], axis=1)\n",
    "data_bo3['nb_games'] = data_bo3.apply(lambda x: [sum(liste) for liste in x['nb_games']], axis=1)\n",
    "data_bo3['nb_games'] = data_bo3.apply(lambda x: sum(x['nb_games']), axis=1)"
   ]
  },
  {
   "cell_type": "code",
   "execution_count": 23,
   "metadata": {},
   "outputs": [],
   "source": [
    "data_bo5['nb_games'] = data_bo5.apply(lambda x: x['score'].split(' '), axis=1)\n",
    "data_bo5['nb_games'] = data_bo5.apply(lambda x: [string.split('-') for string in x['nb_games']], axis=1)\n",
    "data_bo5['nb_games'] = data_bo5.apply(lambda x: [[int(elt[0]) for elt in liste if len(elt)>0] for liste in x['nb_games']], axis=1)\n",
    "data_bo5['nb_games'] = data_bo5.apply(lambda x: [sum(liste) for liste in x['nb_games']], axis=1)\n",
    "data_bo5['nb_games'] = data_bo5.apply(lambda x: sum(x['nb_games']), axis=1)"
   ]
  },
  {
   "cell_type": "code",
   "execution_count": 24,
   "metadata": {},
   "outputs": [
    {
     "data": {
      "text/plain": [
       "array([14, 15, 13, 28, 19, 21, 24, 17, 18, 34, 16, 27, 32, 22, 20, 25, 23,\n",
       "       26, 30, 31, 36, 35, 33, 29, 39, 38, 12, 37, 10, 11])"
      ]
     },
     "execution_count": 24,
     "metadata": {},
     "output_type": "execute_result"
    }
   ],
   "source": [
    "data_bo3['nb_games'].unique()"
   ]
  },
  {
   "cell_type": "code",
   "execution_count": 25,
   "metadata": {},
   "outputs": [
    {
     "data": {
      "text/plain": [
       "array([41, 28, 37, 36, 23, 32, 22, 26, 49, 29, 25, 53, 21, 50, 24, 30, 47,\n",
       "       35, 46, 40, 27, 38, 31, 52, 43, 39, 48, 55, 51, 34, 33, 45, 42, 44,\n",
       "       56, 59, 20, 54, 60, 19, 57, 66, 61, 58, 64, 65, 62, 15, 63])"
      ]
     },
     "execution_count": 25,
     "metadata": {},
     "output_type": "execute_result"
    }
   ],
   "source": [
    "data_bo5['nb_games'].unique()"
   ]
  },
  {
   "cell_type": "markdown",
   "metadata": {},
   "source": [
    "Un match de tennis fait au minimum 12 jeux, l'analyse du nombre de set joué dans nos donnée nous indique que certaines rencontrent finissent après 10 et 11 jeux. Nous supprimons ces matchs car ils ne respectent pas ce seuil (l'abandon n'est pas notifié dans la base)."
   ]
  },
  {
   "cell_type": "code",
   "execution_count": 26,
   "metadata": {},
   "outputs": [
    {
     "name": "stdout",
     "output_type": "stream",
     "text": [
      "6 observations supprimées (0%).\n"
     ]
    }
   ],
   "source": [
    "nb_obs = data_bo3.shape[0]\n",
    "data_bo3 = data_bo3[data_bo3['nb_games']>=12].copy()\n",
    "print('{} observations supprimées ({}%).'.format(nb_obs - data_bo3.shape[0], perc_print(nb_obs, data_bo3.shape[0])))"
   ]
  },
  {
   "cell_type": "code",
   "execution_count": 27,
   "metadata": {},
   "outputs": [
    {
     "name": "stdout",
     "output_type": "stream",
     "text": [
      "2 observations supprimées (0%).\n"
     ]
    }
   ],
   "source": [
    "nb_obs = data_bo5.shape[0]\n",
    "data_bo5 = data_bo5[data_bo5['nb_games']>=18].copy()\n",
    "print('{} observations supprimées ({}%).'.format(nb_obs - data_bo5.shape[0], perc_print(nb_obs, data_bo5.shape[0])))"
   ]
  },
  {
   "cell_type": "markdown",
   "metadata": {},
   "source": [
    "A partir du nombre de jeux joués dans un match, nous déterminons le nombre de sets joué en moyenne pour chaque joueur ainsi que son advsersaire."
   ]
  },
  {
   "cell_type": "code",
   "execution_count": 28,
   "metadata": {},
   "outputs": [
    {
     "name": "stderr",
     "output_type": "stream",
     "text": [
      "/home/cesar/.anaconda3/envs/projetml/lib/python3.7/site-packages/pandas/core/indexing.py:205: SettingWithCopyWarning: \n",
      "A value is trying to be set on a copy of a slice from a DataFrame\n",
      "\n",
      "See the caveats in the documentation: http://pandas.pydata.org/pandas-docs/stable/user_guide/indexing.html#returning-a-view-versus-a-copy\n",
      "  self._setitem_with_indexer(indexer, value)\n"
     ]
    }
   ],
   "source": [
    "data_bo3['player_mean_games'] = np.zeros(data_bo3.shape[0])\n",
    "for player in data_bo3['player_name'].unique():\n",
    "    player_mean_games = data_bo3[data_bo3['player_name']==player]['nb_games'].mean()\n",
    "    data_bo3['player_mean_games'].loc[data_bo3[data_bo3['player_name']==player].index] = player_mean_games.copy()"
   ]
  },
  {
   "cell_type": "code",
   "execution_count": 29,
   "metadata": {},
   "outputs": [],
   "source": [
    "data_bo3['opponent_mean_games'] = np.zeros(data_bo3.shape[0])\n",
    "for player in data_bo3['opponent_name'].unique():\n",
    "    player_mean_games = data_bo3[data_bo3['opponent_name']==player]['nb_games'].mean()\n",
    "    data_bo3['opponent_mean_games'].loc[data_bo3[data_bo3['opponent_name']==player].index] = player_mean_games.copy()"
   ]
  },
  {
   "cell_type": "code",
   "execution_count": 30,
   "metadata": {},
   "outputs": [],
   "source": [
    "data_bo5['player_mean_games'] = np.zeros(data_bo5.shape[0])\n",
    "for player in data_bo5['player_name'].unique():\n",
    "    player_mean_games = data_bo5[data_bo5['player_name']==player]['nb_games'].mean()\n",
    "    data_bo5['player_mean_games'].loc[data_bo5[data_bo5['player_name']==player].index] = player_mean_games.copy()"
   ]
  },
  {
   "cell_type": "code",
   "execution_count": 31,
   "metadata": {},
   "outputs": [],
   "source": [
    "data_bo5['opponent_mean_games'] = np.zeros(data_bo5.shape[0])\n",
    "for player in data_bo5['opponent_name'].unique():\n",
    "    player_mean_games = data_bo5[data_bo5['opponent_name']==player]['nb_games'].mean()\n",
    "    data_bo5['opponent_mean_games'].loc[data_bo5[data_bo5['opponent_name']==player].index] = player_mean_games.copy()"
   ]
  },
  {
   "cell_type": "code",
   "execution_count": 32,
   "metadata": {},
   "outputs": [
    {
     "data": {
      "text/plain": [
       "count    88918.000000\n",
       "mean        23.014283\n",
       "std          1.080754\n",
       "min         12.000000\n",
       "25%         22.510022\n",
       "50%         22.991803\n",
       "75%         23.524540\n",
       "max         38.000000\n",
       "Name: player_mean_games, dtype: float64"
      ]
     },
     "execution_count": 32,
     "metadata": {},
     "output_type": "execute_result"
    }
   ],
   "source": [
    "data_bo3['player_mean_games'].describe()"
   ]
  },
  {
   "cell_type": "code",
   "execution_count": 33,
   "metadata": {},
   "outputs": [
    {
     "data": {
      "text/plain": [
       "count    20104.000000\n",
       "mean        35.963191\n",
       "std          2.157328\n",
       "min         21.000000\n",
       "25%         34.714286\n",
       "50%         35.948980\n",
       "75%         37.238095\n",
       "max         56.000000\n",
       "Name: player_mean_games, dtype: float64"
      ]
     },
     "execution_count": 33,
     "metadata": {},
     "output_type": "execute_result"
    }
   ],
   "source": [
    "data_bo5['player_mean_games'].describe()"
   ]
  },
  {
   "cell_type": "markdown",
   "metadata": {},
   "source": [
    "### Nombre de moyen de jeux d'un joueur sur ses 10 derniers matchs"
   ]
  },
  {
   "cell_type": "markdown",
   "metadata": {},
   "source": [
    "On crée des moyennes mobiles du nombre de jeux joués par un joueur lors de ses 10 derniers matchs."
   ]
  },
  {
   "cell_type": "code",
   "execution_count": 34,
   "metadata": {},
   "outputs": [
    {
     "name": "stdout",
     "output_type": "stream",
     "text": [
      "         player_name  nb_games  player_mean_10games  \\\n",
      "3154   Roger Federer        17                 17.0   \n",
      "57684  Roger Federer        23                 20.0   \n",
      "57110  Roger Federer        20                 20.0   \n",
      "4523   Roger Federer        20                 20.0   \n",
      "4537   Roger Federer        17                 19.4   \n",
      "\n",
      "       player_mean_10games_shifted  \n",
      "3154                           NaN  \n",
      "57684                         17.0  \n",
      "57110                         20.0  \n",
      "4523                          20.0  \n",
      "4537                          20.0  \n",
      "\n",
      "\n",
      "       opponent_name  nb_games  opponent_mean_10games  \\\n",
      "57669  Roger Federer        17                   17.0   \n",
      "3169   Roger Federer        23                   20.0   \n",
      "2595   Roger Federer        20                   20.0   \n",
      "59038  Roger Federer        20                   20.0   \n",
      "59052  Roger Federer        17                   19.4   \n",
      "\n",
      "       opponent_mean_10games_shifted  \n",
      "57669                            NaN  \n",
      "3169                            17.0  \n",
      "2595                            20.0  \n",
      "59038                           20.0  \n",
      "59052                           20.0  \n"
     ]
    }
   ],
   "source": [
    "data_bo3 = dynamic_features(df=data_bo3, target_feature='nb_games', new_feature_name='mean_10games', list_sort_features=['tourney_date', 'match_num'], window_size=10)"
   ]
  },
  {
   "cell_type": "code",
   "execution_count": 35,
   "metadata": {},
   "outputs": [
    {
     "name": "stdout",
     "output_type": "stream",
     "text": [
      "         player_name  nb_games  player_mean_10games  \\\n",
      "5121   Roger Federer        33            33.000000   \n",
      "5157   Roger Federer        30            31.500000   \n",
      "59691  Roger Federer        26            29.666667   \n",
      "4689   Roger Federer        38            31.750000   \n",
      "4725   Roger Federer        31            31.600000   \n",
      "\n",
      "       player_mean_10games_shifted  \n",
      "5121                           NaN  \n",
      "5157                     33.000000  \n",
      "59691                    31.500000  \n",
      "4689                     29.666667  \n",
      "4725                     31.750000  \n",
      "\n",
      "\n",
      "       opponent_name  nb_games  opponent_mean_10games  \\\n",
      "59636  Roger Federer        33              33.000000   \n",
      "59672  Roger Federer        30              31.500000   \n",
      "5176   Roger Federer        26              29.666667   \n",
      "59204  Roger Federer        38              31.750000   \n",
      "59240  Roger Federer        31              31.600000   \n",
      "\n",
      "       opponent_mean_10games_shifted  \n",
      "59636                            NaN  \n",
      "59672                      33.000000  \n",
      "5176                       31.500000  \n",
      "59204                      29.666667  \n",
      "59240                      31.750000  \n"
     ]
    }
   ],
   "source": [
    "data_bo5 = dynamic_features(df=data_bo5, target_feature='nb_games', new_feature_name='mean_10games', list_sort_features=['tourney_date', 'match_num'], window_size=10)"
   ]
  },
  {
   "cell_type": "markdown",
   "metadata": {},
   "source": [
    "### Suppression des lignes contenant les NA crée par shift"
   ]
  },
  {
   "cell_type": "code",
   "execution_count": 36,
   "metadata": {},
   "outputs": [
    {
     "name": "stdout",
     "output_type": "stream",
     "text": [
      "2478 observations supprimées (3%).\n"
     ]
    }
   ],
   "source": [
    "nb_obs = data_bo3.shape[0]\n",
    "data_bo3.dropna(subset=['player_mean_10games_shifted',\n",
    "                    'opponent_mean_10games_shifted',\n",
    "                    'player_mean_10time_shifted', \n",
    "                    'opponent_mean_10time_shifted'],\n",
    "           axis=0,\n",
    "           inplace=True)\n",
    "print('{} observations supprimées ({}%).'.format(nb_obs - data_bo3.shape[0], perc_print(nb_obs, data_bo3.shape[0])))"
   ]
  },
  {
   "cell_type": "code",
   "execution_count": 37,
   "metadata": {},
   "outputs": [
    {
     "name": "stdout",
     "output_type": "stream",
     "text": [
      "1386 observations supprimées (7%).\n"
     ]
    }
   ],
   "source": [
    "nb_obs = data_bo5.shape[0]\n",
    "data_bo5.dropna(subset=['player_mean_10games_shifted',\n",
    "                    'opponent_mean_10games_shifted',\n",
    "                    'player_mean_10time_shifted', \n",
    "                    'opponent_mean_10time_shifted'],\n",
    "           axis=0,\n",
    "           inplace=True)\n",
    "print('{} observations supprimées ({}%).'.format(nb_obs - data_bo5.shape[0], perc_print(nb_obs, data_bo5.shape[0])))"
   ]
  },
  {
   "cell_type": "markdown",
   "metadata": {},
   "source": [
    "On remarque que le nombre d'observations supprimées n'est pas égale au double du nombre de joueurs uniques présent dans nos données. Après vérification, ce résultat est dû aux matchs dans lesquels les deux joueurs apparaissent pour la première fois dans notre base de donnée (et donc leur _shiffted_value_ est égale à NaN pour les deux sur la même ligne)."
   ]
  },
  {
   "cell_type": "markdown",
   "metadata": {},
   "source": [
    "### 4.6 Features de différences"
   ]
  },
  {
   "cell_type": "markdown",
   "metadata": {},
   "source": [
    "On recrée ici les variables _diff_ranking_ et _avg_ranking_ que nous avons étudié dans l'analyse descriptive des données."
   ]
  },
  {
   "cell_type": "code",
   "execution_count": 38,
   "metadata": {},
   "outputs": [],
   "source": [
    "data_bo3['diff_mean_10time_shifted'] = data_bo3.apply(lambda x: abs(x['player_mean_10time_shifted']-x['opponent_mean_10time_shifted']), axis=1)"
   ]
  },
  {
   "cell_type": "code",
   "execution_count": 39,
   "metadata": {},
   "outputs": [],
   "source": [
    "data_bo5['diff_mean_10time_shifted'] = data_bo5.apply(lambda x: abs(x['player_mean_10time_shifted']-x['opponent_mean_10time_shifted']), axis=1)"
   ]
  },
  {
   "cell_type": "code",
   "execution_count": 40,
   "metadata": {},
   "outputs": [],
   "source": [
    "data_bo3['diff_mean_10games_shifted'] = data_bo3.apply(lambda x: abs(x['player_mean_10games_shifted']-x['opponent_mean_10games_shifted']), axis=1)"
   ]
  },
  {
   "cell_type": "code",
   "execution_count": 41,
   "metadata": {},
   "outputs": [],
   "source": [
    "data_bo5['diff_mean_10games_shifted'] = data_bo5.apply(lambda x: abs(x['player_mean_10games_shifted']-x['opponent_mean_10games_shifted']), axis=1)"
   ]
  },
  {
   "cell_type": "code",
   "execution_count": 42,
   "metadata": {},
   "outputs": [],
   "source": [
    "data_bo3['diff_mean_games'] = data_bo3.apply(lambda x: abs(x['player_mean_games']-x['opponent_mean_games']), axis=1)"
   ]
  },
  {
   "cell_type": "code",
   "execution_count": 43,
   "metadata": {},
   "outputs": [],
   "source": [
    "data_bo5['diff_mean_games'] = data_bo5.apply(lambda x: abs(x['player_mean_games']-x['opponent_mean_games']), axis=1)"
   ]
  },
  {
   "cell_type": "code",
   "execution_count": 44,
   "metadata": {},
   "outputs": [],
   "source": [
    "data_bo3['diff_mean_time'] = data_bo3.apply(lambda x: abs(x['player_mean_time']-x['opponent_mean_time']), axis=1)"
   ]
  },
  {
   "cell_type": "code",
   "execution_count": 45,
   "metadata": {},
   "outputs": [],
   "source": [
    "data_bo5['diff_mean_time'] = data_bo5.apply(lambda x: abs(x['player_mean_time']-x['opponent_mean_time']), axis=1)"
   ]
  },
  {
   "cell_type": "markdown",
   "metadata": {},
   "source": [
    "#### Création d'une clef synthétique pour pouvoir droper les duplicates (ne plus avoir les matchs en double)"
   ]
  },
  {
   "cell_type": "markdown",
   "metadata": {},
   "source": [
    "Afin de ne plus avoir qu'une ligne par match on crée un identifiant unique à l'aide du l'id du tournoi et du numéro de match. Ainsi nous pouvons effectuer un drop duplicates sur cette colonne pour inverser le dédoublement de ligne fait au préalable."
   ]
  },
  {
   "cell_type": "code",
   "execution_count": 46,
   "metadata": {},
   "outputs": [
    {
     "name": "stdout",
     "output_type": "stream",
     "text": [
      "Erreur lors du dédoublement des observations (avant 86440 - après 41154)\n"
     ]
    }
   ],
   "source": [
    "data_bo3['synth_key'] = data_bo3.apply(lambda x: x['tourney_id']+'-'+str(x['match_num']), axis=1)\n",
    "data_bo3[['tourney_id', 'match_num', 'synth_key']].head(1)\n",
    "len_before = len(data_bo3)\n",
    "data_bo3 = data_bo3.copy()\n",
    "data_bo3.drop_duplicates('synth_key', keep='first', inplace=True)\n",
    "len_after = len(data_bo3)\n",
    "if len_before == 2 * len_after:\n",
    "    print('Dédoublement réussi (avant {} - après {})'.format(len_before, len_after))\n",
    "else:\n",
    "    print('Erreur lors du dédoublement des observations (avant {} - après {})'.format(len_before, len_after))"
   ]
  },
  {
   "cell_type": "code",
   "execution_count": 47,
   "metadata": {},
   "outputs": [
    {
     "name": "stdout",
     "output_type": "stream",
     "text": [
      "Erreur lors du dédoublement des observations (avant 18718 - après 8909)\n"
     ]
    }
   ],
   "source": [
    "data_bo5['synth_key'] = data_bo5.apply(lambda x: x['tourney_id']+'-'+str(x['match_num']), axis=1)\n",
    "data_bo5[['tourney_id', 'match_num', 'synth_key']].head(1)\n",
    "len_before = len(data_bo5)\n",
    "data_bo5 = data_bo5.copy()\n",
    "data_bo5.drop_duplicates('synth_key', keep='first', inplace=True)\n",
    "len_after = len(data_bo5)\n",
    "if len_before == 2 * len_after:\n",
    "    print('Dédoublement réussi (avant {} - après {})'.format(len_before, len_after))\n",
    "else:\n",
    "    print('Erreur lors du dédoublement des observations (avant {} - après {})'.format(len_before, len_after))"
   ]
  },
  {
   "cell_type": "markdown",
   "metadata": {},
   "source": [
    "## Exploitation des nouvelles features"
   ]
  },
  {
   "cell_type": "markdown",
   "metadata": {},
   "source": [
    "Dans un premier temps nous récupérons la liste des tournois sélectionnés par la régréssion de Lasso effectuée précédement, puis ajoutons à dans la liste de ces variables explicatives les nouvelles features que nous vennons de créer.  \n",
    "Les étapes effectuées sont similaires à celles expliqués lors de la création de nos premiers modèles."
   ]
  },
  {
   "cell_type": "code",
   "execution_count": 48,
   "metadata": {},
   "outputs": [],
   "source": [
    "import pickle"
   ]
  },
  {
   "cell_type": "code",
   "execution_count": 49,
   "metadata": {},
   "outputs": [],
   "source": [
    "tournois_retenus_bo3_temp = pickle.load(open(PATH+'/data/tournois_retenus_bo3.pkl', 'rb'))\n",
    "tournois_retenus_bo5_temp = pickle.load(open(PATH+'/data/tournois_retenus_bo5.pkl', 'rb'))"
   ]
  },
  {
   "cell_type": "code",
   "execution_count": 50,
   "metadata": {},
   "outputs": [],
   "source": [
    "col = ['diff_ranking', 'avg_ranking', 'diff_mean_10time_shifted', 'same_hand',\n",
    "       'diff_mean_10games_shifted', 'diff_mean_games', 'diff_mean_time', 'surface', \n",
    "       'player_age', 'opponent_age', 'year', 'tourney_name', 'tourney_level', 'round']"
   ]
  },
  {
   "cell_type": "code",
   "execution_count": 51,
   "metadata": {},
   "outputs": [],
   "source": [
    "from sklearn.model_selection import train_test_split"
   ]
  },
  {
   "cell_type": "code",
   "execution_count": 52,
   "metadata": {},
   "outputs": [],
   "source": [
    "X_train_bo3, X_test_bo3, y_train_bo3, y_test_bo3 = train_test_split(data_bo3.drop('minutes', axis=1), data_bo3['minutes'], test_size=0.33, random_state=42)\n",
    "X_train_bo5, X_test_bo5, y_train_bo5, y_test_bo5 = train_test_split(data_bo5.drop('minutes', axis=1), data_bo5['minutes'], test_size=0.33, random_state=42)"
   ]
  },
  {
   "cell_type": "code",
   "execution_count": 53,
   "metadata": {},
   "outputs": [],
   "source": [
    "X_train_bo3 = X_train_bo3[col]\n",
    "X_train_bo5 = X_train_bo5[col]\n",
    "X_test_bo3 = X_test_bo3[col]\n",
    "X_test_bo5 = X_test_bo5[col]"
   ]
  },
  {
   "cell_type": "code",
   "execution_count": 54,
   "metadata": {},
   "outputs": [],
   "source": [
    "X_qual = ['surface', 'tourney_level', 'round']\n",
    "for X in [X_train_bo5, X_train_bo3, X_test_bo5, X_test_bo3]:\n",
    "    for variable in X_qual:\n",
    "        var_enc = pd.get_dummies(X[variable], prefix=variable, drop_first=False) # drop_first est set à False\n",
    "        X.drop(variable, axis=1, inplace=True)\n",
    "        for col_enc in var_enc.columns:\n",
    "            X[col_enc] = var_enc[col_enc]"
   ]
  },
  {
   "cell_type": "code",
   "execution_count": 55,
   "metadata": {},
   "outputs": [],
   "source": [
    "X_train_bo3.dropna(axis=0, how='any', inplace=True)\n",
    "X_train_bo5.dropna(axis=0, how='any', inplace=True)\n",
    "X_test_bo3.dropna(axis=0, how='any', inplace=True)\n",
    "X_test_bo5.dropna(axis=0, how='any', inplace=True)"
   ]
  },
  {
   "cell_type": "code",
   "execution_count": 56,
   "metadata": {},
   "outputs": [],
   "source": [
    "y_train_bo3 = y_train_bo3[X_train_bo3.index]\n",
    "y_train_bo5 = y_train_bo5[X_train_bo5.index]\n",
    "y_test_bo3 = y_test_bo3[X_test_bo3.index]\n",
    "y_test_bo5 = y_test_bo5[X_test_bo5.index]"
   ]
  },
  {
   "cell_type": "code",
   "execution_count": 57,
   "metadata": {},
   "outputs": [],
   "source": [
    "X_train_bo5.drop(['tourney_level_M', 'tourney_level_G', 'tourney_level_F'], axis=1, inplace=True)"
   ]
  },
  {
   "cell_type": "code",
   "execution_count": 58,
   "metadata": {},
   "outputs": [],
   "source": [
    "for tournoi in tournois_retenus_bo3_temp:\n",
    "    X_train_bo3['tourney_name_'+tournoi] = X_train_bo3.apply(lambda x: 1 if x['tourney_name']==tournoi else 0, axis=1).copy()\n",
    "X_train_bo3['tourney_name_autre'] = X_train_bo3.apply(lambda x: 1 if x['tourney_name'] not in tournois_retenus_bo3_temp else 0, axis=1).copy()\n",
    "X_train_bo3.drop('tourney_name', axis=1, inplace=True)\n",
    "\n",
    "for tournoi in tournois_retenus_bo3_temp:\n",
    "    X_test_bo3['tourney_name_'+tournoi] = X_test_bo3.apply(lambda x: 1 if x['tourney_name']==tournoi else 0, axis=1).copy()\n",
    "X_test_bo3['tourney_name_autre'] = X_test_bo3.apply(lambda x: 1 if x['tourney_name'] not in tournois_retenus_bo3_temp else 0, axis=1).copy()\n",
    "X_test_bo3.drop('tourney_name', axis=1, inplace=True)\n",
    "\n",
    "for tournoi in tournois_retenus_bo5_temp:\n",
    "    X_train_bo5['tourney_name_'+tournoi] = X_train_bo5.apply(lambda x: 1 if x['tourney_name']==tournoi else 0, axis=1).copy()\n",
    "X_train_bo5['tourney_name_autre'] = X_train_bo5.apply(lambda x: 1 if x['tourney_name'] not in tournois_retenus_bo5_temp else 0, axis=1).copy()\n",
    "X_train_bo5.drop('tourney_name', axis=1, inplace=True)\n",
    "\n",
    "for tournoi in tournois_retenus_bo5_temp:\n",
    "    X_test_bo5['tourney_name_'+tournoi] = X_test_bo5.apply(lambda x: 1 if x['tourney_name']==tournoi else 0, axis=1).copy()\n",
    "X_test_bo5['tourney_name_autre'] = X_test_bo5.apply(lambda x: 1 if x['tourney_name'] not in tournois_retenus_bo5_temp else 0, axis=1).copy()\n",
    "X_test_bo5.drop('tourney_name', axis=1, inplace=True)"
   ]
  },
  {
   "cell_type": "markdown",
   "metadata": {},
   "source": [
    "### Random Forest"
   ]
  },
  {
   "cell_type": "markdown",
   "metadata": {},
   "source": [
    "La Random Forest ayant obtenue les meilleurs résultats lors de nos premiers tests, nous réappliquons ce modèle sur le jeu de données enrichies, avec encore une fois une première étape de cross-validation des paramètres."
   ]
  },
  {
   "cell_type": "code",
   "execution_count": 65,
   "metadata": {},
   "outputs": [],
   "source": [
    "from sklearn.ensemble import RandomForestRegressor\n",
    "from sklearn.model_selection import GridSearchCV\n",
    "from sklearn.metrics import mean_squared_error"
   ]
  },
  {
   "cell_type": "code",
   "execution_count": 66,
   "metadata": {},
   "outputs": [],
   "source": [
    "def harmonisation_train_test(df_train, df_test):\n",
    "    for col in df_train.columns:\n",
    "        if col not in df_test.columns:\n",
    "            df_test[col] = np.zeros(df_test.shape[0])\n",
    "    df_test = df_test[df_train.columns].copy()\n",
    "    return df_test.copy()"
   ]
  },
  {
   "cell_type": "code",
   "execution_count": 67,
   "metadata": {},
   "outputs": [],
   "source": [
    "regRF_bo3 = RandomForestRegressor(n_estimators=100, random_state=42, n_jobs=-1,)\n",
    "regRF_bo5 = RandomForestRegressor(n_estimators=100, random_state=42, n_jobs=-1)\n",
    "\n",
    "RF_params = {'max_depth':[x for x in range(5,21,5)], \n",
    "                   'min_samples_leaf':[10, 100, 500],\n",
    "              'max_features':['sqrt', 'log2', 'auto'],\n",
    "              'bootstrap':[True, False]}"
   ]
  },
  {
   "cell_type": "code",
   "execution_count": 68,
   "metadata": {},
   "outputs": [
    {
     "name": "stdout",
     "output_type": "stream",
     "text": [
      "Valeurs optimales de (max_depth, min_samples_leaf, max_features, bootstrap) : (20, 10, 'sqrt', False)\n",
      "Bo3:\n",
      "\tMSE : train = 736.6469945587625 / test = 886.7210495618592\n",
      "Valeurs optimales de (max_depth, min_samples_leaf, max_features, bootstrap) : (10, 10, 'sqrt', True)\n",
      "Bo5:\n",
      "\tMSE : train = 1733.3982555994346 / test = 2007.3792755821678\n"
     ]
    }
   ],
   "source": [
    "GSCV_RF_bo3 = GridSearchCV(regRF_bo3, RF_params, 'neg_mean_squared_error', cv=3)\n",
    "GSCV_RF_bo3.fit(X_train_bo3, y_train_bo3)\n",
    "regBestRF_bo3 = GSCV_RF_bo3.best_estimator_\n",
    "print('Valeurs optimales de (max_depth, min_samples_leaf, max_features, bootstrap) : {}'.format((GSCV_RF_bo3.best_estimator_.get_params()['max_depth'], \n",
    "                                                                                               GSCV_RF_bo3.best_estimator_.get_params()['min_samples_leaf'], \n",
    "                                                                                               GSCV_RF_bo3.best_estimator_.get_params()['max_features'], \n",
    "                                                                                               GSCV_RF_bo3.best_estimator_.get_params()['bootstrap'])))\n",
    "X_test_bo3 = harmonisation_train_test(X_train_bo3, X_test_bo3)\n",
    "y_pred_train_bo3 = regBestRF_bo3.predict(X_train_bo3.values)\n",
    "y_pred_test_bo3 = regBestRF_bo3.predict(X_test_bo3.values)\n",
    "print('Bo3:\\n\\tMSE : train = {} / test = {}'.format(mean_squared_error(y_train_bo3.values, y_pred_train_bo3),\n",
    "                                                    mean_squared_error(y_test_bo3.values, y_pred_test_bo3)))\n",
    "\n",
    "GSCV_RF_bo5 = GridSearchCV(regRF_bo5, RF_params, 'neg_mean_squared_error', cv=3)\n",
    "GSCV_RF_bo5.fit(X_train_bo5, y_train_bo5)\n",
    "regBestRF_bo5 = GSCV_RF_bo5.best_estimator_\n",
    "print('Valeurs optimales de (max_depth, min_samples_leaf, max_features, bootstrap) : {}'.format((GSCV_RF_bo5.best_estimator_.get_params()['max_depth'], \n",
    "                                                                                               GSCV_RF_bo5.best_estimator_.get_params()['min_samples_leaf'], \n",
    "                                                                                               GSCV_RF_bo5.best_estimator_.get_params()['max_features'], \n",
    "                                                                                               GSCV_RF_bo5.best_estimator_.get_params()['bootstrap'])))\n",
    "X_test_bo5 = harmonisation_train_test(X_train_bo5, X_test_bo5)\n",
    "y_pred_train_bo5 = regBestRF_bo5.predict(X_train_bo5.values)\n",
    "y_pred_test_bo5 = regBestRF_bo5.predict(X_test_bo5.values)\n",
    "print('Bo5:\\n\\tMSE : train = {} / test = {}'.format(mean_squared_error(y_train_bo5.values, y_pred_train_bo5),\n",
    "                                                    mean_squared_error(y_test_bo5.values, y_pred_test_bo5)))"
   ]
  },
  {
   "cell_type": "code",
   "execution_count": 69,
   "metadata": {},
   "outputs": [
    {
     "data": {
      "image/png": "[encoded data removed]",
      "text/plain": [
       "<Figure size 864x360 with 2 Axes>"
      ]
     },
     "metadata": {},
     "output_type": "display_data"
    }
   ],
   "source": [
    "fig, axs = plt.subplots(1, 2, figsize=(12,5))\n",
    "\n",
    "axs[0].scatter(y_train_bo3, y_pred_train_bo3, alpha=0.5, label='bo3')\n",
    "axs[0].scatter(y_train_bo5, y_pred_train_bo5, alpha=0.5, label='bo5')\n",
    "axs[0].plot([0,400], [0,400], color='red')\n",
    "axs[0].axis('equal')\n",
    "axs[0].set_xlim((0,400))\n",
    "axs[0].set_ylim((0,400))\n",
    "axs[0].set_xlabel(\"$y$\",fontsize=18)\n",
    "axs[0].set_ylabel(\"$\\hat{y}$\",fontsize=18)\n",
    "axs[0].legend()\n",
    "axs[0].set_title(\"Echantillon d'apprentissage\",fontsize=18)\n",
    "axs[1].scatter(y_test_bo3, y_pred_test_bo3, alpha=0.5, label='bo3')\n",
    "axs[1].scatter(y_test_bo5, y_pred_test_bo5, alpha=0.5, label='bo5')\n",
    "axs[1].plot([0,400], [0,400], color='red')\n",
    "axs[1].axis('equal')\n",
    "axs[1].set_xlim((0,400))\n",
    "axs[1].set_ylim((0,400))\n",
    "axs[1].set_xlabel(\"$y$\",fontsize=18)\n",
    "axs[1].set_ylabel(\"$\\hat{y}$\",fontsize=18)\n",
    "axs[1].legend()\n",
    "axs[1].set_title(\"Echantillon de validation\", fontsize=18)\n",
    "plt.show()"
   ]
  },
  {
   "cell_type": "markdown",
   "metadata": {},
   "source": [
    "L'apport des features que nous avons crées reste très faible et la durée du match présente une erreur élevée.  \n",
    "  \n",
    "La MSE sur les Bo3 sur notre échantillon test s'élève à 886, ce qui représente une erreur moyenne de 30 minutes ce qui est très élevé pour des matchs durant en moyenne de 1h35 environ.  \n",
    "Même constat pour les Bo5, où la MSE s'élève cette fois-ci à 2007, représentant une erreur de prédiction de la longueur d'un match de 45 minutes en moyennes, mais nous contstatons cependant une légère baisse suite à l'introduction de nos variables explicatives, même si cette dernière reste marginale.  \n",
    "  \n",
    "La conclusion que nous en tirons est qu'il est complexe de prédire la durée d'un match, ce phénomène est très aléatoire et les variables à notre disposition ne permettent pas de prédire de manière précise ce phénomène.  \n",
    "  \n",
    "Nous reformulons le problème sous la forme d'une classification binaire, nous voulons prédire si oui ou non un match durera plus de 3h dans un Bo5."
   ]
  },
  {
   "cell_type": "markdown",
   "metadata": {},
   "source": [
    "## Classification des matchs de plus de 3h sur les Bo5"
   ]
  },
  {
   "cell_type": "code",
   "execution_count": 75,
   "metadata": {},
   "outputs": [],
   "source": [
    "from  sklearn.ensemble import RandomForestClassifier\n",
    "from sklearn.metrics import confusion_matrix"
   ]
  },
  {
   "cell_type": "code",
   "execution_count": 76,
   "metadata": {},
   "outputs": [],
   "source": [
    "y_train_bo5_class = [0 if x<190 else 1 for x in y_train_bo5]\n",
    "y_test_bo5_class = [0 if x<190 else 1 for x in y_test_bo5]"
   ]
  },
  {
   "cell_type": "code",
   "execution_count": 81,
   "metadata": {},
   "outputs": [],
   "source": [
    "RF_clf = RandomForestClassifier()\n",
    "RF_clf_params = {'n_estimators':[100,200,300],\n",
    "            'max_depth':[2,4,7,15],\n",
    "            'max_features':[12,'auto', 'sqrt']}"
   ]
  },
  {
   "cell_type": "code",
   "execution_count": 91,
   "metadata": {},
   "outputs": [],
   "source": [
    "GSCV_RF_clf = GridSearchCV(RF_clf, RF_clf_params, 'recall', cv=3)"
   ]
  },
  {
   "cell_type": "code",
   "execution_count": 92,
   "metadata": {},
   "outputs": [
    {
     "data": {
      "text/plain": [
       "GridSearchCV(cv=3, error_score=nan,\n",
       "             estimator=RandomForestClassifier(bootstrap=True, ccp_alpha=0.0,\n",
       "                                              class_weight=None,\n",
       "                                              criterion='gini', max_depth=None,\n",
       "                                              max_features='auto',\n",
       "                                              max_leaf_nodes=None,\n",
       "                                              max_samples=None,\n",
       "                                              min_impurity_decrease=0.0,\n",
       "                                              min_impurity_split=None,\n",
       "                                              min_samples_leaf=1,\n",
       "                                              min_samples_split=2,\n",
       "                                              min_weight_fraction_leaf=0.0,\n",
       "                                              n_estimators=100, n_jobs=None,\n",
       "                                              oob_score=False,\n",
       "                                              random_state=None, verbose=0,\n",
       "                                              warm_start=False),\n",
       "             iid='deprecated', n_jobs=None,\n",
       "             param_grid={'max_depth': [2, 4, 7, 15],\n",
       "                         'max_features': [12, 'auto', 'sqrt'],\n",
       "                         'n_estimators': [100, 200, 300]},\n",
       "             pre_dispatch='2*n_jobs', refit=True, return_train_score=False,\n",
       "             scoring='recall', verbose=0)"
      ]
     },
     "execution_count": 92,
     "metadata": {},
     "output_type": "execute_result"
    }
   ],
   "source": [
    "GSCV_RF_clf.fit(X_train_bo5,y_train_bo5_class)"
   ]
  },
  {
   "cell_type": "markdown",
   "metadata": {},
   "source": [
    "Les paramètres du meilleur estimateur sont les suivants."
   ]
  },
  {
   "cell_type": "code",
   "execution_count": 93,
   "metadata": {},
   "outputs": [
    {
     "data": {
      "text/plain": [
       "RandomForestClassifier(bootstrap=True, ccp_alpha=0.0, class_weight=None,\n",
       "                       criterion='gini', max_depth=15, max_features=12,\n",
       "                       max_leaf_nodes=None, max_samples=None,\n",
       "                       min_impurity_decrease=0.0, min_impurity_split=None,\n",
       "                       min_samples_leaf=1, min_samples_split=2,\n",
       "                       min_weight_fraction_leaf=0.0, n_estimators=100,\n",
       "                       n_jobs=None, oob_score=False, random_state=None,\n",
       "                       verbose=0, warm_start=False)"
      ]
     },
     "execution_count": 93,
     "metadata": {},
     "output_type": "execute_result"
    }
   ],
   "source": [
    "GSCV_RF_clf.best_estimator_"
   ]
  },
  {
   "cell_type": "code",
   "execution_count": 94,
   "metadata": {},
   "outputs": [
    {
     "name": "stdout",
     "output_type": "stream",
     "text": [
      "Score Random Forest : 0.80\n"
     ]
    }
   ],
   "source": [
    "X_test_bo5 = harmonisation_train_test(X_train_bo5, X_test_bo5)\n",
    "print('Score Random Forest : %0.2f' % GSCV_RF_clf.best_estimator_.score(X_test_bo5, y_test_bo5_class))"
   ]
  },
  {
   "cell_type": "code",
   "execution_count": 95,
   "metadata": {},
   "outputs": [
    {
     "data": {
      "text/plain": [
       "array([[2343,    7],\n",
       "       [ 576,   10]])"
      ]
     },
     "execution_count": 95,
     "metadata": {},
     "output_type": "execute_result"
    }
   ],
   "source": [
    "from sklearn.metrics import confusion_matrix\n",
    "confusion_matrix(y_test_bo5_class, GSCV_RF_clf.best_estimator_.predict(X_test_bo5))"
   ]
  },
  {
   "cell_type": "markdown",
   "metadata": {},
   "source": [
    "Encore une fois, le modèle ne parvient pas à détecter les matchs de plus de 3 heures. Ceci peut provenir en partie du problème de sous représentativité de ces matchs, incitant le modèle à se focaliser sur les matchs de mois de 3 heures."
   ]
  },
  {
   "cell_type": "markdown",
   "metadata": {},
   "source": [
    "## Conclusion"
   ]
  },
  {
   "cell_type": "markdown",
   "metadata": {},
   "source": [
    "Les résultats obtenus ne sont pas à la hauteur de nos attentes et sont décevants. La nature du problème semble trop complexe pour être prédite à partir des données à notre disposition. Les étapes de features engineering n'ont pas permis d'améliorer de manière significative la qualité des prédictions faites par nos premiers modèles."
   ]
  }
 ],
 "metadata": {
  "kernelspec": {
   "display_name": "Python 3",
   "language": "python",
   "name": "python3"
  },
  "language_info": {
   "codemirror_mode": {
    "name": "ipython",
    "version": 3
   },
   "file_extension": ".py",
   "mimetype": "text/x-python",
   "name": "python",
   "nbconvert_exporter": "python",
   "pygments_lexer": "ipython3",
   "version": "3.7.6"
  }
 },
 "nbformat": 4,
 "nbformat_minor": 4
}
