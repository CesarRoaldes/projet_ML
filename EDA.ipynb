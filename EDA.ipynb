{
 "cells": [
  {
   "cell_type": "markdown",
   "metadata": {},
   "source": [
    "# Description du jeu de données"
   ]
  },
  {
   "cell_type": "markdown",
   "metadata": {},
   "source": [
    "Pour notre projet nous avons décidé de choisir la question suivante : <br> <br>\n",
    "<center><font color='red'>Peut-on prédire la durée d'un match de tennis à partir des données historiques des matchs ATP ?</font></center>\n",
    "<br>\n",
    "Nous avons voulu rompre avec le problème classique de prédire le vainqueur d'un match de tennis et pour nous intéresser à la problématique de la durée des matchs de tennis. Nous avons pensé qu'il pourrait être intéressant pour les sociétés organisatrices de tournois de pouvoir prédire la durée des matchs afin de mieux les agencer et éviter les reports. "
   ]
  },
  {
   "cell_type": "markdown",
   "metadata": {},
   "source": [
    "Le jeu de données que nous avons utilisé est la base mise à disposition sur github à l'adresse suivante : https://github.com/JeffSackmann/tennis_atp"
   ]
  },
  {
   "cell_type": "markdown",
   "metadata": {},
   "source": [
    "Le jeu de données contient les informations de tous les matchs ATP (Association of Tennis Professionals) depuis 1968 à aujourd'hui. Pour des questions de fiabilité nous utiliserons les historiques des matchs entre 2000 et 2019. "
   ]
  },
  {
   "cell_type": "markdown",
   "metadata": {},
   "source": [
    "Chaque ligne du jeu de données représente une confrontation entre deux joueurs. Nous avons des informations sur le tournoi dans lequel se joue le match (surface, round(8ème, quart-de-finale,...), la surface du terrain, la durée du match ainsi que des informations sur les joueurs. Nous expliciterons chaque variable et leurs modalités au fur et à mesure que nous les analyserons.  "
   ]
  },
  {
   "cell_type": "code",
   "execution_count": 33,
   "metadata": {},
   "outputs": [],
   "source": [
    "import string\n",
    "import re\n",
    "import pandas as pd\n",
    "import matplotlib.pyplot as plt\n",
    "import seaborn as sns\n",
    "import numpy as np\n",
    "import os \n",
    "PATH = os.path.abspath('')"
   ]
  },
  {
   "cell_type": "code",
   "execution_count": 34,
   "metadata": {},
   "outputs": [],
   "source": [
    "sns.set()"
   ]
  },
  {
   "cell_type": "code",
   "execution_count": 35,
   "metadata": {},
   "outputs": [],
   "source": [
    "import warnings\n",
    "warnings.simplefilter(action='ignore', category=FutureWarning)"
   ]
  },
  {
   "cell_type": "code",
   "execution_count": 36,
   "metadata": {},
   "outputs": [],
   "source": [
    "pd.set_option('display.max_columns', 500)"
   ]
  },
  {
   "cell_type": "code",
   "execution_count": 37,
   "metadata": {},
   "outputs": [],
   "source": [
    "sns.set_style(\"ticks\")"
   ]
  },
  {
   "cell_type": "markdown",
   "metadata": {},
   "source": [
    "## Importation et nettoyage des données"
   ]
  },
  {
   "cell_type": "raw",
   "metadata": {},
   "source": [
    "PATH = '/Users/cesar/Desktop/tennis_atp/'"
   ]
  },
  {
   "cell_type": "raw",
   "metadata": {},
   "source": [
    "PATH = '/home/cesar/Desktop/data/'"
   ]
  },
  {
   "cell_type": "raw",
   "metadata": {},
   "source": [
    "PATH = '/home/steve/Documents/ENSAE/Projet_ML_Tennis/Data/tennis_atp/'"
   ]
  },
  {
   "cell_type": "code",
   "execution_count": 40,
   "metadata": {},
   "outputs": [],
   "source": [
    "data = pd.read_csv(PATH+'/tennis_atp/atp_matches_2000.csv')\n",
    "for annee in range(2001, 2020):\n",
    "    data = pd.concat([data, pd.read_csv(PATH+'/tennis_atp/atp_matches_'+str(annee)+'.csv')], axis=0, sort=False)"
   ]
  },
  {
   "cell_type": "markdown",
   "metadata": {},
   "source": [
    "Nous avons concaténé plusieurs fichiers CVS comprennant les matchs joué sur l'année. Il est donc nécessaire de reset l'index de la dataframe afin que chaque ligne ait un identifiant unique."
   ]
  },
  {
   "cell_type": "code",
   "execution_count": 46,
   "metadata": {},
   "outputs": [],
   "source": [
    "data.reset_index(inplace=True, drop=True)"
   ]
  },
  {
   "cell_type": "code",
   "execution_count": 47,
   "metadata": {},
   "outputs": [
    {
     "data": {
      "text/html": [
       "<div>\n",
       "<style scoped>\n",
       "    .dataframe tbody tr th:only-of-type {\n",
       "        vertical-align: middle;\n",
       "    }\n",
       "\n",
       "    .dataframe tbody tr th {\n",
       "        vertical-align: top;\n",
       "    }\n",
       "\n",
       "    .dataframe thead th {\n",
       "        text-align: right;\n",
       "    }\n",
       "</style>\n",
       "<table border=\"1\" class=\"dataframe\">\n",
       "  <thead>\n",
       "    <tr style=\"text-align: right;\">\n",
       "      <th></th>\n",
       "      <th>tourney_id</th>\n",
       "      <th>tourney_name</th>\n",
       "      <th>surface</th>\n",
       "      <th>draw_size</th>\n",
       "      <th>tourney_level</th>\n",
       "      <th>tourney_date</th>\n",
       "      <th>match_num</th>\n",
       "      <th>winner_id</th>\n",
       "      <th>winner_seed</th>\n",
       "      <th>winner_entry</th>\n",
       "      <th>winner_name</th>\n",
       "      <th>winner_hand</th>\n",
       "      <th>winner_ht</th>\n",
       "      <th>winner_ioc</th>\n",
       "      <th>winner_age</th>\n",
       "      <th>loser_id</th>\n",
       "      <th>loser_seed</th>\n",
       "      <th>loser_entry</th>\n",
       "      <th>loser_name</th>\n",
       "      <th>loser_hand</th>\n",
       "      <th>loser_ht</th>\n",
       "      <th>loser_ioc</th>\n",
       "      <th>loser_age</th>\n",
       "      <th>score</th>\n",
       "      <th>best_of</th>\n",
       "      <th>round</th>\n",
       "      <th>minutes</th>\n",
       "      <th>w_ace</th>\n",
       "      <th>w_df</th>\n",
       "      <th>w_svpt</th>\n",
       "      <th>w_1stIn</th>\n",
       "      <th>w_1stWon</th>\n",
       "      <th>w_2ndWon</th>\n",
       "      <th>w_SvGms</th>\n",
       "      <th>w_bpSaved</th>\n",
       "      <th>w_bpFaced</th>\n",
       "      <th>l_ace</th>\n",
       "      <th>l_df</th>\n",
       "      <th>l_svpt</th>\n",
       "      <th>l_1stIn</th>\n",
       "      <th>l_1stWon</th>\n",
       "      <th>l_2ndWon</th>\n",
       "      <th>l_SvGms</th>\n",
       "      <th>l_bpSaved</th>\n",
       "      <th>l_bpFaced</th>\n",
       "      <th>winner_rank</th>\n",
       "      <th>winner_rank_points</th>\n",
       "      <th>loser_rank</th>\n",
       "      <th>loser_rank_points</th>\n",
       "    </tr>\n",
       "  </thead>\n",
       "  <tbody>\n",
       "    <tr>\n",
       "      <th>0</th>\n",
       "      <td>2000-301</td>\n",
       "      <td>Auckland</td>\n",
       "      <td>Hard</td>\n",
       "      <td>32</td>\n",
       "      <td>A</td>\n",
       "      <td>20000110</td>\n",
       "      <td>1</td>\n",
       "      <td>103163</td>\n",
       "      <td>1</td>\n",
       "      <td>NaN</td>\n",
       "      <td>Tommy Haas</td>\n",
       "      <td>R</td>\n",
       "      <td>188.0</td>\n",
       "      <td>GER</td>\n",
       "      <td>21.771389</td>\n",
       "      <td>101543</td>\n",
       "      <td>NaN</td>\n",
       "      <td>NaN</td>\n",
       "      <td>Jeff Tarango</td>\n",
       "      <td>L</td>\n",
       "      <td>180.0</td>\n",
       "      <td>USA</td>\n",
       "      <td>31.137577</td>\n",
       "      <td>7-5 4-6 7-5</td>\n",
       "      <td>3</td>\n",
       "      <td>R32</td>\n",
       "      <td>108.0</td>\n",
       "      <td>18.0</td>\n",
       "      <td>4.0</td>\n",
       "      <td>96.0</td>\n",
       "      <td>49.0</td>\n",
       "      <td>39.0</td>\n",
       "      <td>28.0</td>\n",
       "      <td>17.0</td>\n",
       "      <td>3.0</td>\n",
       "      <td>5.0</td>\n",
       "      <td>7.0</td>\n",
       "      <td>8.0</td>\n",
       "      <td>106.0</td>\n",
       "      <td>55.0</td>\n",
       "      <td>39.0</td>\n",
       "      <td>29.0</td>\n",
       "      <td>17.0</td>\n",
       "      <td>4.0</td>\n",
       "      <td>7.0</td>\n",
       "      <td>11.0</td>\n",
       "      <td>1612.0</td>\n",
       "      <td>63.0</td>\n",
       "      <td>595.0</td>\n",
       "    </tr>\n",
       "    <tr>\n",
       "      <th>1</th>\n",
       "      <td>2000-301</td>\n",
       "      <td>Auckland</td>\n",
       "      <td>Hard</td>\n",
       "      <td>32</td>\n",
       "      <td>A</td>\n",
       "      <td>20000110</td>\n",
       "      <td>2</td>\n",
       "      <td>102607</td>\n",
       "      <td>NaN</td>\n",
       "      <td>Q</td>\n",
       "      <td>Juan Balcells</td>\n",
       "      <td>R</td>\n",
       "      <td>190.0</td>\n",
       "      <td>ESP</td>\n",
       "      <td>24.558522</td>\n",
       "      <td>102644</td>\n",
       "      <td>NaN</td>\n",
       "      <td>NaN</td>\n",
       "      <td>Franco Squillari</td>\n",
       "      <td>L</td>\n",
       "      <td>183.0</td>\n",
       "      <td>ARG</td>\n",
       "      <td>24.386037</td>\n",
       "      <td>7-5 7-5</td>\n",
       "      <td>3</td>\n",
       "      <td>R32</td>\n",
       "      <td>85.0</td>\n",
       "      <td>5.0</td>\n",
       "      <td>3.0</td>\n",
       "      <td>76.0</td>\n",
       "      <td>52.0</td>\n",
       "      <td>39.0</td>\n",
       "      <td>13.0</td>\n",
       "      <td>12.0</td>\n",
       "      <td>5.0</td>\n",
       "      <td>6.0</td>\n",
       "      <td>5.0</td>\n",
       "      <td>10.0</td>\n",
       "      <td>74.0</td>\n",
       "      <td>32.0</td>\n",
       "      <td>25.0</td>\n",
       "      <td>18.0</td>\n",
       "      <td>12.0</td>\n",
       "      <td>3.0</td>\n",
       "      <td>6.0</td>\n",
       "      <td>211.0</td>\n",
       "      <td>157.0</td>\n",
       "      <td>49.0</td>\n",
       "      <td>723.0</td>\n",
       "    </tr>\n",
       "    <tr>\n",
       "      <th>2</th>\n",
       "      <td>2000-301</td>\n",
       "      <td>Auckland</td>\n",
       "      <td>Hard</td>\n",
       "      <td>32</td>\n",
       "      <td>A</td>\n",
       "      <td>20000110</td>\n",
       "      <td>3</td>\n",
       "      <td>103252</td>\n",
       "      <td>NaN</td>\n",
       "      <td>NaN</td>\n",
       "      <td>Alberto Martin</td>\n",
       "      <td>R</td>\n",
       "      <td>175.0</td>\n",
       "      <td>ESP</td>\n",
       "      <td>21.390828</td>\n",
       "      <td>102238</td>\n",
       "      <td>NaN</td>\n",
       "      <td>NaN</td>\n",
       "      <td>Alberto Berasategui</td>\n",
       "      <td>R</td>\n",
       "      <td>173.0</td>\n",
       "      <td>ESP</td>\n",
       "      <td>26.535250</td>\n",
       "      <td>6-3 6-1</td>\n",
       "      <td>3</td>\n",
       "      <td>R32</td>\n",
       "      <td>56.0</td>\n",
       "      <td>0.0</td>\n",
       "      <td>0.0</td>\n",
       "      <td>55.0</td>\n",
       "      <td>35.0</td>\n",
       "      <td>25.0</td>\n",
       "      <td>12.0</td>\n",
       "      <td>8.0</td>\n",
       "      <td>1.0</td>\n",
       "      <td>1.0</td>\n",
       "      <td>0.0</td>\n",
       "      <td>6.0</td>\n",
       "      <td>56.0</td>\n",
       "      <td>33.0</td>\n",
       "      <td>20.0</td>\n",
       "      <td>7.0</td>\n",
       "      <td>8.0</td>\n",
       "      <td>7.0</td>\n",
       "      <td>11.0</td>\n",
       "      <td>48.0</td>\n",
       "      <td>726.0</td>\n",
       "      <td>59.0</td>\n",
       "      <td>649.0</td>\n",
       "    </tr>\n",
       "    <tr>\n",
       "      <th>3</th>\n",
       "      <td>2000-301</td>\n",
       "      <td>Auckland</td>\n",
       "      <td>Hard</td>\n",
       "      <td>32</td>\n",
       "      <td>A</td>\n",
       "      <td>20000110</td>\n",
       "      <td>4</td>\n",
       "      <td>103507</td>\n",
       "      <td>7</td>\n",
       "      <td>NaN</td>\n",
       "      <td>Juan Carlos Ferrero</td>\n",
       "      <td>R</td>\n",
       "      <td>183.0</td>\n",
       "      <td>ESP</td>\n",
       "      <td>19.909651</td>\n",
       "      <td>103819</td>\n",
       "      <td>NaN</td>\n",
       "      <td>NaN</td>\n",
       "      <td>Roger Federer</td>\n",
       "      <td>R</td>\n",
       "      <td>185.0</td>\n",
       "      <td>SUI</td>\n",
       "      <td>18.422998</td>\n",
       "      <td>6-4 6-4</td>\n",
       "      <td>3</td>\n",
       "      <td>R32</td>\n",
       "      <td>68.0</td>\n",
       "      <td>5.0</td>\n",
       "      <td>1.0</td>\n",
       "      <td>53.0</td>\n",
       "      <td>28.0</td>\n",
       "      <td>26.0</td>\n",
       "      <td>15.0</td>\n",
       "      <td>10.0</td>\n",
       "      <td>0.0</td>\n",
       "      <td>0.0</td>\n",
       "      <td>11.0</td>\n",
       "      <td>2.0</td>\n",
       "      <td>70.0</td>\n",
       "      <td>43.0</td>\n",
       "      <td>29.0</td>\n",
       "      <td>14.0</td>\n",
       "      <td>10.0</td>\n",
       "      <td>6.0</td>\n",
       "      <td>8.0</td>\n",
       "      <td>45.0</td>\n",
       "      <td>768.0</td>\n",
       "      <td>61.0</td>\n",
       "      <td>616.0</td>\n",
       "    </tr>\n",
       "    <tr>\n",
       "      <th>4</th>\n",
       "      <td>2000-301</td>\n",
       "      <td>Auckland</td>\n",
       "      <td>Hard</td>\n",
       "      <td>32</td>\n",
       "      <td>A</td>\n",
       "      <td>20000110</td>\n",
       "      <td>5</td>\n",
       "      <td>102103</td>\n",
       "      <td>NaN</td>\n",
       "      <td>Q</td>\n",
       "      <td>Michael Sell</td>\n",
       "      <td>R</td>\n",
       "      <td>180.0</td>\n",
       "      <td>USA</td>\n",
       "      <td>27.381246</td>\n",
       "      <td>102765</td>\n",
       "      <td>4</td>\n",
       "      <td>NaN</td>\n",
       "      <td>Nicolas Escude</td>\n",
       "      <td>R</td>\n",
       "      <td>185.0</td>\n",
       "      <td>FRA</td>\n",
       "      <td>23.770021</td>\n",
       "      <td>0-6 7-6(7) 6-1</td>\n",
       "      <td>3</td>\n",
       "      <td>R32</td>\n",
       "      <td>115.0</td>\n",
       "      <td>1.0</td>\n",
       "      <td>2.0</td>\n",
       "      <td>98.0</td>\n",
       "      <td>66.0</td>\n",
       "      <td>39.0</td>\n",
       "      <td>14.0</td>\n",
       "      <td>13.0</td>\n",
       "      <td>6.0</td>\n",
       "      <td>11.0</td>\n",
       "      <td>8.0</td>\n",
       "      <td>8.0</td>\n",
       "      <td>92.0</td>\n",
       "      <td>46.0</td>\n",
       "      <td>34.0</td>\n",
       "      <td>18.0</td>\n",
       "      <td>12.0</td>\n",
       "      <td>5.0</td>\n",
       "      <td>9.0</td>\n",
       "      <td>167.0</td>\n",
       "      <td>219.0</td>\n",
       "      <td>34.0</td>\n",
       "      <td>873.0</td>\n",
       "    </tr>\n",
       "  </tbody>\n",
       "</table>\n",
       "</div>"
      ],
      "text/plain": [
       "  tourney_id tourney_name surface  draw_size tourney_level  tourney_date  \\\n",
       "0   2000-301     Auckland    Hard         32             A      20000110   \n",
       "1   2000-301     Auckland    Hard         32             A      20000110   \n",
       "2   2000-301     Auckland    Hard         32             A      20000110   \n",
       "3   2000-301     Auckland    Hard         32             A      20000110   \n",
       "4   2000-301     Auckland    Hard         32             A      20000110   \n",
       "\n",
       "   match_num  winner_id winner_seed winner_entry          winner_name  \\\n",
       "0          1     103163           1          NaN           Tommy Haas   \n",
       "1          2     102607         NaN            Q        Juan Balcells   \n",
       "2          3     103252         NaN          NaN       Alberto Martin   \n",
       "3          4     103507           7          NaN  Juan Carlos Ferrero   \n",
       "4          5     102103         NaN            Q         Michael Sell   \n",
       "\n",
       "  winner_hand  winner_ht winner_ioc  winner_age  loser_id loser_seed  \\\n",
       "0           R      188.0        GER   21.771389    101543        NaN   \n",
       "1           R      190.0        ESP   24.558522    102644        NaN   \n",
       "2           R      175.0        ESP   21.390828    102238        NaN   \n",
       "3           R      183.0        ESP   19.909651    103819        NaN   \n",
       "4           R      180.0        USA   27.381246    102765          4   \n",
       "\n",
       "  loser_entry           loser_name loser_hand  loser_ht loser_ioc  loser_age  \\\n",
       "0         NaN         Jeff Tarango          L     180.0       USA  31.137577   \n",
       "1         NaN     Franco Squillari          L     183.0       ARG  24.386037   \n",
       "2         NaN  Alberto Berasategui          R     173.0       ESP  26.535250   \n",
       "3         NaN        Roger Federer          R     185.0       SUI  18.422998   \n",
       "4         NaN       Nicolas Escude          R     185.0       FRA  23.770021   \n",
       "\n",
       "            score  best_of round  minutes  w_ace  w_df  w_svpt  w_1stIn  \\\n",
       "0     7-5 4-6 7-5        3   R32    108.0   18.0   4.0    96.0     49.0   \n",
       "1         7-5 7-5        3   R32     85.0    5.0   3.0    76.0     52.0   \n",
       "2         6-3 6-1        3   R32     56.0    0.0   0.0    55.0     35.0   \n",
       "3         6-4 6-4        3   R32     68.0    5.0   1.0    53.0     28.0   \n",
       "4  0-6 7-6(7) 6-1        3   R32    115.0    1.0   2.0    98.0     66.0   \n",
       "\n",
       "   w_1stWon  w_2ndWon  w_SvGms  w_bpSaved  w_bpFaced  l_ace  l_df  l_svpt  \\\n",
       "0      39.0      28.0     17.0        3.0        5.0    7.0   8.0   106.0   \n",
       "1      39.0      13.0     12.0        5.0        6.0    5.0  10.0    74.0   \n",
       "2      25.0      12.0      8.0        1.0        1.0    0.0   6.0    56.0   \n",
       "3      26.0      15.0     10.0        0.0        0.0   11.0   2.0    70.0   \n",
       "4      39.0      14.0     13.0        6.0       11.0    8.0   8.0    92.0   \n",
       "\n",
       "   l_1stIn  l_1stWon  l_2ndWon  l_SvGms  l_bpSaved  l_bpFaced  winner_rank  \\\n",
       "0     55.0      39.0      29.0     17.0        4.0        7.0         11.0   \n",
       "1     32.0      25.0      18.0     12.0        3.0        6.0        211.0   \n",
       "2     33.0      20.0       7.0      8.0        7.0       11.0         48.0   \n",
       "3     43.0      29.0      14.0     10.0        6.0        8.0         45.0   \n",
       "4     46.0      34.0      18.0     12.0        5.0        9.0        167.0   \n",
       "\n",
       "   winner_rank_points  loser_rank  loser_rank_points  \n",
       "0              1612.0        63.0              595.0  \n",
       "1               157.0        49.0              723.0  \n",
       "2               726.0        59.0              649.0  \n",
       "3               768.0        61.0              616.0  \n",
       "4               219.0        34.0              873.0  "
      ]
     },
     "execution_count": 47,
     "metadata": {},
     "output_type": "execute_result"
    }
   ],
   "source": [
    "data.head()"
   ]
  },
  {
   "cell_type": "markdown",
   "metadata": {},
   "source": [
    "Les valeurs manquantes sont indiquées en NaN. On peut alors directement utiliser la méthode `info` de pandas afin d'identifier les colonnes qui en contiennent."
   ]
  },
  {
   "cell_type": "code",
   "execution_count": 48,
   "metadata": {},
   "outputs": [
    {
     "data": {
      "text/plain": [
       "(61664, 49)"
      ]
     },
     "execution_count": 48,
     "metadata": {},
     "output_type": "execute_result"
    }
   ],
   "source": [
    "data.shape"
   ]
  },
  {
   "cell_type": "code",
   "execution_count": 50,
   "metadata": {},
   "outputs": [
    {
     "name": "stdout",
     "output_type": "stream",
     "text": [
      "<class 'pandas.core.frame.DataFrame'>\n",
      "RangeIndex: 61664 entries, 0 to 61663\n",
      "Data columns (total 49 columns):\n",
      "tourney_id            61664 non-null object\n",
      "tourney_name          61664 non-null object\n",
      "surface               61546 non-null object\n",
      "draw_size             61664 non-null int64\n",
      "tourney_level         61664 non-null object\n",
      "tourney_date          61664 non-null int64\n",
      "match_num             61664 non-null int64\n",
      "winner_id             61664 non-null int64\n",
      "winner_seed           25587 non-null object\n",
      "winner_entry          7349 non-null object\n",
      "winner_name           61664 non-null object\n",
      "winner_hand           61646 non-null object\n",
      "winner_ht             56333 non-null float64\n",
      "winner_ioc            61664 non-null object\n",
      "winner_age            61649 non-null float64\n",
      "loser_id              61664 non-null int64\n",
      "loser_seed            13980 non-null object\n",
      "loser_entry           12115 non-null object\n",
      "loser_name            61664 non-null object\n",
      "loser_hand            61618 non-null object\n",
      "loser_ht              53493 non-null float64\n",
      "loser_ioc             61664 non-null object\n",
      "loser_age             61633 non-null float64\n",
      "score                 61663 non-null object\n",
      "best_of               61664 non-null int64\n",
      "round                 61664 non-null object\n",
      "minutes               54391 non-null float64\n",
      "w_ace                 55730 non-null float64\n",
      "w_df                  55730 non-null float64\n",
      "w_svpt                55730 non-null float64\n",
      "w_1stIn               55730 non-null float64\n",
      "w_1stWon              55730 non-null float64\n",
      "w_2ndWon              55730 non-null float64\n",
      "w_SvGms               55730 non-null float64\n",
      "w_bpSaved             55730 non-null float64\n",
      "w_bpFaced             55730 non-null float64\n",
      "l_ace                 55730 non-null float64\n",
      "l_df                  55730 non-null float64\n",
      "l_svpt                55730 non-null float64\n",
      "l_1stIn               55730 non-null float64\n",
      "l_1stWon              55730 non-null float64\n",
      "l_2ndWon              55730 non-null float64\n",
      "l_SvGms               55730 non-null float64\n",
      "l_bpSaved             55730 non-null float64\n",
      "l_bpFaced             55730 non-null float64\n",
      "winner_rank           61161 non-null float64\n",
      "winner_rank_points    61161 non-null float64\n",
      "loser_rank            60367 non-null float64\n",
      "loser_rank_points     60367 non-null float64\n",
      "dtypes: float64(27), int64(6), object(16)\n",
      "memory usage: 23.1+ MB\n"
     ]
    }
   ],
   "source": [
    "data.info()"
   ]
  },
  {
   "cell_type": "markdown",
   "metadata": {},
   "source": [
    "Les colonnes _winner_entry_, _loser_entry_, _winner_seed_, _loser_seed_ contiennent plus de 78% de valeurs manquantes. Les variables _winner_entry_ et _loser_entry_ indiquent la façon dont le joueur s'est qualifié pour le tournoi (qualificatoin, invitation, qualifié d'office) et _winner_seed_, _loser_seed_ indiquent le numéro du joueur dans le tournois. Du fait du grand nombre de valeurs manquantes et leur faible intérêt vis-à-vis de notre objectif nous pourrons les retirer lors de la mise de nos modèles.  "
   ]
  },
  {
   "cell_type": "markdown",
   "metadata": {},
   "source": [
    "Les valeurs manquantes nous impactant directement sont celles contenues dans la colonne rapportant de la durée du match (_minutes_), notre variable cible. Il manque 10% des lignes sur cettes colonnes, ces lignes seront supprimées."
   ]
  },
  {
   "cell_type": "markdown",
   "metadata": {},
   "source": [
    "Il manque également des données pour les données propres au match : <br>\n",
    "- w/l_svpt ... nombre de services contestés\n",
    "- w/l_1stIn ... nombre de premiers services in (service sans faute)\n",
    "- w/l_1stWon ... nombre de premier services gagnés (servi par le joueur)\n",
    "- w/l_2ndWon ... nombre de deuxièmes services gagnés (servi par le joueur)\n",
    "- w/l_SvGms ... nombre de jeux servi par le joueur\n",
    "- w/l_bpSaved ... nombre de balles de break sauvées\n",
    "- w/l_bpFaced ... nombre de balles de break rencontrées"
   ]
  },
  {
   "cell_type": "code",
   "execution_count": 51,
   "metadata": {},
   "outputs": [],
   "source": [
    "data['tourney_date'] = pd.to_datetime(data['tourney_date'], yearfirst=True, format='%Y%m%d')\n",
    "data['year'] = data['tourney_date'].apply(lambda x: x.year)\n",
    "data = data[~data['tourney_name'].str.startswith('Davis Cup')].copy()\n",
    "data.dropna(subset=['minutes'], inplace=True)\n",
    "data.drop_duplicates(inplace=True)"
   ]
  },
  {
   "cell_type": "code",
   "execution_count": 52,
   "metadata": {},
   "outputs": [],
   "source": [
    "def contains_ascii_letter(txt):\n",
    "    gate = False\n",
    "    for i in range(len(txt)):\n",
    "        if txt[i] in string.ascii_letters:\n",
    "            gate = True\n",
    "            break\n",
    "    return gate"
   ]
  },
  {
   "cell_type": "code",
   "execution_count": 53,
   "metadata": {},
   "outputs": [],
   "source": [
    "get_ascii_letter = np.zeros(data.shape[0], dtype=bool)\n",
    "get_ascii_letter = data['score'].apply(contains_ascii_letter)\n",
    "\n",
    "data = data[~get_ascii_letter].copy()"
   ]
  },
  {
   "cell_type": "code",
   "execution_count": 54,
   "metadata": {},
   "outputs": [
    {
     "data": {
      "text/plain": [
       "(51923, 50)"
      ]
     },
     "execution_count": 54,
     "metadata": {},
     "output_type": "execute_result"
    }
   ],
   "source": [
    "data.shape"
   ]
  },
  {
   "cell_type": "markdown",
   "metadata": {},
   "source": [
    "### Valeurs extrêmes"
   ]
  },
  {
   "cell_type": "markdown",
   "metadata": {},
   "source": [
    "### Corrections\n",
    "En étudiant les valeurs extrêmes de notre jeu de données nous avons décelé la présence d'erreurs concernant la durée de certains matchs. Nous avons constaté que trois matchs étaient anormalement longs. Sur les trois, deux étaient en effet des erreurs de saisie, tandis le troisième correspond au match de Wimbledon 2010 entre Josh Ishner et Nicolas Mahut qui a duré 11h05, s'étalant sur trois jours. On notera que John Ishner est un habitué des longs matchs avec 3 apparitions dans le top 10 des plus longs matchs de l'histoire du tennis."
   ]
  },
  {
   "cell_type": "markdown",
   "metadata": {},
   "source": [
    "Correction des erreures de saisie."
   ]
  },
  {
   "cell_type": "code",
   "execution_count": 55,
   "metadata": {},
   "outputs": [
    {
     "data": {
      "text/html": [
       "<div>\n",
       "<style scoped>\n",
       "    .dataframe tbody tr th:only-of-type {\n",
       "        vertical-align: middle;\n",
       "    }\n",
       "\n",
       "    .dataframe tbody tr th {\n",
       "        vertical-align: top;\n",
       "    }\n",
       "\n",
       "    .dataframe thead th {\n",
       "        text-align: right;\n",
       "    }\n",
       "</style>\n",
       "<table border=\"1\" class=\"dataframe\">\n",
       "  <thead>\n",
       "    <tr style=\"text-align: right;\">\n",
       "      <th></th>\n",
       "      <th>tourney_id</th>\n",
       "      <th>tourney_name</th>\n",
       "      <th>surface</th>\n",
       "      <th>draw_size</th>\n",
       "      <th>tourney_level</th>\n",
       "      <th>tourney_date</th>\n",
       "      <th>match_num</th>\n",
       "      <th>winner_id</th>\n",
       "      <th>winner_seed</th>\n",
       "      <th>winner_entry</th>\n",
       "      <th>winner_name</th>\n",
       "      <th>winner_hand</th>\n",
       "      <th>winner_ht</th>\n",
       "      <th>winner_ioc</th>\n",
       "      <th>winner_age</th>\n",
       "      <th>loser_id</th>\n",
       "      <th>loser_seed</th>\n",
       "      <th>loser_entry</th>\n",
       "      <th>loser_name</th>\n",
       "      <th>loser_hand</th>\n",
       "      <th>loser_ht</th>\n",
       "      <th>loser_ioc</th>\n",
       "      <th>loser_age</th>\n",
       "      <th>score</th>\n",
       "      <th>best_of</th>\n",
       "      <th>round</th>\n",
       "      <th>minutes</th>\n",
       "      <th>w_ace</th>\n",
       "      <th>w_df</th>\n",
       "      <th>w_svpt</th>\n",
       "      <th>w_1stIn</th>\n",
       "      <th>w_1stWon</th>\n",
       "      <th>w_2ndWon</th>\n",
       "      <th>w_SvGms</th>\n",
       "      <th>w_bpSaved</th>\n",
       "      <th>w_bpFaced</th>\n",
       "      <th>l_ace</th>\n",
       "      <th>l_df</th>\n",
       "      <th>l_svpt</th>\n",
       "      <th>l_1stIn</th>\n",
       "      <th>l_1stWon</th>\n",
       "      <th>l_2ndWon</th>\n",
       "      <th>l_SvGms</th>\n",
       "      <th>l_bpSaved</th>\n",
       "      <th>l_bpFaced</th>\n",
       "      <th>winner_rank</th>\n",
       "      <th>winner_rank_points</th>\n",
       "      <th>loser_rank</th>\n",
       "      <th>loser_rank_points</th>\n",
       "      <th>year</th>\n",
       "    </tr>\n",
       "  </thead>\n",
       "  <tbody>\n",
       "    <tr>\n",
       "      <th>54365</th>\n",
       "      <td>2017-0308</td>\n",
       "      <td>Munich</td>\n",
       "      <td>Clay</td>\n",
       "      <td>32</td>\n",
       "      <td>A</td>\n",
       "      <td>2017-05-01</td>\n",
       "      <td>297</td>\n",
       "      <td>111202</td>\n",
       "      <td>NaN</td>\n",
       "      <td>NaN</td>\n",
       "      <td>Hyeon Chung</td>\n",
       "      <td>R</td>\n",
       "      <td>NaN</td>\n",
       "      <td>KOR</td>\n",
       "      <td>20.950034</td>\n",
       "      <td>105373</td>\n",
       "      <td>NaN</td>\n",
       "      <td>NaN</td>\n",
       "      <td>Martin Klizan</td>\n",
       "      <td>L</td>\n",
       "      <td>190.0</td>\n",
       "      <td>SVK</td>\n",
       "      <td>27.805613</td>\n",
       "      <td>6-4 3-6 6-2</td>\n",
       "      <td>3</td>\n",
       "      <td>QF</td>\n",
       "      <td>987.0</td>\n",
       "      <td>4.0</td>\n",
       "      <td>2.0</td>\n",
       "      <td>81.0</td>\n",
       "      <td>47.0</td>\n",
       "      <td>36.0</td>\n",
       "      <td>15.0</td>\n",
       "      <td>13.0</td>\n",
       "      <td>4.0</td>\n",
       "      <td>6.0</td>\n",
       "      <td>8.0</td>\n",
       "      <td>4.0</td>\n",
       "      <td>95.0</td>\n",
       "      <td>49.0</td>\n",
       "      <td>28.0</td>\n",
       "      <td>27.0</td>\n",
       "      <td>14.0</td>\n",
       "      <td>8.0</td>\n",
       "      <td>12.0</td>\n",
       "      <td>78.0</td>\n",
       "      <td>659.0</td>\n",
       "      <td>53.0</td>\n",
       "      <td>880.0</td>\n",
       "      <td>2017</td>\n",
       "    </tr>\n",
       "  </tbody>\n",
       "</table>\n",
       "</div>"
      ],
      "text/plain": [
       "      tourney_id tourney_name surface  draw_size tourney_level tourney_date  \\\n",
       "54365  2017-0308       Munich    Clay         32             A   2017-05-01   \n",
       "\n",
       "       match_num  winner_id winner_seed winner_entry  winner_name winner_hand  \\\n",
       "54365        297     111202         NaN          NaN  Hyeon Chung           R   \n",
       "\n",
       "       winner_ht winner_ioc  winner_age  loser_id loser_seed loser_entry  \\\n",
       "54365        NaN        KOR   20.950034    105373        NaN         NaN   \n",
       "\n",
       "          loser_name loser_hand  loser_ht loser_ioc  loser_age        score  \\\n",
       "54365  Martin Klizan          L     190.0       SVK  27.805613  6-4 3-6 6-2   \n",
       "\n",
       "       best_of round  minutes  w_ace  w_df  w_svpt  w_1stIn  w_1stWon  \\\n",
       "54365        3    QF    987.0    4.0   2.0    81.0     47.0      36.0   \n",
       "\n",
       "       w_2ndWon  w_SvGms  w_bpSaved  w_bpFaced  l_ace  l_df  l_svpt  l_1stIn  \\\n",
       "54365      15.0     13.0        4.0        6.0    8.0   4.0    95.0     49.0   \n",
       "\n",
       "       l_1stWon  l_2ndWon  l_SvGms  l_bpSaved  l_bpFaced  winner_rank  \\\n",
       "54365      28.0      27.0     14.0        8.0       12.0         78.0   \n",
       "\n",
       "       winner_rank_points  loser_rank  loser_rank_points  year  \n",
       "54365               659.0        53.0              880.0  2017  "
      ]
     },
     "execution_count": 55,
     "metadata": {},
     "output_type": "execute_result"
    }
   ],
   "source": [
    "data[(data['tourney_id']=='2017-0308')&(data['match_num']==297)]"
   ]
  },
  {
   "cell_type": "code",
   "execution_count": 56,
   "metadata": {},
   "outputs": [
    {
     "data": {
      "text/html": [
       "<div>\n",
       "<style scoped>\n",
       "    .dataframe tbody tr th:only-of-type {\n",
       "        vertical-align: middle;\n",
       "    }\n",
       "\n",
       "    .dataframe tbody tr th {\n",
       "        vertical-align: top;\n",
       "    }\n",
       "\n",
       "    .dataframe thead th {\n",
       "        text-align: right;\n",
       "    }\n",
       "</style>\n",
       "<table border=\"1\" class=\"dataframe\">\n",
       "  <thead>\n",
       "    <tr style=\"text-align: right;\">\n",
       "      <th></th>\n",
       "      <th>tourney_id</th>\n",
       "      <th>tourney_name</th>\n",
       "      <th>surface</th>\n",
       "      <th>draw_size</th>\n",
       "      <th>tourney_level</th>\n",
       "      <th>tourney_date</th>\n",
       "      <th>match_num</th>\n",
       "      <th>winner_id</th>\n",
       "      <th>winner_seed</th>\n",
       "      <th>winner_entry</th>\n",
       "      <th>winner_name</th>\n",
       "      <th>winner_hand</th>\n",
       "      <th>winner_ht</th>\n",
       "      <th>winner_ioc</th>\n",
       "      <th>winner_age</th>\n",
       "      <th>loser_id</th>\n",
       "      <th>loser_seed</th>\n",
       "      <th>loser_entry</th>\n",
       "      <th>loser_name</th>\n",
       "      <th>loser_hand</th>\n",
       "      <th>loser_ht</th>\n",
       "      <th>loser_ioc</th>\n",
       "      <th>loser_age</th>\n",
       "      <th>score</th>\n",
       "      <th>best_of</th>\n",
       "      <th>round</th>\n",
       "      <th>minutes</th>\n",
       "      <th>w_ace</th>\n",
       "      <th>w_df</th>\n",
       "      <th>w_svpt</th>\n",
       "      <th>w_1stIn</th>\n",
       "      <th>w_1stWon</th>\n",
       "      <th>w_2ndWon</th>\n",
       "      <th>w_SvGms</th>\n",
       "      <th>w_bpSaved</th>\n",
       "      <th>w_bpFaced</th>\n",
       "      <th>l_ace</th>\n",
       "      <th>l_df</th>\n",
       "      <th>l_svpt</th>\n",
       "      <th>l_1stIn</th>\n",
       "      <th>l_1stWon</th>\n",
       "      <th>l_2ndWon</th>\n",
       "      <th>l_SvGms</th>\n",
       "      <th>l_bpSaved</th>\n",
       "      <th>l_bpFaced</th>\n",
       "      <th>winner_rank</th>\n",
       "      <th>winner_rank_points</th>\n",
       "      <th>loser_rank</th>\n",
       "      <th>loser_rank_points</th>\n",
       "      <th>year</th>\n",
       "    </tr>\n",
       "  </thead>\n",
       "  <tbody>\n",
       "    <tr>\n",
       "      <th>50299</th>\n",
       "      <td>2016-M001</td>\n",
       "      <td>Sydney</td>\n",
       "      <td>Hard</td>\n",
       "      <td>32</td>\n",
       "      <td>A</td>\n",
       "      <td>2016-01-11</td>\n",
       "      <td>294</td>\n",
       "      <td>104180</td>\n",
       "      <td>NaN</td>\n",
       "      <td>NaN</td>\n",
       "      <td>Gilles Muller</td>\n",
       "      <td>L</td>\n",
       "      <td>193.0</td>\n",
       "      <td>LUX</td>\n",
       "      <td>32.676249</td>\n",
       "      <td>104871</td>\n",
       "      <td>6</td>\n",
       "      <td>NaN</td>\n",
       "      <td>Jeremy Chardy</td>\n",
       "      <td>R</td>\n",
       "      <td>188.0</td>\n",
       "      <td>FRA</td>\n",
       "      <td>28.911704</td>\n",
       "      <td>7-6(5) 6-3</td>\n",
       "      <td>3</td>\n",
       "      <td>QF</td>\n",
       "      <td>1146.0</td>\n",
       "      <td>14.0</td>\n",
       "      <td>5.0</td>\n",
       "      <td>59.0</td>\n",
       "      <td>35.0</td>\n",
       "      <td>32.0</td>\n",
       "      <td>13.0</td>\n",
       "      <td>10.0</td>\n",
       "      <td>0.0</td>\n",
       "      <td>0.0</td>\n",
       "      <td>2.0</td>\n",
       "      <td>5.0</td>\n",
       "      <td>69.0</td>\n",
       "      <td>44.0</td>\n",
       "      <td>34.0</td>\n",
       "      <td>10.0</td>\n",
       "      <td>11.0</td>\n",
       "      <td>1.0</td>\n",
       "      <td>3.0</td>\n",
       "      <td>38.0</td>\n",
       "      <td>1105.0</td>\n",
       "      <td>31.0</td>\n",
       "      <td>1255.0</td>\n",
       "      <td>2016</td>\n",
       "    </tr>\n",
       "  </tbody>\n",
       "</table>\n",
       "</div>"
      ],
      "text/plain": [
       "      tourney_id tourney_name surface  draw_size tourney_level tourney_date  \\\n",
       "50299  2016-M001       Sydney    Hard         32             A   2016-01-11   \n",
       "\n",
       "       match_num  winner_id winner_seed winner_entry    winner_name  \\\n",
       "50299        294     104180         NaN          NaN  Gilles Muller   \n",
       "\n",
       "      winner_hand  winner_ht winner_ioc  winner_age  loser_id loser_seed  \\\n",
       "50299           L      193.0        LUX   32.676249    104871          6   \n",
       "\n",
       "      loser_entry     loser_name loser_hand  loser_ht loser_ioc  loser_age  \\\n",
       "50299         NaN  Jeremy Chardy          R     188.0       FRA  28.911704   \n",
       "\n",
       "            score  best_of round  minutes  w_ace  w_df  w_svpt  w_1stIn  \\\n",
       "50299  7-6(5) 6-3        3    QF   1146.0   14.0   5.0    59.0     35.0   \n",
       "\n",
       "       w_1stWon  w_2ndWon  w_SvGms  w_bpSaved  w_bpFaced  l_ace  l_df  l_svpt  \\\n",
       "50299      32.0      13.0     10.0        0.0        0.0    2.0   5.0    69.0   \n",
       "\n",
       "       l_1stIn  l_1stWon  l_2ndWon  l_SvGms  l_bpSaved  l_bpFaced  \\\n",
       "50299     44.0      34.0      10.0     11.0        1.0        3.0   \n",
       "\n",
       "       winner_rank  winner_rank_points  loser_rank  loser_rank_points  year  \n",
       "50299         38.0              1105.0        31.0             1255.0  2016  "
      ]
     },
     "execution_count": 56,
     "metadata": {},
     "output_type": "execute_result"
    }
   ],
   "source": [
    "data[(data['tourney_id']=='2016-M001')&(data['match_num']==294)]"
   ]
  },
  {
   "cell_type": "code",
   "execution_count": 59,
   "metadata": {},
   "outputs": [],
   "source": [
    "data.loc[data[(data['tourney_id']=='2017-0308')&(data['match_num']==297)].index[0], 'minutes'] = 98\n",
    "data.loc[data[(data['tourney_id']=='2016-M001')&(data['match_num']==294)].index[0], 'minutes'] = 90"
   ]
  },
  {
   "cell_type": "markdown",
   "metadata": {},
   "source": [
    "Suppression du match de 11h05 risquant de fausser nos analyses (point aberrant)."
   ]
  },
  {
   "cell_type": "code",
   "execution_count": 60,
   "metadata": {},
   "outputs": [],
   "source": [
    "idx = data[data['minutes']==data['minutes'].max()].index[0]\n",
    "data.drop(idx, axis=0, inplace=True)\n",
    "data.reset_index(inplace=True, drop=True)"
   ]
  },
  {
   "cell_type": "markdown",
   "metadata": {},
   "source": [
    "Nous sauvegardons cette base de données afin de repartir depuis celle-ci lors de la création de nos premiers modèles."
   ]
  },
  {
   "cell_type": "code",
   "execution_count": 61,
   "metadata": {},
   "outputs": [],
   "source": [
    "data.to_csv(os.path.abspath('')+'/data/Données_nettoyées.csv')"
   ]
  },
  {
   "cell_type": "markdown",
   "metadata": {},
   "source": [
    "Comme prévu, nous supprimons également les colonnes _winner_entry_, _loser_entry_, _winner_seed_ et _loser_seed_."
   ]
  },
  {
   "cell_type": "code",
   "execution_count": 62,
   "metadata": {},
   "outputs": [],
   "source": [
    "data.drop(['winner_entry', 'loser_entry', 'winner_seed', 'loser_seed'], axis=1, inplace=True)"
   ]
  },
  {
   "cell_type": "code",
   "execution_count": 64,
   "metadata": {
    "scrolled": true
   },
   "outputs": [
    {
     "data": {
      "image/png": "[encoded data removed]",
      "text/plain": [
       "<Figure size 1440x360 with 2 Axes>"
      ]
     },
     "metadata": {},
     "output_type": "display_data"
    }
   ],
   "source": [
    "fig, ax = plt.subplots(1,2, figsize=(20,5))\n",
    "ax[0].hist(data[data['best_of']==3]['minutes'], bins=50)\n",
    "ax[1].hist(data[data['best_of']==5]['minutes'], bins=50)\n",
    "plt.show()"
   ]
  },
  {
   "cell_type": "markdown",
   "metadata": {},
   "source": [
    "## Etudes de la relation entre les variables explicatives et la durée d'un match de tennis"
   ]
  },
  {
   "cell_type": "markdown",
   "metadata": {},
   "source": [
    "Tout d'abord nous pouvons nous demander quels sont les facteurs exercant la plus forte influance sur la durée d'un match de tennis. <br>\n",
    "  \n",
    "Premièrement, nous allons analyser l'influence de nos variables expliquatives sur la variables à prédire _minutes_. L'objectif est d'observer de manière \"macroscopique\" ce qui fait qu'un match sera long ou rapide. <br>"
   ]
  },
  {
   "cell_type": "markdown",
   "metadata": {},
   "source": [
    "<font color='red'>A REVOIR</font>  \n",
    "    1) Le nombre de sets nécessaires pour gagner le match (best of 3 / best of 5) ce qui revient au même que de séparer les matchs en \"matchs de grand chelem\"/\"autres matchs\"\n",
    "    2) La surface sur laquelle ce joue le match (clay / hard / grass / carpet) \n",
    "    3) Le type de tournois (Grand Slam / Master / Other / Challenger / Satellite) \n",
    "    4) Le niveau du tournois du match (32eme / 16eme / 8eme ...) \n",
    "    5) La différence de ranking entre les deux joueurs \n",
    "    6) Le ranking moyen des deux joueurs (est ce que les joueurs de meilleur niveau on tendance à jouer plus rapidement ou non ?)"
   ]
  },
  {
   "cell_type": "markdown",
   "metadata": {},
   "source": [
    "### Etudes de la corrélation de Pearson des variables quantitatives"
   ]
  },
  {
   "cell_type": "code",
   "execution_count": 67,
   "metadata": {},
   "outputs": [
    {
     "data": {
      "image/png": "[encoded data removed]",
      "text/plain": [
       "<Figure size 720x720 with 2 Axes>"
      ]
     },
     "metadata": {},
     "output_type": "display_data"
    }
   ],
   "source": [
    "fig, ax = plt.subplots(figsize=(10,10)) \n",
    "sns.heatmap(data.corr(), cmap='Blues', linewidths=.5)\n",
    "plt.show()"
   ]
  },
  {
   "cell_type": "markdown",
   "metadata": {},
   "source": [
    "Cette matrice de corrélation nous permet d'observer que :<br>\n",
    "- la durée d'un match (_minutes_) est fortement corrélée avec les données lié à ce match. Plus un match dure plus le nombre de points joués dans le match est élevé. Cette information n'est pas utile pour notre problématique mais elle explique les fortes corrélations qui apparaissent sur la heatmap.\n",
    "- on remarque également que _minutes_ est corrélée avec la variable _best_of_. La variable _best_of_ indique si un match se joue en 2 ou 3 sets gagnants (best of 3, best of 5)."
   ]
  },
  {
   "cell_type": "markdown",
   "metadata": {},
   "source": [
    "### Analyse de l'effet de la règle 2 ou 3 sets gagnants sur la durée des matchs"
   ]
  },
  {
   "cell_type": "code",
   "execution_count": 68,
   "metadata": {},
   "outputs": [
    {
     "data": {
      "text/plain": [
       "best_of\n",
       "3     96.587680\n",
       "5    148.550319\n",
       "Name: minutes, dtype: float64"
      ]
     },
     "execution_count": 68,
     "metadata": {},
     "output_type": "execute_result"
    }
   ],
   "source": [
    "data.groupby(['best_of'])['minutes'].mean()"
   ]
  },
  {
   "cell_type": "markdown",
   "metadata": {},
   "source": [
    "On voit que la durée moyenne des matchs se jouant en 2 sets gagnants est très largement inférieure à la durée des matchs en 5 sets. "
   ]
  },
  {
   "cell_type": "code",
   "execution_count": 69,
   "metadata": {},
   "outputs": [],
   "source": [
    "avg_best_of_3_all = data.groupby(['best_of'])['minutes'].mean()[3]"
   ]
  },
  {
   "cell_type": "code",
   "execution_count": 70,
   "metadata": {},
   "outputs": [],
   "source": [
    "avg_best_of_5_all = data.groupby(['best_of'])['minutes'].mean()[5]"
   ]
  },
  {
   "cell_type": "markdown",
   "metadata": {},
   "source": [
    "### La surface du terrain"
   ]
  },
  {
   "cell_type": "code",
   "execution_count": 71,
   "metadata": {},
   "outputs": [
    {
     "data": {
      "image/png": "[encoded data removed]",
      "text/plain": [
       "<Figure size 720x360 with 1 Axes>"
      ]
     },
     "metadata": {},
     "output_type": "display_data"
    }
   ],
   "source": [
    "fig, ax = plt.subplots(1, 1)\n",
    "ax.get_xaxis().set_visible(False)\n",
    "data.groupby(['surface'])['minutes'].mean().plot(kind='bar',figsize=(10,5), table=True, grid=True)\n",
    "plt.show()"
   ]
  },
  {
   "cell_type": "markdown",
   "metadata": {},
   "source": [
    "Ici on voit que les matchs sur gazon (Grass) ont tendance à être plus long que sur les autres surfaces. Cependant ce résultat est contre intuitif. En effet, il est connu que la surface où la balle va le plus vite et qui offre le moins de rebonds est le gazon. Il serait donc normal que les matchs les plus rapides aient lieu sur cette surface.<br><br>\n",
    "Pour vérifer ce résultat, nous allons affiner l'analyse en séparant les matchs en best_of_3 des matchs best_of_5."
   ]
  },
  {
   "cell_type": "code",
   "execution_count": 72,
   "metadata": {},
   "outputs": [
    {
     "data": {
      "text/html": [
       "<div>\n",
       "<style scoped>\n",
       "    .dataframe tbody tr th:only-of-type {\n",
       "        vertical-align: middle;\n",
       "    }\n",
       "\n",
       "    .dataframe tbody tr th {\n",
       "        vertical-align: top;\n",
       "    }\n",
       "\n",
       "    .dataframe thead th {\n",
       "        text-align: right;\n",
       "    }\n",
       "</style>\n",
       "<table border=\"1\" class=\"dataframe\">\n",
       "  <thead>\n",
       "    <tr style=\"text-align: right;\">\n",
       "      <th>surface</th>\n",
       "      <th>Carpet</th>\n",
       "      <th>Clay</th>\n",
       "      <th>Grass</th>\n",
       "      <th>Hard</th>\n",
       "    </tr>\n",
       "    <tr>\n",
       "      <th>best_of</th>\n",
       "      <th></th>\n",
       "      <th></th>\n",
       "      <th></th>\n",
       "      <th></th>\n",
       "    </tr>\n",
       "  </thead>\n",
       "  <tbody>\n",
       "    <tr>\n",
       "      <th>3</th>\n",
       "      <td>1364</td>\n",
       "      <td>14612</td>\n",
       "      <td>3352</td>\n",
       "      <td>23025</td>\n",
       "    </tr>\n",
       "    <tr>\n",
       "      <th>5</th>\n",
       "      <td>14</td>\n",
       "      <td>2481</td>\n",
       "      <td>2323</td>\n",
       "      <td>4751</td>\n",
       "    </tr>\n",
       "  </tbody>\n",
       "</table>\n",
       "</div>"
      ],
      "text/plain": [
       "surface  Carpet   Clay  Grass   Hard\n",
       "best_of                             \n",
       "3          1364  14612   3352  23025\n",
       "5            14   2481   2323   4751"
      ]
     },
     "execution_count": 72,
     "metadata": {},
     "output_type": "execute_result"
    }
   ],
   "source": [
    "data.groupby(['best_of', 'surface'])['match_num'].count().unstack()"
   ]
  },
  {
   "cell_type": "markdown",
   "metadata": {},
   "source": [
    "On s'aperçoit que le ratio du nombre de matchs joués en best_of_3 par rapport à ceux joués en best_of_5 est proche de 1 pour le gazon, tandis que les autres surfaces présentent beaucoup plus de matchs joués en 3 sets gagnants qu'en 5 sets gagnants. C'est ce résultat qui nous explique ce pourquoi la moyenne globale de la durée des matchs sur gazons est plus élevée que sur les autres surfaces.  \n",
    "  \n",
    "Afin de ne pas biaiser la suite de notre analyse, nous devrons veiller à séparer ces deux catégories. "
   ]
  },
  {
   "cell_type": "code",
   "execution_count": 73,
   "metadata": {},
   "outputs": [
    {
     "data": {
      "text/plain": [
       "best_of  surface\n",
       "3        Carpet      93.687683\n",
       "         Clay        99.285108\n",
       "         Grass       90.788783\n",
       "         Hard        95.891857\n",
       "5        Carpet     158.428571\n",
       "         Clay       151.829907\n",
       "         Grass      142.247525\n",
       "         Hard       149.890339\n",
       "Name: minutes, dtype: float64"
      ]
     },
     "execution_count": 73,
     "metadata": {},
     "output_type": "execute_result"
    }
   ],
   "source": [
    "data.groupby(['best_of', 'surface'])['minutes'].mean()"
   ]
  },
  {
   "cell_type": "code",
   "execution_count": 74,
   "metadata": {},
   "outputs": [
    {
     "data": {
      "image/png": "[encoded data removed]",
      "text/plain": [
       "<Figure size 720x360 with 1 Axes>"
      ]
     },
     "metadata": {},
     "output_type": "display_data"
    }
   ],
   "source": [
    "fig, ax = plt.subplots(1, 1)\n",
    "ax.get_xaxis().set_visible(False)\n",
    "data.groupby(['best_of', 'surface'])['minutes'].mean().unstack().plot(kind='bar', figsize=(10,5),\n",
    "                                                                      table=np.round(data.groupby(['best_of', 'surface'])['minutes'].mean().unstack().transpose(), 2)\n",
    "                                                                      , grid=True, ax=ax\n",
    "                                                                       , title='Durée moyenne des matchs par surface')\n",
    "plt.show()"
   ]
  },
  {
   "cell_type": "markdown",
   "metadata": {},
   "source": [
    "On voit ici qu'en effet la surface la plus rapide est le gazon, et qu'à l'opposé les surfaces plus lentes sont la terre battue ou la moquette. "
   ]
  },
  {
   "cell_type": "code",
   "execution_count": 76,
   "metadata": {},
   "outputs": [
    {
     "data": {
      "image/png": "[encoded data removed]",
      "text/plain": [
       "<Figure size 720x360 with 1 Axes>"
      ]
     },
     "metadata": {},
     "output_type": "display_data"
    }
   ],
   "source": [
    "data.boxplot(column=['minutes'], by=['best_of', 'surface'], figsize=(10,5))\n",
    "plt.title('Boxplot de la durée moyenne des matchs')\n",
    "plt.show()"
   ]
  },
  {
   "cell_type": "code",
   "execution_count": 78,
   "metadata": {},
   "outputs": [
    {
     "data": {
      "image/png": "[encoded data removed]",
      "text/plain": [
       "<Figure size 720x360 with 1 Axes>"
      ]
     },
     "metadata": {},
     "output_type": "display_data"
    }
   ],
   "source": [
    "fig, ax = plt.subplots(1, 1)\n",
    "ax.get_xaxis().set_visible(False)\n",
    "data.groupby(['best_of', 'surface'])['minutes'].std().unstack().plot(kind='bar', figsize=(10,5),\n",
    "                                                                      table=np.round(data.groupby(['best_of', 'surface'])['minutes'].std().unstack().transpose(), 2)\n",
    "                                                                      , grid=True, ax=ax\n",
    "                                                                       , title='Ecart-type de la durée des matchs par surface')\n",
    "plt.show()"
   ]
  },
  {
   "cell_type": "markdown",
   "metadata": {},
   "source": [
    "L'études des écarts-type nous indique que la durée des matchs varie de manière homogène sur toutes les surfaces. <br>\n",
    "L'objectif est donc de pouvoir expliquer cette variation par d'autres facteurs."
   ]
  },
  {
   "cell_type": "markdown",
   "metadata": {},
   "source": [
    "### Le type de tournois "
   ]
  },
  {
   "cell_type": "markdown",
   "metadata": {},
   "source": [
    "La variable _tourney_level_ informe sur le type de tournoi dans lequel est joué le match. Elle comporte les modalités suivantes :\n",
    "<br>\n",
    "- G – Grand Slam (Grand Chelem)\n",
    "- M – Masters\n",
    "- A – ATP (500 & 250)\n",
    "- F – Tour final (ATP finals)"
   ]
  },
  {
   "cell_type": "code",
   "execution_count": 31,
   "metadata": {},
   "outputs": [
    {
     "data": {
      "text/plain": [
       "best_of  tourney_level\n",
       "3        A                32959\n",
       "         F                  289\n",
       "         M                11214\n",
       "5        A                   44\n",
       "         F                    7\n",
       "         G                 9960\n",
       "         M                   42\n",
       "Name: match_num, dtype: int64"
      ]
     },
     "execution_count": 31,
     "metadata": {},
     "output_type": "execute_result"
    }
   ],
   "source": [
    "data.groupby(['best_of', 'tourney_level'])['match_num'].count()"
   ]
  },
  {
   "cell_type": "markdown",
   "metadata": {},
   "source": [
    "La catégorie F est très fortement sous-représenté. Cela s'explique par le fait qu'il s'agit uniquement du tournois de fin de saison ATP finals.<br>\n",
    "On voit également que séparer le jeu de données en 2 selon le nombre de sets gagnants revient à répartir les matchs entre grand chelem et les autres tournois."
   ]
  },
  {
   "cell_type": "code",
   "execution_count": 79,
   "metadata": {},
   "outputs": [
    {
     "data": {
      "text/html": [
       "<div>\n",
       "<style scoped>\n",
       "    .dataframe tbody tr th:only-of-type {\n",
       "        vertical-align: middle;\n",
       "    }\n",
       "\n",
       "    .dataframe tbody tr th {\n",
       "        vertical-align: top;\n",
       "    }\n",
       "\n",
       "    .dataframe thead th {\n",
       "        text-align: right;\n",
       "    }\n",
       "</style>\n",
       "<table border=\"1\" class=\"dataframe\">\n",
       "  <thead>\n",
       "    <tr style=\"text-align: right;\">\n",
       "      <th>tourney_level</th>\n",
       "      <th>A</th>\n",
       "      <th>F</th>\n",
       "      <th>G</th>\n",
       "      <th>M</th>\n",
       "    </tr>\n",
       "    <tr>\n",
       "      <th>best_of</th>\n",
       "      <th></th>\n",
       "      <th></th>\n",
       "      <th></th>\n",
       "      <th></th>\n",
       "    </tr>\n",
       "  </thead>\n",
       "  <tbody>\n",
       "    <tr>\n",
       "      <th>3</th>\n",
       "      <td>95.668726</td>\n",
       "      <td>104.233577</td>\n",
       "      <td>NaN</td>\n",
       "      <td>99.094511</td>\n",
       "    </tr>\n",
       "    <tr>\n",
       "      <th>5</th>\n",
       "      <td>160.522727</td>\n",
       "      <td>148.142857</td>\n",
       "      <td>148.442064</td>\n",
       "      <td>160.500000</td>\n",
       "    </tr>\n",
       "  </tbody>\n",
       "</table>\n",
       "</div>"
      ],
      "text/plain": [
       "tourney_level           A           F           G           M\n",
       "best_of                                                      \n",
       "3               95.668726  104.233577         NaN   99.094511\n",
       "5              160.522727  148.142857  148.442064  160.500000"
      ]
     },
     "execution_count": 79,
     "metadata": {},
     "output_type": "execute_result"
    }
   ],
   "source": [
    "data.groupby(['best_of', 'tourney_level'])['minutes'].mean().unstack()"
   ]
  },
  {
   "cell_type": "code",
   "execution_count": 80,
   "metadata": {},
   "outputs": [
    {
     "data": {
      "text/html": [
       "<div>\n",
       "<style scoped>\n",
       "    .dataframe tbody tr th:only-of-type {\n",
       "        vertical-align: middle;\n",
       "    }\n",
       "\n",
       "    .dataframe tbody tr th {\n",
       "        vertical-align: top;\n",
       "    }\n",
       "\n",
       "    .dataframe thead th {\n",
       "        text-align: right;\n",
       "    }\n",
       "</style>\n",
       "<table border=\"1\" class=\"dataframe\">\n",
       "  <thead>\n",
       "    <tr style=\"text-align: right;\">\n",
       "      <th>tourney_level</th>\n",
       "      <th>A</th>\n",
       "      <th>F</th>\n",
       "      <th>G</th>\n",
       "      <th>M</th>\n",
       "    </tr>\n",
       "    <tr>\n",
       "      <th>best_of</th>\n",
       "      <th></th>\n",
       "      <th></th>\n",
       "      <th></th>\n",
       "      <th></th>\n",
       "    </tr>\n",
       "  </thead>\n",
       "  <tbody>\n",
       "    <tr>\n",
       "      <th>3</th>\n",
       "      <td>90.0</td>\n",
       "      <td>98.0</td>\n",
       "      <td>NaN</td>\n",
       "      <td>93.0</td>\n",
       "    </tr>\n",
       "    <tr>\n",
       "      <th>5</th>\n",
       "      <td>148.0</td>\n",
       "      <td>115.0</td>\n",
       "      <td>141.0</td>\n",
       "      <td>140.5</td>\n",
       "    </tr>\n",
       "  </tbody>\n",
       "</table>\n",
       "</div>"
      ],
      "text/plain": [
       "tourney_level      A      F      G      M\n",
       "best_of                                  \n",
       "3               90.0   98.0    NaN   93.0\n",
       "5              148.0  115.0  141.0  140.5"
      ]
     },
     "execution_count": 80,
     "metadata": {},
     "output_type": "execute_result"
    }
   ],
   "source": [
    "data.groupby(['best_of', 'tourney_level'])['minutes'].median().unstack()"
   ]
  },
  {
   "cell_type": "code",
   "execution_count": 81,
   "metadata": {},
   "outputs": [
    {
     "data": {
      "text/html": [
       "<div>\n",
       "<style scoped>\n",
       "    .dataframe tbody tr th:only-of-type {\n",
       "        vertical-align: middle;\n",
       "    }\n",
       "\n",
       "    .dataframe tbody tr th {\n",
       "        vertical-align: top;\n",
       "    }\n",
       "\n",
       "    .dataframe thead th {\n",
       "        text-align: right;\n",
       "    }\n",
       "</style>\n",
       "<table border=\"1\" class=\"dataframe\">\n",
       "  <thead>\n",
       "    <tr style=\"text-align: right;\">\n",
       "      <th></th>\n",
       "      <th></th>\n",
       "      <th>count</th>\n",
       "      <th>mean</th>\n",
       "      <th>std</th>\n",
       "      <th>min</th>\n",
       "      <th>25%</th>\n",
       "      <th>50%</th>\n",
       "      <th>75%</th>\n",
       "      <th>max</th>\n",
       "    </tr>\n",
       "    <tr>\n",
       "      <th>best_of</th>\n",
       "      <th>tourney_level</th>\n",
       "      <th></th>\n",
       "      <th></th>\n",
       "      <th></th>\n",
       "      <th></th>\n",
       "      <th></th>\n",
       "      <th></th>\n",
       "      <th></th>\n",
       "      <th></th>\n",
       "    </tr>\n",
       "  </thead>\n",
       "  <tbody>\n",
       "    <tr>\n",
       "      <th rowspan=\"3\" valign=\"top\">3</th>\n",
       "      <th>A</th>\n",
       "      <td>31403.0</td>\n",
       "      <td>95.668726</td>\n",
       "      <td>29.801255</td>\n",
       "      <td>25.0</td>\n",
       "      <td>72.00</td>\n",
       "      <td>90.0</td>\n",
       "      <td>115.0</td>\n",
       "      <td>289.0</td>\n",
       "    </tr>\n",
       "    <tr>\n",
       "      <th>F</th>\n",
       "      <td>274.0</td>\n",
       "      <td>104.233577</td>\n",
       "      <td>32.273956</td>\n",
       "      <td>50.0</td>\n",
       "      <td>77.25</td>\n",
       "      <td>98.0</td>\n",
       "      <td>127.0</td>\n",
       "      <td>218.0</td>\n",
       "    </tr>\n",
       "    <tr>\n",
       "      <th>M</th>\n",
       "      <td>10676.0</td>\n",
       "      <td>99.094511</td>\n",
       "      <td>30.606132</td>\n",
       "      <td>28.0</td>\n",
       "      <td>75.00</td>\n",
       "      <td>93.0</td>\n",
       "      <td>120.0</td>\n",
       "      <td>244.0</td>\n",
       "    </tr>\n",
       "    <tr>\n",
       "      <th rowspan=\"4\" valign=\"top\">5</th>\n",
       "      <th>A</th>\n",
       "      <td>44.0</td>\n",
       "      <td>160.522727</td>\n",
       "      <td>48.522107</td>\n",
       "      <td>93.0</td>\n",
       "      <td>123.50</td>\n",
       "      <td>148.0</td>\n",
       "      <td>185.5</td>\n",
       "      <td>300.0</td>\n",
       "    </tr>\n",
       "    <tr>\n",
       "      <th>F</th>\n",
       "      <td>7.0</td>\n",
       "      <td>148.142857</td>\n",
       "      <td>72.792922</td>\n",
       "      <td>96.0</td>\n",
       "      <td>98.00</td>\n",
       "      <td>115.0</td>\n",
       "      <td>178.5</td>\n",
       "      <td>273.0</td>\n",
       "    </tr>\n",
       "    <tr>\n",
       "      <th>G</th>\n",
       "      <td>9476.0</td>\n",
       "      <td>148.442064</td>\n",
       "      <td>45.740356</td>\n",
       "      <td>43.0</td>\n",
       "      <td>113.00</td>\n",
       "      <td>141.0</td>\n",
       "      <td>179.0</td>\n",
       "      <td>396.0</td>\n",
       "    </tr>\n",
       "    <tr>\n",
       "      <th>M</th>\n",
       "      <td>42.0</td>\n",
       "      <td>160.500000</td>\n",
       "      <td>54.591275</td>\n",
       "      <td>93.0</td>\n",
       "      <td>120.25</td>\n",
       "      <td>140.5</td>\n",
       "      <td>188.0</td>\n",
       "      <td>314.0</td>\n",
       "    </tr>\n",
       "  </tbody>\n",
       "</table>\n",
       "</div>"
      ],
      "text/plain": [
       "                         count        mean        std   min     25%    50%  \\\n",
       "best_of tourney_level                                                        \n",
       "3       A              31403.0   95.668726  29.801255  25.0   72.00   90.0   \n",
       "        F                274.0  104.233577  32.273956  50.0   77.25   98.0   \n",
       "        M              10676.0   99.094511  30.606132  28.0   75.00   93.0   \n",
       "5       A                 44.0  160.522727  48.522107  93.0  123.50  148.0   \n",
       "        F                  7.0  148.142857  72.792922  96.0   98.00  115.0   \n",
       "        G               9476.0  148.442064  45.740356  43.0  113.00  141.0   \n",
       "        M                 42.0  160.500000  54.591275  93.0  120.25  140.5   \n",
       "\n",
       "                         75%    max  \n",
       "best_of tourney_level                \n",
       "3       A              115.0  289.0  \n",
       "        F              127.0  218.0  \n",
       "        M              120.0  244.0  \n",
       "5       A              185.5  300.0  \n",
       "        F              178.5  273.0  \n",
       "        G              179.0  396.0  \n",
       "        M              188.0  314.0  "
      ]
     },
     "execution_count": 81,
     "metadata": {},
     "output_type": "execute_result"
    }
   ],
   "source": [
    "data.groupby(['best_of', 'tourney_level'])['minutes'].describe()"
   ]
  },
  {
   "cell_type": "code",
   "execution_count": 82,
   "metadata": {},
   "outputs": [
    {
     "data": {
      "image/png": "[encoded data removed]",
      "text/plain": [
       "<Figure size 720x360 with 1 Axes>"
      ]
     },
     "metadata": {},
     "output_type": "display_data"
    }
   ],
   "source": [
    "fig, ax = plt.subplots(1, 1)\n",
    "ax.get_xaxis().set_visible(False)\n",
    "data.groupby(['best_of', 'tourney_level'])['minutes'].mean().unstack().plot(kind='bar', figsize=(10,5),\n",
    "                                                                      table=np.round(data.groupby(['best_of', 'tourney_level'])['minutes'].mean().unstack().transpose(), 2)\n",
    "                                                                      , grid=True, ax=ax)\n",
    "plt.show()"
   ]
  },
  {
   "cell_type": "markdown",
   "metadata": {},
   "source": [
    "### Le round"
   ]
  },
  {
   "cell_type": "markdown",
   "metadata": {},
   "source": [
    "La variable \"round\" indique à quel stade du tournois se situe le match. Elle comporte les modalités suivantes : <br>\n",
    "- R128 (128ème de finale), R64, R32, R16, R8\n",
    "- QF (quart de finale), SF (demi finale), F (finale)\n",
    "- RR (phase de poule), BR (petite finale), ER (Elimination round, tour particulier d'élimination après les qualifications)"
   ]
  },
  {
   "cell_type": "code",
   "execution_count": 36,
   "metadata": {},
   "outputs": [
    {
     "data": {
      "text/html": [
       "<div>\n",
       "<style scoped>\n",
       "    .dataframe tbody tr th:only-of-type {\n",
       "        vertical-align: middle;\n",
       "    }\n",
       "\n",
       "    .dataframe tbody tr th {\n",
       "        vertical-align: top;\n",
       "    }\n",
       "\n",
       "    .dataframe thead th {\n",
       "        text-align: right;\n",
       "    }\n",
       "</style>\n",
       "<table border=\"1\" class=\"dataframe\">\n",
       "  <thead>\n",
       "    <tr style=\"text-align: right;\">\n",
       "      <th>round</th>\n",
       "      <th>BR</th>\n",
       "      <th>ER</th>\n",
       "      <th>F</th>\n",
       "      <th>QF</th>\n",
       "      <th>R128</th>\n",
       "      <th>R16</th>\n",
       "      <th>R32</th>\n",
       "      <th>R64</th>\n",
       "      <th>RR</th>\n",
       "      <th>SF</th>\n",
       "    </tr>\n",
       "    <tr>\n",
       "      <th>best_of</th>\n",
       "      <th></th>\n",
       "      <th></th>\n",
       "      <th></th>\n",
       "      <th></th>\n",
       "      <th></th>\n",
       "      <th></th>\n",
       "      <th></th>\n",
       "      <th></th>\n",
       "      <th></th>\n",
       "      <th></th>\n",
       "    </tr>\n",
       "  </thead>\n",
       "  <tbody>\n",
       "    <tr>\n",
       "      <th>3</th>\n",
       "      <td>138.0</td>\n",
       "      <td>85.96875</td>\n",
       "      <td>105.160988</td>\n",
       "      <td>98.843621</td>\n",
       "      <td>98.002555</td>\n",
       "      <td>97.179407</td>\n",
       "      <td>94.873088</td>\n",
       "      <td>95.414547</td>\n",
       "      <td>99.254669</td>\n",
       "      <td>101.779723</td>\n",
       "    </tr>\n",
       "    <tr>\n",
       "      <th>5</th>\n",
       "      <td>NaN</td>\n",
       "      <td>NaN</td>\n",
       "      <td>166.891429</td>\n",
       "      <td>159.850318</td>\n",
       "      <td>145.512171</td>\n",
       "      <td>156.536392</td>\n",
       "      <td>150.822115</td>\n",
       "      <td>148.685908</td>\n",
       "      <td>NaN</td>\n",
       "      <td>166.706250</td>\n",
       "    </tr>\n",
       "  </tbody>\n",
       "</table>\n",
       "</div>"
      ],
      "text/plain": [
       "round       BR        ER           F          QF        R128         R16  \\\n",
       "best_of                                                                    \n",
       "3        138.0  85.96875  105.160988   98.843621   98.002555   97.179407   \n",
       "5          NaN       NaN  166.891429  159.850318  145.512171  156.536392   \n",
       "\n",
       "round           R32         R64         RR          SF  \n",
       "best_of                                                 \n",
       "3         94.873088   95.414547  99.254669  101.779723  \n",
       "5        150.822115  148.685908        NaN  166.706250  "
      ]
     },
     "execution_count": 36,
     "metadata": {},
     "output_type": "execute_result"
    }
   ],
   "source": [
    "data.groupby(['best_of', 'round'])['minutes'].mean().unstack()"
   ]
  },
  {
   "cell_type": "code",
   "execution_count": 37,
   "metadata": {},
   "outputs": [],
   "source": [
    "gb_round = data.groupby(['best_of', 'round'])['minutes'].mean()"
   ]
  },
  {
   "cell_type": "code",
   "execution_count": 83,
   "metadata": {},
   "outputs": [
    {
     "data": {
      "image/png": "[encoded data removed]",
      "text/plain": [
       "<Figure size 1080x360 with 1 Axes>"
      ]
     },
     "metadata": {},
     "output_type": "display_data"
    }
   ],
   "source": [
    "fig, ax = plt.subplots(1, 1)\n",
    "ax.get_xaxis().set_visible(False)\n",
    "data.groupby(['best_of', 'round'])['minutes'].mean().unstack().plot(kind='bar', figsize=(15,5),\n",
    "                                                                      table=np.round(data.groupby(['best_of', 'round'])['minutes'].mean().unstack().transpose(), 2)\n",
    "                                                                      ,grid=True\n",
    "                                                                      ,ax=ax\n",
    "                                                                       ,title='Durée moyenne des matchs par rounds' )\n",
    "plt.show()"
   ]
  },
  {
   "cell_type": "code",
   "execution_count": 84,
   "metadata": {},
   "outputs": [
    {
     "data": {
      "image/png": "[encoded data removed]",
      "text/plain": [
       "<Figure size 1080x360 with 1 Axes>"
      ]
     },
     "metadata": {},
     "output_type": "display_data"
    }
   ],
   "source": [
    "fig, ax = plt.subplots(1, 1)\n",
    "ax.get_xaxis().set_visible(False)\n",
    "data.groupby(['best_of', 'round'])['minutes'].mean().unstack()[['F', 'SF', 'QF', 'R16', 'R32', 'R64', 'R128']].plot(kind='bar', figsize=(15,5),\n",
    "                                                                      table=np.round(data.groupby(['best_of', 'round'])['minutes'].mean().unstack()[['F', 'SF', 'QF', 'R16', 'R32', 'R64', 'R128']].transpose(), 2)\n",
    "                                                                      , grid=True\n",
    "                                                                      , ax=ax\n",
    "                                                                      , title='Durée moyenne des matchs par rounds')\n",
    "plt.show()"
   ]
  },
  {
   "cell_type": "markdown",
   "metadata": {},
   "source": [
    "En organisant les rounds par ordre d'importance dans un tournoi on s'aperçoit que les matchs de phases finales sont en moyenne plus longs que les autres.<br>\n",
    "  \n",
    "<center><font color='black'>On peut alors se demander s'il y a lien entre le niveau des matchs et leur durée.</font></center>"
   ]
  },
  {
   "cell_type": "markdown",
   "metadata": {},
   "source": [
    "### Analyse de l'évolution de la durée des matchs en fonction du classement des joueurs"
   ]
  },
  {
   "cell_type": "markdown",
   "metadata": {},
   "source": [
    "Dans cette partie nous allons étudier s'il existe un lien entre le niveau d'un match et sa durée. Nous regarderons premièrement si l'homogénéité du classement des adversaires d'un match de tennis à une influence sur sa durée. Deuxièmement nous regarderons si la durée des matchs varie en fonction du classement moyen des deux joueurs. L'idée est de voir si les matchs de plus haut niveau durent plus ou moins longtemps que les autres."
   ]
  },
  {
   "cell_type": "markdown",
   "metadata": {},
   "source": [
    "### La différence de classement entre les deux joueurs"
   ]
  },
  {
   "cell_type": "markdown",
   "metadata": {},
   "source": [
    "On va créer une variable _diff_ranking_ qui sera la différence de classement entre les deux joueurs d'un match. Une forte valeur de _diff_ranking_ indique un niveau hétérogène dans le match tandis qu'une faible valeur indique un niveau homogène."
   ]
  },
  {
   "cell_type": "code",
   "execution_count": 85,
   "metadata": {},
   "outputs": [],
   "source": [
    "data['diff_ranking'] = data.apply(lambda x: abs(x.winner_rank - x.loser_rank), axis=1)"
   ]
  },
  {
   "cell_type": "code",
   "execution_count": 86,
   "metadata": {},
   "outputs": [
    {
     "data": {
      "text/plain": [
       "count    51772.000000\n",
       "mean        71.765684\n",
       "std        111.815620\n",
       "min          1.000000\n",
       "25%         19.000000\n",
       "50%         41.000000\n",
       "75%         79.000000\n",
       "max       2125.000000\n",
       "Name: diff_ranking, dtype: float64"
      ]
     },
     "execution_count": 86,
     "metadata": {},
     "output_type": "execute_result"
    }
   ],
   "source": [
    "data['diff_ranking'].describe()"
   ]
  },
  {
   "cell_type": "code",
   "execution_count": 87,
   "metadata": {},
   "outputs": [],
   "source": [
    "data['diff_ranking_categories'] = pd.cut(data['diff_ranking'], [0,20,50,70,200,450,1000,3000])"
   ]
  },
  {
   "cell_type": "markdown",
   "metadata": {},
   "source": [
    "On utilise la méthode `cut` de pandas afin de regrouper les différences de classement en catégories mieux visualiser l'évolution de la durée des matchs."
   ]
  },
  {
   "cell_type": "code",
   "execution_count": 88,
   "metadata": {},
   "outputs": [
    {
     "data": {
      "text/html": [
       "<div>\n",
       "<style scoped>\n",
       "    .dataframe tbody tr th:only-of-type {\n",
       "        vertical-align: middle;\n",
       "    }\n",
       "\n",
       "    .dataframe tbody tr th {\n",
       "        vertical-align: top;\n",
       "    }\n",
       "\n",
       "    .dataframe thead th {\n",
       "        text-align: right;\n",
       "    }\n",
       "</style>\n",
       "<table border=\"1\" class=\"dataframe\">\n",
       "  <thead>\n",
       "    <tr style=\"text-align: right;\">\n",
       "      <th>diff_ranking_categories</th>\n",
       "      <th>(0, 20]</th>\n",
       "      <th>(20, 50]</th>\n",
       "      <th>(50, 70]</th>\n",
       "      <th>(70, 200]</th>\n",
       "      <th>(200, 450]</th>\n",
       "      <th>(450, 1000]</th>\n",
       "      <th>(1000, 3000]</th>\n",
       "    </tr>\n",
       "    <tr>\n",
       "      <th>best_of</th>\n",
       "      <th></th>\n",
       "      <th></th>\n",
       "      <th></th>\n",
       "      <th></th>\n",
       "      <th></th>\n",
       "      <th></th>\n",
       "      <th></th>\n",
       "    </tr>\n",
       "  </thead>\n",
       "  <tbody>\n",
       "    <tr>\n",
       "      <th>3</th>\n",
       "      <td>98.827107</td>\n",
       "      <td>97.239487</td>\n",
       "      <td>95.635835</td>\n",
       "      <td>95.230624</td>\n",
       "      <td>92.677878</td>\n",
       "      <td>87.918336</td>\n",
       "      <td>75.806122</td>\n",
       "    </tr>\n",
       "    <tr>\n",
       "      <th>5</th>\n",
       "      <td>157.527939</td>\n",
       "      <td>151.160044</td>\n",
       "      <td>146.216277</td>\n",
       "      <td>142.318893</td>\n",
       "      <td>134.071979</td>\n",
       "      <td>137.428571</td>\n",
       "      <td>134.071429</td>\n",
       "    </tr>\n",
       "  </tbody>\n",
       "</table>\n",
       "</div>"
      ],
      "text/plain": [
       "diff_ranking_categories     (0, 20]    (20, 50]    (50, 70]   (70, 200]  \\\n",
       "best_of                                                                   \n",
       "3                         98.827107   97.239487   95.635835   95.230624   \n",
       "5                        157.527939  151.160044  146.216277  142.318893   \n",
       "\n",
       "diff_ranking_categories  (200, 450]  (450, 1000]  (1000, 3000]  \n",
       "best_of                                                         \n",
       "3                         92.677878    87.918336     75.806122  \n",
       "5                        134.071979   137.428571    134.071429  "
      ]
     },
     "execution_count": 88,
     "metadata": {},
     "output_type": "execute_result"
    }
   ],
   "source": [
    "data.groupby(['best_of', 'diff_ranking_categories'])['minutes'].mean().unstack()"
   ]
  },
  {
   "cell_type": "code",
   "execution_count": 89,
   "metadata": {},
   "outputs": [
    {
     "data": {
      "image/png": "[encoded data removed]",
      "text/plain": [
       "<Figure size 1080x360 with 1 Axes>"
      ]
     },
     "metadata": {},
     "output_type": "display_data"
    }
   ],
   "source": [
    "fig, ax = plt.subplots(1, 1)\n",
    "ax.get_xaxis().set_visible(False)\n",
    "data.groupby(['best_of', 'diff_ranking_categories'])['minutes'].mean().unstack().plot(kind='bar', figsize=(15,5),\n",
    "                                                                      table=np.round(data.groupby(['best_of', 'diff_ranking_categories'])['minutes'].mean().unstack().transpose(), 2)\n",
    "                                                                      , grid=True, ax=ax\n",
    "                                                                       , title='Durée moyenne des matchs par différence de classement')\n",
    "plt.show()"
   ]
  },
  {
   "cell_type": "code",
   "execution_count": 91,
   "metadata": {},
   "outputs": [
    {
     "data": {
      "image/png": "[encoded data removed]",
      "text/plain": [
       "<Figure size 1440x360 with 2 Axes>"
      ]
     },
     "metadata": {},
     "output_type": "display_data"
    }
   ],
   "source": [
    "fig, axes = plt.subplots(1, 2, figsize=(20,5))\n",
    "sns.boxplot(x=\"diff_ranking_categories\", y=\"minutes\", data=data[data['best_of']==3],\n",
    "            ax=axes[0]).set_title('Minutes par catégories (bo3)')\n",
    "sns.boxplot(x=\"diff_ranking_categories\", y=\"minutes\", data=data[data['best_of']==5],\n",
    "            ax=axes[1]).set_title('Minutes par catégories (bo5)')\n",
    "plt.show()"
   ]
  },
  {
   "cell_type": "markdown",
   "metadata": {},
   "source": [
    "On voit qu'en moyenne les matchs dont le niveau de jeu est homogène sont plus long que ceux avec un niveau hétérogène à l'aide des bar plot. Cependant, un faible nombre de matchs suffit à \"tirer\" les moyennes vers le haut comme nous le montre les box plot."
   ]
  },
  {
   "cell_type": "code",
   "execution_count": 92,
   "metadata": {},
   "outputs": [
    {
     "data": {
      "text/html": [
       "<div>\n",
       "<style scoped>\n",
       "    .dataframe tbody tr th:only-of-type {\n",
       "        vertical-align: middle;\n",
       "    }\n",
       "\n",
       "    .dataframe tbody tr th {\n",
       "        vertical-align: top;\n",
       "    }\n",
       "\n",
       "    .dataframe thead th {\n",
       "        text-align: right;\n",
       "    }\n",
       "</style>\n",
       "<table border=\"1\" class=\"dataframe\">\n",
       "  <thead>\n",
       "    <tr style=\"text-align: right;\">\n",
       "      <th></th>\n",
       "      <th>minutes</th>\n",
       "      <th>diff_ranking</th>\n",
       "    </tr>\n",
       "  </thead>\n",
       "  <tbody>\n",
       "    <tr>\n",
       "      <th>minutes</th>\n",
       "      <td>1.000000</td>\n",
       "      <td>-0.065243</td>\n",
       "    </tr>\n",
       "    <tr>\n",
       "      <th>diff_ranking</th>\n",
       "      <td>-0.065243</td>\n",
       "      <td>1.000000</td>\n",
       "    </tr>\n",
       "  </tbody>\n",
       "</table>\n",
       "</div>"
      ],
      "text/plain": [
       "               minutes  diff_ranking\n",
       "minutes       1.000000     -0.065243\n",
       "diff_ranking -0.065243      1.000000"
      ]
     },
     "execution_count": 92,
     "metadata": {},
     "output_type": "execute_result"
    }
   ],
   "source": [
    "data[['minutes', 'diff_ranking']].corr()"
   ]
  },
  {
   "cell_type": "markdown",
   "metadata": {},
   "source": [
    "La faible corrélation entre la variable _minutes_ et _diff_ranking_ confirme ce que nous avions observé sur les graphiques précédants."
   ]
  },
  {
   "cell_type": "markdown",
   "metadata": {},
   "source": [
    "### Le classement moyen entre les deux joueurs"
   ]
  },
  {
   "cell_type": "markdown",
   "metadata": {},
   "source": [
    "A l'instar de ce que nous avons fait précédemment, nous allons créer une variable _avg_ranking_ qui représentera le classement  moyen des deux joueurs. Une forte valeur de _avg_ranking_ indique un niveau moyen faible tandis qu'une faible valeur forte indique un niveau élevé (le classement ATP dans l'ordre décroissant)."
   ]
  },
  {
   "cell_type": "code",
   "execution_count": 100,
   "metadata": {},
   "outputs": [],
   "source": [
    "data['avg_ranking'] = data.apply(lambda x: (x.winner_rank + x.loser_rank)/2, axis=1)"
   ]
  },
  {
   "cell_type": "code",
   "execution_count": 101,
   "metadata": {},
   "outputs": [
    {
     "data": {
      "text/plain": [
       "count    51772.000000\n",
       "mean        75.295459\n",
       "std         71.757582\n",
       "min          1.500000\n",
       "25%         35.500000\n",
       "50%         58.500000\n",
       "75%         90.500000\n",
       "max       1484.000000\n",
       "Name: avg_ranking, dtype: float64"
      ]
     },
     "execution_count": 101,
     "metadata": {},
     "output_type": "execute_result"
    }
   ],
   "source": [
    "data['avg_ranking'].describe()"
   ]
  },
  {
   "cell_type": "code",
   "execution_count": 102,
   "metadata": {},
   "outputs": [],
   "source": [
    "data['avg_ranking_categories'] = pd.cut(data['avg_ranking'], [0,35,60,90,125,240,500,1500])"
   ]
  },
  {
   "cell_type": "code",
   "execution_count": 103,
   "metadata": {},
   "outputs": [
    {
     "data": {
      "text/html": [
       "<div>\n",
       "<style scoped>\n",
       "    .dataframe tbody tr th:only-of-type {\n",
       "        vertical-align: middle;\n",
       "    }\n",
       "\n",
       "    .dataframe tbody tr th {\n",
       "        vertical-align: top;\n",
       "    }\n",
       "\n",
       "    .dataframe thead th {\n",
       "        text-align: right;\n",
       "    }\n",
       "</style>\n",
       "<table border=\"1\" class=\"dataframe\">\n",
       "  <thead>\n",
       "    <tr style=\"text-align: right;\">\n",
       "      <th>avg_ranking_categories</th>\n",
       "      <th>(0, 35]</th>\n",
       "      <th>(35, 60]</th>\n",
       "      <th>(60, 90]</th>\n",
       "      <th>(90, 125]</th>\n",
       "      <th>(125, 240]</th>\n",
       "      <th>(240, 500]</th>\n",
       "      <th>(500, 1500]</th>\n",
       "    </tr>\n",
       "    <tr>\n",
       "      <th>best_of</th>\n",
       "      <th></th>\n",
       "      <th></th>\n",
       "      <th></th>\n",
       "      <th></th>\n",
       "      <th></th>\n",
       "      <th></th>\n",
       "      <th></th>\n",
       "    </tr>\n",
       "  </thead>\n",
       "  <tbody>\n",
       "    <tr>\n",
       "      <th>3</th>\n",
       "      <td>99.620726</td>\n",
       "      <td>97.016596</td>\n",
       "      <td>95.628933</td>\n",
       "      <td>95.291731</td>\n",
       "      <td>94.511489</td>\n",
       "      <td>91.453125</td>\n",
       "      <td>83.309859</td>\n",
       "    </tr>\n",
       "    <tr>\n",
       "      <th>5</th>\n",
       "      <td>155.475848</td>\n",
       "      <td>146.208680</td>\n",
       "      <td>146.804764</td>\n",
       "      <td>144.991482</td>\n",
       "      <td>147.176179</td>\n",
       "      <td>136.335714</td>\n",
       "      <td>146.916667</td>\n",
       "    </tr>\n",
       "  </tbody>\n",
       "</table>\n",
       "</div>"
      ],
      "text/plain": [
       "avg_ranking_categories     (0, 35]    (35, 60]    (60, 90]   (90, 125]  \\\n",
       "best_of                                                                  \n",
       "3                        99.620726   97.016596   95.628933   95.291731   \n",
       "5                       155.475848  146.208680  146.804764  144.991482   \n",
       "\n",
       "avg_ranking_categories  (125, 240]  (240, 500]  (500, 1500]  \n",
       "best_of                                                      \n",
       "3                        94.511489   91.453125    83.309859  \n",
       "5                       147.176179  136.335714   146.916667  "
      ]
     },
     "execution_count": 103,
     "metadata": {},
     "output_type": "execute_result"
    }
   ],
   "source": [
    "data.groupby(['best_of', 'avg_ranking_categories'])['minutes'].mean().unstack()"
   ]
  },
  {
   "cell_type": "code",
   "execution_count": 104,
   "metadata": {},
   "outputs": [
    {
     "data": {
      "text/html": [
       "<div>\n",
       "<style scoped>\n",
       "    .dataframe tbody tr th:only-of-type {\n",
       "        vertical-align: middle;\n",
       "    }\n",
       "\n",
       "    .dataframe tbody tr th {\n",
       "        vertical-align: top;\n",
       "    }\n",
       "\n",
       "    .dataframe thead th {\n",
       "        text-align: right;\n",
       "    }\n",
       "</style>\n",
       "<table border=\"1\" class=\"dataframe\">\n",
       "  <thead>\n",
       "    <tr style=\"text-align: right;\">\n",
       "      <th></th>\n",
       "      <th>minutes</th>\n",
       "      <th>avg_ranking</th>\n",
       "    </tr>\n",
       "  </thead>\n",
       "  <tbody>\n",
       "    <tr>\n",
       "      <th>minutes</th>\n",
       "      <td>1.000000</td>\n",
       "      <td>-0.080041</td>\n",
       "    </tr>\n",
       "    <tr>\n",
       "      <th>avg_ranking</th>\n",
       "      <td>-0.080041</td>\n",
       "      <td>1.000000</td>\n",
       "    </tr>\n",
       "  </tbody>\n",
       "</table>\n",
       "</div>"
      ],
      "text/plain": [
       "              minutes  avg_ranking\n",
       "minutes      1.000000    -0.080041\n",
       "avg_ranking -0.080041     1.000000"
      ]
     },
     "execution_count": 104,
     "metadata": {},
     "output_type": "execute_result"
    }
   ],
   "source": [
    "data[['minutes', 'avg_ranking']].corr()"
   ]
  },
  {
   "cell_type": "code",
   "execution_count": 99,
   "metadata": {},
   "outputs": [
    {
     "data": {
      "image/png": "[encoded data removed]",
      "text/plain": [
       "<Figure size 1080x360 with 1 Axes>"
      ]
     },
     "metadata": {},
     "output_type": "display_data"
    }
   ],
   "source": [
    "fig, ax = plt.subplots(1, 1)\n",
    "ax.get_xaxis().set_visible(False)\n",
    "data.groupby(['best_of', 'avg_ranking_categories'])['minutes'].mean().unstack().plot(kind='bar', figsize=(15,5),\n",
    "                                                                      table=np.round(data.groupby(['best_of', 'avg_ranking_categories'])['minutes'].mean().unstack().transpose(), 2)\n",
    "                                                                      ,grid=True\n",
    "                                                                      ,ax=ax\n",
    "                                                                      , title='Durée moyenne des matchs par classement moyen')\n",
    "plt.show()"
   ]
  },
  {
   "cell_type": "markdown",
   "metadata": {},
   "source": [
    "### Analyse du top 1000 des matchs les plus rapides"
   ]
  },
  {
   "cell_type": "code",
   "execution_count": 53,
   "metadata": {},
   "outputs": [],
   "source": [
    "top_1000_rapides_b03 = data[data['best_of']==3].nsmallest(1000, 'minutes')\n",
    "top_1000_rapides_b05 = data[data['best_of']==5].nsmallest(1000, 'minutes')"
   ]
  },
  {
   "cell_type": "markdown",
   "metadata": {},
   "source": [
    "###  Analyse du top 1000 des matchs les plus lents"
   ]
  },
  {
   "cell_type": "code",
   "execution_count": 54,
   "metadata": {},
   "outputs": [],
   "source": [
    "top_1000_lents_b03 = data[data['best_of']==3].nlargest(1000, 'minutes')\n",
    "top_1000_lents_b05 = data[data['best_of']==5].nlargest(1000, 'minutes')"
   ]
  },
  {
   "cell_type": "markdown",
   "metadata": {},
   "source": [
    "Comparer les moyenne des ranks dans les différents matchs. On voit que dans les matchs les plus rapides le niveau est un peu moins bon que dans les matchs les plus lents. <br>\n",
    "De manière général les longs matchs sont des matchs de haut niveai"
   ]
  },
  {
   "cell_type": "code",
   "execution_count": 55,
   "metadata": {},
   "outputs": [],
   "source": [
    "diff_between_lent_rapide_b03 =[top_1000_lents_b03['minutes'].mean()-top_1000_rapides_b03['minutes'].mean(),\n",
    "top_1000_lents_b03['winner_rank'].mean()-top_1000_rapides_b03['winner_rank'].mean(),\n",
    "top_1000_lents_b03['loser_rank'].mean()-top_1000_rapides_b03['loser_rank'].mean(),\n",
    "top_1000_lents_b03['diff_ranking'].mean()-top_1000_rapides_b03['diff_ranking'].mean(),\n",
    "top_1000_lents_b03['avg_ranking'].mean()-top_1000_rapides_b03['avg_ranking'].mean()]"
   ]
  },
  {
   "cell_type": "code",
   "execution_count": 77,
   "metadata": {},
   "outputs": [
    {
     "data": {
      "image/png": "[encoded data removed]",
      "text/plain": [
       "<Figure size 720x360 with 1 Axes>"
      ]
     },
     "metadata": {},
     "output_type": "display_data"
    }
   ],
   "source": [
    "plt.figure(figsize=(10,5))\n",
    "plt.tight_layout(pad=2)\n",
    "plt.bar(['minutes', 'winner_rank',  'loser_rank', 'diff_ranking', 'avg_ranking'],diff_between_lent_rapide_b03)\n",
    "plt.title('Différence entre les moyennes des 1000 matchs lents et les 1000 matchs les plus rapides (Best of 3)')\n",
    "sns.despine()\n",
    "plt.show()"
   ]
  },
  {
   "cell_type": "code",
   "execution_count": 57,
   "metadata": {},
   "outputs": [],
   "source": [
    "diff_between_lent_rapide_b05 =[top_1000_lents_b05['minutes'].mean()-top_1000_rapides_b05['minutes'].mean(),\n",
    "top_1000_lents_b05['winner_rank'].mean()-top_1000_rapides_b05['winner_rank'].mean(),\n",
    "top_1000_lents_b05['loser_rank'].mean()-top_1000_rapides_b05['loser_rank'].mean(),\n",
    "top_1000_lents_b05['diff_ranking'].mean()-top_1000_rapides_b05['diff_ranking'].mean(),\n",
    "top_1000_lents_b05['avg_ranking'].mean()-top_1000_rapides_b05['avg_ranking'].mean()]"
   ]
  },
  {
   "cell_type": "code",
   "execution_count": 76,
   "metadata": {},
   "outputs": [
    {
     "data": {
      "image/png": "[encoded data removed]",
      "text/plain": [
       "<Figure size 720x360 with 1 Axes>"
      ]
     },
     "metadata": {},
     "output_type": "display_data"
    }
   ],
   "source": [
    "plt.figure(figsize=(10,5))\n",
    "plt.tight_layout(pad=2)\n",
    "plt.bar(['minutes', 'winner_rank',  'loser_rank', 'diff_ranking', 'avg_ranking'],diff_between_lent_rapide_b05)\n",
    "sns.despine()\n",
    "plt.title('Différence entre les moyennes des 1000 matchs lents et les 1000 matchs les plus rapides (Best of 5)')\n",
    "plt.show()"
   ]
  },
  {
   "cell_type": "markdown",
   "metadata": {},
   "source": [
    "On constate via différence entre le top 1000 des matchs les plus lents et des matchs les plus rapides que les matchs qui dure plus longtemps (lents) on tendance à avoir un niveau plus homogène. <br>\n",
    "La bar rouge de la colonne diff_ranking nous indique que plus un matchs est \"lents\" plus la différence de ranking est faible avec (-70 classements de différence en moins entre les deux joueurs pour les best of 3 et -35 pour les best of 5).<br>\n",
    "La même analyse sur la colonne avg ranking nous indique que le niveau moyen est légérement meilleurs dans les matchs les plus longs."
   ]
  },
  {
   "cell_type": "code",
   "execution_count": 59,
   "metadata": {},
   "outputs": [
    {
     "ename": "AttributeError",
     "evalue": "Cannot access callable attribute 'sort_values' of 'SeriesGroupBy' objects, try using the 'apply' method",
     "output_type": "error",
     "traceback": [
      "\u001b[0;31m---------------------------------------------------------------------------\u001b[0m",
      "\u001b[0;31mAttributeError\u001b[0m                            Traceback (most recent call last)",
      "\u001b[0;32m<ipython-input-59-49ebf2ed43ae>\u001b[0m in \u001b[0;36m<module>\u001b[0;34m\u001b[0m\n\u001b[0;32m----> 1\u001b[0;31m \u001b[0mdata\u001b[0m\u001b[0;34m.\u001b[0m\u001b[0mgroupby\u001b[0m\u001b[0;34m(\u001b[0m\u001b[0;34m'surface'\u001b[0m\u001b[0;34m)\u001b[0m\u001b[0;34m[\u001b[0m\u001b[0;34m'minutes'\u001b[0m\u001b[0;34m]\u001b[0m\u001b[0;34m.\u001b[0m\u001b[0msort_values\u001b[0m\u001b[0;34m(\u001b[0m\u001b[0;34m'tourney_date'\u001b[0m\u001b[0;34m)\u001b[0m\u001b[0;34m\u001b[0m\u001b[0;34m\u001b[0m\u001b[0m\n\u001b[0m",
      "\u001b[0;32m~/anaconda3/envs/projetML/lib/python3.7/site-packages/pandas/core/groupby/groupby.py\u001b[0m in \u001b[0;36m__getattr__\u001b[0;34m(self, attr)\u001b[0m\n\u001b[1;32m    561\u001b[0m             \u001b[0;32mreturn\u001b[0m \u001b[0mself\u001b[0m\u001b[0;34m[\u001b[0m\u001b[0mattr\u001b[0m\u001b[0;34m]\u001b[0m\u001b[0;34m\u001b[0m\u001b[0;34m\u001b[0m\u001b[0m\n\u001b[1;32m    562\u001b[0m         \u001b[0;32mif\u001b[0m \u001b[0mhasattr\u001b[0m\u001b[0;34m(\u001b[0m\u001b[0mself\u001b[0m\u001b[0;34m.\u001b[0m\u001b[0mobj\u001b[0m\u001b[0;34m,\u001b[0m \u001b[0mattr\u001b[0m\u001b[0;34m)\u001b[0m\u001b[0;34m:\u001b[0m\u001b[0;34m\u001b[0m\u001b[0;34m\u001b[0m\u001b[0m\n\u001b[0;32m--> 563\u001b[0;31m             \u001b[0;32mreturn\u001b[0m \u001b[0mself\u001b[0m\u001b[0;34m.\u001b[0m\u001b[0m_make_wrapper\u001b[0m\u001b[0;34m(\u001b[0m\u001b[0mattr\u001b[0m\u001b[0;34m)\u001b[0m\u001b[0;34m\u001b[0m\u001b[0;34m\u001b[0m\u001b[0m\n\u001b[0m\u001b[1;32m    564\u001b[0m \u001b[0;34m\u001b[0m\u001b[0m\n\u001b[1;32m    565\u001b[0m         raise AttributeError(\n",
      "\u001b[0;32m~/anaconda3/envs/projetML/lib/python3.7/site-packages/pandas/core/groupby/groupby.py\u001b[0m in \u001b[0;36m_make_wrapper\u001b[0;34m(self, name)\u001b[0m\n\u001b[1;32m    602\u001b[0m                 \u001b[0;34m\"using the 'apply' method\"\u001b[0m\u001b[0;34m.\u001b[0m\u001b[0mformat\u001b[0m\u001b[0;34m(\u001b[0m\u001b[0mkind\u001b[0m\u001b[0;34m,\u001b[0m \u001b[0mname\u001b[0m\u001b[0;34m,\u001b[0m \u001b[0mtype\u001b[0m\u001b[0;34m(\u001b[0m\u001b[0mself\u001b[0m\u001b[0;34m)\u001b[0m\u001b[0;34m.\u001b[0m\u001b[0m__name__\u001b[0m\u001b[0;34m)\u001b[0m\u001b[0;34m\u001b[0m\u001b[0;34m\u001b[0m\u001b[0m\n\u001b[1;32m    603\u001b[0m             )\n\u001b[0;32m--> 604\u001b[0;31m             \u001b[0;32mraise\u001b[0m \u001b[0mAttributeError\u001b[0m\u001b[0;34m(\u001b[0m\u001b[0mmsg\u001b[0m\u001b[0;34m)\u001b[0m\u001b[0;34m\u001b[0m\u001b[0;34m\u001b[0m\u001b[0m\n\u001b[0m\u001b[1;32m    605\u001b[0m \u001b[0;34m\u001b[0m\u001b[0m\n\u001b[1;32m    606\u001b[0m         \u001b[0mself\u001b[0m\u001b[0;34m.\u001b[0m\u001b[0m_set_group_selection\u001b[0m\u001b[0;34m(\u001b[0m\u001b[0;34m)\u001b[0m\u001b[0;34m\u001b[0m\u001b[0;34m\u001b[0m\u001b[0m\n",
      "\u001b[0;31mAttributeError\u001b[0m: Cannot access callable attribute 'sort_values' of 'SeriesGroupBy' objects, try using the 'apply' method"
     ]
    }
   ],
   "source": [
    "data.groupby('surface')['minutes'].sort_values('tourney_date')"
   ]
  },
  {
   "cell_type": "code",
   "execution_count": null,
   "metadata": {},
   "outputs": [],
   "source": [
    "df = pd.DataFrame()"
   ]
  },
  {
   "cell_type": "code",
   "execution_count": null,
   "metadata": {},
   "outputs": [],
   "source": [
    "df['int'] = [i for i in range(50)]"
   ]
  },
  {
   "cell_type": "code",
   "execution_count": null,
   "metadata": {},
   "outputs": [],
   "source": [
    "df"
   ]
  },
  {
   "cell_type": "code",
   "execution_count": null,
   "metadata": {},
   "outputs": [],
   "source": [
    "df['roll']=df.rolling(3, win_type='triang').mean()"
   ]
  },
  {
   "cell_type": "code",
   "execution_count": null,
   "metadata": {},
   "outputs": [],
   "source": [
    "df = pd.Series(data=np.arange(10), \n",
    "               index=pd.date_range('2000', periods=10))"
   ]
  },
  {
   "cell_type": "code",
   "execution_count": null,
   "metadata": {},
   "outputs": [],
   "source": [
    "df.head()"
   ]
  },
  {
   "cell_type": "code",
   "execution_count": null,
   "metadata": {},
   "outputs": [],
   "source": [
    "df['roll']=df.rolling(2, closed='left').mean()"
   ]
  },
  {
   "cell_type": "code",
   "execution_count": null,
   "metadata": {},
   "outputs": [],
   "source": [
    "df"
   ]
  },
  {
   "cell_type": "code",
   "execution_count": null,
   "metadata": {},
   "outputs": [],
   "source": [
    "def rolling_avg(seq, period):\n",
    "    res = []\n",
    "    for i in period:\n",
    "        "
   ]
  },
  {
   "cell_type": "code",
   "execution_count": null,
   "metadata": {},
   "outputs": [],
   "source": []
  }
 ],
 "metadata": {
  "kernelspec": {
   "display_name": "Python 3",
   "language": "python",
   "name": "python3"
  },
  "language_info": {
   "codemirror_mode": {
    "name": "ipython",
    "version": 3
   },
   "file_extension": ".py",
   "mimetype": "text/x-python",
   "name": "python",
   "nbconvert_exporter": "python",
   "pygments_lexer": "ipython3",
   "version": "3.7.5"
  }
 },
 "nbformat": 4,
 "nbformat_minor": 4
}
