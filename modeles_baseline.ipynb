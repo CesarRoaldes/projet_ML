{
 "cells": [
  {
   "cell_type": "markdown",
   "metadata": {},
   "source": [
    "# <font color='red'> __-> EXPLIQUER CE QUE L'ON CHERCHE A PREDIRE, INTERET DE LA PROBLEMATIQUE, ETC__</font>"
   ]
  },
  {
   "cell_type": "markdown",
   "metadata": {},
   "source": [
    "Faire avec et sans le match de 11h pour voir la différence de résultat"
   ]
  },
  {
   "cell_type": "code",
   "execution_count": 1,
   "metadata": {},
   "outputs": [],
   "source": [
    "import string\n",
    "import re\n",
    "import pandas as pd\n",
    "import matplotlib.pyplot as plt\n",
    "import seaborn as sns\n",
    "import numpy as np"
   ]
  },
  {
   "cell_type": "code",
   "execution_count": 2,
   "metadata": {},
   "outputs": [],
   "source": [
    "import warnings\n",
    "warnings.simplefilter(action='ignore', category=FutureWarning)"
   ]
  },
  {
   "cell_type": "code",
   "execution_count": 3,
   "metadata": {},
   "outputs": [],
   "source": [
    "pd.set_option('display.max_columns', 500)\n",
    "sns.set_style(\"ticks\")"
   ]
  },
  {
   "cell_type": "code",
   "execution_count": 4,
   "metadata": {},
   "outputs": [],
   "source": [
    "def perc_print(a, b):\n",
    "    return round((a-b)/a*100)"
   ]
  },
  {
   "cell_type": "raw",
   "metadata": {},
   "source": [
    "PATH = '/home/steve/Documents/ENSAE/Projet_ML_Tennis/Data/tennis_atp/'"
   ]
  },
  {
   "cell_type": "code",
   "execution_count": 5,
   "metadata": {},
   "outputs": [],
   "source": [
    "PATH = '/home/cesar/Desktop/data/'"
   ]
  },
  {
   "cell_type": "markdown",
   "metadata": {},
   "source": [
    "## <font color='red'>__-> Retraitement des données -> Sauvegarder notre base une fois cette opération faite dans Features engineering__</font>"
   ]
  },
  {
   "cell_type": "code",
   "execution_count": 6,
   "metadata": {},
   "outputs": [],
   "source": [
    "data = pd.read_csv(PATH+'atp_matches_2010.csv')\n",
    "for annee in range(2000, 2020):\n",
    "    data = pd.concat([data, pd.read_csv(PATH+'atp_matches_'+str(annee)+'.csv')], axis=0, sort=False)\n",
    "data.reset_index(inplace=True, drop=True)\n",
    "data['tourney_date'] = pd.to_datetime(data['tourney_date'], yearfirst=True, format='%Y%m%d')\n",
    "data['year'] = data['tourney_date'].apply(lambda x: x.year)\n",
    "data = data[~data['tourney_name'].str.startswith('Davis Cup')].copy()\n",
    "data.dropna(subset=['minutes'], inplace=True)\n",
    "data.drop_duplicates(inplace=True)\n",
    "def contains_ascii_letter(txt):\n",
    "    gate = False\n",
    "    for i in range(len(txt)):\n",
    "        if txt[i] in string.ascii_letters:\n",
    "            gate = True\n",
    "            break\n",
    "    return gate\n",
    "nb_obs = data.shape[0]\n",
    "get_ascii_letter = np.zeros(data.shape[0], dtype=bool)\n",
    "get_ascii_letter = data['score'].apply(contains_ascii_letter)\n",
    "data = data[~get_ascii_letter].copy()\n",
    "data.loc[data[(data['tourney_id']=='2017-0308')&(data['match_num']==297)].index[0], 'minutes'] = 98\n",
    "data.loc[data[(data['tourney_id']=='2016-M001')&(data['match_num']==294)].index[0], 'minutes'] = 90\n",
    "idx = data[data['minutes']==data['minutes'].max()].index[0]\n",
    "data.drop(idx, axis=0, inplace=True)\n",
    "data.reset_index(inplace=True, drop=True)"
   ]
  },
  {
   "cell_type": "markdown",
   "metadata": {},
   "source": [
    "REMARQUE : On ne se base pas sur la table avec player / opponnent"
   ]
  },
  {
   "cell_type": "markdown",
   "metadata": {},
   "source": [
    "# Modèles de base"
   ]
  },
  {
   "cell_type": "markdown",
   "metadata": {},
   "source": [
    "Nous allons présenter dans ce notebook une première série de modèles basés sur l'exploitation des attributs contenus dans notre base de données afin d'analyser les résultats obtenus par ce biais avant de complexifier le modèle en procédant à une phase de création de features.  \n",
    "Ces résultats serviront de baseline par la suite afin de juger de la qualité des modèles qui le suivront. La mesure de qualité du modèle choisi sera la Mean Squared Error (MSE).  \n",
    "\n",
    "La plupart de nos variables sont des statistiques concernant directement le match et ne sont donc pas utilisables dans le cadre d'une prédiction. Ces variables devront être aggrégés avant d'être utilisable pour caractériser un joueur. \n",
    "  \n",
    "Les différentes opérations effectuées sont :\n",
    "- Création d'une base d'appprentissage et de validation et séparation des attributs du phénomène à expliquer\n",
    "- Traitement des variables catégorielles\n",
    "- Régression Linéaire\n",
    "- Régression Lasso\n",
    "- Régression Polynomiale (déjà une création de features... à voir)\n",
    "- Arbre de Décisions\n",
    "- Random Forest\n",
    "- Adaboost"
   ]
  },
  {
   "cell_type": "markdown",
   "metadata": {},
   "source": [
    "## Création d'une base d'appprentissage et de validation et séparation des attributs du phénomène à expliquer"
   ]
  },
  {
   "cell_type": "markdown",
   "metadata": {},
   "source": [
    "La base d'apprentissage et de validation est crée à l'aide de la fonction `train_test_split`. Nous prenons 1/3 de notre échantillon pour construire la base de validation."
   ]
  },
  {
   "cell_type": "code",
   "execution_count": 7,
   "metadata": {},
   "outputs": [],
   "source": [
    "from sklearn.model_selection import train_test_split"
   ]
  },
  {
   "cell_type": "code",
   "execution_count": 8,
   "metadata": {},
   "outputs": [
    {
     "name": "stdout",
     "output_type": "stream",
     "text": [
      "Taille de l'échantillon d'apprentissage : 34787\n",
      "Taille de l'échantillon de validation : 17135\n"
     ]
    }
   ],
   "source": [
    "X_train, X_test, y_train, y_test = train_test_split(data.drop('minutes', axis=1), data['minutes'], test_size=0.33, random_state=42)\n",
    "print(\"Taille de l'échantillon d'apprentissage : {}\\nTaille de l'échantillon de validation : {}\".format(X_train.shape[0], X_test.shape[0]))"
   ]
  },
  {
   "cell_type": "markdown",
   "metadata": {},
   "source": [
    "Deux types d'attributs sont supprimés :\n",
    "1. les attributs directement liées au match (w_ace le nombre d'ace du gagnant, l_bpSaved le nombre de balles de match sauvées par le perdant, etc...)\n",
    "2. les attributs d'identification (tourney_id, winner_id, etc...)\n",
    "\n",
    "Seuls sont gardés les attributs n'étant pas directement liée au match et ayant un potentiel."
   ]
  },
  {
   "cell_type": "code",
   "execution_count": 9,
   "metadata": {},
   "outputs": [
    {
     "name": "stdout",
     "output_type": "stream",
     "text": [
      "Nombre d'attributs initiaux : 49\n"
     ]
    }
   ],
   "source": [
    "print(\"Nombre d'attributs initiaux : {}\".format(X_train.shape[1]))"
   ]
  },
  {
   "cell_type": "code",
   "execution_count": 10,
   "metadata": {},
   "outputs": [],
   "source": [
    "liste_attributs = ['tourney_name', \n",
    "                   'tourney_level',\n",
    "                   'surface',\n",
    "                   'winner_hand',\n",
    "                   'winner_ht', \n",
    "                   'winner_age',\n",
    "                   'winner_rank',\n",
    "                   'loser_hand', \n",
    "                   'loser_ht', \n",
    "                   'loser_age',\n",
    "                   'loser_rank',\n",
    "                   'best_of',\n",
    "                   'round',\n",
    "                   'year']"
   ]
  },
  {
   "cell_type": "code",
   "execution_count": 11,
   "metadata": {},
   "outputs": [
    {
     "name": "stdout",
     "output_type": "stream",
     "text": [
      "Nombre d'attributs après sélection : 14\n"
     ]
    }
   ],
   "source": [
    "X_train , X_test = X_train[liste_attributs] , X_test[liste_attributs]\n",
    "print(\"Nombre d'attributs après sélection : {}\".format(X_train.shape[1]))"
   ]
  },
  {
   "cell_type": "markdown",
   "metadata": {},
   "source": [
    "## Traitement des variables catégorielles et supression des valeurs manquantes"
   ]
  },
  {
   "cell_type": "markdown",
   "metadata": {},
   "source": [
    "Nous commençons par répérer les variables catégorielles avant d'observer le nombre de modalitées qu'elles prennent."
   ]
  },
  {
   "cell_type": "code",
   "execution_count": 12,
   "metadata": {},
   "outputs": [
    {
     "name": "stdout",
     "output_type": "stream",
     "text": [
      "tourney_name : 126\n",
      "surface : 4\n",
      "tourney_level : 4\n",
      "round : 10\n",
      "winner_hand : 3\n",
      "loser_hand : 3\n"
     ]
    }
   ],
   "source": [
    "X_qual = ['tourney_name', 'surface', 'tourney_level', 'round', 'winner_hand', 'loser_hand']\n",
    "for attribut in X_qual:\n",
    "    print(attribut, ':', pd.get_dummies(data[attribut]).shape[1])"
   ]
  },
  {
   "cell_type": "markdown",
   "metadata": {},
   "source": [
    "L'attribut _tourney_name_ prend 126 modalités. La matrice étant trop sparse nous l'ignorons pour le moment, et cette dernière sera ré-intégrées lors d'une régression régularisée.  \n",
    "Les autres attributs qualitatifs seront retraités de manière à ce que chaque modalité soit encodée par une dummy, en prenant garde au problème de multicolinéarité en utilisant l'option `drop_first=True` de la fonction `get_dummies`."
   ]
  },
  {
   "cell_type": "code",
   "execution_count": 13,
   "metadata": {},
   "outputs": [],
   "source": [
    "X_qual.remove('tourney_name')\n",
    "X_train_LM = X_train.drop('tourney_name', axis=1)\n",
    "X_test_LM = X_test.drop('tourney_name', axis=1)"
   ]
  },
  {
   "cell_type": "code",
   "execution_count": 14,
   "metadata": {},
   "outputs": [],
   "source": [
    "for X in [X_train_LM, X_test_LM]:\n",
    "    for variable in X_qual:\n",
    "        var_enc = pd.get_dummies(X[variable], prefix=variable, drop_first=True)\n",
    "        X.drop(variable, axis=1, inplace=True)\n",
    "        for col_enc in var_enc.columns:\n",
    "            X[col_enc] = var_enc[col_enc]"
   ]
  },
  {
   "cell_type": "markdown",
   "metadata": {},
   "source": [
    "Finalement, nous supprimons les variables manques."
   ]
  },
  {
   "cell_type": "code",
   "execution_count": 15,
   "metadata": {},
   "outputs": [
    {
     "name": "stdout",
     "output_type": "stream",
     "text": [
      "winner_ht : test = 1950 NA / train = 948 NA\n",
      "winner_age : test = 0 NA / train = 0 NA\n",
      "winner_rank : test = 13 NA / train = 8 NA\n",
      "loser_ht : test = 2990 NA / train = 1546 NA\n",
      "loser_age : test = 0 NA / train = 0 NA\n",
      "loser_rank : test = 85 NA / train = 44 NA\n",
      "best_of : test = 0 NA / train = 0 NA\n",
      "year : test = 0 NA / train = 0 NA\n",
      "surface_Clay : test = 0 NA / train = 0 NA\n",
      "surface_Grass : test = 0 NA / train = 0 NA\n",
      "surface_Hard : test = 0 NA / train = 0 NA\n",
      "tourney_level_F : test = 0 NA / train = 0 NA\n",
      "tourney_level_G : test = 0 NA / train = 0 NA\n",
      "tourney_level_M : test = 0 NA / train = 0 NA\n",
      "round_ER : test = 0 NA / train = 0 NA\n",
      "round_F : test = 0 NA / train = 0 NA\n",
      "round_QF : test = 0 NA / train = 0 NA\n",
      "round_R128 : test = 0 NA / train = 0 NA\n",
      "round_R16 : test = 0 NA / train = 0 NA\n",
      "round_R32 : test = 0 NA / train = 0 NA\n",
      "round_R64 : test = 0 NA / train = 0 NA\n",
      "round_RR : test = 0 NA / train = 0 NA\n",
      "round_SF : test = 0 NA / train = 0 NA\n",
      "winner_hand_R : test = 0 NA / train = 0 NA\n",
      "winner_hand_U : test = 0 NA / train = 0 NA\n",
      "loser_hand_R : test = 0 NA / train = 0 NA\n",
      "loser_hand_U : test = 0 NA / train = 0 NA\n"
     ]
    }
   ],
   "source": [
    "for attribut in X_train_LM.columns:\n",
    "    print('{} : test = {} NA / train = {} NA'.format(attribut, X_train_LM[attribut].isna().sum(), X_test_LM[attribut].isna().sum()))"
   ]
  },
  {
   "cell_type": "markdown",
   "metadata": {},
   "source": [
    "Les attributs _winner_ht_ et _loser_ht_ ayant trop de valeurs manquantes, nous supprimons ces deux colonnes et retirons les observations contenant d'autres valeurs manquantes sur les autres attributs."
   ]
  },
  {
   "cell_type": "code",
   "execution_count": 16,
   "metadata": {},
   "outputs": [],
   "source": [
    "X_train_LM = X_train_LM.drop(['winner_ht', 'loser_ht'], axis=1)\n",
    "X_test_LM = X_test_LM.drop(['winner_ht', 'loser_ht'], axis=1)"
   ]
  },
  {
   "cell_type": "code",
   "execution_count": 17,
   "metadata": {},
   "outputs": [],
   "source": [
    "X_train_LM.dropna(axis=0, how='any', inplace=True)\n",
    "X_test_LM.dropna(axis=0, how='any', inplace=True)\n",
    "y_train = y_train[X_train_LM.index]\n",
    "y_test = y_test[X_test_LM.index]"
   ]
  },
  {
   "cell_type": "markdown",
   "metadata": {},
   "source": [
    "## Régression Linéaire"
   ]
  },
  {
   "cell_type": "markdown",
   "metadata": {},
   "source": [
    "Nous utilisons finalement la fonction `LinearRegression` en notant que l'intercept est mise par défaut par la fonction (et la gestion de la multicolinéarité est égaelement gérée par défaut par la fonction).  \n",
    "Nous importons également la fonction `mean_squared_error` afin de calculer la MSE."
   ]
  },
  {
   "cell_type": "code",
   "execution_count": 18,
   "metadata": {},
   "outputs": [],
   "source": [
    "from sklearn.linear_model import LinearRegression\n",
    "from sklearn.metrics import mean_squared_error"
   ]
  },
  {
   "cell_type": "markdown",
   "metadata": {},
   "source": [
    "Entrainement du modèle."
   ]
  },
  {
   "cell_type": "code",
   "execution_count": 19,
   "metadata": {},
   "outputs": [],
   "source": [
    "regLM = LinearRegression().fit(X_train_LM.values, y_train.values)"
   ]
  },
  {
   "cell_type": "markdown",
   "metadata": {},
   "source": [
    "Notre échantillon de validation ne contenant pas de modalité _round_ER_ nous la créons de manière artificielle (`np.zeros`) afin d'avoir le format requis pour prédire en utilisant notre modèle _regLM_."
   ]
  },
  {
   "cell_type": "code",
   "execution_count": 20,
   "metadata": {},
   "outputs": [
    {
     "name": "stdout",
     "output_type": "stream",
     "text": [
      "MSE : train = 1079.9669999686564 / test = 1101.4971213437143\n"
     ]
    }
   ],
   "source": [
    "y_pred_train = regLM.predict(X_train_LM.values)\n",
    "y_pred_test = regLM.predict(X_test_LM.values)\n",
    "print('MSE : train = {} / test = {}'.format(mean_squared_error(y_train.values, y_pred_train), mean_squared_error(y_test.values, y_pred_test)))"
   ]
  },
  {
   "cell_type": "code",
   "execution_count": 21,
   "metadata": {},
   "outputs": [
    {
     "data": {
      "text/html": [
       "<div>\n",
       "<style scoped>\n",
       "    .dataframe tbody tr th:only-of-type {\n",
       "        vertical-align: middle;\n",
       "    }\n",
       "\n",
       "    .dataframe tbody tr th {\n",
       "        vertical-align: top;\n",
       "    }\n",
       "\n",
       "    .dataframe thead th {\n",
       "        text-align: right;\n",
       "    }\n",
       "</style>\n",
       "<table border=\"1\" class=\"dataframe\">\n",
       "  <thead>\n",
       "    <tr style=\"text-align: right;\">\n",
       "      <th></th>\n",
       "      <th>0</th>\n",
       "      <th>0</th>\n",
       "    </tr>\n",
       "  </thead>\n",
       "  <tbody>\n",
       "    <tr>\n",
       "      <th>0</th>\n",
       "      <td>winner_age</td>\n",
       "      <td>0.160540</td>\n",
       "    </tr>\n",
       "    <tr>\n",
       "      <th>1</th>\n",
       "      <td>winner_rank</td>\n",
       "      <td>0.036079</td>\n",
       "    </tr>\n",
       "    <tr>\n",
       "      <th>2</th>\n",
       "      <td>loser_age</td>\n",
       "      <td>0.067154</td>\n",
       "    </tr>\n",
       "    <tr>\n",
       "      <th>3</th>\n",
       "      <td>loser_rank</td>\n",
       "      <td>-0.024167</td>\n",
       "    </tr>\n",
       "    <tr>\n",
       "      <th>4</th>\n",
       "      <td>best_of</td>\n",
       "      <td>27.505000</td>\n",
       "    </tr>\n",
       "    <tr>\n",
       "      <th>5</th>\n",
       "      <td>year</td>\n",
       "      <td>0.415295</td>\n",
       "    </tr>\n",
       "    <tr>\n",
       "      <th>6</th>\n",
       "      <td>surface_Clay</td>\n",
       "      <td>4.579903</td>\n",
       "    </tr>\n",
       "    <tr>\n",
       "      <th>7</th>\n",
       "      <td>surface_Grass</td>\n",
       "      <td>-4.465935</td>\n",
       "    </tr>\n",
       "    <tr>\n",
       "      <th>8</th>\n",
       "      <td>surface_Hard</td>\n",
       "      <td>0.939231</td>\n",
       "    </tr>\n",
       "    <tr>\n",
       "      <th>9</th>\n",
       "      <td>tourney_level_F</td>\n",
       "      <td>8.419111</td>\n",
       "    </tr>\n",
       "    <tr>\n",
       "      <th>10</th>\n",
       "      <td>tourney_level_G</td>\n",
       "      <td>3.256906</td>\n",
       "    </tr>\n",
       "    <tr>\n",
       "      <th>11</th>\n",
       "      <td>tourney_level_M</td>\n",
       "      <td>4.933951</td>\n",
       "    </tr>\n",
       "    <tr>\n",
       "      <th>12</th>\n",
       "      <td>round_ER</td>\n",
       "      <td>-16.738321</td>\n",
       "    </tr>\n",
       "    <tr>\n",
       "      <th>13</th>\n",
       "      <td>round_F</td>\n",
       "      <td>8.271031</td>\n",
       "    </tr>\n",
       "    <tr>\n",
       "      <th>14</th>\n",
       "      <td>round_QF</td>\n",
       "      <td>2.488126</td>\n",
       "    </tr>\n",
       "    <tr>\n",
       "      <th>15</th>\n",
       "      <td>round_R128</td>\n",
       "      <td>-6.636066</td>\n",
       "    </tr>\n",
       "    <tr>\n",
       "      <th>16</th>\n",
       "      <td>round_R16</td>\n",
       "      <td>0.341554</td>\n",
       "    </tr>\n",
       "    <tr>\n",
       "      <th>17</th>\n",
       "      <td>round_R32</td>\n",
       "      <td>-2.074931</td>\n",
       "    </tr>\n",
       "    <tr>\n",
       "      <th>18</th>\n",
       "      <td>round_R64</td>\n",
       "      <td>-4.068333</td>\n",
       "    </tr>\n",
       "    <tr>\n",
       "      <th>19</th>\n",
       "      <td>round_RR</td>\n",
       "      <td>-0.624651</td>\n",
       "    </tr>\n",
       "    <tr>\n",
       "      <th>20</th>\n",
       "      <td>round_SF</td>\n",
       "      <td>4.600016</td>\n",
       "    </tr>\n",
       "    <tr>\n",
       "      <th>21</th>\n",
       "      <td>winner_hand_R</td>\n",
       "      <td>-0.978993</td>\n",
       "    </tr>\n",
       "    <tr>\n",
       "      <th>22</th>\n",
       "      <td>winner_hand_U</td>\n",
       "      <td>-2.612587</td>\n",
       "    </tr>\n",
       "    <tr>\n",
       "      <th>23</th>\n",
       "      <td>loser_hand_R</td>\n",
       "      <td>1.437392</td>\n",
       "    </tr>\n",
       "    <tr>\n",
       "      <th>24</th>\n",
       "      <td>loser_hand_U</td>\n",
       "      <td>-0.555295</td>\n",
       "    </tr>\n",
       "  </tbody>\n",
       "</table>\n",
       "</div>"
      ],
      "text/plain": [
       "                  0          0\n",
       "0        winner_age   0.160540\n",
       "1       winner_rank   0.036079\n",
       "2         loser_age   0.067154\n",
       "3        loser_rank  -0.024167\n",
       "4           best_of  27.505000\n",
       "5              year   0.415295\n",
       "6      surface_Clay   4.579903\n",
       "7     surface_Grass  -4.465935\n",
       "8      surface_Hard   0.939231\n",
       "9   tourney_level_F   8.419111\n",
       "10  tourney_level_G   3.256906\n",
       "11  tourney_level_M   4.933951\n",
       "12         round_ER -16.738321\n",
       "13          round_F   8.271031\n",
       "14         round_QF   2.488126\n",
       "15       round_R128  -6.636066\n",
       "16        round_R16   0.341554\n",
       "17        round_R32  -2.074931\n",
       "18        round_R64  -4.068333\n",
       "19         round_RR  -0.624651\n",
       "20         round_SF   4.600016\n",
       "21    winner_hand_R  -0.978993\n",
       "22    winner_hand_U  -2.612587\n",
       "23     loser_hand_R   1.437392\n",
       "24     loser_hand_U  -0.555295"
      ]
     },
     "execution_count": 21,
     "metadata": {},
     "output_type": "execute_result"
    }
   ],
   "source": [
    "coefficients = pd.concat([pd.DataFrame(X_train_LM.columns),pd.DataFrame(np.transpose(regLM.coef_))], axis = 1)\n",
    "coefficients"
   ]
  },
  {
   "cell_type": "markdown",
   "metadata": {},
   "source": [
    "Une analyse rapide des coefficients de nos variables explicatives nous montre clairement le faible pouvoir explicatif de la durée d'un match de la plupart de nos variables."
   ]
  },
  {
   "cell_type": "markdown",
   "metadata": {},
   "source": [
    "### <font color='red'>__-> Interprétation à faire__</font>"
   ]
  },
  {
   "cell_type": "markdown",
   "metadata": {},
   "source": [
    "On voit que la variable _best_of_ joue un rôle prépondérant dans la détermination de la longueur d'un match, comme nous pouvions nous y attendre.  \n",
    "  \n",
    "L'utilisation de cette variable ajoute une grand part d'explicativité dans notre modèle mais cependant, une visialisation de nos résultats nous montre clairement deux catégories de match se distinguer. L'intuition nous amène a penser que ces deux clusters sont uniquement défini par l'attribut _best_of_, ce que nous vérifions sur nos deux échantillons."
   ]
  },
  {
   "cell_type": "code",
   "execution_count": 22,
   "metadata": {},
   "outputs": [],
   "source": [
    "X_train_LM_bo3 = X_train_LM[X_train_LM['best_of']==3].copy()\n",
    "X_train_LM_bo5 = X_train_LM[X_train_LM['best_of']==5].copy()\n",
    "y_train_bo3 = y_train[X_train_LM_bo3.index]\n",
    "y_train_bo5 = y_train[X_train_LM_bo5.index]\n",
    "X_test_LM_bo3 = X_test_LM[X_test_LM['best_of']==3].copy()\n",
    "X_test_LM_bo5 = X_test_LM[X_test_LM['best_of']==5].copy()\n",
    "y_test_bo3 = y_test[X_test_LM_bo3.index]\n",
    "y_test_bo5 = y_test[X_test_LM_bo5.index]"
   ]
  },
  {
   "cell_type": "code",
   "execution_count": 23,
   "metadata": {},
   "outputs": [],
   "source": [
    "y_pred_train_bo3 = regLM.predict(X_train_LM_bo3.values)\n",
    "y_pred_train_bo5 = regLM.predict(X_train_LM_bo5.values)\n",
    "y_pred_test_bo3 = regLM.predict(X_test_LM_bo3.values)\n",
    "y_pred_test_bo5 = regLM.predict(X_test_LM_bo5.values)"
   ]
  },
  {
   "cell_type": "code",
   "execution_count": 24,
   "metadata": {},
   "outputs": [
    {
     "data": {
      "image/png": "[encoded data removed]",
      "text/plain": [
       "<Figure size 864x360 with 2 Axes>"
      ]
     },
     "metadata": {},
     "output_type": "display_data"
    }
   ],
   "source": [
    "fig, axs = plt.subplots(1, 2, figsize=(12,5))\n",
    "\n",
    "axs[0].scatter(y_train_bo3.values, y_pred_train_bo3, alpha=0.5, label='bo3')\n",
    "axs[0].scatter(y_train_bo5.values, y_pred_train_bo5, alpha=0.5, label='bo5')\n",
    "axs[0].plot([0,400], [0,400], color='red')\n",
    "axs[0].axis('equal')\n",
    "axs[0].set_xlim((0,400))\n",
    "axs[0].set_ylim((0,400))\n",
    "axs[0].set_xlabel(\"$y$\",fontsize=18)\n",
    "axs[0].set_ylabel(\"$\\hat{y}$\",fontsize=18)\n",
    "axs[0].legend()\n",
    "axs[0].set_title(\"Echantillon d'apprentissage\",fontsize=18)\n",
    "axs[1].scatter(y_test_bo3.values, y_pred_test_bo3, alpha=0.5, label='bo3')\n",
    "axs[1].scatter(y_test_bo5.values, y_pred_test_bo5, alpha=0.5, label='bo5')\n",
    "axs[1].plot([0,400], [0,400], color='red')\n",
    "axs[1].axis('equal')\n",
    "axs[1].set_xlim((0,400))\n",
    "axs[1].set_ylim((0,400))\n",
    "axs[1].set_xlabel(\"$y$\",fontsize=18)\n",
    "axs[1].set_ylabel(\"$\\hat{y}$\",fontsize=18)\n",
    "axs[1].legend()\n",
    "axs[1].set_title(\"Echantillon de validation\", fontsize=18)\n",
    "plt.show()"
   ]
  },
  {
   "cell_type": "markdown",
   "metadata": {},
   "source": [
    "A partir de ce résultat, nous décidons créer des modèles spécifiques aux Bo3 et aux Bo5. Ces résultats serviront de baseline par la suite."
   ]
  },
  {
   "cell_type": "code",
   "execution_count": 25,
   "metadata": {},
   "outputs": [],
   "source": [
    "X_train_LM_bo3.drop('best_of', axis=1, inplace=True)\n",
    "X_train_LM_bo5.drop('best_of', axis=1, inplace=True)\n",
    "X_test_LM_bo3.drop('best_of', axis=1, inplace=True)\n",
    "X_test_LM_bo5.drop('best_of', axis=1, inplace=True)"
   ]
  },
  {
   "cell_type": "code",
   "execution_count": 26,
   "metadata": {},
   "outputs": [
    {
     "name": "stdout",
     "output_type": "stream",
     "text": [
      "Bo3:\n",
      "\tMSE : train = 869.0569518785819 / test = 885.3315597134199\n",
      "Bo5:\n",
      "\tMSE : train = 1976.3922892299145 / test = 2052.465230766853\n"
     ]
    }
   ],
   "source": [
    "regLM_bo3 = LinearRegression().fit(X_train_LM_bo3.values, y_train_bo3.values)\n",
    "\n",
    "y_pred_train_bo3 = regLM_bo3.predict(X_train_LM_bo3.values)\n",
    "y_pred_test_bo3 = regLM_bo3.predict(X_test_LM_bo3.values)\n",
    "print('Bo3:\\n\\tMSE : train = {} / test = {}'.format(mean_squared_error(y_train_bo3.values, y_pred_train_bo3),\n",
    "                                                    mean_squared_error(y_test_bo3.values, y_pred_test_bo3)))\n",
    "\n",
    "regLM_bo5 = LinearRegression().fit(X_train_LM_bo5.values, y_train_bo5.values)\n",
    "\n",
    "y_pred_train_bo5 = regLM_bo5.predict(X_train_LM_bo5.values)\n",
    "y_pred_test_bo5 = regLM_bo5.predict(X_test_LM_bo5.values)\n",
    "print('Bo5:\\n\\tMSE : train = {} / test = {}'.format(mean_squared_error(y_train_bo5.values, y_pred_train_bo5),\n",
    "                                                    mean_squared_error(y_test_bo5.values, y_pred_test_bo5)))"
   ]
  },
  {
   "cell_type": "markdown",
   "metadata": {},
   "source": [
    "Nous utilisons `statsmodels` afin d'analyser la statistique de Jarque-Bera qui nous indique si les erreures de notre modèle sont normales."
   ]
  },
  {
   "cell_type": "code",
   "execution_count": 27,
   "metadata": {},
   "outputs": [],
   "source": [
    "from statsmodels.formula.api import ols\n",
    "from statsmodels.tools.tools import add_constant\n",
    "modele = ols('minutes ~ const + C(surface) + C(tourney_level) + C(winner_hand)+ winner_age + winner_rank + winner_age \\\n",
    "          + C(loser_hand) + loser_age + loser_rank + loser_age + C(round) + year', \n",
    "             data=add_constant(data)[data['best_of']==3])\n",
    "resultat = modele.fit()"
   ]
  },
  {
   "cell_type": "code",
   "execution_count": 28,
   "metadata": {},
   "outputs": [
    {
     "name": "stdout",
     "output_type": "stream",
     "text": [
      "                            OLS Regression Results                            \n",
      "==============================================================================\n",
      "Dep. Variable:                minutes   R-squared:                       0.032\n",
      "Model:                            OLS   Adj. R-squared:                  0.031\n",
      "Method:                 Least Squares   F-statistic:                     60.40\n",
      "Date:                Thu, 30 Jan 2020   Prob (F-statistic):          6.99e-275\n",
      "Time:                        19:27:37   Log-Likelihood:            -2.0288e+05\n",
      "No. Observations:               42217   AIC:                         4.058e+05\n",
      "Df Residuals:                   42193   BIC:                         4.060e+05\n",
      "Df Model:                          23                                         \n",
      "Covariance Type:            nonrobust                                         \n",
      "=========================================================================================\n",
      "                            coef    std err          t      P>|t|      [0.025      0.975]\n",
      "-----------------------------------------------------------------------------------------\n",
      "Intercept              -333.1595     29.189    -11.414      0.000    -390.371    -275.948\n",
      "C(surface)[T.Clay]        3.7222      0.851      4.373      0.000       2.054       5.390\n",
      "C(surface)[T.Grass]      -4.2987      0.969     -4.435      0.000      -6.198      -2.399\n",
      "C(surface)[T.Hard]       -0.1250      0.840     -0.149      0.882      -1.772       1.522\n",
      "C(tourney_level)[T.F]     7.4007      2.199      3.366      0.001       3.091      11.710\n",
      "C(tourney_level)[T.M]     4.2732      0.418     10.231      0.000       3.455       5.092\n",
      "C(winner_hand)[T.R]      -0.9133      0.438     -2.087      0.037      -1.771      -0.056\n",
      "C(winner_hand)[T.U]       3.5742      3.870      0.923      0.356      -4.012      11.160\n",
      "C(loser_hand)[T.R]        1.0690      0.424      2.522      0.012       0.238       1.900\n",
      "C(loser_hand)[T.U]       -2.0484      2.276     -0.900      0.368      -6.509       2.412\n",
      "C(round)[T.ER]          -46.6651     21.586     -2.162      0.031     -88.975      -4.355\n",
      "C(round)[T.F]           -29.0223     20.960     -1.385      0.166     -70.104      12.059\n",
      "C(round)[T.QF]          -34.7543     20.947     -1.659      0.097     -75.811       6.302\n",
      "C(round)[T.R128]        -38.5062     20.966     -1.837      0.066     -79.600       2.587\n",
      "C(round)[T.R16]         -36.2165     20.945     -1.729      0.084     -77.269       4.836\n",
      "C(round)[T.R32]         -38.1336     20.944     -1.821      0.069     -79.184       2.917\n",
      "C(round)[T.R64]         -40.0784     20.948     -1.913      0.056     -81.137       0.980\n",
      "C(round)[T.RR]          -36.1912     20.954     -1.727      0.084     -77.261       4.879\n",
      "C(round)[T.SF]          -32.1952     20.950     -1.537      0.124     -73.257       8.866\n",
      "const                  -333.1595     29.189    -11.414      0.000    -390.371    -275.948\n",
      "winner_age                0.1520      0.040      3.831      0.000       0.074       0.230\n",
      "winner_rank               0.0243      0.002     11.724      0.000       0.020       0.028\n",
      "loser_age                 0.0129      0.039      0.333      0.739      -0.063       0.089\n",
      "loser_rank               -0.0200      0.001    -15.572      0.000      -0.023      -0.017\n",
      "year                      0.3952      0.027     14.461      0.000       0.342       0.449\n",
      "==============================================================================\n",
      "Omnibus:                     2708.417   Durbin-Watson:                   1.980\n",
      "Prob(Omnibus):                  0.000   Jarque-Bera (JB):             3266.328\n",
      "Skew:                           0.680   Prob(JB):                         0.00\n",
      "Kurtosis:                       3.076   Cond. No.                     1.30e+18\n",
      "==============================================================================\n",
      "\n",
      "Warnings:\n",
      "[1] Standard Errors assume that the covariance matrix of the errors is correctly specified.\n",
      "[2] The smallest eigenvalue is 1.02e-25. This might indicate that there are\n",
      "strong multicollinearity problems or that the design matrix is singular.\n"
     ]
    }
   ],
   "source": [
    "print(resultat.summary())"
   ]
  },
  {
   "cell_type": "markdown",
   "metadata": {},
   "source": [
    "Le test de Jarque-Bera rejette l'hypothèse de normalité des résidus.  "
   ]
  },
  {
   "cell_type": "markdown",
   "metadata": {},
   "source": [
    "## Régression Lasso (Least Absolute Shrinkage and Selection Operator)"
   ]
  },
  {
   "cell_type": "markdown",
   "metadata": {},
   "source": [
    "Afin de réaliser une sélection parcimonieuse de nos variables, nous effectuons une régression Lasso, qui, contrairement à la régression Ridge, permet d'assigner la valeur des coefficients exactement à zéro, et ainsi éliminer les variables non pertinentes."
   ]
  },
  {
   "cell_type": "code",
   "execution_count": 29,
   "metadata": {},
   "outputs": [],
   "source": [
    "from sklearn.linear_model import Lasso\n",
    "from sklearn.model_selection import GridSearchCV"
   ]
  },
  {
   "cell_type": "code",
   "execution_count": 30,
   "metadata": {},
   "outputs": [],
   "source": [
    "regLasso = Lasso(max_iter=100000, tol=0.1)"
   ]
  },
  {
   "cell_type": "markdown",
   "metadata": {},
   "source": [
    "La régression Lasso comprend un coefficient de pénalité $\\alpha$ qu'il est nécessaire d'optimiser par cross-validation. Pour ce faire, nous utilisons la fonction `GridSearchCV` sur le vecteur de valeurs à tester de $\\alpha$ _lasso_params_. Une fois encore, la métrique utilisée reste la MSE (_neg_mean_squared_error_ pour être précis dans le cadre d'une optimisation)."
   ]
  },
  {
   "cell_type": "code",
   "execution_count": 31,
   "metadata": {},
   "outputs": [],
   "source": [
    "lasso_params = {'alpha':[1e-15, 1e-10, 1e-8, 1e-5, 1e-4, 1e-3, 1e-2, 0.1, 1, 5, 10]}"
   ]
  },
  {
   "cell_type": "code",
   "execution_count": 32,
   "metadata": {},
   "outputs": [],
   "source": [
    "GSCV_lasso_bo3 = GridSearchCV(regLasso, lasso_params, 'neg_mean_squared_error', cv=3)"
   ]
  },
  {
   "cell_type": "code",
   "execution_count": 33,
   "metadata": {},
   "outputs": [
    {
     "name": "stderr",
     "output_type": "stream",
     "text": [
      "/home/cesar/.anaconda3/envs/projetml/lib/python3.7/site-packages/sklearn/linear_model/_coordinate_descent.py:476: ConvergenceWarning: Objective did not converge. You might want to increase the number of iterations. Duality gap: 8170951.535045076, tolerance: 1695310.5004777578\n",
      "  positive)\n",
      "/home/cesar/.anaconda3/envs/projetml/lib/python3.7/site-packages/sklearn/linear_model/_coordinate_descent.py:476: ConvergenceWarning: Objective did not converge. You might want to increase the number of iterations. Duality gap: 8115157.106565085, tolerance: 1680856.9074685497\n",
      "  positive)\n"
     ]
    },
    {
     "data": {
      "text/plain": [
       "GridSearchCV(cv=3, error_score=nan,\n",
       "             estimator=Lasso(alpha=1.0, copy_X=True, fit_intercept=True,\n",
       "                             max_iter=100000, normalize=False, positive=False,\n",
       "                             precompute=False, random_state=None,\n",
       "                             selection='cyclic', tol=0.1, warm_start=False),\n",
       "             iid='deprecated', n_jobs=None,\n",
       "             param_grid={'alpha': [1e-15, 1e-10, 1e-08, 1e-05, 0.0001, 0.001,\n",
       "                                   0.01, 0.1, 1, 5, 10]},\n",
       "             pre_dispatch='2*n_jobs', refit=True, return_train_score=False,\n",
       "             scoring='neg_mean_squared_error', verbose=0)"
      ]
     },
     "execution_count": 33,
     "metadata": {},
     "output_type": "execute_result"
    }
   ],
   "source": [
    "GSCV_lasso_bo3.fit(X_train_LM_bo3, y_train_bo3)"
   ]
  },
  {
   "cell_type": "markdown",
   "metadata": {},
   "source": [
    "<font color='red'>Malgrès l'augmentation de la tolérence du modèle et du nombre d'itérations effectuées, la convergence de notre modèle n'est pas atteinte pour les faibles valeurs de $\\alpha = \\{10^{-15}, 10^{-10}\\}$.</font>"
   ]
  },
  {
   "cell_type": "code",
   "execution_count": 34,
   "metadata": {},
   "outputs": [
    {
     "name": "stdout",
     "output_type": "stream",
     "text": [
      "Valeur optimale de alpha : 0.01\n"
     ]
    }
   ],
   "source": [
    "regBestLasso_bo3 = GSCV_lasso_bo3.best_estimator_\n",
    "print('Valeur optimale de alpha : {}'.format(regBestLasso_bo3.get_params()['alpha']))"
   ]
  },
  {
   "cell_type": "code",
   "execution_count": 35,
   "metadata": {},
   "outputs": [
    {
     "name": "stdout",
     "output_type": "stream",
     "text": [
      "Bo3:\n",
      "\tMSE : train = 869.2434707540339 / test = 884.98975176799\n"
     ]
    }
   ],
   "source": [
    "y_pred_train_bo3 = regBestLasso_bo3.predict(X_train_LM_bo3.values)\n",
    "y_pred_test_bo3 = regBestLasso_bo3.predict(X_test_LM_bo3.values)\n",
    "print('Bo3:\\n\\tMSE : train = {} / test = {}'.format(mean_squared_error(y_train_bo3.values, y_pred_train_bo3),\n",
    "                                                    mean_squared_error(y_test_bo3.values, y_pred_test_bo3)))"
   ]
  },
  {
   "cell_type": "code",
   "execution_count": 36,
   "metadata": {},
   "outputs": [
    {
     "name": "stderr",
     "output_type": "stream",
     "text": [
      "/home/cesar/.anaconda3/envs/projetml/lib/python3.7/site-packages/sklearn/linear_model/_coordinate_descent.py:476: ConvergenceWarning: Objective did not converge. You might want to increase the number of iterations. Duality gap: 4209336.984767436, tolerance: 908380.170095638\n",
      "  positive)\n",
      "/home/cesar/.anaconda3/envs/projetml/lib/python3.7/site-packages/sklearn/linear_model/_coordinate_descent.py:476: ConvergenceWarning: Objective did not converge. You might want to increase the number of iterations. Duality gap: 3998142.732592154, tolerance: 868063.4106110074\n",
      "  positive)\n",
      "/home/cesar/.anaconda3/envs/projetml/lib/python3.7/site-packages/sklearn/linear_model/_coordinate_descent.py:476: ConvergenceWarning: Objective did not converge. You might want to increase the number of iterations. Duality gap: 1870553.356595695, tolerance: 868063.4106110074\n",
      "  positive)\n",
      "/home/cesar/.anaconda3/envs/projetml/lib/python3.7/site-packages/sklearn/linear_model/_coordinate_descent.py:476: ConvergenceWarning: Objective did not converge. You might want to increase the number of iterations. Duality gap: 1870551.7279890128, tolerance: 868063.4106110074\n",
      "  positive)\n"
     ]
    },
    {
     "name": "stdout",
     "output_type": "stream",
     "text": [
      "Valeur optimale de alpha : 0.1\n",
      "Bo5:\n",
      "\tMSE : test = 1980.9348890316226 / train = 2052.499125577999\n"
     ]
    }
   ],
   "source": [
    "GSCV_lasso_bo5 = GridSearchCV(regLasso, lasso_params, 'neg_mean_squared_error', cv=3)\n",
    "GSCV_lasso_bo5.fit(X_train_LM_bo5, y_train_bo5)\n",
    "regBestLasso_bo5 = GSCV_lasso_bo5.best_estimator_\n",
    "print('Valeur optimale de alpha : {}'.format(regBestLasso_bo5.get_params()['alpha']))\n",
    "y_pred_train_bo5 = regBestLasso_bo5.predict(X_train_LM_bo5.values)\n",
    "y_pred_test_bo5 = regBestLasso_bo5.predict(X_test_LM_bo5.values)\n",
    "print('Bo5:\\n\\tMSE : test = {} / train = {}'.format(mean_squared_error(y_train_bo5.values, y_pred_train_bo5),\n",
    "                                                    mean_squared_error(y_test_bo5.values, y_pred_test_bo5)))"
   ]
  },
  {
   "cell_type": "markdown",
   "metadata": {},
   "source": [
    "la valeur optimale trouvée par validation croisée sur notre base d'apprentissage est :\n",
    "- $\\alpha=0.01$ pour les Bo3\n",
    "- $\\alpha=0.1$ pour les Bo5"
   ]
  },
  {
   "cell_type": "markdown",
   "metadata": {},
   "source": [
    "Nous procédons à partir de ces résultats à une seconde GridSearch plus fine centrée autour de ces valeurs. "
   ]
  },
  {
   "cell_type": "code",
   "execution_count": 37,
   "metadata": {},
   "outputs": [],
   "source": [
    "lasso_params_centre_bo3 = {'alpha':[0.01-(x*0.001) for x in range(-10, 10)]}\n",
    "lasso_params_centre_bo5 = {'alpha':[0.1-(x*0.01) for x in range(-10, 10)]}"
   ]
  },
  {
   "cell_type": "code",
   "execution_count": 38,
   "metadata": {},
   "outputs": [
    {
     "name": "stdout",
     "output_type": "stream",
     "text": [
      "Valeur optimale de alpha : 0.005\n",
      "Bo3:\n",
      "\tMSE : test = 869.1077335529666 / train = 885.1301115725183\n",
      "Valeur optimale de alpha : 0.04000000000000001\n",
      "Bo5:\n",
      "\tMSE : test = 1979.04601438568 / train = 2049.294273366388\n"
     ]
    }
   ],
   "source": [
    "GSCV_lasso_bo3 = GridSearchCV(regLasso, lasso_params_centre_bo3, 'neg_mean_squared_error', cv=3)\n",
    "GSCV_lasso_bo3.fit(X_train_LM_bo3, y_train_bo3)\n",
    "regBestLasso_bo3 = GSCV_lasso_bo3.best_estimator_\n",
    "print('Valeur optimale de alpha : {}'.format(regBestLasso_bo3.get_params()['alpha']))\n",
    "y_pred_train_bo3 = regBestLasso_bo3.predict(X_train_LM_bo3.values)\n",
    "y_pred_test_bo3 = regBestLasso_bo3.predict(X_test_LM_bo3.values)\n",
    "print('Bo3:\\n\\tMSE : test = {} / train = {}'.format(mean_squared_error(y_train_bo3.values, y_pred_train_bo3),\n",
    "                                                    mean_squared_error(y_test_bo3.values, y_pred_test_bo3)))\n",
    "\n",
    "GSCV_lasso_bo5 = GridSearchCV(regLasso, lasso_params_centre_bo5, 'neg_mean_squared_error', cv=3)\n",
    "GSCV_lasso_bo5.fit(X_train_LM_bo5, y_train_bo5)\n",
    "regBestLasso_bo5 = GSCV_lasso_bo5.best_estimator_\n",
    "print('Valeur optimale de alpha : {}'.format(regBestLasso_bo5.get_params()['alpha']))\n",
    "y_pred_train_bo5 = regBestLasso_bo5.predict(X_train_LM_bo5.values)\n",
    "y_pred_test_bo5 = regBestLasso_bo5.predict(X_test_LM_bo5.values)\n",
    "print('Bo5:\\n\\tMSE : test = {} / train = {}'.format(mean_squared_error(y_train_bo5.values, y_pred_train_bo5),\n",
    "                                                    mean_squared_error(y_test_bo5.values, y_pred_test_bo5)))"
   ]
  },
  {
   "cell_type": "markdown",
   "metadata": {},
   "source": [
    "Nous gardons à partir d'ici ces valeurs pour nos coefficients de pénalisation: \n",
    "- $\\alpha_{Bo3}^*=0.005$\n",
    "- $\\alpha_{Bo5}^*=0.04$"
   ]
  },
  {
   "cell_type": "code",
   "execution_count": 39,
   "metadata": {},
   "outputs": [],
   "source": [
    "regLasso_bo3 = Lasso(alpha=0.005, max_iter=100000, tol=0.01).fit(X_train_LM_bo3, y_train_bo3)\n",
    "regLasso_bo5 = Lasso(alpha=0.04, max_iter=100000, tol=0.01).fit(X_train_LM_bo5, y_train_bo5)"
   ]
  },
  {
   "cell_type": "markdown",
   "metadata": {},
   "source": [
    "Analyse des coefficients éliminés par la régularisation L1 pour le modèle bo3."
   ]
  },
  {
   "cell_type": "code",
   "execution_count": 40,
   "metadata": {},
   "outputs": [
    {
     "name": "stdout",
     "output_type": "stream",
     "text": [
      "Coeffcients retenus dans le modèle Bo3:\n",
      "\n",
      "Coefficient winner_age = 0.15196250509528048\n",
      "Coefficient winner_rank = 0.02525419360705143\n",
      "Coefficient loser_age = 0.01592489956188355\n",
      "Coefficient loser_rank = -0.020896499698423124\n",
      "Coefficient year = 0.40391861556788256\n",
      "Coefficient surface_Clay = 4.522310535170495\n",
      "Coefficient surface_Grass = -3.971845993815142\n",
      "Coefficient surface_Hard = 0.25918167087846533\n",
      "Coefficient tourney_level_F = 8.695523308235629\n",
      "Coefficient tourney_level_M = 4.28557627802395\n",
      "Coefficient round_ER = -8.032265353617346\n",
      "Coefficient round_F = 8.362350489841829\n",
      "Coefficient round_QF = 3.337485944610628\n",
      "Coefficient round_R128 = -1.8834773359128787\n",
      "Coefficient round_R16 = 1.3133163144500781\n",
      "Coefficient round_R32 = -0.8494587980668702\n",
      "Coefficient round_R64 = -2.373739566999927\n",
      "Coefficient round_SF = 4.921759774398725\n",
      "Coefficient winner_hand_R = -0.5581254464721479\n",
      "Coefficient loser_hand_R = 0.9972444471599353\n",
      "Coefficient loser_hand_U = -0.3930198924078167\n",
      "\n",
      "Coeffcients éliminés dans le modèle Bo3:\n",
      "\n",
      "Coefficient tourney_level_G = 0.0\n",
      "Coefficient round_RR = 0.0\n",
      "Coefficient winner_hand_U = 0.0\n"
     ]
    }
   ],
   "source": [
    "print('Coeffcients retenus dans le modèle Bo3:\\n')\n",
    "for var, coef in zip(X_train_LM_bo3.columns, regLasso_bo3.coef_):\n",
    "    if coef != 0:\n",
    "        print('Coefficient {} = {}'.format(var, coef))\n",
    "print('\\nCoeffcients éliminés dans le modèle Bo3:\\n')\n",
    "for var, coef in zip(X_train_LM_bo3.columns, regLasso_bo3.coef_):\n",
    "    if coef == 0:\n",
    "        print('Coefficient {} = {}'.format(var, coef))"
   ]
  },
  {
   "cell_type": "markdown",
   "metadata": {},
   "source": [
    "Analyse des coefficients éliminés par la régularisation L1 pour le modèle bo5."
   ]
  },
  {
   "cell_type": "code",
   "execution_count": 41,
   "metadata": {},
   "outputs": [
    {
     "name": "stdout",
     "output_type": "stream",
     "text": [
      "Coeffcients retenus dans le modèle Bo5:\n",
      "\n",
      "Coefficient winner_age = 0.18970815233305766\n",
      "Coefficient winner_rank = 0.09443372165174208\n",
      "Coefficient loser_age = 0.26679568615253757\n",
      "Coefficient loser_rank = -0.048959463445284984\n",
      "Coefficient year = 0.5078072948394142\n",
      "Coefficient surface_Clay = 1.9146478226509513\n",
      "Coefficient surface_Grass = -6.96513886930673\n",
      "Coefficient surface_Hard = 0.7718288232380786\n",
      "Coefficient round_F = 9.218515739412345\n",
      "Coefficient round_QF = 2.3234918030923253\n",
      "Coefficient round_R128 = -9.41303996886615\n",
      "Coefficient round_R32 = -3.551358396882016\n",
      "Coefficient round_R64 = -5.645515415933908\n",
      "Coefficient round_SF = 10.3703419429913\n",
      "Coefficient winner_hand_R = -1.9887223781486345\n",
      "Coefficient loser_hand_R = 2.8771909278599472\n",
      "\n",
      "Coeffcients éliminés dans le modèle Bo5:\n",
      "\n",
      "Coefficient tourney_level_F = -0.0\n",
      "Coefficient tourney_level_G = 0.0\n",
      "Coefficient tourney_level_M = -0.0\n",
      "Coefficient round_ER = 0.0\n",
      "Coefficient round_R16 = 0.0\n",
      "Coefficient round_RR = 0.0\n",
      "Coefficient winner_hand_U = -0.0\n",
      "Coefficient loser_hand_U = 0.0\n"
     ]
    }
   ],
   "source": [
    "print('Coeffcients retenus dans le modèle Bo5:\\n')\n",
    "for var, coef in zip(X_train_LM_bo5.columns, regLasso_bo5.coef_):\n",
    "    if coef != 0:\n",
    "        print('Coefficient {} = {}'.format(var, coef))\n",
    "print('\\nCoeffcients éliminés dans le modèle Bo5:\\n')\n",
    "for var, coef in zip(X_train_LM_bo5.columns, regLasso_bo5.coef_):\n",
    "    if coef == 0:\n",
    "        print('Coefficient {} = {}'.format(var, coef))"
   ]
  },
  {
   "cell_type": "markdown",
   "metadata": {},
   "source": [
    "Le coefficient de pénalisation $\\alpha$ étant plus élevé dans le modèle Bo5, plus de variables sont éliminées, cependant, nous retrouvons des concordances dans la liste des variables éliminés : les variables _round_RR_, _tourney_level_G_ et _winner_hand_U_ sont éliminés dans les deux modèles.\n",
    "  \n",
    "Le modèle bo5 élimine un plus grand nombre de variables, et parmis ces variables contraites à zéro, nous remarquons que chaque modalité de la variable _tourney_level_ sont mises à zéro, témoignant du faible pouvoir explicatif de cet attribut dans un Bo5.\n",
    "  \n",
    "Nous retirons donc cet attribut dans notre base Bo5. <font color='red'>Et d'autres / regrouper des modalités?</font>"
   ]
  },
  {
   "cell_type": "code",
   "execution_count": 42,
   "metadata": {},
   "outputs": [],
   "source": [
    "X_train_LM_bo5.drop(['tourney_level_M', 'tourney_level_G', 'tourney_level_F'], axis=1, inplace=True)"
   ]
  },
  {
   "cell_type": "markdown",
   "metadata": {},
   "source": [
    "Maintenant que nous avons fixé la valeur de $\\alpha$ nous réintégrons la variable _tourney_name_ pour voir les modalités (nom du tournoi) comportant un pouvoir explicatif."
   ]
  },
  {
   "cell_type": "code",
   "execution_count": 43,
   "metadata": {},
   "outputs": [],
   "source": [
    "X_train, X_test, y_train, y_test = train_test_split(data.drop('minutes', axis=1), data['minutes'], test_size=0.33, random_state=42)\n",
    "X_train , X_test = X_train[liste_attributs] , X_test[liste_attributs]\n",
    "\n",
    "X_train_LM = X_train.copy()\n",
    "X_test_LM = X_test.copy()\n",
    "\n",
    "# Cette fois nous laissons tourney_name dans X_qual\n",
    "X_qual = ['tourney_name', 'surface', 'tourney_level', 'round', 'winner_hand', 'loser_hand']\n",
    "for X in [X_train_LM, X_test_LM]:\n",
    "    for variable in X_qual:\n",
    "        var_enc = pd.get_dummies(X[variable], prefix=variable, drop_first=True)\n",
    "        X.drop(variable, axis=1, inplace=True)\n",
    "        for col_enc in var_enc.columns:\n",
    "            X[col_enc] = var_enc[col_enc]\n",
    "X_train_LM = X_train_LM.drop(['winner_ht', 'loser_ht'], axis=1)\n",
    "X_test_LM = X_test_LM.drop(['winner_ht', 'loser_ht'], axis=1)\n",
    "\n",
    "X_train_LM.dropna(axis=0, how='any', inplace=True)\n",
    "X_test_LM.dropna(axis=0, how='any', inplace=True)\n",
    "y_train = y_train[X_train_LM.index]\n",
    "y_test = y_test[X_test_LM.index]\n",
    "\n",
    "X_train_LM_bo3 = X_train_LM[X_train_LM['best_of']==3].copy()\n",
    "X_train_LM_bo5 = X_train_LM[X_train_LM['best_of']==5].copy()\n",
    "y_train_bo3 = y_train[X_train_LM_bo3.index]\n",
    "y_train_bo5 = y_train[X_train_LM_bo5.index]\n",
    "X_test_LM_bo3 = X_test_LM[X_test_LM['best_of']==3].copy()\n",
    "X_test_LM_bo5 = X_test_LM[X_test_LM['best_of']==5].copy()\n",
    "y_test_bo3 = y_test[X_test_LM_bo3.index]\n",
    "y_test_bo5 = y_test[X_test_LM_bo5.index]\n",
    "\n",
    "X_train_LM_bo3.drop('best_of', axis=1, inplace=True)\n",
    "X_train_LM_bo5.drop('best_of', axis=1, inplace=True)\n",
    "X_test_LM_bo3.drop('best_of', axis=1, inplace=True)\n",
    "X_test_LM_bo5.drop('best_of', axis=1, inplace=True)\n",
    "\n",
    "X_train_LM_bo5.drop(['tourney_level_M', 'tourney_level_G', 'tourney_level_F'], axis=1, inplace=True)"
   ]
  },
  {
   "cell_type": "code",
   "execution_count": 44,
   "metadata": {},
   "outputs": [],
   "source": [
    "regLasso_bo3 = Lasso(alpha=0.005, max_iter=100000, tol=0.1).fit(X_train_LM_bo3, y_train_bo3)\n",
    "regLasso_bo5 = Lasso(alpha=0.04, max_iter=100000, tol=0.1).fit(X_train_LM_bo5, y_train_bo5)"
   ]
  },
  {
   "cell_type": "code",
   "execution_count": 45,
   "metadata": {},
   "outputs": [
    {
     "name": "stdout",
     "output_type": "stream",
     "text": [
      "Tournois retenus dans le modèle Bo3:\n",
      "\n",
      "Tournoi tourney_name_Acapulco = 2.8559036758554557\n",
      "Tournoi tourney_name_Adelaide = -2.06365052801325\n",
      "Tournoi tourney_name_Amersfoort = -0.7842327311423031\n",
      "Tournoi tourney_name_Amsterdam = -3.403558155174098\n",
      "Tournoi tourney_name_Antalya = 2.2309324670189876\n",
      "Tournoi tourney_name_Atlanta = 1.614994135764263\n",
      "Tournoi tourney_name_Auckland = -3.5429944696779736\n",
      "Tournoi tourney_name_Barcelona = 2.751909657776693\n",
      "Tournoi tourney_name_Basel = -1.0570806527359309\n",
      "Tournoi tourney_name_Bastad = -3.7599824245855946\n",
      "Tournoi tourney_name_Beijing Olympics = 3.6546093402155466\n",
      "Tournoi tourney_name_Belgrade = 5.162620719043362\n",
      "Tournoi tourney_name_Bogota = -6.41681887696037\n",
      "Tournoi tourney_name_Brighton = -6.720926023352626\n",
      "Tournoi tourney_name_Bucharest = 2.586466220270424\n",
      "Tournoi tourney_name_Budapest = -1.899913691666687\n",
      "Tournoi tourney_name_Buenos Aires = 2.4419516310255878\n",
      "Tournoi tourney_name_Canada Masters = 3.311778850967685\n",
      "Tournoi tourney_name_Casablanca = -1.0829293606967083\n",
      "Tournoi tourney_name_Chengdu = 2.2907082838035495\n",
      "Tournoi tourney_name_Chennai = -3.103477372928532\n",
      "Tournoi tourney_name_Cincinnati Masters = 1.1005738981301283\n",
      "Tournoi tourney_name_Copenhagen = 0.9285818246415559\n",
      "Tournoi tourney_name_Costa Do Sauipe = 2.9287509772827467\n",
      "Tournoi tourney_name_Delray Beach = -1.8305373861899392\n",
      "Tournoi tourney_name_Doha = -0.2738227443172331\n",
      "Tournoi tourney_name_Dubai = -0.08190748079886588\n",
      "Tournoi tourney_name_Dusseldorf = -1.3526594716949631\n",
      "Tournoi tourney_name_Geneva = -1.3372430761740859\n",
      "Tournoi tourney_name_Gstaad = 1.5452055783429721\n",
      "Tournoi tourney_name_Halle = 0.5834073660466909\n",
      "Tournoi tourney_name_Hamburg = 3.8790524013724115\n",
      "Tournoi tourney_name_Hamburg Masters = -0.3652950043321005\n",
      "Tournoi tourney_name_Houston = -2.922173619978093\n",
      "Tournoi tourney_name_Indian Wells Masters = 2.9984533226617893\n",
      "Tournoi tourney_name_Indianapolis = -0.7600222350066697\n",
      "Tournoi tourney_name_Istanbul = -1.246789857374881\n",
      "Tournoi tourney_name_Johannesburg = -0.2023295635513109\n",
      "Tournoi tourney_name_Kuala Lumpur = 1.2784532655245582\n",
      "Tournoi tourney_name_Las Vegas = -5.90670694172505\n",
      "Tournoi tourney_name_London Olympics = 1.2631156442825189\n",
      "Tournoi tourney_name_Long Island = -0.3609126279384649\n",
      "Tournoi tourney_name_Los Angeles = -0.6832257638237873\n",
      "Tournoi tourney_name_Los Cabos = -1.7415160620245185\n",
      "Tournoi tourney_name_Lyon = 0.3318974081254759\n",
      "Tournoi tourney_name_Madrid Masters = 1.4664069717038746\n",
      "Tournoi tourney_name_Mallorca = -0.9229958669022751\n",
      "Tournoi tourney_name_Marseille = 0.7101938810676052\n",
      "Tournoi tourney_name_Masters Cup = 0.8190964255142194\n",
      "Tournoi tourney_name_Memphis = -2.3836358550907106\n",
      "Tournoi tourney_name_Metz = -2.9989910974592644\n",
      "Tournoi tourney_name_Miami Masters = 3.206055445262761\n",
      "Tournoi tourney_name_Milan = 0.3777549078739854\n",
      "Tournoi tourney_name_Monte Carlo Masters = -1.2008155242266612\n",
      "Tournoi tourney_name_Montpellier = -2.015809630514484\n",
      "Tournoi tourney_name_Moscow = 0.2719398560696051\n",
      "Tournoi tourney_name_Munich = -3.906911198805817\n",
      "Tournoi tourney_name_New Haven = 0.6914729573609946\n",
      "Tournoi tourney_name_Newport = -3.279993002767069\n",
      "Tournoi tourney_name_Nice = -0.870136302912356\n",
      "Tournoi tourney_name_Nottingham = -0.1941857963997925\n",
      "Tournoi tourney_name_Palermo = -1.6007797758036897\n",
      "Tournoi tourney_name_Pune = 6.390083522819643\n",
      "Tournoi tourney_name_Queen's Club = 0.9120160709077596\n",
      "Tournoi tourney_name_Quito = 5.788990878959604\n",
      "Tournoi tourney_name_Rio De Janeiro = 8.031452200585822\n",
      "Tournoi tourney_name_Rio Olympics = 3.3622103503776906\n",
      "Tournoi tourney_name_Rio de Janeiro = 4.886824767874223\n",
      "Tournoi tourney_name_Rome Masters = 3.7865416623160857\n",
      "Tournoi tourney_name_Rotterdam = 0.518738356654065\n",
      "Tournoi tourney_name_San Jose = -3.246519582758887\n",
      "Tournoi tourney_name_Santiago = 2.092289712433296\n",
      "Tournoi tourney_name_Sao Paulo = 3.28048183731895\n",
      "Tournoi tourney_name_Shanghai = 0.3286982024938865\n",
      "Tournoi tourney_name_Shanghai Masters = -0.3926814526736649\n",
      "Tournoi tourney_name_Shenzhen = 3.714604642051522\n",
      "Tournoi tourney_name_Sofia = -3.914356271943728\n",
      "Tournoi tourney_name_St. Petersburg = -2.317317378321505\n",
      "Tournoi tourney_name_St. Poelten = -3.0049473169681136\n",
      "Tournoi tourney_name_Stockholm = -0.6428075466641648\n",
      "Tournoi tourney_name_Stuttgart Masters = 3.0824175520199977\n",
      "Tournoi tourney_name_Sydney = -1.1379000668535038\n",
      "Tournoi tourney_name_Tashkent = -0.38330479177673804\n",
      "Tournoi tourney_name_Tokyo = 0.29633972182042506\n",
      "Tournoi tourney_name_Toulouse = 0.41699870226589175\n",
      "Tournoi tourney_name_Umag = 0.9658270365343076\n",
      "Tournoi tourney_name_Vienna = 5.5538959747677605\n",
      "Tournoi tourney_name_Vina del Mar = 0.8982368864383743\n",
      "Tournoi tourney_name_Washington = 1.3547782336988126\n",
      "Tournoi tourney_name_Winston-Salem = -0.9772168259032029\n",
      "Tournoi tourney_name_Zagreb = 2.362911580779634\n",
      "Tournoi tourney_name_s-Hertogenbosch = -0.8269807026518928\n",
      "\n",
      "Tournois éliminés dans le modèle Bo3:\n",
      "\n",
      "Tournoi tourney_name_ATP Next Gen Finals = -0.0\n",
      "Tournoi tourney_name_Antwerp = 0.0\n",
      "Tournoi tourney_name_Australian Open = 0.0\n",
      "Tournoi tourney_name_Bangkok = -0.0\n",
      "Tournoi tourney_name_Beijing = -0.0\n",
      "Tournoi tourney_name_Brisbane = -0.0\n",
      "Tournoi tourney_name_Cordoba = -0.0\n",
      "Tournoi tourney_name_Eastbourne = -0.0\n",
      "Tournoi tourney_name_Estoril = -0.0\n",
      "Tournoi tourney_name_Ho Chi Minh City = 0.0\n",
      "Tournoi tourney_name_Hong Kong = -0.0\n",
      "Tournoi tourney_name_Kitzbuhel = -0.0\n",
      "Tournoi tourney_name_London = -0.0\n",
      "Tournoi tourney_name_Marrakech = -0.0\n",
      "Tournoi tourney_name_Mexico City = -0.0\n",
      "Tournoi tourney_name_Mumbai = 0.0\n",
      "Tournoi tourney_name_New York = 0.0\n",
      "Tournoi tourney_name_Orlando = -0.0\n",
      "Tournoi tourney_name_Paris Masters = 0.0\n",
      "Tournoi tourney_name_Poertschach = -0.0\n",
      "Tournoi tourney_name_Roland Garros = 0.0\n",
      "Tournoi tourney_name_San Marino = 0.0\n",
      "Tournoi tourney_name_Scottsdale = 0.0\n",
      "Tournoi tourney_name_Sopot = -0.0\n",
      "Tournoi tourney_name_Stuttgart = -0.0\n",
      "Tournoi tourney_name_Stuttgart Outdoor = -0.0\n",
      "Tournoi tourney_name_Tour Finals = 0.0\n",
      "Tournoi tourney_name_US Open = 0.0\n",
      "Tournoi tourney_name_Valencia = -0.0\n",
      "Tournoi tourney_name_Viña del Mar = 0.0\n",
      "Tournoi tourney_name_Warsaw = 0.0\n",
      "Tournoi tourney_name_Wimbledon = 0.0\n",
      "Tournoi tourney_name_Zhuhai = 0.0\n"
     ]
    }
   ],
   "source": [
    "tournois_retenus_bo3 = []\n",
    "print('Tournois retenus dans le modèle Bo3:\\n')\n",
    "for var, coef in zip(X_train_LM_bo3.columns, regLasso_bo3.coef_):\n",
    "    if var[:12] == 'tourney_name':\n",
    "        if coef != 0:\n",
    "            print('Tournoi {} = {}'.format(var, coef))\n",
    "            tournois_retenus_bo3.append(var)\n",
    "print('\\nTournois éliminés dans le modèle Bo3:\\n')\n",
    "for var, coef in zip(X_train_LM_bo3.columns, regLasso_bo3.coef_):\n",
    "    if var[:12] == 'tourney_name':\n",
    "        if coef == 0:\n",
    "            print('Tournoi {} = {}'.format(var, coef))"
   ]
  },
  {
   "cell_type": "code",
   "execution_count": 46,
   "metadata": {},
   "outputs": [
    {
     "name": "stdout",
     "output_type": "stream",
     "text": [
      "Tournois retenus dans le modèle Bo5:\n",
      "\n",
      "Tournoi tourney_name_Australian Open = 1.7454627765738358\n",
      "Tournoi tourney_name_Roland Garros = 1.73881188921559\n",
      "Tournoi tourney_name_US Open = 2.290210653129444\n",
      "Tournoi tourney_name_Wimbledon = -5.8157526575403775\n",
      "\n",
      "Tournois éliminés dans le modèle Bo5:\n",
      "\n",
      "Tournoi tourney_name_ATP Next Gen Finals = 0.0\n",
      "Tournoi tourney_name_Acapulco = 0.0\n",
      "Tournoi tourney_name_Adelaide = 0.0\n",
      "Tournoi tourney_name_Amersfoort = -0.0\n",
      "Tournoi tourney_name_Amsterdam = 0.0\n",
      "Tournoi tourney_name_Antalya = 0.0\n",
      "Tournoi tourney_name_Antwerp = 0.0\n",
      "Tournoi tourney_name_Atlanta = 0.0\n",
      "Tournoi tourney_name_Auckland = 0.0\n",
      "Tournoi tourney_name_Bangkok = 0.0\n",
      "Tournoi tourney_name_Barcelona = 0.0\n",
      "Tournoi tourney_name_Basel = -0.0\n",
      "Tournoi tourney_name_Bastad = 0.0\n",
      "Tournoi tourney_name_Beijing = 0.0\n",
      "Tournoi tourney_name_Beijing Olympics = -0.0\n",
      "Tournoi tourney_name_Belgrade = 0.0\n",
      "Tournoi tourney_name_Bogota = 0.0\n",
      "Tournoi tourney_name_Brighton = 0.0\n",
      "Tournoi tourney_name_Brisbane = 0.0\n",
      "Tournoi tourney_name_Bucharest = 0.0\n",
      "Tournoi tourney_name_Budapest = 0.0\n",
      "Tournoi tourney_name_Buenos Aires = 0.0\n",
      "Tournoi tourney_name_Canada Masters = 0.0\n",
      "Tournoi tourney_name_Casablanca = 0.0\n",
      "Tournoi tourney_name_Chengdu = 0.0\n",
      "Tournoi tourney_name_Chennai = 0.0\n",
      "Tournoi tourney_name_Cincinnati Masters = 0.0\n",
      "Tournoi tourney_name_Copenhagen = 0.0\n",
      "Tournoi tourney_name_Cordoba = 0.0\n",
      "Tournoi tourney_name_Costa Do Sauipe = 0.0\n",
      "Tournoi tourney_name_Delray Beach = 0.0\n",
      "Tournoi tourney_name_Doha = 0.0\n",
      "Tournoi tourney_name_Dubai = 0.0\n",
      "Tournoi tourney_name_Dusseldorf = 0.0\n",
      "Tournoi tourney_name_Eastbourne = 0.0\n",
      "Tournoi tourney_name_Estoril = 0.0\n",
      "Tournoi tourney_name_Geneva = 0.0\n",
      "Tournoi tourney_name_Gstaad = -0.0\n",
      "Tournoi tourney_name_Halle = 0.0\n",
      "Tournoi tourney_name_Hamburg = 0.0\n",
      "Tournoi tourney_name_Hamburg Masters = 0.0\n",
      "Tournoi tourney_name_Ho Chi Minh City = 0.0\n",
      "Tournoi tourney_name_Hong Kong = 0.0\n",
      "Tournoi tourney_name_Houston = 0.0\n",
      "Tournoi tourney_name_Indian Wells Masters = -0.0\n",
      "Tournoi tourney_name_Indianapolis = 0.0\n",
      "Tournoi tourney_name_Istanbul = 0.0\n",
      "Tournoi tourney_name_Johannesburg = 0.0\n",
      "Tournoi tourney_name_Kitzbuhel = -0.0\n",
      "Tournoi tourney_name_Kuala Lumpur = 0.0\n",
      "Tournoi tourney_name_Las Vegas = 0.0\n",
      "Tournoi tourney_name_London = 0.0\n",
      "Tournoi tourney_name_London Olympics = 0.0\n",
      "Tournoi tourney_name_Long Island = 0.0\n",
      "Tournoi tourney_name_Los Angeles = 0.0\n",
      "Tournoi tourney_name_Los Cabos = 0.0\n",
      "Tournoi tourney_name_Lyon = 0.0\n",
      "Tournoi tourney_name_Madrid Masters = -0.0\n",
      "Tournoi tourney_name_Mallorca = 0.0\n",
      "Tournoi tourney_name_Marrakech = 0.0\n",
      "Tournoi tourney_name_Marseille = 0.0\n",
      "Tournoi tourney_name_Masters Cup = -0.0\n",
      "Tournoi tourney_name_Memphis = 0.0\n",
      "Tournoi tourney_name_Metz = 0.0\n",
      "Tournoi tourney_name_Mexico City = 0.0\n",
      "Tournoi tourney_name_Miami Masters = 0.0\n",
      "Tournoi tourney_name_Milan = 0.0\n",
      "Tournoi tourney_name_Monte Carlo Masters = 0.0\n",
      "Tournoi tourney_name_Montpellier = 0.0\n",
      "Tournoi tourney_name_Moscow = 0.0\n",
      "Tournoi tourney_name_Mumbai = 0.0\n",
      "Tournoi tourney_name_Munich = 0.0\n",
      "Tournoi tourney_name_New Haven = 0.0\n",
      "Tournoi tourney_name_New York = 0.0\n",
      "Tournoi tourney_name_Newport = 0.0\n",
      "Tournoi tourney_name_Nice = 0.0\n",
      "Tournoi tourney_name_Nottingham = 0.0\n",
      "Tournoi tourney_name_Orlando = 0.0\n",
      "Tournoi tourney_name_Palermo = 0.0\n",
      "Tournoi tourney_name_Paris Masters = -0.0\n",
      "Tournoi tourney_name_Poertschach = 0.0\n",
      "Tournoi tourney_name_Pune = 0.0\n",
      "Tournoi tourney_name_Queen's Club = 0.0\n",
      "Tournoi tourney_name_Quito = 0.0\n",
      "Tournoi tourney_name_Rio De Janeiro = 0.0\n",
      "Tournoi tourney_name_Rio Olympics = 0.0\n",
      "Tournoi tourney_name_Rio de Janeiro = 0.0\n",
      "Tournoi tourney_name_Rome Masters = 0.0\n",
      "Tournoi tourney_name_Rotterdam = 0.0\n",
      "Tournoi tourney_name_San Jose = 0.0\n",
      "Tournoi tourney_name_San Marino = 0.0\n",
      "Tournoi tourney_name_Santiago = 0.0\n",
      "Tournoi tourney_name_Sao Paulo = 0.0\n",
      "Tournoi tourney_name_Scottsdale = 0.0\n",
      "Tournoi tourney_name_Shanghai = 0.0\n",
      "Tournoi tourney_name_Shanghai Masters = 0.0\n",
      "Tournoi tourney_name_Shenzhen = 0.0\n",
      "Tournoi tourney_name_Sofia = 0.0\n",
      "Tournoi tourney_name_Sopot = 0.0\n",
      "Tournoi tourney_name_St. Petersburg = 0.0\n",
      "Tournoi tourney_name_St. Poelten = 0.0\n",
      "Tournoi tourney_name_Stockholm = -0.0\n",
      "Tournoi tourney_name_Stuttgart = 0.0\n",
      "Tournoi tourney_name_Stuttgart Masters = -0.0\n",
      "Tournoi tourney_name_Stuttgart Outdoor = 0.0\n",
      "Tournoi tourney_name_Sydney = 0.0\n",
      "Tournoi tourney_name_Tashkent = 0.0\n",
      "Tournoi tourney_name_Tokyo = 0.0\n",
      "Tournoi tourney_name_Toulouse = 0.0\n",
      "Tournoi tourney_name_Tour Finals = 0.0\n",
      "Tournoi tourney_name_Umag = 0.0\n",
      "Tournoi tourney_name_Valencia = 0.0\n",
      "Tournoi tourney_name_Vienna = 0.0\n",
      "Tournoi tourney_name_Vina del Mar = 0.0\n",
      "Tournoi tourney_name_Viña del Mar = 0.0\n",
      "Tournoi tourney_name_Warsaw = 0.0\n",
      "Tournoi tourney_name_Washington = 0.0\n",
      "Tournoi tourney_name_Winston-Salem = 0.0\n",
      "Tournoi tourney_name_Zagreb = 0.0\n",
      "Tournoi tourney_name_Zhuhai = 0.0\n",
      "Tournoi tourney_name_s-Hertogenbosch = 0.0\n"
     ]
    }
   ],
   "source": [
    "tournois_retenus_bo5 = []\n",
    "print('Tournois retenus dans le modèle Bo5:\\n')\n",
    "for var, coef in zip(X_train_LM_bo5.columns, regLasso_bo5.coef_):\n",
    "    if var[:12] == 'tourney_name':\n",
    "        if coef != 0:\n",
    "            print('Tournoi {} = {}'.format(var, coef))\n",
    "            tournois_retenus_bo5.append(var)\n",
    "print('\\nTournois éliminés dans le modèle Bo5:\\n')\n",
    "for var, coef in zip(X_train_LM_bo5.columns, regLasso_bo5.coef_):\n",
    "    if var[:12] == 'tourney_name':\n",
    "        if coef == 0:\n",
    "            print('Tournoi {} = {}'.format(var, coef))"
   ]
  },
  {
   "cell_type": "markdown",
   "metadata": {},
   "source": [
    "Nous devons également intégrer le tournoi servant de modalité de référence dans le deux régressions."
   ]
  },
  {
   "cell_type": "code",
   "execution_count": 47,
   "metadata": {},
   "outputs": [
    {
     "name": "stdout",
     "output_type": "stream",
     "text": [
      "Modalité de référence pour la variable tournoi dans bo3: 's-Hertogenbosch\n"
     ]
    }
   ],
   "source": [
    "nom_tournois = [x for x in data['tourney_name'].unique()]\n",
    "for var in X_train_LM_bo3.columns:\n",
    "    if var[:12] == 'tourney_name':\n",
    "        if var[13:] in nom_tournois:\n",
    "            nom_tournois.remove(var[13:])\n",
    "print('Modalité de référence pour la variable tournoi dans bo3: {}'.format(nom_tournois[0]))\n",
    "tournois_retenus_bo3 = tournois_retenus_bo3 + nom_tournois"
   ]
  },
  {
   "cell_type": "code",
   "execution_count": 48,
   "metadata": {},
   "outputs": [
    {
     "name": "stdout",
     "output_type": "stream",
     "text": [
      "Modalité de référence pour la variable tournoi dans bo5: 's-Hertogenbosch\n"
     ]
    }
   ],
   "source": [
    "nom_tournois = [x for x in data['tourney_name'].unique()]\n",
    "for var in X_train_LM_bo5.columns:\n",
    "    if var[:12] == 'tourney_name':\n",
    "        if var[13:] in nom_tournois:\n",
    "            nom_tournois.remove(var[13:])\n",
    "print('Modalité de référence pour la variable tournoi dans bo5: {}'.format(nom_tournois[0]))\n",
    "tournois_retenus_bo5 = tournois_retenus_bo5 + nom_tournois"
   ]
  },
  {
   "cell_type": "markdown",
   "metadata": {},
   "source": [
    "Nous recodons notre variable catégorielle _tourney_name_ en regroupant toutes les modalités supprimées à zéro."
   ]
  },
  {
   "cell_type": "code",
   "execution_count": 49,
   "metadata": {},
   "outputs": [],
   "source": [
    "X_train_LM = X_train.copy()\n",
    "X_test_LM = X_test.copy()\n",
    "\n",
    "X_qual = ['surface', 'tourney_level', 'round', 'winner_hand', 'loser_hand']\n",
    "for X in [X_train_LM, X_test_LM]:\n",
    "    for variable in X_qual:\n",
    "        var_enc = pd.get_dummies(X[variable], prefix=variable, drop_first=True)\n",
    "        X.drop(variable, axis=1, inplace=True)\n",
    "        for col_enc in var_enc.columns:\n",
    "            X[col_enc] = var_enc[col_enc]\n",
    "            \n",
    "X_train_LM = X_train_LM.drop(['winner_ht', 'loser_ht'], axis=1)\n",
    "X_test_LM = X_test_LM.drop(['winner_ht', 'loser_ht'], axis=1)\n",
    "\n",
    "X_train_LM.dropna(axis=0, how='any', inplace=True)\n",
    "X_test_LM.dropna(axis=0, how='any', inplace=True)\n",
    "y_train = y_train[X_train_LM.index]\n",
    "y_test = y_test[X_test_LM.index]\n",
    "\n",
    "X_train_LM_bo3 = X_train_LM[X_train_LM['best_of']==3].copy()\n",
    "X_train_LM_bo5 = X_train_LM[X_train_LM['best_of']==5].copy()\n",
    "y_train_bo3 = y_train[X_train_LM_bo3.index]\n",
    "y_train_bo5 = y_train[X_train_LM_bo5.index]\n",
    "X_test_LM_bo3 = X_test_LM[X_test_LM['best_of']==3].copy()\n",
    "X_test_LM_bo5 = X_test_LM[X_test_LM['best_of']==5].copy()\n",
    "y_test_bo3 = y_test[X_test_LM_bo3.index]\n",
    "y_test_bo5 = y_test[X_test_LM_bo5.index]\n",
    "\n",
    "X_train_LM_bo3.drop('best_of', axis=1, inplace=True)\n",
    "X_train_LM_bo5.drop('best_of', axis=1, inplace=True)\n",
    "X_test_LM_bo3.drop('best_of', axis=1, inplace=True)\n",
    "X_test_LM_bo5.drop('best_of', axis=1, inplace=True)\n",
    "\n",
    "X_train_LM_bo5.drop(['tourney_level_M', 'tourney_level_G', 'tourney_level_F'], axis=1, inplace=True)"
   ]
  },
  {
   "cell_type": "code",
   "execution_count": 50,
   "metadata": {},
   "outputs": [],
   "source": [
    "tournois_retenus_bo3_temp = [x[13:] for x in tournois_retenus_bo3]\n",
    "tournois_retenus_bo5_temp = [x[13:] for x in tournois_retenus_bo5]"
   ]
  },
  {
   "cell_type": "raw",
   "metadata": {},
   "source": [
    "a = 0\n",
    "for i in range(len(tournois_retenus_bo3_temp)):\n",
    "    tournoi = tournois_retenus_bo3_temp[i]\n",
    "    a += (X_train_LM['tourney_name'] == tournoi).sum()\n",
    "print(a)\n",
    "for i in range(len(X_train_LM['tourney_name'])):\n",
    "    if X_train_LM.iloc[i]['tourney_name'] not in tournois_retenus_bo3_temp:\n",
    "        a += 1\n",
    "print(a)\n",
    "X_train_LM.shape"
   ]
  },
  {
   "cell_type": "code",
   "execution_count": 51,
   "metadata": {},
   "outputs": [],
   "source": [
    "for tournoi in tournois_retenus_bo3_temp:\n",
    "    X_train_LM_bo3['tourney_name_'+tournoi] = X_train_LM_bo3.apply(lambda x: 1 if x['tourney_name']==tournoi else 0, axis=1).copy()\n",
    "X_train_LM_bo3['tourney_name_autre'] = X_train_LM_bo3.apply(lambda x: 1 if x['tourney_name'] not in tournois_retenus_bo3_temp else 0, axis=1).copy()\n",
    "X_train_LM_bo3.drop('tourney_name', axis=1, inplace=True)\n",
    "\n",
    "for tournoi in tournois_retenus_bo3_temp:\n",
    "    X_test_LM_bo3['tourney_name_'+tournoi] = X_test_LM_bo3.apply(lambda x: 1 if x['tourney_name']==tournoi else 0, axis=1).copy()\n",
    "X_test_LM_bo3['tourney_name_autre'] = X_test_LM_bo3.apply(lambda x: 1 if x['tourney_name'] not in tournois_retenus_bo3_temp else 0, axis=1).copy()\n",
    "X_test_LM_bo3.drop('tourney_name', axis=1, inplace=True)"
   ]
  },
  {
   "cell_type": "code",
   "execution_count": 52,
   "metadata": {},
   "outputs": [],
   "source": [
    "for tournoi in tournois_retenus_bo5_temp:\n",
    "    X_train_LM_bo5['tourney_name_'+tournoi] = X_train_LM_bo5.apply(lambda x: 1 if x['tourney_name']==tournoi else 0, axis=1).copy()\n",
    "X_train_LM_bo5['tourney_name_autre'] = X_train_LM_bo5.apply(lambda x: 1 if x['tourney_name'] not in tournois_retenus_bo5_temp else 0, axis=1).copy()\n",
    "X_train_LM_bo5.drop('tourney_name', axis=1, inplace=True)\n",
    "\n",
    "for tournoi in tournois_retenus_bo5_temp:\n",
    "    X_test_LM_bo5['tourney_name_'+tournoi] = X_test_LM_bo5.apply(lambda x: 1 if x['tourney_name']==tournoi else 0, axis=1).copy()\n",
    "X_test_LM_bo5['tourney_name_autre'] = X_test_LM_bo5.apply(lambda x: 1 if x['tourney_name'] not in tournois_retenus_bo5_temp else 0, axis=1).copy()\n",
    "X_test_LM_bo5.drop('tourney_name', axis=1, inplace=True)"
   ]
  },
  {
   "cell_type": "markdown",
   "metadata": {},
   "source": [
    "## Régression Polynomiale"
   ]
  },
  {
   "cell_type": "markdown",
   "metadata": {},
   "source": [
    "Une fois l'identification des tournois ayant un impact significatif sur la durée des matchs, nous utilisons une régression polynomiale sur nos features.  \n",
    "  \n",
    "Il est à noter que la régression polynomiale est très sensible aux outliers. Ces derniers ayant été corrigés / supprimés, nous pouvons utiliser la régression polynomiale. Nous nous limitons à une régression polynomiale de degré 2."
   ]
  },
  {
   "cell_type": "code",
   "execution_count": 54,
   "metadata": {},
   "outputs": [],
   "source": [
    "from sklearn.preprocessing import PolynomialFeatures "
   ]
  },
  {
   "cell_type": "code",
   "execution_count": 55,
   "metadata": {},
   "outputs": [],
   "source": [
    "X_poly_train_bo3 = PolynomialFeatures(degree = 2).fit_transform(X_train_LM_bo3)\n",
    "X_poly_train_bo5 = PolynomialFeatures(degree = 2).fit_transform(X_train_LM_bo5)"
   ]
  },
  {
   "cell_type": "markdown",
   "metadata": {},
   "source": [
    "Le nombre de features explose."
   ]
  },
  {
   "cell_type": "code",
   "execution_count": 59,
   "metadata": {},
   "outputs": [
    {
     "data": {
      "text/plain": [
       "((28258, 7140), (6431, 406))"
      ]
     },
     "execution_count": 59,
     "metadata": {},
     "output_type": "execute_result"
    }
   ],
   "source": [
    "X_poly_train_bo3.shape, X_poly_train_bo5.shape"
   ]
  },
  {
   "cell_type": "code",
   "execution_count": 56,
   "metadata": {},
   "outputs": [],
   "source": [
    "regPoly_bo3 = LinearRegression().fit(X_poly_train_bo3, y_train_bo3.values)\n",
    "regPoly_bo5 = LinearRegression().fit(X_poly_train_bo5, y_train_bo5.values)"
   ]
  },
  {
   "cell_type": "markdown",
   "metadata": {},
   "source": [
    "Nous commeçons par recréer les colonnes manquantes dans les datasets de test en nous assurant que l'ordre dans lequel chaque colonne apparait correspond à l'ordre des colonnes des données d'apprentissage. Nous créons une fonction effectuant cette tâche."
   ]
  },
  {
   "cell_type": "code",
   "execution_count": 60,
   "metadata": {},
   "outputs": [],
   "source": [
    "def harmonisation_train_test(df_train, df_test):\n",
    "    for col in df_train.columns:\n",
    "        if col not in df_test.columns:\n",
    "            df_test[col] = np.zeros(df_test.shape[0])\n",
    "    df_test = df_test[df_train.columns].copy()\n",
    "    return df_test.copy()"
   ]
  },
  {
   "cell_type": "code",
   "execution_count": 77,
   "metadata": {},
   "outputs": [],
   "source": [
    "X_test_LM_bo5 = harmonisation_train_test(X_train_LM_bo5, X_test_LM_bo5)\n",
    "X_test_LM_bo3 = harmonisation_train_test(X_train_LM_bo3, X_test_LM_bo3)"
   ]
  },
  {
   "cell_type": "raw",
   "metadata": {},
   "source": [
    "for col in X_train_LM_bo3.columns:\n",
    "    if col not in X_test_LM_bo3.columns:\n",
    "        X_test_LM_bo3[col] = np.zeros(X_test_LM_bo3.shape[0])\n",
    "X_test_LM_bo3 = X_test_LM_bo3[X_train_LM_bo3.columns].copy()\n",
    "\n",
    "for col in X_train_LM_bo5.columns:\n",
    "    if col not in X_test_LM_bo5.columns:\n",
    "        X_test_LM_bo5[col] = np.zeros(X_test_LM_bo5.shape[0])\n",
    "X_test_LM_bo5 = X_test_LM_bo5[X_train_LM_bo5.columns].copy()"
   ]
  },
  {
   "cell_type": "code",
   "execution_count": 78,
   "metadata": {},
   "outputs": [],
   "source": [
    "X_poly_test_bo3 = PolynomialFeatures(degree = 2).fit_transform(X_test_LM_bo3)\n",
    "X_poly_test_bo5 = PolynomialFeatures(degree = 2).fit_transform(X_test_LM_bo5)"
   ]
  },
  {
   "cell_type": "code",
   "execution_count": 79,
   "metadata": {},
   "outputs": [],
   "source": [
    "y_pred_train_bo3 = regPoly_bo3.predict(X_poly_train_bo3)\n",
    "y_pred_test_bo3 = regPoly_bo3.predict(X_poly_test_bo3)"
   ]
  },
  {
   "cell_type": "code",
   "execution_count": 82,
   "metadata": {},
   "outputs": [
    {
     "name": "stdout",
     "output_type": "stream",
     "text": [
      "Bo3:\n",
      "\tMSE : train = 817.0405263621401 / test = 954258.9656193512\n",
      "Bo5:\n",
      "\tMSE : train = 1879.2607645222317 / test = 758015516.8189216\n"
     ]
    }
   ],
   "source": [
    "y_pred_train_bo3 = regPoly_bo3.predict(X_poly_train_bo3)\n",
    "y_pred_test_bo3 = regPoly_bo3.predict(X_poly_test_bo3)\n",
    "print('Bo3:\\n\\tMSE : train = {} / test = {}'.format(mean_squared_error(y_train_bo3.values, y_pred_train_bo3),\n",
    "                                                    mean_squared_error(y_test_bo3.values, y_pred_test_bo3)))\n",
    "        \n",
    "y_pred_train_bo5 = regPoly_bo5.predict(X_poly_train_bo5)\n",
    "y_pred_test_bo5 = regPoly_bo5.predict(X_poly_test_bo5)\n",
    "print('Bo5:\\n\\tMSE : train = {} / test = {}'.format(mean_squared_error(y_train_bo5.values, y_pred_train_bo5),\n",
    "                                                    mean_squared_error(y_test_bo5.values, y_pred_test_bo5)))"
   ]
  },
  {
   "cell_type": "markdown",
   "metadata": {},
   "source": [
    "Nous pour rappel, les résultats obtenus suite à notre premier modèle linéaire était les suivants :  \n",
    "  \n",
    "Bo3:  \n",
    "   MSE : test = 869.0569518785819 / train = 885.1216759535197  \n",
    "Bo5:  \n",
    "   MSE : test = 1976.3922892299145 / train = 2052.465230766853  \n",
    "  \n",
    "L'erreur baisse sur notre échantillon d'apprentissage mais explose sur l'échantillon test. Pour réduire le nombre de variables exploitées, nous refaisons une régression Lasso pour ne sélectionner que les variables pertinentes. "
   ]
  },
  {
   "cell_type": "markdown",
   "metadata": {},
   "source": [
    "<font color='red'>__A REVOIR__.</font>"
   ]
  },
  {
   "cell_type": "markdown",
   "metadata": {},
   "source": [
    "## Arbre de décision"
   ]
  },
  {
   "cell_type": "markdown",
   "metadata": {},
   "source": [
    "Nous changeons de type de modèle pour passer aux arbres de décisions. Ce type de machine d'apprentissage permet la représentation d'intéraction complexe, non linéaires, entre les features exploitées, contrairement aux modèles de régression linéaire. Dans cette partie nous allons donc analyser les performances dégagés par ces derniers en les comparants aux performances des modèles linéaires.  \n",
    "  \n",
    "Nous reprenons les features s'étant dégagées jusqu'ici contenues dans nos bases *X_train_LM_bo3/5* et *X_test_LM_bo3/5*, et affinons les hyperparamètres du modèle par CrossValidation."
   ]
  },
  {
   "cell_type": "code",
   "execution_count": 88,
   "metadata": {},
   "outputs": [],
   "source": [
    "from sklearn.tree import DecisionTreeRegressor, plot_tree, export_graphviz"
   ]
  },
  {
   "cell_type": "code",
   "execution_count": null,
   "metadata": {},
   "outputs": [],
   "source": []
  },
  {
   "cell_type": "code",
   "execution_count": 84,
   "metadata": {},
   "outputs": [
    {
     "ename": "NameError",
     "evalue": "name 'y' is not defined",
     "output_type": "error",
     "traceback": [
      "\u001b[0;31m---------------------------------------------------------------------------\u001b[0m",
      "\u001b[0;31mNameError\u001b[0m                                 Traceback (most recent call last)",
      "\u001b[0;32m<ipython-input-84-c2fc5e5cfb2d>\u001b[0m in \u001b[0;36m<module>\u001b[0;34m\u001b[0m\n\u001b[1;32m      3\u001b[0m                                 \u001b[0mmin_samples_leaf\u001b[0m\u001b[0;34m=\u001b[0m\u001b[0;36m10\u001b[0m\u001b[0;34m,\u001b[0m\u001b[0;34m\u001b[0m\u001b[0;34m\u001b[0m\u001b[0m\n\u001b[1;32m      4\u001b[0m                                 \u001b[0mrandom_state\u001b[0m\u001b[0;34m=\u001b[0m\u001b[0;36m0\u001b[0m\u001b[0;34m\u001b[0m\u001b[0;34m\u001b[0m\u001b[0m\n\u001b[0;32m----> 5\u001b[0;31m                                ).fit(X, y)\n\u001b[0m",
      "\u001b[0;31mNameError\u001b[0m: name 'y' is not defined"
     ]
    }
   ],
   "source": [
    "regTree = DecisionTreeRegressor(criterion='mse',\n",
    "                                max_depth=5,\n",
    "                                min_samples_leaf=10,\n",
    "                                random_state=0\n",
    "                               ).fit(X, y)"
   ]
  }
 ],
 "metadata": {
  "kernelspec": {
   "display_name": "Python 3",
   "language": "python",
   "name": "python3"
  },
  "language_info": {
   "codemirror_mode": {
    "name": "ipython",
    "version": 3
   },
   "file_extension": ".py",
   "mimetype": "text/x-python",
   "name": "python",
   "nbconvert_exporter": "python",
   "pygments_lexer": "ipython3",
   "version": "3.7.6"
  }
 },
 "nbformat": 4,
 "nbformat_minor": 4
}
